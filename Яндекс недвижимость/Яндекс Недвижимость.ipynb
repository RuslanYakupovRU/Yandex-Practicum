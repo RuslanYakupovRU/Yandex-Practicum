{
 "cells": [
  {
   "cell_type": "markdown",
   "metadata": {
    "id": "-VFbjcb3Awb7"
   },
   "source": [
    "# Исследование объявлений о продаже квартир\n",
    "\n",
    "В вашем распоряжении данные сервиса Яндекс Недвижимость — архив объявлений о продаже квартир в Санкт-Петербурге и соседних населённых пунктах за несколько лет. Вам нужно научиться определять рыночную стоимость объектов недвижимости. Для этого проведите исследовательский анализ данных и установите параметры, влияющие на цену объектов. Это позволит построить автоматизированную систему: она отследит аномалии и мошенническую деятельность.\n",
    "\n",
    "По каждой квартире на продажу доступны два вида данных. Первые вписаны пользователем, вторые — получены автоматически на основе картографических данных. Например, расстояние до центра, аэропорта и других объектов — эти данные автоматически получены из геосервисов. Количество парков и водоёмов также заполняется без участия пользователя."
   ]
  },
  {
   "cell_type": "markdown",
   "metadata": {
    "id": "aeFLH07FAwb9"
   },
   "source": [
    "### Откройте файл с данными и изучите общую информацию"
   ]
  },
  {
   "cell_type": "markdown",
   "metadata": {
    "id": "7MZxY65pAwb9"
   },
   "source": [
    "####  Импортируем библиотеку pandas. Считаем данные из csv - файла в датафрейм и сохраним в переменную data."
   ]
  },
  {
   "cell_type": "code",
   "execution_count": 1,
   "metadata": {},
   "outputs": [],
   "source": [
    "import pandas as pd\n",
    "import matplotlib.pyplot as plt"
   ]
  },
  {
   "cell_type": "code",
   "execution_count": 2,
   "metadata": {},
   "outputs": [
    {
     "data": {
      "text/html": [
       "<div>\n",
       "<style scoped>\n",
       "    .dataframe tbody tr th:only-of-type {\n",
       "        vertical-align: middle;\n",
       "    }\n",
       "\n",
       "    .dataframe tbody tr th {\n",
       "        vertical-align: top;\n",
       "    }\n",
       "\n",
       "    .dataframe thead th {\n",
       "        text-align: right;\n",
       "    }\n",
       "</style>\n",
       "<table border=\"1\" class=\"dataframe\">\n",
       "  <thead>\n",
       "    <tr style=\"text-align: right;\">\n",
       "      <th></th>\n",
       "      <th>total_images\\tlast_price\\ttotal_area\\tfirst_day_exposition\\trooms\\tceiling_height\\tfloors_total\\tliving_area\\tfloor\\tis_apartment\\tstudio\\topen_plan\\tkitchen_area\\tbalcony\\tlocality_name\\tairports_nearest\\tcityCenters_nearest\\tparks_around3000\\tparks_nearest\\tponds_around3000\\tponds_nearest\\tdays_exposition</th>\n",
       "    </tr>\n",
       "  </thead>\n",
       "  <tbody>\n",
       "    <tr>\n",
       "      <th>0</th>\n",
       "      <td>20\\t13000000.0\\t108.0\\t2019-03-07T00:00:00\\t3\\...</td>\n",
       "    </tr>\n",
       "    <tr>\n",
       "      <th>1</th>\n",
       "      <td>7\\t3350000.0\\t40.4\\t2018-12-04T00:00:00\\t1\\t\\t...</td>\n",
       "    </tr>\n",
       "    <tr>\n",
       "      <th>2</th>\n",
       "      <td>10\\t5196000.0\\t56.0\\t2015-08-20T00:00:00\\t2\\t\\...</td>\n",
       "    </tr>\n",
       "    <tr>\n",
       "      <th>3</th>\n",
       "      <td>0\\t64900000.0\\t159.0\\t2015-07-24T00:00:00\\t3\\t...</td>\n",
       "    </tr>\n",
       "    <tr>\n",
       "      <th>4</th>\n",
       "      <td>2\\t10000000.0\\t100.0\\t2018-06-19T00:00:00\\t2\\t...</td>\n",
       "    </tr>\n",
       "  </tbody>\n",
       "</table>\n",
       "</div>"
      ],
      "text/plain": [
       "  total_images\\tlast_price\\ttotal_area\\tfirst_day_exposition\\trooms\\tceiling_height\\tfloors_total\\tliving_area\\tfloor\\tis_apartment\\tstudio\\topen_plan\\tkitchen_area\\tbalcony\\tlocality_name\\tairports_nearest\\tcityCenters_nearest\\tparks_around3000\\tparks_nearest\\tponds_around3000\\tponds_nearest\\tdays_exposition\n",
       "0  20\\t13000000.0\\t108.0\\t2019-03-07T00:00:00\\t3\\...                                                                                                                                                                                                                                                                  \n",
       "1  7\\t3350000.0\\t40.4\\t2018-12-04T00:00:00\\t1\\t\\t...                                                                                                                                                                                                                                                                  \n",
       "2  10\\t5196000.0\\t56.0\\t2015-08-20T00:00:00\\t2\\t\\...                                                                                                                                                                                                                                                                  \n",
       "3  0\\t64900000.0\\t159.0\\t2015-07-24T00:00:00\\t3\\t...                                                                                                                                                                                                                                                                  \n",
       "4  2\\t10000000.0\\t100.0\\t2018-06-19T00:00:00\\t2\\t...                                                                                                                                                                                                                                                                  "
      ]
     },
     "execution_count": 2,
     "metadata": {},
     "output_type": "execute_result"
    }
   ],
   "source": [
    "data = pd.read_csv('/datasets/real_estate_data.csv')\n",
    "data.head()"
   ]
  },
  {
   "cell_type": "markdown",
   "metadata": {},
   "source": [
    "Мы видим, что данные склеины в одну строку без разбиения по колонкам.\n",
    "Считаем данные, указав в качестве разделителя - \\t.\n",
    "Так же зададим максимальное количество отображаемых столбцов в выходных данных фрейма данных до бесконечности."
   ]
  },
  {
   "cell_type": "code",
   "execution_count": 3,
   "metadata": {},
   "outputs": [
    {
     "data": {
      "text/html": [
       "<div>\n",
       "<style scoped>\n",
       "    .dataframe tbody tr th:only-of-type {\n",
       "        vertical-align: middle;\n",
       "    }\n",
       "\n",
       "    .dataframe tbody tr th {\n",
       "        vertical-align: top;\n",
       "    }\n",
       "\n",
       "    .dataframe thead th {\n",
       "        text-align: right;\n",
       "    }\n",
       "</style>\n",
       "<table border=\"1\" class=\"dataframe\">\n",
       "  <thead>\n",
       "    <tr style=\"text-align: right;\">\n",
       "      <th></th>\n",
       "      <th>total_images</th>\n",
       "      <th>last_price</th>\n",
       "      <th>total_area</th>\n",
       "      <th>first_day_exposition</th>\n",
       "      <th>rooms</th>\n",
       "      <th>ceiling_height</th>\n",
       "      <th>floors_total</th>\n",
       "      <th>living_area</th>\n",
       "      <th>floor</th>\n",
       "      <th>is_apartment</th>\n",
       "      <th>studio</th>\n",
       "      <th>open_plan</th>\n",
       "      <th>kitchen_area</th>\n",
       "      <th>balcony</th>\n",
       "      <th>locality_name</th>\n",
       "      <th>airports_nearest</th>\n",
       "      <th>cityCenters_nearest</th>\n",
       "      <th>parks_around3000</th>\n",
       "      <th>parks_nearest</th>\n",
       "      <th>ponds_around3000</th>\n",
       "      <th>ponds_nearest</th>\n",
       "      <th>days_exposition</th>\n",
       "    </tr>\n",
       "  </thead>\n",
       "  <tbody>\n",
       "    <tr>\n",
       "      <th>0</th>\n",
       "      <td>20</td>\n",
       "      <td>13000000.0</td>\n",
       "      <td>108.0</td>\n",
       "      <td>2019-03-07T00:00:00</td>\n",
       "      <td>3</td>\n",
       "      <td>2.70</td>\n",
       "      <td>16.0</td>\n",
       "      <td>51.0</td>\n",
       "      <td>8</td>\n",
       "      <td>NaN</td>\n",
       "      <td>False</td>\n",
       "      <td>False</td>\n",
       "      <td>25.0</td>\n",
       "      <td>NaN</td>\n",
       "      <td>Санкт-Петербург</td>\n",
       "      <td>18863.0</td>\n",
       "      <td>16028.0</td>\n",
       "      <td>1.0</td>\n",
       "      <td>482.0</td>\n",
       "      <td>2.0</td>\n",
       "      <td>755.0</td>\n",
       "      <td>NaN</td>\n",
       "    </tr>\n",
       "    <tr>\n",
       "      <th>1</th>\n",
       "      <td>7</td>\n",
       "      <td>3350000.0</td>\n",
       "      <td>40.4</td>\n",
       "      <td>2018-12-04T00:00:00</td>\n",
       "      <td>1</td>\n",
       "      <td>NaN</td>\n",
       "      <td>11.0</td>\n",
       "      <td>18.6</td>\n",
       "      <td>1</td>\n",
       "      <td>NaN</td>\n",
       "      <td>False</td>\n",
       "      <td>False</td>\n",
       "      <td>11.0</td>\n",
       "      <td>2.0</td>\n",
       "      <td>посёлок Шушары</td>\n",
       "      <td>12817.0</td>\n",
       "      <td>18603.0</td>\n",
       "      <td>0.0</td>\n",
       "      <td>NaN</td>\n",
       "      <td>0.0</td>\n",
       "      <td>NaN</td>\n",
       "      <td>81.0</td>\n",
       "    </tr>\n",
       "    <tr>\n",
       "      <th>2</th>\n",
       "      <td>10</td>\n",
       "      <td>5196000.0</td>\n",
       "      <td>56.0</td>\n",
       "      <td>2015-08-20T00:00:00</td>\n",
       "      <td>2</td>\n",
       "      <td>NaN</td>\n",
       "      <td>5.0</td>\n",
       "      <td>34.3</td>\n",
       "      <td>4</td>\n",
       "      <td>NaN</td>\n",
       "      <td>False</td>\n",
       "      <td>False</td>\n",
       "      <td>8.3</td>\n",
       "      <td>0.0</td>\n",
       "      <td>Санкт-Петербург</td>\n",
       "      <td>21741.0</td>\n",
       "      <td>13933.0</td>\n",
       "      <td>1.0</td>\n",
       "      <td>90.0</td>\n",
       "      <td>2.0</td>\n",
       "      <td>574.0</td>\n",
       "      <td>558.0</td>\n",
       "    </tr>\n",
       "    <tr>\n",
       "      <th>3</th>\n",
       "      <td>0</td>\n",
       "      <td>64900000.0</td>\n",
       "      <td>159.0</td>\n",
       "      <td>2015-07-24T00:00:00</td>\n",
       "      <td>3</td>\n",
       "      <td>NaN</td>\n",
       "      <td>14.0</td>\n",
       "      <td>NaN</td>\n",
       "      <td>9</td>\n",
       "      <td>NaN</td>\n",
       "      <td>False</td>\n",
       "      <td>False</td>\n",
       "      <td>NaN</td>\n",
       "      <td>0.0</td>\n",
       "      <td>Санкт-Петербург</td>\n",
       "      <td>28098.0</td>\n",
       "      <td>6800.0</td>\n",
       "      <td>2.0</td>\n",
       "      <td>84.0</td>\n",
       "      <td>3.0</td>\n",
       "      <td>234.0</td>\n",
       "      <td>424.0</td>\n",
       "    </tr>\n",
       "    <tr>\n",
       "      <th>4</th>\n",
       "      <td>2</td>\n",
       "      <td>10000000.0</td>\n",
       "      <td>100.0</td>\n",
       "      <td>2018-06-19T00:00:00</td>\n",
       "      <td>2</td>\n",
       "      <td>3.03</td>\n",
       "      <td>14.0</td>\n",
       "      <td>32.0</td>\n",
       "      <td>13</td>\n",
       "      <td>NaN</td>\n",
       "      <td>False</td>\n",
       "      <td>False</td>\n",
       "      <td>41.0</td>\n",
       "      <td>NaN</td>\n",
       "      <td>Санкт-Петербург</td>\n",
       "      <td>31856.0</td>\n",
       "      <td>8098.0</td>\n",
       "      <td>2.0</td>\n",
       "      <td>112.0</td>\n",
       "      <td>1.0</td>\n",
       "      <td>48.0</td>\n",
       "      <td>121.0</td>\n",
       "    </tr>\n",
       "  </tbody>\n",
       "</table>\n",
       "</div>"
      ],
      "text/plain": [
       "   total_images  last_price  total_area first_day_exposition  rooms  \\\n",
       "0            20  13000000.0       108.0  2019-03-07T00:00:00      3   \n",
       "1             7   3350000.0        40.4  2018-12-04T00:00:00      1   \n",
       "2            10   5196000.0        56.0  2015-08-20T00:00:00      2   \n",
       "3             0  64900000.0       159.0  2015-07-24T00:00:00      3   \n",
       "4             2  10000000.0       100.0  2018-06-19T00:00:00      2   \n",
       "\n",
       "   ceiling_height  floors_total  living_area  floor is_apartment  studio  \\\n",
       "0            2.70          16.0         51.0      8          NaN   False   \n",
       "1             NaN          11.0         18.6      1          NaN   False   \n",
       "2             NaN           5.0         34.3      4          NaN   False   \n",
       "3             NaN          14.0          NaN      9          NaN   False   \n",
       "4            3.03          14.0         32.0     13          NaN   False   \n",
       "\n",
       "   open_plan  kitchen_area  balcony    locality_name  airports_nearest  \\\n",
       "0      False          25.0      NaN  Санкт-Петербург           18863.0   \n",
       "1      False          11.0      2.0   посёлок Шушары           12817.0   \n",
       "2      False           8.3      0.0  Санкт-Петербург           21741.0   \n",
       "3      False           NaN      0.0  Санкт-Петербург           28098.0   \n",
       "4      False          41.0      NaN  Санкт-Петербург           31856.0   \n",
       "\n",
       "   cityCenters_nearest  parks_around3000  parks_nearest  ponds_around3000  \\\n",
       "0              16028.0               1.0          482.0               2.0   \n",
       "1              18603.0               0.0            NaN               0.0   \n",
       "2              13933.0               1.0           90.0               2.0   \n",
       "3               6800.0               2.0           84.0               3.0   \n",
       "4               8098.0               2.0          112.0               1.0   \n",
       "\n",
       "   ponds_nearest  days_exposition  \n",
       "0          755.0              NaN  \n",
       "1            NaN             81.0  \n",
       "2          574.0            558.0  \n",
       "3          234.0            424.0  \n",
       "4           48.0            121.0  "
      ]
     },
     "execution_count": 3,
     "metadata": {},
     "output_type": "execute_result"
    }
   ],
   "source": [
    "data = pd.read_csv('/datasets/real_estate_data.csv', sep='\\t')\n",
    "pd.set_option('display.max_columns', None)\n",
    "data.head()"
   ]
  },
  {
   "cell_type": "markdown",
   "metadata": {},
   "source": [
    "#### Выведим  основную информацию о датафрейме с помощью метода info()."
   ]
  },
  {
   "cell_type": "code",
   "execution_count": 4,
   "metadata": {},
   "outputs": [
    {
     "name": "stdout",
     "output_type": "stream",
     "text": [
      "<class 'pandas.core.frame.DataFrame'>\n",
      "RangeIndex: 23699 entries, 0 to 23698\n",
      "Data columns (total 22 columns):\n",
      " #   Column                Non-Null Count  Dtype  \n",
      "---  ------                --------------  -----  \n",
      " 0   total_images          23699 non-null  int64  \n",
      " 1   last_price            23699 non-null  float64\n",
      " 2   total_area            23699 non-null  float64\n",
      " 3   first_day_exposition  23699 non-null  object \n",
      " 4   rooms                 23699 non-null  int64  \n",
      " 5   ceiling_height        14504 non-null  float64\n",
      " 6   floors_total          23613 non-null  float64\n",
      " 7   living_area           21796 non-null  float64\n",
      " 8   floor                 23699 non-null  int64  \n",
      " 9   is_apartment          2775 non-null   object \n",
      " 10  studio                23699 non-null  bool   \n",
      " 11  open_plan             23699 non-null  bool   \n",
      " 12  kitchen_area          21421 non-null  float64\n",
      " 13  balcony               12180 non-null  float64\n",
      " 14  locality_name         23650 non-null  object \n",
      " 15  airports_nearest      18157 non-null  float64\n",
      " 16  cityCenters_nearest   18180 non-null  float64\n",
      " 17  parks_around3000      18181 non-null  float64\n",
      " 18  parks_nearest         8079 non-null   float64\n",
      " 19  ponds_around3000      18181 non-null  float64\n",
      " 20  ponds_nearest         9110 non-null   float64\n",
      " 21  days_exposition       20518 non-null  float64\n",
      "dtypes: bool(2), float64(14), int64(3), object(3)\n",
      "memory usage: 3.7+ MB\n"
     ]
    }
   ],
   "source": [
    "data.info()"
   ]
  },
  {
   "cell_type": "markdown",
   "metadata": {},
   "source": [
    "Некоторые столбцы включают в себя все типы данных. Немного не совпадает с данными из документации:\n",
    "- airports_nearest — расстояние до ближайшего аэропорта в метрах (м)\n",
    "- balcony — число балконов\n",
    "- ceiling_height — высота потолков (м)\n",
    "- cityCenters_nearest — расстояние до центра города (м)\n",
    "- days_exposition — сколько дней было размещено объявление (от публикации до снятия)\n",
    "- first_day_exposition — дата публикации\n",
    "- floor — этаж\n",
    "- floors_total — всего этажей в доме\n",
    "- is_apartment — апартаменты (булев тип)\n",
    "- kitchen_area — площадь кухни в квадратных метрах (м²)\n",
    "- last_price — цена на момент снятия с публикации\n",
    "- living_area — жилая площадь в квадратных метрах (м²)\n",
    "- locality_name — название населённого пункта\n",
    "- open_plan — свободная планировка (булев тип)\n",
    "- parks_around3000 — число парков в радиусе 3 км\n",
    "- parks_nearest — расстояние до ближайшего парка (м)\n",
    "- ponds_around3000 — число водоёмов в радиусе 3 км\n",
    "- ponds_nearest — расстояние до ближайшего водоёма (м)\n",
    "- rooms — число комнат\n",
    "- studio — квартира-студия (булев тип)\n",
    "- total_area — общая площадь квартиры в квадратных метрах (м²)\n",
    "- total_images — число фотографий квартиры в объявлении\n"
   ]
  },
  {
   "cell_type": "markdown",
   "metadata": {},
   "source": [
    "#### Выведим основные статистические характеристики"
   ]
  },
  {
   "cell_type": "code",
   "execution_count": 5,
   "metadata": {},
   "outputs": [
    {
     "data": {
      "text/html": [
       "<div>\n",
       "<style scoped>\n",
       "    .dataframe tbody tr th:only-of-type {\n",
       "        vertical-align: middle;\n",
       "    }\n",
       "\n",
       "    .dataframe tbody tr th {\n",
       "        vertical-align: top;\n",
       "    }\n",
       "\n",
       "    .dataframe thead th {\n",
       "        text-align: right;\n",
       "    }\n",
       "</style>\n",
       "<table border=\"1\" class=\"dataframe\">\n",
       "  <thead>\n",
       "    <tr style=\"text-align: right;\">\n",
       "      <th></th>\n",
       "      <th>total_images</th>\n",
       "      <th>last_price</th>\n",
       "      <th>total_area</th>\n",
       "      <th>rooms</th>\n",
       "      <th>ceiling_height</th>\n",
       "      <th>floors_total</th>\n",
       "      <th>living_area</th>\n",
       "      <th>floor</th>\n",
       "      <th>kitchen_area</th>\n",
       "      <th>balcony</th>\n",
       "      <th>airports_nearest</th>\n",
       "      <th>cityCenters_nearest</th>\n",
       "      <th>parks_around3000</th>\n",
       "      <th>parks_nearest</th>\n",
       "      <th>ponds_around3000</th>\n",
       "      <th>ponds_nearest</th>\n",
       "      <th>days_exposition</th>\n",
       "    </tr>\n",
       "  </thead>\n",
       "  <tbody>\n",
       "    <tr>\n",
       "      <th>count</th>\n",
       "      <td>23699.000000</td>\n",
       "      <td>2.369900e+04</td>\n",
       "      <td>23699.000000</td>\n",
       "      <td>23699.000000</td>\n",
       "      <td>14504.000000</td>\n",
       "      <td>23613.000000</td>\n",
       "      <td>21796.000000</td>\n",
       "      <td>23699.000000</td>\n",
       "      <td>21421.000000</td>\n",
       "      <td>12180.000000</td>\n",
       "      <td>18157.000000</td>\n",
       "      <td>18180.000000</td>\n",
       "      <td>18181.000000</td>\n",
       "      <td>8079.000000</td>\n",
       "      <td>18181.000000</td>\n",
       "      <td>9110.000000</td>\n",
       "      <td>20518.000000</td>\n",
       "    </tr>\n",
       "    <tr>\n",
       "      <th>mean</th>\n",
       "      <td>9.858475</td>\n",
       "      <td>6.541549e+06</td>\n",
       "      <td>60.348651</td>\n",
       "      <td>2.070636</td>\n",
       "      <td>2.771499</td>\n",
       "      <td>10.673824</td>\n",
       "      <td>34.457852</td>\n",
       "      <td>5.892358</td>\n",
       "      <td>10.569807</td>\n",
       "      <td>1.150082</td>\n",
       "      <td>28793.672193</td>\n",
       "      <td>14191.277833</td>\n",
       "      <td>0.611408</td>\n",
       "      <td>490.804555</td>\n",
       "      <td>0.770255</td>\n",
       "      <td>517.980900</td>\n",
       "      <td>180.888634</td>\n",
       "    </tr>\n",
       "    <tr>\n",
       "      <th>std</th>\n",
       "      <td>5.682529</td>\n",
       "      <td>1.088701e+07</td>\n",
       "      <td>35.654083</td>\n",
       "      <td>1.078405</td>\n",
       "      <td>1.261056</td>\n",
       "      <td>6.597173</td>\n",
       "      <td>22.030445</td>\n",
       "      <td>4.885249</td>\n",
       "      <td>5.905438</td>\n",
       "      <td>1.071300</td>\n",
       "      <td>12630.880622</td>\n",
       "      <td>8608.386210</td>\n",
       "      <td>0.802074</td>\n",
       "      <td>342.317995</td>\n",
       "      <td>0.938346</td>\n",
       "      <td>277.720643</td>\n",
       "      <td>219.727988</td>\n",
       "    </tr>\n",
       "    <tr>\n",
       "      <th>min</th>\n",
       "      <td>0.000000</td>\n",
       "      <td>1.219000e+04</td>\n",
       "      <td>12.000000</td>\n",
       "      <td>0.000000</td>\n",
       "      <td>1.000000</td>\n",
       "      <td>1.000000</td>\n",
       "      <td>2.000000</td>\n",
       "      <td>1.000000</td>\n",
       "      <td>1.300000</td>\n",
       "      <td>0.000000</td>\n",
       "      <td>0.000000</td>\n",
       "      <td>181.000000</td>\n",
       "      <td>0.000000</td>\n",
       "      <td>1.000000</td>\n",
       "      <td>0.000000</td>\n",
       "      <td>13.000000</td>\n",
       "      <td>1.000000</td>\n",
       "    </tr>\n",
       "    <tr>\n",
       "      <th>25%</th>\n",
       "      <td>6.000000</td>\n",
       "      <td>3.400000e+06</td>\n",
       "      <td>40.000000</td>\n",
       "      <td>1.000000</td>\n",
       "      <td>2.520000</td>\n",
       "      <td>5.000000</td>\n",
       "      <td>18.600000</td>\n",
       "      <td>2.000000</td>\n",
       "      <td>7.000000</td>\n",
       "      <td>0.000000</td>\n",
       "      <td>18585.000000</td>\n",
       "      <td>9238.000000</td>\n",
       "      <td>0.000000</td>\n",
       "      <td>288.000000</td>\n",
       "      <td>0.000000</td>\n",
       "      <td>294.000000</td>\n",
       "      <td>45.000000</td>\n",
       "    </tr>\n",
       "    <tr>\n",
       "      <th>50%</th>\n",
       "      <td>9.000000</td>\n",
       "      <td>4.650000e+06</td>\n",
       "      <td>52.000000</td>\n",
       "      <td>2.000000</td>\n",
       "      <td>2.650000</td>\n",
       "      <td>9.000000</td>\n",
       "      <td>30.000000</td>\n",
       "      <td>4.000000</td>\n",
       "      <td>9.100000</td>\n",
       "      <td>1.000000</td>\n",
       "      <td>26726.000000</td>\n",
       "      <td>13098.500000</td>\n",
       "      <td>0.000000</td>\n",
       "      <td>455.000000</td>\n",
       "      <td>1.000000</td>\n",
       "      <td>502.000000</td>\n",
       "      <td>95.000000</td>\n",
       "    </tr>\n",
       "    <tr>\n",
       "      <th>75%</th>\n",
       "      <td>14.000000</td>\n",
       "      <td>6.800000e+06</td>\n",
       "      <td>69.900000</td>\n",
       "      <td>3.000000</td>\n",
       "      <td>2.800000</td>\n",
       "      <td>16.000000</td>\n",
       "      <td>42.300000</td>\n",
       "      <td>8.000000</td>\n",
       "      <td>12.000000</td>\n",
       "      <td>2.000000</td>\n",
       "      <td>37273.000000</td>\n",
       "      <td>16293.000000</td>\n",
       "      <td>1.000000</td>\n",
       "      <td>612.000000</td>\n",
       "      <td>1.000000</td>\n",
       "      <td>729.000000</td>\n",
       "      <td>232.000000</td>\n",
       "    </tr>\n",
       "    <tr>\n",
       "      <th>max</th>\n",
       "      <td>50.000000</td>\n",
       "      <td>7.630000e+08</td>\n",
       "      <td>900.000000</td>\n",
       "      <td>19.000000</td>\n",
       "      <td>100.000000</td>\n",
       "      <td>60.000000</td>\n",
       "      <td>409.700000</td>\n",
       "      <td>33.000000</td>\n",
       "      <td>112.000000</td>\n",
       "      <td>5.000000</td>\n",
       "      <td>84869.000000</td>\n",
       "      <td>65968.000000</td>\n",
       "      <td>3.000000</td>\n",
       "      <td>3190.000000</td>\n",
       "      <td>3.000000</td>\n",
       "      <td>1344.000000</td>\n",
       "      <td>1580.000000</td>\n",
       "    </tr>\n",
       "  </tbody>\n",
       "</table>\n",
       "</div>"
      ],
      "text/plain": [
       "       total_images    last_price    total_area         rooms  ceiling_height  \\\n",
       "count  23699.000000  2.369900e+04  23699.000000  23699.000000    14504.000000   \n",
       "mean       9.858475  6.541549e+06     60.348651      2.070636        2.771499   \n",
       "std        5.682529  1.088701e+07     35.654083      1.078405        1.261056   \n",
       "min        0.000000  1.219000e+04     12.000000      0.000000        1.000000   \n",
       "25%        6.000000  3.400000e+06     40.000000      1.000000        2.520000   \n",
       "50%        9.000000  4.650000e+06     52.000000      2.000000        2.650000   \n",
       "75%       14.000000  6.800000e+06     69.900000      3.000000        2.800000   \n",
       "max       50.000000  7.630000e+08    900.000000     19.000000      100.000000   \n",
       "\n",
       "       floors_total   living_area         floor  kitchen_area       balcony  \\\n",
       "count  23613.000000  21796.000000  23699.000000  21421.000000  12180.000000   \n",
       "mean      10.673824     34.457852      5.892358     10.569807      1.150082   \n",
       "std        6.597173     22.030445      4.885249      5.905438      1.071300   \n",
       "min        1.000000      2.000000      1.000000      1.300000      0.000000   \n",
       "25%        5.000000     18.600000      2.000000      7.000000      0.000000   \n",
       "50%        9.000000     30.000000      4.000000      9.100000      1.000000   \n",
       "75%       16.000000     42.300000      8.000000     12.000000      2.000000   \n",
       "max       60.000000    409.700000     33.000000    112.000000      5.000000   \n",
       "\n",
       "       airports_nearest  cityCenters_nearest  parks_around3000  parks_nearest  \\\n",
       "count      18157.000000         18180.000000      18181.000000    8079.000000   \n",
       "mean       28793.672193         14191.277833          0.611408     490.804555   \n",
       "std        12630.880622          8608.386210          0.802074     342.317995   \n",
       "min            0.000000           181.000000          0.000000       1.000000   \n",
       "25%        18585.000000          9238.000000          0.000000     288.000000   \n",
       "50%        26726.000000         13098.500000          0.000000     455.000000   \n",
       "75%        37273.000000         16293.000000          1.000000     612.000000   \n",
       "max        84869.000000         65968.000000          3.000000    3190.000000   \n",
       "\n",
       "       ponds_around3000  ponds_nearest  days_exposition  \n",
       "count      18181.000000    9110.000000     20518.000000  \n",
       "mean           0.770255     517.980900       180.888634  \n",
       "std            0.938346     277.720643       219.727988  \n",
       "min            0.000000      13.000000         1.000000  \n",
       "25%            0.000000     294.000000        45.000000  \n",
       "50%            1.000000     502.000000        95.000000  \n",
       "75%            1.000000     729.000000       232.000000  \n",
       "max            3.000000    1344.000000      1580.000000  "
      ]
     },
     "execution_count": 5,
     "metadata": {},
     "output_type": "execute_result"
    }
   ],
   "source": [
    "data.describe()"
   ]
  },
  {
   "cell_type": "markdown",
   "metadata": {},
   "source": [
    "#### Установим параметр отображения чисел с плавающей точкой  после запятой."
   ]
  },
  {
   "cell_type": "code",
   "execution_count": 6,
   "metadata": {},
   "outputs": [
    {
     "data": {
      "text/html": [
       "<div>\n",
       "<style scoped>\n",
       "    .dataframe tbody tr th:only-of-type {\n",
       "        vertical-align: middle;\n",
       "    }\n",
       "\n",
       "    .dataframe tbody tr th {\n",
       "        vertical-align: top;\n",
       "    }\n",
       "\n",
       "    .dataframe thead th {\n",
       "        text-align: right;\n",
       "    }\n",
       "</style>\n",
       "<table border=\"1\" class=\"dataframe\">\n",
       "  <thead>\n",
       "    <tr style=\"text-align: right;\">\n",
       "      <th></th>\n",
       "      <th>total_images</th>\n",
       "      <th>last_price</th>\n",
       "      <th>total_area</th>\n",
       "      <th>rooms</th>\n",
       "      <th>ceiling_height</th>\n",
       "      <th>floors_total</th>\n",
       "      <th>living_area</th>\n",
       "      <th>floor</th>\n",
       "      <th>kitchen_area</th>\n",
       "      <th>balcony</th>\n",
       "      <th>airports_nearest</th>\n",
       "      <th>cityCenters_nearest</th>\n",
       "      <th>parks_around3000</th>\n",
       "      <th>parks_nearest</th>\n",
       "      <th>ponds_around3000</th>\n",
       "      <th>ponds_nearest</th>\n",
       "      <th>days_exposition</th>\n",
       "    </tr>\n",
       "  </thead>\n",
       "  <tbody>\n",
       "    <tr>\n",
       "      <th>count</th>\n",
       "      <td>23699.00</td>\n",
       "      <td>2.37e+04</td>\n",
       "      <td>23699.00</td>\n",
       "      <td>23699.00</td>\n",
       "      <td>14504.00</td>\n",
       "      <td>23613.00</td>\n",
       "      <td>21796.00</td>\n",
       "      <td>23699.00</td>\n",
       "      <td>21421.00</td>\n",
       "      <td>12180.00</td>\n",
       "      <td>18157.00</td>\n",
       "      <td>18180.00</td>\n",
       "      <td>18181.00</td>\n",
       "      <td>8079.00</td>\n",
       "      <td>18181.00</td>\n",
       "      <td>9110.00</td>\n",
       "      <td>20518.00</td>\n",
       "    </tr>\n",
       "    <tr>\n",
       "      <th>mean</th>\n",
       "      <td>9.86</td>\n",
       "      <td>6.54e+06</td>\n",
       "      <td>60.35</td>\n",
       "      <td>2.07</td>\n",
       "      <td>2.77</td>\n",
       "      <td>10.67</td>\n",
       "      <td>34.46</td>\n",
       "      <td>5.89</td>\n",
       "      <td>10.57</td>\n",
       "      <td>1.15</td>\n",
       "      <td>28793.67</td>\n",
       "      <td>14191.28</td>\n",
       "      <td>0.61</td>\n",
       "      <td>490.80</td>\n",
       "      <td>0.77</td>\n",
       "      <td>517.98</td>\n",
       "      <td>180.89</td>\n",
       "    </tr>\n",
       "    <tr>\n",
       "      <th>std</th>\n",
       "      <td>5.68</td>\n",
       "      <td>1.09e+07</td>\n",
       "      <td>35.65</td>\n",
       "      <td>1.08</td>\n",
       "      <td>1.26</td>\n",
       "      <td>6.60</td>\n",
       "      <td>22.03</td>\n",
       "      <td>4.89</td>\n",
       "      <td>5.91</td>\n",
       "      <td>1.07</td>\n",
       "      <td>12630.88</td>\n",
       "      <td>8608.39</td>\n",
       "      <td>0.80</td>\n",
       "      <td>342.32</td>\n",
       "      <td>0.94</td>\n",
       "      <td>277.72</td>\n",
       "      <td>219.73</td>\n",
       "    </tr>\n",
       "    <tr>\n",
       "      <th>min</th>\n",
       "      <td>0.00</td>\n",
       "      <td>1.22e+04</td>\n",
       "      <td>12.00</td>\n",
       "      <td>0.00</td>\n",
       "      <td>1.00</td>\n",
       "      <td>1.00</td>\n",
       "      <td>2.00</td>\n",
       "      <td>1.00</td>\n",
       "      <td>1.30</td>\n",
       "      <td>0.00</td>\n",
       "      <td>0.00</td>\n",
       "      <td>181.00</td>\n",
       "      <td>0.00</td>\n",
       "      <td>1.00</td>\n",
       "      <td>0.00</td>\n",
       "      <td>13.00</td>\n",
       "      <td>1.00</td>\n",
       "    </tr>\n",
       "    <tr>\n",
       "      <th>25%</th>\n",
       "      <td>6.00</td>\n",
       "      <td>3.40e+06</td>\n",
       "      <td>40.00</td>\n",
       "      <td>1.00</td>\n",
       "      <td>2.52</td>\n",
       "      <td>5.00</td>\n",
       "      <td>18.60</td>\n",
       "      <td>2.00</td>\n",
       "      <td>7.00</td>\n",
       "      <td>0.00</td>\n",
       "      <td>18585.00</td>\n",
       "      <td>9238.00</td>\n",
       "      <td>0.00</td>\n",
       "      <td>288.00</td>\n",
       "      <td>0.00</td>\n",
       "      <td>294.00</td>\n",
       "      <td>45.00</td>\n",
       "    </tr>\n",
       "    <tr>\n",
       "      <th>50%</th>\n",
       "      <td>9.00</td>\n",
       "      <td>4.65e+06</td>\n",
       "      <td>52.00</td>\n",
       "      <td>2.00</td>\n",
       "      <td>2.65</td>\n",
       "      <td>9.00</td>\n",
       "      <td>30.00</td>\n",
       "      <td>4.00</td>\n",
       "      <td>9.10</td>\n",
       "      <td>1.00</td>\n",
       "      <td>26726.00</td>\n",
       "      <td>13098.50</td>\n",
       "      <td>0.00</td>\n",
       "      <td>455.00</td>\n",
       "      <td>1.00</td>\n",
       "      <td>502.00</td>\n",
       "      <td>95.00</td>\n",
       "    </tr>\n",
       "    <tr>\n",
       "      <th>75%</th>\n",
       "      <td>14.00</td>\n",
       "      <td>6.80e+06</td>\n",
       "      <td>69.90</td>\n",
       "      <td>3.00</td>\n",
       "      <td>2.80</td>\n",
       "      <td>16.00</td>\n",
       "      <td>42.30</td>\n",
       "      <td>8.00</td>\n",
       "      <td>12.00</td>\n",
       "      <td>2.00</td>\n",
       "      <td>37273.00</td>\n",
       "      <td>16293.00</td>\n",
       "      <td>1.00</td>\n",
       "      <td>612.00</td>\n",
       "      <td>1.00</td>\n",
       "      <td>729.00</td>\n",
       "      <td>232.00</td>\n",
       "    </tr>\n",
       "    <tr>\n",
       "      <th>max</th>\n",
       "      <td>50.00</td>\n",
       "      <td>7.63e+08</td>\n",
       "      <td>900.00</td>\n",
       "      <td>19.00</td>\n",
       "      <td>100.00</td>\n",
       "      <td>60.00</td>\n",
       "      <td>409.70</td>\n",
       "      <td>33.00</td>\n",
       "      <td>112.00</td>\n",
       "      <td>5.00</td>\n",
       "      <td>84869.00</td>\n",
       "      <td>65968.00</td>\n",
       "      <td>3.00</td>\n",
       "      <td>3190.00</td>\n",
       "      <td>3.00</td>\n",
       "      <td>1344.00</td>\n",
       "      <td>1580.00</td>\n",
       "    </tr>\n",
       "  </tbody>\n",
       "</table>\n",
       "</div>"
      ],
      "text/plain": [
       "       total_images  last_price  total_area     rooms  ceiling_height  \\\n",
       "count      23699.00    2.37e+04    23699.00  23699.00        14504.00   \n",
       "mean           9.86    6.54e+06       60.35      2.07            2.77   \n",
       "std            5.68    1.09e+07       35.65      1.08            1.26   \n",
       "min            0.00    1.22e+04       12.00      0.00            1.00   \n",
       "25%            6.00    3.40e+06       40.00      1.00            2.52   \n",
       "50%            9.00    4.65e+06       52.00      2.00            2.65   \n",
       "75%           14.00    6.80e+06       69.90      3.00            2.80   \n",
       "max           50.00    7.63e+08      900.00     19.00          100.00   \n",
       "\n",
       "       floors_total  living_area     floor  kitchen_area   balcony  \\\n",
       "count      23613.00     21796.00  23699.00      21421.00  12180.00   \n",
       "mean          10.67        34.46      5.89         10.57      1.15   \n",
       "std            6.60        22.03      4.89          5.91      1.07   \n",
       "min            1.00         2.00      1.00          1.30      0.00   \n",
       "25%            5.00        18.60      2.00          7.00      0.00   \n",
       "50%            9.00        30.00      4.00          9.10      1.00   \n",
       "75%           16.00        42.30      8.00         12.00      2.00   \n",
       "max           60.00       409.70     33.00        112.00      5.00   \n",
       "\n",
       "       airports_nearest  cityCenters_nearest  parks_around3000  parks_nearest  \\\n",
       "count          18157.00             18180.00          18181.00        8079.00   \n",
       "mean           28793.67             14191.28              0.61         490.80   \n",
       "std            12630.88              8608.39              0.80         342.32   \n",
       "min                0.00               181.00              0.00           1.00   \n",
       "25%            18585.00              9238.00              0.00         288.00   \n",
       "50%            26726.00             13098.50              0.00         455.00   \n",
       "75%            37273.00             16293.00              1.00         612.00   \n",
       "max            84869.00             65968.00              3.00        3190.00   \n",
       "\n",
       "       ponds_around3000  ponds_nearest  days_exposition  \n",
       "count          18181.00        9110.00         20518.00  \n",
       "mean               0.77         517.98           180.89  \n",
       "std                0.94         277.72           219.73  \n",
       "min                0.00          13.00             1.00  \n",
       "25%                0.00         294.00            45.00  \n",
       "50%                1.00         502.00            95.00  \n",
       "75%                1.00         729.00           232.00  \n",
       "max                3.00        1344.00          1580.00  "
      ]
     },
     "execution_count": 6,
     "metadata": {},
     "output_type": "execute_result"
    }
   ],
   "source": [
    "pd.set_option('display.precision', 2)\n",
    "data.describe()"
   ]
  },
  {
   "cell_type": "markdown",
   "metadata": {},
   "source": [
    "Требуется дополнительная проверка аномальных данных в столбцах"
   ]
  },
  {
   "cell_type": "markdown",
   "metadata": {},
   "source": [
    "#### Информация о пропусках"
   ]
  },
  {
   "cell_type": "code",
   "execution_count": 7,
   "metadata": {},
   "outputs": [
    {
     "data": {
      "text/plain": [
       "total_images                0\n",
       "last_price                  0\n",
       "total_area                  0\n",
       "first_day_exposition        0\n",
       "rooms                       0\n",
       "ceiling_height           9195\n",
       "floors_total               86\n",
       "living_area              1903\n",
       "floor                       0\n",
       "is_apartment            20924\n",
       "studio                      0\n",
       "open_plan                   0\n",
       "kitchen_area             2278\n",
       "balcony                 11519\n",
       "locality_name              49\n",
       "airports_nearest         5542\n",
       "cityCenters_nearest      5519\n",
       "parks_around3000         5518\n",
       "parks_nearest           15620\n",
       "ponds_around3000         5518\n",
       "ponds_nearest           14589\n",
       "days_exposition          3181\n",
       "dtype: int64"
      ]
     },
     "execution_count": 7,
     "metadata": {},
     "output_type": "execute_result"
    }
   ],
   "source": [
    "data.isna().sum()"
   ]
  },
  {
   "cell_type": "markdown",
   "metadata": {},
   "source": [
    "Видим много пропущенных данных"
   ]
  },
  {
   "cell_type": "markdown",
   "metadata": {},
   "source": [
    "#### Построим гистограмму для всех числовых столбцов таблицы на одном графике. "
   ]
  },
  {
   "cell_type": "code",
   "execution_count": 8,
   "metadata": {
    "scrolled": false
   },
   "outputs": [
    {
     "data": {
      "image/png": "[encoded data removed]",
      "text/plain": [
       "<Figure size 1080x1440 with 20 Axes>"
      ]
     },
     "metadata": {
      "needs_background": "light"
     },
     "output_type": "display_data"
    }
   ],
   "source": [
    "data.hist(figsize=(15, 20));"
   ]
  },
  {
   "cell_type": "markdown",
   "metadata": {},
   "source": [
    "Вывод\n",
    "\n",
    "1. Присутствуют пропущенные значения в 14 столбцах:\n",
    "- ceiling_height\n",
    "- floors_total\n",
    "- living_area\n",
    "- is_apartment\n",
    "- kitchen_area\n",
    "- balcony\n",
    "- locality_name\n",
    "- airports_nearest\n",
    "- cityCenters_nearest\n",
    "- parks_around3000\n",
    "- parks_nearest\n",
    "- ponds_around3000\n",
    "- ponds_nearest\n",
    "- days_exposition\n",
    "\n",
    "2. Нарушение стиля в названии стобцов: \n",
    "- parks_around3000\n",
    "- ponds_around3000\n",
    "- cityCenters_nearest \n",
    "\n",
    "3. Аномальные данные в столбцах\n",
    "\n",
    "\n",
    "4. Несоотвествие формата стобцов.\n",
    "Из формата float в формат int:\n",
    "- last_price\n",
    "- floors_total\n",
    "- balcony\n",
    "- parks_around3000\n",
    "- parks_nearest\n",
    "- ponds_around3000\n",
    "- ponds_nearest\n",
    "- airports_nearest\n",
    "- cityCenters_nearest\n",
    "- days_exposition\n",
    "\n",
    "Из формата object в формат datetime:\n",
    "- first_day_exposition\n",
    "\n",
    "Из формата object в формат bool: \n",
    "- is_apartment\n"
   ]
  },
  {
   "cell_type": "markdown",
   "metadata": {
    "id": "-O5NtivEAwb9"
   },
   "source": [
    "### Выполните предобработку данных"
   ]
  },
  {
   "cell_type": "markdown",
   "metadata": {
    "id": "7v3vAeTuAwb-"
   },
   "source": [
    "#### Анализ пропусков"
   ]
  },
  {
   "cell_type": "code",
   "execution_count": 9,
   "metadata": {},
   "outputs": [
    {
     "name": "stdout",
     "output_type": "stream",
     "text": [
      "Доля пропущенных значений в столбце 'total_images': 0.0%\n",
      "Доля пропущенных значений в столбце 'last_price': 0.0%\n",
      "Доля пропущенных значений в столбце 'total_area': 0.0%\n",
      "Доля пропущенных значений в столбце 'first_day_exposition': 0.0%\n",
      "Доля пропущенных значений в столбце 'rooms': 0.0%\n",
      "Доля пропущенных значений в столбце 'ceiling_height': 38.8%\n",
      "Доля пропущенных значений в столбце 'floors_total': 0.4%\n",
      "Доля пропущенных значений в столбце 'living_area': 8.0%\n",
      "Доля пропущенных значений в столбце 'floor': 0.0%\n",
      "Доля пропущенных значений в столбце 'is_apartment': 88.3%\n",
      "Доля пропущенных значений в столбце 'studio': 0.0%\n",
      "Доля пропущенных значений в столбце 'open_plan': 0.0%\n",
      "Доля пропущенных значений в столбце 'kitchen_area': 9.6%\n",
      "Доля пропущенных значений в столбце 'balcony': 48.6%\n",
      "Доля пропущенных значений в столбце 'locality_name': 0.2%\n",
      "Доля пропущенных значений в столбце 'airports_nearest': 23.4%\n",
      "Доля пропущенных значений в столбце 'cityCenters_nearest': 23.3%\n",
      "Доля пропущенных значений в столбце 'parks_around3000': 23.3%\n",
      "Доля пропущенных значений в столбце 'parks_nearest': 65.9%\n",
      "Доля пропущенных значений в столбце 'ponds_around3000': 23.3%\n",
      "Доля пропущенных значений в столбце 'ponds_nearest': 61.6%\n",
      "Доля пропущенных значений в столбце 'days_exposition': 13.4%\n"
     ]
    },
    {
     "data": {
      "image/png": "[encoded data removed]",
      "text/plain": [
       "<Figure size 432x288 with 1 Axes>"
      ]
     },
     "metadata": {
      "needs_background": "light"
     },
     "output_type": "display_data"
    }
   ],
   "source": [
    "def analyze_missing_values(data):\n",
    "    total_rows = data.shape[0]\n",
    "    \n",
    "    for column in data.columns:\n",
    "        missing_count = data[column].isna().sum()\n",
    "        missing_percentage = missing_count / total_rows\n",
    "        \n",
    "        print(f\"Доля пропущенных значений в столбце '{column}': {missing_percentage:.1%}\")\n",
    "analyze_missing_values(data)\n",
    "\n",
    "data.isnull().mean().plot(kind='bar')\n",
    "plt.title('Доля пропущенных значений по столбцам')\n",
    "plt.xlabel('Столбец')\n",
    "plt.ylabel('Доля пропущенных значений')\n",
    "plt.show()"
   ]
  },
  {
   "cell_type": "markdown",
   "metadata": {},
   "source": [
    "#### Переименуем столбцы с нарушением стиля"
   ]
  },
  {
   "cell_type": "code",
   "execution_count": 10,
   "metadata": {},
   "outputs": [
    {
     "name": "stdout",
     "output_type": "stream",
     "text": [
      "Index(['total_images', 'last_price', 'total_area', 'first_day_exposition',\n",
      "       'rooms', 'ceiling_height', 'floors_total', 'living_area', 'floor',\n",
      "       'is_apartment', 'studio', 'open_plan', 'kitchen_area', 'balcony',\n",
      "       'locality_name', 'airports_nearest', 'city_centers_nearest',\n",
      "       'parks_around_3000', 'parks_nearest', 'ponds_around_3000',\n",
      "       'ponds_nearest', 'days_exposition'],\n",
      "      dtype='object')\n"
     ]
    }
   ],
   "source": [
    "data = data.rename(columns={'cityCenters_nearest':'city_centers_nearest',\n",
    "             'parks_around3000':'parks_around_3000',\n",
    "             'ponds_around3000':'ponds_around_3000'})\n",
    "print(data.columns)"
   ]
  },
  {
   "cell_type": "markdown",
   "metadata": {},
   "source": [
    "#### Выведим информацию о пропусках "
   ]
  },
  {
   "cell_type": "code",
   "execution_count": 11,
   "metadata": {},
   "outputs": [
    {
     "data": {
      "text/plain": [
       "total_images                0\n",
       "open_plan                   0\n",
       "floor                       0\n",
       "rooms                       0\n",
       "studio                      0\n",
       "total_area                  0\n",
       "last_price                  0\n",
       "first_day_exposition        0\n",
       "locality_name              49\n",
       "floors_total               86\n",
       "living_area              1903\n",
       "kitchen_area             2278\n",
       "days_exposition          3181\n",
       "ponds_around_3000        5518\n",
       "parks_around_3000        5518\n",
       "city_centers_nearest     5519\n",
       "airports_nearest         5542\n",
       "ceiling_height           9195\n",
       "balcony                 11519\n",
       "ponds_nearest           14589\n",
       "parks_nearest           15620\n",
       "is_apartment            20924\n",
       "dtype: int64"
      ]
     },
     "execution_count": 11,
     "metadata": {},
     "output_type": "execute_result"
    }
   ],
   "source": [
    "data.isna().sum().sort_values()"
   ]
  },
  {
   "cell_type": "markdown",
   "metadata": {},
   "source": [
    "#### Удаление пропусков в столбце locality_name"
   ]
  },
  {
   "cell_type": "code",
   "execution_count": 12,
   "metadata": {},
   "outputs": [
    {
     "name": "stdout",
     "output_type": "stream",
     "text": [
      "Количество пропущенных значений: 49\n",
      "Процент пропущенных значений: 0.21%\n"
     ]
    }
   ],
   "source": [
    "missing_count = data['locality_name'].isna().sum()\n",
    "print(f\"Количество пропущенных значений: {missing_count}\")\n",
    "\n",
    "total_rows = len(data)\n",
    "missing_percentage = (missing_count / total_rows) * 100\n",
    "print(f\"Процент пропущенных значений: {missing_percentage:.2f}%\")"
   ]
  },
  {
   "cell_type": "code",
   "execution_count": 13,
   "metadata": {},
   "outputs": [
    {
     "data": {
      "text/plain": [
       "0            Санкт-Петербург\n",
       "1             посёлок Шушары\n",
       "2            Санкт-Петербург\n",
       "3            Санкт-Петербург\n",
       "4            Санкт-Петербург\n",
       "                ...         \n",
       "23694        Санкт-Петербург\n",
       "23695                  Тосно\n",
       "23696       село Рождествено\n",
       "23697        Санкт-Петербург\n",
       "23698    поселок Новый Учхоз\n",
       "Name: locality_name, Length: 23699, dtype: object"
      ]
     },
     "execution_count": 13,
     "metadata": {},
     "output_type": "execute_result"
    }
   ],
   "source": [
    "data['locality_name']"
   ]
  },
  {
   "cell_type": "code",
   "execution_count": 14,
   "metadata": {},
   "outputs": [],
   "source": [
    "data.dropna(subset=['locality_name'], inplace=True)"
   ]
  },
  {
   "cell_type": "code",
   "execution_count": 15,
   "metadata": {},
   "outputs": [
    {
     "name": "stdout",
     "output_type": "stream",
     "text": [
      "Количество пропущенных значений: 0\n",
      "Процент пропущенных значений: 0.00%\n"
     ]
    }
   ],
   "source": [
    "missing_count = data['locality_name'].isna().sum()\n",
    "print(f\"Количество пропущенных значений: {missing_count}\")\n",
    "\n",
    "total_rows = len(data)\n",
    "missing_percentage = (missing_count / total_rows) * 100\n",
    "print(f\"Процент пропущенных значений: {missing_percentage:.2f}%\")"
   ]
  },
  {
   "cell_type": "markdown",
   "metadata": {},
   "source": [
    "#### Удаление пропусков в столбце floors_total"
   ]
  },
  {
   "cell_type": "code",
   "execution_count": 16,
   "metadata": {},
   "outputs": [
    {
     "name": "stdout",
     "output_type": "stream",
     "text": [
      "Количество пропущенных значений: 85\n",
      "Процент пропущенных значений: 0.36%\n"
     ]
    }
   ],
   "source": [
    "missing_count = data['floors_total'].isna().sum()\n",
    "print(f\"Количество пропущенных значений: {missing_count}\")\n",
    "\n",
    "total_rows = len(data)\n",
    "missing_percentage = (missing_count / total_rows) * 100\n",
    "print(f\"Процент пропущенных значений: {missing_percentage:.2f}%\")"
   ]
  },
  {
   "cell_type": "code",
   "execution_count": 17,
   "metadata": {},
   "outputs": [
    {
     "data": {
      "text/plain": [
       "0        16.0\n",
       "1        11.0\n",
       "2         5.0\n",
       "3        14.0\n",
       "4        14.0\n",
       "         ... \n",
       "23694     5.0\n",
       "23695     5.0\n",
       "23696     3.0\n",
       "23697    17.0\n",
       "23698     5.0\n",
       "Name: floors_total, Length: 23650, dtype: float64"
      ]
     },
     "execution_count": 17,
     "metadata": {},
     "output_type": "execute_result"
    }
   ],
   "source": [
    "data['floors_total']"
   ]
  },
  {
   "cell_type": "code",
   "execution_count": 18,
   "metadata": {},
   "outputs": [],
   "source": [
    "data.dropna(subset=['floors_total'], inplace=True)"
   ]
  },
  {
   "cell_type": "code",
   "execution_count": 19,
   "metadata": {},
   "outputs": [
    {
     "name": "stdout",
     "output_type": "stream",
     "text": [
      "Количество пропущенных значений: 0\n",
      "Процент пропущенных значений: 0.00%\n"
     ]
    }
   ],
   "source": [
    "missing_count = data['floors_total'].isna().sum()\n",
    "print(f\"Количество пропущенных значений: {missing_count}\")\n",
    "\n",
    "total_rows = len(data)\n",
    "missing_percentage = (missing_count / total_rows) * 100\n",
    "print(f\"Процент пропущенных значений: {missing_percentage:.2f}%\")"
   ]
  },
  {
   "cell_type": "markdown",
   "metadata": {},
   "source": [
    "#### Заполним пропусски в столбце ceiling_height"
   ]
  },
  {
   "cell_type": "code",
   "execution_count": 20,
   "metadata": {},
   "outputs": [
    {
     "name": "stdout",
     "output_type": "stream",
     "text": [
      "Количество пропущенных значений: 9084\n",
      "Процент пропущенных значений: 38.55%\n"
     ]
    }
   ],
   "source": [
    "missing_count = data['ceiling_height'].isna().sum()\n",
    "print(f\"Количество пропущенных значений: {missing_count}\")\n",
    "\n",
    "total_rows = len(data)\n",
    "missing_percentage = (missing_count / total_rows) * 100\n",
    "print(f\"Процент пропущенных значений: {missing_percentage:.2f}%\")"
   ]
  },
  {
   "cell_type": "code",
   "execution_count": 21,
   "metadata": {},
   "outputs": [
    {
     "data": {
      "text/plain": [
       "0        2.70\n",
       "1         NaN\n",
       "2         NaN\n",
       "3         NaN\n",
       "4        3.03\n",
       "         ... \n",
       "23694    3.70\n",
       "23695     NaN\n",
       "23696     NaN\n",
       "23697    3.00\n",
       "23698    2.50\n",
       "Name: ceiling_height, Length: 23565, dtype: float64"
      ]
     },
     "execution_count": 21,
     "metadata": {},
     "output_type": "execute_result"
    }
   ],
   "source": [
    "data['ceiling_height']"
   ]
  },
  {
   "cell_type": "code",
   "execution_count": 22,
   "metadata": {},
   "outputs": [],
   "source": [
    "data['ceiling_height'] = data['ceiling_height'].fillna(data.groupby('locality_name')['ceiling_height'].transform('median'))"
   ]
  },
  {
   "cell_type": "code",
   "execution_count": 23,
   "metadata": {},
   "outputs": [
    {
     "name": "stdout",
     "output_type": "stream",
     "text": [
      "Количество пропущенных значений: 120\n",
      "Процент пропущенных значений: 0.51%\n"
     ]
    }
   ],
   "source": [
    "missing_count = data['ceiling_height'].isna().sum()\n",
    "print(f\"Количество пропущенных значений: {missing_count}\")\n",
    "\n",
    "total_rows = len(data)\n",
    "missing_percentage = (missing_count / total_rows) * 100\n",
    "print(f\"Процент пропущенных значений: {missing_percentage:.2f}%\")"
   ]
  },
  {
   "cell_type": "code",
   "execution_count": 24,
   "metadata": {},
   "outputs": [
    {
     "data": {
      "text/html": [
       "<div>\n",
       "<style scoped>\n",
       "    .dataframe tbody tr th:only-of-type {\n",
       "        vertical-align: middle;\n",
       "    }\n",
       "\n",
       "    .dataframe tbody tr th {\n",
       "        vertical-align: top;\n",
       "    }\n",
       "\n",
       "    .dataframe thead th {\n",
       "        text-align: right;\n",
       "    }\n",
       "</style>\n",
       "<table border=\"1\" class=\"dataframe\">\n",
       "  <thead>\n",
       "    <tr style=\"text-align: right;\">\n",
       "      <th></th>\n",
       "      <th>total_images</th>\n",
       "      <th>last_price</th>\n",
       "      <th>total_area</th>\n",
       "      <th>first_day_exposition</th>\n",
       "      <th>rooms</th>\n",
       "      <th>ceiling_height</th>\n",
       "      <th>floors_total</th>\n",
       "      <th>living_area</th>\n",
       "      <th>floor</th>\n",
       "      <th>is_apartment</th>\n",
       "      <th>studio</th>\n",
       "      <th>open_plan</th>\n",
       "      <th>kitchen_area</th>\n",
       "      <th>balcony</th>\n",
       "      <th>locality_name</th>\n",
       "      <th>airports_nearest</th>\n",
       "      <th>city_centers_nearest</th>\n",
       "      <th>parks_around_3000</th>\n",
       "      <th>parks_nearest</th>\n",
       "      <th>ponds_around_3000</th>\n",
       "      <th>ponds_nearest</th>\n",
       "      <th>days_exposition</th>\n",
       "    </tr>\n",
       "  </thead>\n",
       "  <tbody>\n",
       "    <tr>\n",
       "      <th>110</th>\n",
       "      <td>6</td>\n",
       "      <td>3.85e+06</td>\n",
       "      <td>72.30</td>\n",
       "      <td>2017-09-29T00:00:00</td>\n",
       "      <td>2</td>\n",
       "      <td>NaN</td>\n",
       "      <td>3.0</td>\n",
       "      <td>27.4</td>\n",
       "      <td>2</td>\n",
       "      <td>NaN</td>\n",
       "      <td>False</td>\n",
       "      <td>False</td>\n",
       "      <td>23.6</td>\n",
       "      <td>0.0</td>\n",
       "      <td>деревня Пикколово</td>\n",
       "      <td>NaN</td>\n",
       "      <td>NaN</td>\n",
       "      <td>NaN</td>\n",
       "      <td>NaN</td>\n",
       "      <td>NaN</td>\n",
       "      <td>NaN</td>\n",
       "      <td>45.0</td>\n",
       "    </tr>\n",
       "    <tr>\n",
       "      <th>168</th>\n",
       "      <td>9</td>\n",
       "      <td>2.25e+06</td>\n",
       "      <td>73.00</td>\n",
       "      <td>2018-11-14T00:00:00</td>\n",
       "      <td>3</td>\n",
       "      <td>NaN</td>\n",
       "      <td>5.0</td>\n",
       "      <td>43.4</td>\n",
       "      <td>5</td>\n",
       "      <td>NaN</td>\n",
       "      <td>False</td>\n",
       "      <td>False</td>\n",
       "      <td>8.4</td>\n",
       "      <td>NaN</td>\n",
       "      <td>деревня Заклинье</td>\n",
       "      <td>NaN</td>\n",
       "      <td>NaN</td>\n",
       "      <td>NaN</td>\n",
       "      <td>NaN</td>\n",
       "      <td>NaN</td>\n",
       "      <td>NaN</td>\n",
       "      <td>46.0</td>\n",
       "    </tr>\n",
       "    <tr>\n",
       "      <th>986</th>\n",
       "      <td>10</td>\n",
       "      <td>1.95e+06</td>\n",
       "      <td>62.00</td>\n",
       "      <td>2015-02-19T00:00:00</td>\n",
       "      <td>3</td>\n",
       "      <td>NaN</td>\n",
       "      <td>5.0</td>\n",
       "      <td>NaN</td>\n",
       "      <td>5</td>\n",
       "      <td>NaN</td>\n",
       "      <td>False</td>\n",
       "      <td>False</td>\n",
       "      <td>NaN</td>\n",
       "      <td>NaN</td>\n",
       "      <td>поселок Севастьяново</td>\n",
       "      <td>NaN</td>\n",
       "      <td>NaN</td>\n",
       "      <td>NaN</td>\n",
       "      <td>NaN</td>\n",
       "      <td>NaN</td>\n",
       "      <td>NaN</td>\n",
       "      <td>1069.0</td>\n",
       "    </tr>\n",
       "    <tr>\n",
       "      <th>1451</th>\n",
       "      <td>10</td>\n",
       "      <td>1.15e+06</td>\n",
       "      <td>33.00</td>\n",
       "      <td>2016-11-28T00:00:00</td>\n",
       "      <td>1</td>\n",
       "      <td>NaN</td>\n",
       "      <td>3.0</td>\n",
       "      <td>NaN</td>\n",
       "      <td>3</td>\n",
       "      <td>False</td>\n",
       "      <td>False</td>\n",
       "      <td>False</td>\n",
       "      <td>NaN</td>\n",
       "      <td>2.0</td>\n",
       "      <td>деревня Иссад</td>\n",
       "      <td>NaN</td>\n",
       "      <td>NaN</td>\n",
       "      <td>NaN</td>\n",
       "      <td>NaN</td>\n",
       "      <td>NaN</td>\n",
       "      <td>NaN</td>\n",
       "      <td>245.0</td>\n",
       "    </tr>\n",
       "    <tr>\n",
       "      <th>1625</th>\n",
       "      <td>7</td>\n",
       "      <td>1.98e+06</td>\n",
       "      <td>23.98</td>\n",
       "      <td>2018-02-01T00:00:00</td>\n",
       "      <td>0</td>\n",
       "      <td>NaN</td>\n",
       "      <td>4.0</td>\n",
       "      <td>10.5</td>\n",
       "      <td>3</td>\n",
       "      <td>NaN</td>\n",
       "      <td>False</td>\n",
       "      <td>True</td>\n",
       "      <td>NaN</td>\n",
       "      <td>1.0</td>\n",
       "      <td>поселок станции Корнево</td>\n",
       "      <td>NaN</td>\n",
       "      <td>NaN</td>\n",
       "      <td>NaN</td>\n",
       "      <td>NaN</td>\n",
       "      <td>NaN</td>\n",
       "      <td>NaN</td>\n",
       "      <td>120.0</td>\n",
       "    </tr>\n",
       "    <tr>\n",
       "      <th>...</th>\n",
       "      <td>...</td>\n",
       "      <td>...</td>\n",
       "      <td>...</td>\n",
       "      <td>...</td>\n",
       "      <td>...</td>\n",
       "      <td>...</td>\n",
       "      <td>...</td>\n",
       "      <td>...</td>\n",
       "      <td>...</td>\n",
       "      <td>...</td>\n",
       "      <td>...</td>\n",
       "      <td>...</td>\n",
       "      <td>...</td>\n",
       "      <td>...</td>\n",
       "      <td>...</td>\n",
       "      <td>...</td>\n",
       "      <td>...</td>\n",
       "      <td>...</td>\n",
       "      <td>...</td>\n",
       "      <td>...</td>\n",
       "      <td>...</td>\n",
       "      <td>...</td>\n",
       "    </tr>\n",
       "    <tr>\n",
       "      <th>22918</th>\n",
       "      <td>14</td>\n",
       "      <td>2.05e+06</td>\n",
       "      <td>54.00</td>\n",
       "      <td>2019-04-17T00:00:00</td>\n",
       "      <td>2</td>\n",
       "      <td>NaN</td>\n",
       "      <td>5.0</td>\n",
       "      <td>32.0</td>\n",
       "      <td>4</td>\n",
       "      <td>NaN</td>\n",
       "      <td>False</td>\n",
       "      <td>False</td>\n",
       "      <td>9.0</td>\n",
       "      <td>2.0</td>\n",
       "      <td>посёлок Перово</td>\n",
       "      <td>NaN</td>\n",
       "      <td>NaN</td>\n",
       "      <td>NaN</td>\n",
       "      <td>NaN</td>\n",
       "      <td>NaN</td>\n",
       "      <td>NaN</td>\n",
       "      <td>NaN</td>\n",
       "    </tr>\n",
       "    <tr>\n",
       "      <th>22935</th>\n",
       "      <td>8</td>\n",
       "      <td>7.99e+05</td>\n",
       "      <td>47.20</td>\n",
       "      <td>2018-06-16T00:00:00</td>\n",
       "      <td>2</td>\n",
       "      <td>NaN</td>\n",
       "      <td>5.0</td>\n",
       "      <td>30.6</td>\n",
       "      <td>3</td>\n",
       "      <td>NaN</td>\n",
       "      <td>False</td>\n",
       "      <td>False</td>\n",
       "      <td>6.3</td>\n",
       "      <td>1.0</td>\n",
       "      <td>поселок Володарское</td>\n",
       "      <td>NaN</td>\n",
       "      <td>NaN</td>\n",
       "      <td>NaN</td>\n",
       "      <td>NaN</td>\n",
       "      <td>NaN</td>\n",
       "      <td>NaN</td>\n",
       "      <td>5.0</td>\n",
       "    </tr>\n",
       "    <tr>\n",
       "      <th>23048</th>\n",
       "      <td>7</td>\n",
       "      <td>2.45e+06</td>\n",
       "      <td>53.60</td>\n",
       "      <td>2018-07-10T00:00:00</td>\n",
       "      <td>2</td>\n",
       "      <td>NaN</td>\n",
       "      <td>5.0</td>\n",
       "      <td>28.4</td>\n",
       "      <td>2</td>\n",
       "      <td>NaN</td>\n",
       "      <td>False</td>\n",
       "      <td>False</td>\n",
       "      <td>8.8</td>\n",
       "      <td>NaN</td>\n",
       "      <td>коттеджный посёлок Лесное</td>\n",
       "      <td>NaN</td>\n",
       "      <td>NaN</td>\n",
       "      <td>NaN</td>\n",
       "      <td>NaN</td>\n",
       "      <td>NaN</td>\n",
       "      <td>NaN</td>\n",
       "      <td>161.0</td>\n",
       "    </tr>\n",
       "    <tr>\n",
       "      <th>23354</th>\n",
       "      <td>18</td>\n",
       "      <td>9.00e+05</td>\n",
       "      <td>42.60</td>\n",
       "      <td>2018-02-26T00:00:00</td>\n",
       "      <td>2</td>\n",
       "      <td>NaN</td>\n",
       "      <td>2.0</td>\n",
       "      <td>28.0</td>\n",
       "      <td>1</td>\n",
       "      <td>NaN</td>\n",
       "      <td>False</td>\n",
       "      <td>False</td>\n",
       "      <td>9.0</td>\n",
       "      <td>NaN</td>\n",
       "      <td>деревня Тихковицы</td>\n",
       "      <td>NaN</td>\n",
       "      <td>NaN</td>\n",
       "      <td>NaN</td>\n",
       "      <td>NaN</td>\n",
       "      <td>NaN</td>\n",
       "      <td>NaN</td>\n",
       "      <td>219.0</td>\n",
       "    </tr>\n",
       "    <tr>\n",
       "      <th>23696</th>\n",
       "      <td>18</td>\n",
       "      <td>2.50e+06</td>\n",
       "      <td>56.70</td>\n",
       "      <td>2018-02-11T00:00:00</td>\n",
       "      <td>2</td>\n",
       "      <td>NaN</td>\n",
       "      <td>3.0</td>\n",
       "      <td>29.7</td>\n",
       "      <td>1</td>\n",
       "      <td>NaN</td>\n",
       "      <td>False</td>\n",
       "      <td>False</td>\n",
       "      <td>NaN</td>\n",
       "      <td>NaN</td>\n",
       "      <td>село Рождествено</td>\n",
       "      <td>NaN</td>\n",
       "      <td>NaN</td>\n",
       "      <td>NaN</td>\n",
       "      <td>NaN</td>\n",
       "      <td>NaN</td>\n",
       "      <td>NaN</td>\n",
       "      <td>NaN</td>\n",
       "    </tr>\n",
       "  </tbody>\n",
       "</table>\n",
       "<p>120 rows × 22 columns</p>\n",
       "</div>"
      ],
      "text/plain": [
       "       total_images  last_price  total_area first_day_exposition  rooms  \\\n",
       "110               6    3.85e+06       72.30  2017-09-29T00:00:00      2   \n",
       "168               9    2.25e+06       73.00  2018-11-14T00:00:00      3   \n",
       "986              10    1.95e+06       62.00  2015-02-19T00:00:00      3   \n",
       "1451             10    1.15e+06       33.00  2016-11-28T00:00:00      1   \n",
       "1625              7    1.98e+06       23.98  2018-02-01T00:00:00      0   \n",
       "...             ...         ...         ...                  ...    ...   \n",
       "22918            14    2.05e+06       54.00  2019-04-17T00:00:00      2   \n",
       "22935             8    7.99e+05       47.20  2018-06-16T00:00:00      2   \n",
       "23048             7    2.45e+06       53.60  2018-07-10T00:00:00      2   \n",
       "23354            18    9.00e+05       42.60  2018-02-26T00:00:00      2   \n",
       "23696            18    2.50e+06       56.70  2018-02-11T00:00:00      2   \n",
       "\n",
       "       ceiling_height  floors_total  living_area  floor is_apartment  studio  \\\n",
       "110               NaN           3.0         27.4      2          NaN   False   \n",
       "168               NaN           5.0         43.4      5          NaN   False   \n",
       "986               NaN           5.0          NaN      5          NaN   False   \n",
       "1451              NaN           3.0          NaN      3        False   False   \n",
       "1625              NaN           4.0         10.5      3          NaN   False   \n",
       "...               ...           ...          ...    ...          ...     ...   \n",
       "22918             NaN           5.0         32.0      4          NaN   False   \n",
       "22935             NaN           5.0         30.6      3          NaN   False   \n",
       "23048             NaN           5.0         28.4      2          NaN   False   \n",
       "23354             NaN           2.0         28.0      1          NaN   False   \n",
       "23696             NaN           3.0         29.7      1          NaN   False   \n",
       "\n",
       "       open_plan  kitchen_area  balcony              locality_name  \\\n",
       "110        False          23.6      0.0          деревня Пикколово   \n",
       "168        False           8.4      NaN           деревня Заклинье   \n",
       "986        False           NaN      NaN       поселок Севастьяново   \n",
       "1451       False           NaN      2.0              деревня Иссад   \n",
       "1625        True           NaN      1.0    поселок станции Корнево   \n",
       "...          ...           ...      ...                        ...   \n",
       "22918      False           9.0      2.0             посёлок Перово   \n",
       "22935      False           6.3      1.0        поселок Володарское   \n",
       "23048      False           8.8      NaN  коттеджный посёлок Лесное   \n",
       "23354      False           9.0      NaN          деревня Тихковицы   \n",
       "23696      False           NaN      NaN           село Рождествено   \n",
       "\n",
       "       airports_nearest  city_centers_nearest  parks_around_3000  \\\n",
       "110                 NaN                   NaN                NaN   \n",
       "168                 NaN                   NaN                NaN   \n",
       "986                 NaN                   NaN                NaN   \n",
       "1451                NaN                   NaN                NaN   \n",
       "1625                NaN                   NaN                NaN   \n",
       "...                 ...                   ...                ...   \n",
       "22918               NaN                   NaN                NaN   \n",
       "22935               NaN                   NaN                NaN   \n",
       "23048               NaN                   NaN                NaN   \n",
       "23354               NaN                   NaN                NaN   \n",
       "23696               NaN                   NaN                NaN   \n",
       "\n",
       "       parks_nearest  ponds_around_3000  ponds_nearest  days_exposition  \n",
       "110              NaN                NaN            NaN             45.0  \n",
       "168              NaN                NaN            NaN             46.0  \n",
       "986              NaN                NaN            NaN           1069.0  \n",
       "1451             NaN                NaN            NaN            245.0  \n",
       "1625             NaN                NaN            NaN            120.0  \n",
       "...              ...                ...            ...              ...  \n",
       "22918            NaN                NaN            NaN              NaN  \n",
       "22935            NaN                NaN            NaN              5.0  \n",
       "23048            NaN                NaN            NaN            161.0  \n",
       "23354            NaN                NaN            NaN            219.0  \n",
       "23696            NaN                NaN            NaN              NaN  \n",
       "\n",
       "[120 rows x 22 columns]"
      ]
     },
     "execution_count": 24,
     "metadata": {},
     "output_type": "execute_result"
    }
   ],
   "source": [
    "data[data['ceiling_height'].isna()]"
   ]
  },
  {
   "cell_type": "markdown",
   "metadata": {},
   "source": [
    "Оставшиеся пустые значения меняем на медианное значение расчитанное по всей базе данных."
   ]
  },
  {
   "cell_type": "code",
   "execution_count": 25,
   "metadata": {},
   "outputs": [],
   "source": [
    "data['ceiling_height'].fillna(data['ceiling_height'].median(), inplace=True)"
   ]
  },
  {
   "cell_type": "code",
   "execution_count": 26,
   "metadata": {},
   "outputs": [
    {
     "name": "stdout",
     "output_type": "stream",
     "text": [
      "Количество пропущенных значений: 0\n",
      "Процент пропущенных значений: 0.00%\n"
     ]
    }
   ],
   "source": [
    "missing_count = data['ceiling_height'].isna().sum()\n",
    "print(f\"Количество пропущенных значений: {missing_count}\")\n",
    "\n",
    "total_rows = len(data)\n",
    "missing_percentage = (missing_count / total_rows) * 100\n",
    "print(f\"Процент пропущенных значений: {missing_percentage:.2f}%\")"
   ]
  },
  {
   "cell_type": "markdown",
   "metadata": {},
   "source": [
    "#### Заполнение пропусков в столбце living_area"
   ]
  },
  {
   "cell_type": "code",
   "execution_count": 27,
   "metadata": {},
   "outputs": [
    {
     "name": "stdout",
     "output_type": "stream",
     "text": [
      "Количество пропущенных значений: 1865\n",
      "Процент пропущенных значений: 7.91%\n"
     ]
    }
   ],
   "source": [
    "missing_count = data['living_area'].isna().sum()\n",
    "print(f\"Количество пропущенных значений: {missing_count}\")\n",
    "\n",
    "total_rows = len(data)\n",
    "missing_percentage = (missing_count / total_rows) * 100\n",
    "print(f\"Процент пропущенных значений: {missing_percentage:.2f}%\")"
   ]
  },
  {
   "cell_type": "code",
   "execution_count": 28,
   "metadata": {},
   "outputs": [
    {
     "data": {
      "text/plain": [
       "0        51.0\n",
       "1        18.6\n",
       "2        34.3\n",
       "3         NaN\n",
       "4        32.0\n",
       "         ... \n",
       "23694    73.3\n",
       "23695    38.0\n",
       "23696    29.7\n",
       "23697     NaN\n",
       "23698    12.3\n",
       "Name: living_area, Length: 23565, dtype: float64"
      ]
     },
     "execution_count": 28,
     "metadata": {},
     "output_type": "execute_result"
    }
   ],
   "source": [
    "data['living_area']"
   ]
  },
  {
   "cell_type": "code",
   "execution_count": 29,
   "metadata": {},
   "outputs": [],
   "source": [
    "data['living_area'] = data['living_area'].fillna(data.groupby('total_area')['living_area'].transform('median'))"
   ]
  },
  {
   "cell_type": "code",
   "execution_count": 30,
   "metadata": {},
   "outputs": [
    {
     "name": "stdout",
     "output_type": "stream",
     "text": [
      "Количество пропущенных значений: 133\n",
      "Процент пропущенных значений: 0.56%\n"
     ]
    }
   ],
   "source": [
    "missing_count = data['living_area'].isna().sum()\n",
    "print(f\"Количество пропущенных значений: {missing_count}\")\n",
    "\n",
    "total_rows = len(data)\n",
    "missing_percentage = (missing_count / total_rows) * 100\n",
    "print(f\"Процент пропущенных значений: {missing_percentage:.2f}%\")"
   ]
  },
  {
   "cell_type": "markdown",
   "metadata": {},
   "source": [
    "Оставшиеся пустые значения заполняем произведением total_area конкретного объекта на коэфицент от медианных значений (total_area, living_area) расчитанных по всей базе данных.анных."
   ]
  },
  {
   "cell_type": "code",
   "execution_count": 31,
   "metadata": {},
   "outputs": [
    {
     "data": {
      "text/plain": [
       "0.5769230769230769"
      ]
     },
     "execution_count": 31,
     "metadata": {},
     "output_type": "execute_result"
    }
   ],
   "source": [
    "living_area = data['living_area'].median()/data['total_area'].median()\n",
    "living_area"
   ]
  },
  {
   "cell_type": "code",
   "execution_count": 32,
   "metadata": {},
   "outputs": [],
   "source": [
    "data['living_area'] = data['living_area'].fillna(living_area * data['total_area'])"
   ]
  },
  {
   "cell_type": "code",
   "execution_count": 33,
   "metadata": {},
   "outputs": [
    {
     "name": "stdout",
     "output_type": "stream",
     "text": [
      "Количество пропущенных значений: 0\n",
      "Процент пропущенных значений: 0.00%\n"
     ]
    }
   ],
   "source": [
    "missing_count = data['living_area'].isna().sum()\n",
    "print(f\"Количество пропущенных значений: {missing_count}\")\n",
    "\n",
    "total_rows = len(data)\n",
    "missing_percentage = (missing_count / total_rows) * 100\n",
    "print(f\"Процент пропущенных значений: {missing_percentage:.2f}%\")"
   ]
  },
  {
   "cell_type": "markdown",
   "metadata": {},
   "source": [
    "#### Заполнение пропусков в столбце is_apartment"
   ]
  },
  {
   "cell_type": "code",
   "execution_count": 34,
   "metadata": {},
   "outputs": [
    {
     "name": "stdout",
     "output_type": "stream",
     "text": [
      "Количество пропущенных значений: 20805\n",
      "Процент пропущенных значений: 88.29%\n"
     ]
    }
   ],
   "source": [
    "missing_count = data['is_apartment'].isna().sum()\n",
    "print(f\"Количество пропущенных значений: {missing_count}\")\n",
    "\n",
    "total_rows = len(data)\n",
    "missing_percentage = (missing_count / total_rows) * 100\n",
    "print(f\"Процент пропущенных значений: {missing_percentage:.2f}%\")"
   ]
  },
  {
   "cell_type": "code",
   "execution_count": 35,
   "metadata": {},
   "outputs": [
    {
     "data": {
      "text/plain": [
       "0        NaN\n",
       "1        NaN\n",
       "2        NaN\n",
       "3        NaN\n",
       "4        NaN\n",
       "        ... \n",
       "23694    NaN\n",
       "23695    NaN\n",
       "23696    NaN\n",
       "23697    NaN\n",
       "23698    NaN\n",
       "Name: is_apartment, Length: 23565, dtype: object"
      ]
     },
     "execution_count": 35,
     "metadata": {},
     "output_type": "execute_result"
    }
   ],
   "source": [
    "data['is_apartment']"
   ]
  },
  {
   "cell_type": "markdown",
   "metadata": {},
   "source": [
    "Подсчитаем уникальные значения и их количество в is_apartment"
   ]
  },
  {
   "cell_type": "code",
   "execution_count": 36,
   "metadata": {},
   "outputs": [
    {
     "data": {
      "text/plain": [
       "False    2710\n",
       "True       50\n",
       "Name: is_apartment, dtype: int64"
      ]
     },
     "execution_count": 36,
     "metadata": {},
     "output_type": "execute_result"
    }
   ],
   "source": [
    "data['is_apartment'].value_counts()"
   ]
  },
  {
   "cell_type": "markdown",
   "metadata": {},
   "source": [
    "Пустые значения меняем на False."
   ]
  },
  {
   "cell_type": "code",
   "execution_count": 37,
   "metadata": {},
   "outputs": [],
   "source": [
    "data['is_apartment'].fillna(False, inplace=True)"
   ]
  },
  {
   "cell_type": "code",
   "execution_count": 38,
   "metadata": {},
   "outputs": [
    {
     "data": {
      "text/plain": [
       "False    23515\n",
       "True        50\n",
       "Name: is_apartment, dtype: int64"
      ]
     },
     "execution_count": 38,
     "metadata": {},
     "output_type": "execute_result"
    }
   ],
   "source": [
    "data['is_apartment'].value_counts()"
   ]
  },
  {
   "cell_type": "code",
   "execution_count": 39,
   "metadata": {},
   "outputs": [
    {
     "name": "stdout",
     "output_type": "stream",
     "text": [
      "Количество пропущенных значений: 0\n",
      "Процент пропущенных значений: 0.00%\n"
     ]
    }
   ],
   "source": [
    "missing_count = data['is_apartment'].isna().sum()\n",
    "print(f\"Количество пропущенных значений: {missing_count}\")\n",
    "\n",
    "total_rows = len(data)\n",
    "missing_percentage = (missing_count / total_rows) * 100\n",
    "print(f\"Процент пропущенных значений: {missing_percentage:.2f}%\")"
   ]
  },
  {
   "cell_type": "markdown",
   "metadata": {},
   "source": [
    "#### Заполнение пропусков в столбце kitchen_area"
   ]
  },
  {
   "cell_type": "code",
   "execution_count": 40,
   "metadata": {},
   "outputs": [
    {
     "name": "stdout",
     "output_type": "stream",
     "text": [
      "Количество пропущенных значений: 2222\n",
      "Процент пропущенных значений: 9.43%\n"
     ]
    }
   ],
   "source": [
    "missing_count = data['kitchen_area'].isna().sum()\n",
    "print(f\"Количество пропущенных значений: {missing_count}\")\n",
    "\n",
    "total_rows = len(data)\n",
    "missing_percentage = (missing_count / total_rows) * 100\n",
    "print(f\"Процент пропущенных значений: {missing_percentage:.2f}%\")"
   ]
  },
  {
   "cell_type": "code",
   "execution_count": 41,
   "metadata": {},
   "outputs": [
    {
     "data": {
      "text/plain": [
       "0        25.00\n",
       "1        11.00\n",
       "2         8.30\n",
       "3          NaN\n",
       "4        41.00\n",
       "         ...  \n",
       "23694    13.83\n",
       "23695     8.50\n",
       "23696      NaN\n",
       "23697    23.30\n",
       "23698     9.00\n",
       "Name: kitchen_area, Length: 23565, dtype: float64"
      ]
     },
     "execution_count": 41,
     "metadata": {},
     "output_type": "execute_result"
    }
   ],
   "source": [
    "data['kitchen_area']"
   ]
  },
  {
   "cell_type": "code",
   "execution_count": 42,
   "metadata": {},
   "outputs": [],
   "source": [
    "data['kitchen_area'] = data['kitchen_area'].fillna(data.groupby('total_area')['kitchen_area'].transform('median'))"
   ]
  },
  {
   "cell_type": "code",
   "execution_count": 43,
   "metadata": {},
   "outputs": [
    {
     "name": "stdout",
     "output_type": "stream",
     "text": [
      "Количество пропущенных значений: 185\n",
      "Процент пропущенных значений: 0.79%\n"
     ]
    }
   ],
   "source": [
    "missing_count = data['kitchen_area'].isna().sum()\n",
    "print(f\"Количество пропущенных значений: {missing_count}\")\n",
    "\n",
    "total_rows = len(data)\n",
    "missing_percentage = (missing_count / total_rows) * 100\n",
    "print(f\"Процент пропущенных значений: {missing_percentage:.2f}%\")"
   ]
  },
  {
   "cell_type": "markdown",
   "metadata": {},
   "source": [
    "Оставшиеся пустые значения заполняем произведением total_area конкретного объекта на коэфицент от медианных значений (total_area, kitchen_area) расчитанных по всей базе данных."
   ]
  },
  {
   "cell_type": "code",
   "execution_count": 44,
   "metadata": {},
   "outputs": [
    {
     "data": {
      "text/plain": [
       "0.17307692307692307"
      ]
     },
     "execution_count": 44,
     "metadata": {},
     "output_type": "execute_result"
    }
   ],
   "source": [
    "kitchen_area = data['kitchen_area'].median()/data['total_area'].median()\n",
    "kitchen_area"
   ]
  },
  {
   "cell_type": "code",
   "execution_count": 45,
   "metadata": {},
   "outputs": [],
   "source": [
    "data['kitchen_area'] = data['kitchen_area'].fillna(kitchen_area * data['total_area'])"
   ]
  },
  {
   "cell_type": "code",
   "execution_count": 46,
   "metadata": {},
   "outputs": [
    {
     "name": "stdout",
     "output_type": "stream",
     "text": [
      "Количество пропущенных значений: 0\n",
      "Процент пропущенных значений: 0.00%\n"
     ]
    }
   ],
   "source": [
    "missing_count = data['kitchen_area'].isna().sum()\n",
    "print(f\"Количество пропущенных значений: {missing_count}\")\n",
    "\n",
    "total_rows = len(data)\n",
    "missing_percentage = (missing_count / total_rows) * 100\n",
    "print(f\"Процент пропущенных значений: {missing_percentage:.2f}%\")"
   ]
  },
  {
   "cell_type": "markdown",
   "metadata": {},
   "source": [
    "#### Заполнение пропусков в столбце balcony"
   ]
  },
  {
   "cell_type": "code",
   "execution_count": 47,
   "metadata": {},
   "outputs": [
    {
     "name": "stdout",
     "output_type": "stream",
     "text": [
      "Количество пропущенных значений: 11475\n",
      "Процент пропущенных значений: 48.70%\n"
     ]
    }
   ],
   "source": [
    "missing_count = data['balcony'].isna().sum()\n",
    "print(f\"Количество пропущенных значений: {missing_count}\")\n",
    "\n",
    "total_rows = len(data)\n",
    "missing_percentage = (missing_count / total_rows) * 100\n",
    "print(f\"Процент пропущенных значений: {missing_percentage:.2f}%\")"
   ]
  },
  {
   "cell_type": "code",
   "execution_count": 48,
   "metadata": {},
   "outputs": [
    {
     "data": {
      "text/plain": [
       "0        NaN\n",
       "1        2.0\n",
       "2        0.0\n",
       "3        0.0\n",
       "4        NaN\n",
       "        ... \n",
       "23694    NaN\n",
       "23695    NaN\n",
       "23696    NaN\n",
       "23697    2.0\n",
       "23698    NaN\n",
       "Name: balcony, Length: 23565, dtype: float64"
      ]
     },
     "execution_count": 48,
     "metadata": {},
     "output_type": "execute_result"
    }
   ],
   "source": [
    "data['balcony']"
   ]
  },
  {
   "cell_type": "markdown",
   "metadata": {},
   "source": [
    "Заменим вещественный тип данных на целочисленный. Отсутствие информации о количестве балконов свидетельствует о том, что число балконов равно нулю."
   ]
  },
  {
   "cell_type": "code",
   "execution_count": 49,
   "metadata": {},
   "outputs": [],
   "source": [
    "data['balcony'] = data['balcony'].fillna(0).astype(int)"
   ]
  },
  {
   "cell_type": "code",
   "execution_count": 50,
   "metadata": {},
   "outputs": [
    {
     "data": {
      "text/plain": [
       "0        0\n",
       "1        2\n",
       "2        0\n",
       "3        0\n",
       "4        0\n",
       "        ..\n",
       "23694    0\n",
       "23695    0\n",
       "23696    0\n",
       "23697    2\n",
       "23698    0\n",
       "Name: balcony, Length: 23565, dtype: int64"
      ]
     },
     "execution_count": 50,
     "metadata": {},
     "output_type": "execute_result"
    }
   ],
   "source": [
    "data['balcony']"
   ]
  },
  {
   "cell_type": "code",
   "execution_count": 51,
   "metadata": {},
   "outputs": [
    {
     "name": "stdout",
     "output_type": "stream",
     "text": [
      "Количество пропущенных значений: 0\n",
      "Процент пропущенных значений: 0.00%\n"
     ]
    }
   ],
   "source": [
    "missing_count = data['balcony'].isna().sum()\n",
    "print(f\"Количество пропущенных значений: {missing_count}\")\n",
    "\n",
    "total_rows = len(data)\n",
    "missing_percentage = (missing_count / total_rows) * 100\n",
    "print(f\"Процент пропущенных значений: {missing_percentage:.2f}%\")"
   ]
  },
  {
   "cell_type": "markdown",
   "metadata": {},
   "source": [
    "#### Заполнение пропусков в столбце airports_nearest"
   ]
  },
  {
   "cell_type": "code",
   "execution_count": 52,
   "metadata": {},
   "outputs": [
    {
     "name": "stdout",
     "output_type": "stream",
     "text": [
      "Количество пропущенных значений: 5524\n",
      "Процент пропущенных значений: 23.44%\n"
     ]
    }
   ],
   "source": [
    "missing_count = data['airports_nearest'].isna().sum()\n",
    "print(f\"Количество пропущенных значений: {missing_count}\")\n",
    "\n",
    "total_rows = len(data)\n",
    "missing_percentage = (missing_count / total_rows) * 100\n",
    "print(f\"Процент пропущенных значений: {missing_percentage:.2f}%\")"
   ]
  },
  {
   "cell_type": "code",
   "execution_count": 53,
   "metadata": {},
   "outputs": [
    {
     "data": {
      "text/html": [
       "<div>\n",
       "<style scoped>\n",
       "    .dataframe tbody tr th:only-of-type {\n",
       "        vertical-align: middle;\n",
       "    }\n",
       "\n",
       "    .dataframe tbody tr th {\n",
       "        vertical-align: top;\n",
       "    }\n",
       "\n",
       "    .dataframe thead th {\n",
       "        text-align: right;\n",
       "    }\n",
       "</style>\n",
       "<table border=\"1\" class=\"dataframe\">\n",
       "  <thead>\n",
       "    <tr style=\"text-align: right;\">\n",
       "      <th></th>\n",
       "      <th>total_images</th>\n",
       "      <th>last_price</th>\n",
       "      <th>total_area</th>\n",
       "      <th>first_day_exposition</th>\n",
       "      <th>rooms</th>\n",
       "      <th>ceiling_height</th>\n",
       "      <th>floors_total</th>\n",
       "      <th>living_area</th>\n",
       "      <th>floor</th>\n",
       "      <th>is_apartment</th>\n",
       "      <th>studio</th>\n",
       "      <th>open_plan</th>\n",
       "      <th>kitchen_area</th>\n",
       "      <th>balcony</th>\n",
       "      <th>locality_name</th>\n",
       "      <th>airports_nearest</th>\n",
       "      <th>city_centers_nearest</th>\n",
       "      <th>parks_around_3000</th>\n",
       "      <th>parks_nearest</th>\n",
       "      <th>ponds_around_3000</th>\n",
       "      <th>ponds_nearest</th>\n",
       "      <th>days_exposition</th>\n",
       "    </tr>\n",
       "  </thead>\n",
       "  <tbody>\n",
       "    <tr>\n",
       "      <th>5</th>\n",
       "      <td>10</td>\n",
       "      <td>2.89e+06</td>\n",
       "      <td>30.40</td>\n",
       "      <td>2018-09-10T00:00:00</td>\n",
       "      <td>1</td>\n",
       "      <td>2.60</td>\n",
       "      <td>12.0</td>\n",
       "      <td>14.40</td>\n",
       "      <td>5</td>\n",
       "      <td>False</td>\n",
       "      <td>False</td>\n",
       "      <td>False</td>\n",
       "      <td>9.10</td>\n",
       "      <td>0</td>\n",
       "      <td>городской посёлок Янино-1</td>\n",
       "      <td>NaN</td>\n",
       "      <td>NaN</td>\n",
       "      <td>NaN</td>\n",
       "      <td>NaN</td>\n",
       "      <td>NaN</td>\n",
       "      <td>NaN</td>\n",
       "      <td>55.0</td>\n",
       "    </tr>\n",
       "    <tr>\n",
       "      <th>8</th>\n",
       "      <td>20</td>\n",
       "      <td>2.90e+06</td>\n",
       "      <td>33.16</td>\n",
       "      <td>2018-05-23T00:00:00</td>\n",
       "      <td>1</td>\n",
       "      <td>2.70</td>\n",
       "      <td>27.0</td>\n",
       "      <td>15.43</td>\n",
       "      <td>26</td>\n",
       "      <td>False</td>\n",
       "      <td>False</td>\n",
       "      <td>False</td>\n",
       "      <td>8.81</td>\n",
       "      <td>0</td>\n",
       "      <td>посёлок Мурино</td>\n",
       "      <td>NaN</td>\n",
       "      <td>NaN</td>\n",
       "      <td>NaN</td>\n",
       "      <td>NaN</td>\n",
       "      <td>NaN</td>\n",
       "      <td>NaN</td>\n",
       "      <td>189.0</td>\n",
       "    </tr>\n",
       "    <tr>\n",
       "      <th>12</th>\n",
       "      <td>10</td>\n",
       "      <td>3.89e+06</td>\n",
       "      <td>54.00</td>\n",
       "      <td>2016-06-30T00:00:00</td>\n",
       "      <td>2</td>\n",
       "      <td>2.60</td>\n",
       "      <td>5.0</td>\n",
       "      <td>30.00</td>\n",
       "      <td>5</td>\n",
       "      <td>False</td>\n",
       "      <td>False</td>\n",
       "      <td>False</td>\n",
       "      <td>9.00</td>\n",
       "      <td>0</td>\n",
       "      <td>Сертолово</td>\n",
       "      <td>NaN</td>\n",
       "      <td>NaN</td>\n",
       "      <td>NaN</td>\n",
       "      <td>NaN</td>\n",
       "      <td>NaN</td>\n",
       "      <td>NaN</td>\n",
       "      <td>90.0</td>\n",
       "    </tr>\n",
       "    <tr>\n",
       "      <th>22</th>\n",
       "      <td>20</td>\n",
       "      <td>5.00e+06</td>\n",
       "      <td>58.00</td>\n",
       "      <td>2017-04-24T00:00:00</td>\n",
       "      <td>2</td>\n",
       "      <td>2.75</td>\n",
       "      <td>25.0</td>\n",
       "      <td>30.00</td>\n",
       "      <td>15</td>\n",
       "      <td>False</td>\n",
       "      <td>False</td>\n",
       "      <td>False</td>\n",
       "      <td>11.00</td>\n",
       "      <td>2</td>\n",
       "      <td>деревня Кудрово</td>\n",
       "      <td>NaN</td>\n",
       "      <td>NaN</td>\n",
       "      <td>NaN</td>\n",
       "      <td>NaN</td>\n",
       "      <td>NaN</td>\n",
       "      <td>NaN</td>\n",
       "      <td>60.0</td>\n",
       "    </tr>\n",
       "    <tr>\n",
       "      <th>30</th>\n",
       "      <td>12</td>\n",
       "      <td>2.20e+06</td>\n",
       "      <td>32.80</td>\n",
       "      <td>2018-02-19T00:00:00</td>\n",
       "      <td>1</td>\n",
       "      <td>2.56</td>\n",
       "      <td>9.0</td>\n",
       "      <td>17.50</td>\n",
       "      <td>2</td>\n",
       "      <td>False</td>\n",
       "      <td>False</td>\n",
       "      <td>False</td>\n",
       "      <td>7.20</td>\n",
       "      <td>0</td>\n",
       "      <td>Коммунар</td>\n",
       "      <td>NaN</td>\n",
       "      <td>NaN</td>\n",
       "      <td>NaN</td>\n",
       "      <td>NaN</td>\n",
       "      <td>NaN</td>\n",
       "      <td>NaN</td>\n",
       "      <td>63.0</td>\n",
       "    </tr>\n",
       "    <tr>\n",
       "      <th>...</th>\n",
       "      <td>...</td>\n",
       "      <td>...</td>\n",
       "      <td>...</td>\n",
       "      <td>...</td>\n",
       "      <td>...</td>\n",
       "      <td>...</td>\n",
       "      <td>...</td>\n",
       "      <td>...</td>\n",
       "      <td>...</td>\n",
       "      <td>...</td>\n",
       "      <td>...</td>\n",
       "      <td>...</td>\n",
       "      <td>...</td>\n",
       "      <td>...</td>\n",
       "      <td>...</td>\n",
       "      <td>...</td>\n",
       "      <td>...</td>\n",
       "      <td>...</td>\n",
       "      <td>...</td>\n",
       "      <td>...</td>\n",
       "      <td>...</td>\n",
       "      <td>...</td>\n",
       "    </tr>\n",
       "    <tr>\n",
       "      <th>23683</th>\n",
       "      <td>16</td>\n",
       "      <td>2.10e+06</td>\n",
       "      <td>62.80</td>\n",
       "      <td>2018-09-18T00:00:00</td>\n",
       "      <td>4</td>\n",
       "      <td>2.50</td>\n",
       "      <td>5.0</td>\n",
       "      <td>45.50</td>\n",
       "      <td>3</td>\n",
       "      <td>False</td>\n",
       "      <td>False</td>\n",
       "      <td>False</td>\n",
       "      <td>5.50</td>\n",
       "      <td>0</td>\n",
       "      <td>посёлок Дзержинского</td>\n",
       "      <td>NaN</td>\n",
       "      <td>NaN</td>\n",
       "      <td>NaN</td>\n",
       "      <td>NaN</td>\n",
       "      <td>NaN</td>\n",
       "      <td>NaN</td>\n",
       "      <td>NaN</td>\n",
       "    </tr>\n",
       "    <tr>\n",
       "      <th>23692</th>\n",
       "      <td>2</td>\n",
       "      <td>1.35e+06</td>\n",
       "      <td>30.00</td>\n",
       "      <td>2017-07-07T00:00:00</td>\n",
       "      <td>1</td>\n",
       "      <td>2.60</td>\n",
       "      <td>5.0</td>\n",
       "      <td>17.50</td>\n",
       "      <td>4</td>\n",
       "      <td>False</td>\n",
       "      <td>False</td>\n",
       "      <td>False</td>\n",
       "      <td>6.00</td>\n",
       "      <td>0</td>\n",
       "      <td>Тихвин</td>\n",
       "      <td>NaN</td>\n",
       "      <td>NaN</td>\n",
       "      <td>NaN</td>\n",
       "      <td>NaN</td>\n",
       "      <td>NaN</td>\n",
       "      <td>NaN</td>\n",
       "      <td>413.0</td>\n",
       "    </tr>\n",
       "    <tr>\n",
       "      <th>23695</th>\n",
       "      <td>14</td>\n",
       "      <td>3.10e+06</td>\n",
       "      <td>59.00</td>\n",
       "      <td>2018-01-15T00:00:00</td>\n",
       "      <td>3</td>\n",
       "      <td>2.50</td>\n",
       "      <td>5.0</td>\n",
       "      <td>38.00</td>\n",
       "      <td>4</td>\n",
       "      <td>False</td>\n",
       "      <td>False</td>\n",
       "      <td>False</td>\n",
       "      <td>8.50</td>\n",
       "      <td>0</td>\n",
       "      <td>Тосно</td>\n",
       "      <td>NaN</td>\n",
       "      <td>NaN</td>\n",
       "      <td>NaN</td>\n",
       "      <td>NaN</td>\n",
       "      <td>NaN</td>\n",
       "      <td>NaN</td>\n",
       "      <td>45.0</td>\n",
       "    </tr>\n",
       "    <tr>\n",
       "      <th>23696</th>\n",
       "      <td>18</td>\n",
       "      <td>2.50e+06</td>\n",
       "      <td>56.70</td>\n",
       "      <td>2018-02-11T00:00:00</td>\n",
       "      <td>2</td>\n",
       "      <td>2.70</td>\n",
       "      <td>3.0</td>\n",
       "      <td>29.70</td>\n",
       "      <td>1</td>\n",
       "      <td>False</td>\n",
       "      <td>False</td>\n",
       "      <td>False</td>\n",
       "      <td>8.00</td>\n",
       "      <td>0</td>\n",
       "      <td>село Рождествено</td>\n",
       "      <td>NaN</td>\n",
       "      <td>NaN</td>\n",
       "      <td>NaN</td>\n",
       "      <td>NaN</td>\n",
       "      <td>NaN</td>\n",
       "      <td>NaN</td>\n",
       "      <td>NaN</td>\n",
       "    </tr>\n",
       "    <tr>\n",
       "      <th>23698</th>\n",
       "      <td>4</td>\n",
       "      <td>1.35e+06</td>\n",
       "      <td>32.30</td>\n",
       "      <td>2017-07-21T00:00:00</td>\n",
       "      <td>1</td>\n",
       "      <td>2.50</td>\n",
       "      <td>5.0</td>\n",
       "      <td>12.30</td>\n",
       "      <td>1</td>\n",
       "      <td>False</td>\n",
       "      <td>False</td>\n",
       "      <td>False</td>\n",
       "      <td>9.00</td>\n",
       "      <td>0</td>\n",
       "      <td>поселок Новый Учхоз</td>\n",
       "      <td>NaN</td>\n",
       "      <td>NaN</td>\n",
       "      <td>NaN</td>\n",
       "      <td>NaN</td>\n",
       "      <td>NaN</td>\n",
       "      <td>NaN</td>\n",
       "      <td>NaN</td>\n",
       "    </tr>\n",
       "  </tbody>\n",
       "</table>\n",
       "<p>5524 rows × 22 columns</p>\n",
       "</div>"
      ],
      "text/plain": [
       "       total_images  last_price  total_area first_day_exposition  rooms  \\\n",
       "5                10    2.89e+06       30.40  2018-09-10T00:00:00      1   \n",
       "8                20    2.90e+06       33.16  2018-05-23T00:00:00      1   \n",
       "12               10    3.89e+06       54.00  2016-06-30T00:00:00      2   \n",
       "22               20    5.00e+06       58.00  2017-04-24T00:00:00      2   \n",
       "30               12    2.20e+06       32.80  2018-02-19T00:00:00      1   \n",
       "...             ...         ...         ...                  ...    ...   \n",
       "23683            16    2.10e+06       62.80  2018-09-18T00:00:00      4   \n",
       "23692             2    1.35e+06       30.00  2017-07-07T00:00:00      1   \n",
       "23695            14    3.10e+06       59.00  2018-01-15T00:00:00      3   \n",
       "23696            18    2.50e+06       56.70  2018-02-11T00:00:00      2   \n",
       "23698             4    1.35e+06       32.30  2017-07-21T00:00:00      1   \n",
       "\n",
       "       ceiling_height  floors_total  living_area  floor  is_apartment  studio  \\\n",
       "5                2.60          12.0        14.40      5         False   False   \n",
       "8                2.70          27.0        15.43     26         False   False   \n",
       "12               2.60           5.0        30.00      5         False   False   \n",
       "22               2.75          25.0        30.00     15         False   False   \n",
       "30               2.56           9.0        17.50      2         False   False   \n",
       "...               ...           ...          ...    ...           ...     ...   \n",
       "23683            2.50           5.0        45.50      3         False   False   \n",
       "23692            2.60           5.0        17.50      4         False   False   \n",
       "23695            2.50           5.0        38.00      4         False   False   \n",
       "23696            2.70           3.0        29.70      1         False   False   \n",
       "23698            2.50           5.0        12.30      1         False   False   \n",
       "\n",
       "       open_plan  kitchen_area  balcony              locality_name  \\\n",
       "5          False          9.10        0  городской посёлок Янино-1   \n",
       "8          False          8.81        0             посёлок Мурино   \n",
       "12         False          9.00        0                  Сертолово   \n",
       "22         False         11.00        2            деревня Кудрово   \n",
       "30         False          7.20        0                   Коммунар   \n",
       "...          ...           ...      ...                        ...   \n",
       "23683      False          5.50        0       посёлок Дзержинского   \n",
       "23692      False          6.00        0                     Тихвин   \n",
       "23695      False          8.50        0                      Тосно   \n",
       "23696      False          8.00        0           село Рождествено   \n",
       "23698      False          9.00        0        поселок Новый Учхоз   \n",
       "\n",
       "       airports_nearest  city_centers_nearest  parks_around_3000  \\\n",
       "5                   NaN                   NaN                NaN   \n",
       "8                   NaN                   NaN                NaN   \n",
       "12                  NaN                   NaN                NaN   \n",
       "22                  NaN                   NaN                NaN   \n",
       "30                  NaN                   NaN                NaN   \n",
       "...                 ...                   ...                ...   \n",
       "23683               NaN                   NaN                NaN   \n",
       "23692               NaN                   NaN                NaN   \n",
       "23695               NaN                   NaN                NaN   \n",
       "23696               NaN                   NaN                NaN   \n",
       "23698               NaN                   NaN                NaN   \n",
       "\n",
       "       parks_nearest  ponds_around_3000  ponds_nearest  days_exposition  \n",
       "5                NaN                NaN            NaN             55.0  \n",
       "8                NaN                NaN            NaN            189.0  \n",
       "12               NaN                NaN            NaN             90.0  \n",
       "22               NaN                NaN            NaN             60.0  \n",
       "30               NaN                NaN            NaN             63.0  \n",
       "...              ...                ...            ...              ...  \n",
       "23683            NaN                NaN            NaN              NaN  \n",
       "23692            NaN                NaN            NaN            413.0  \n",
       "23695            NaN                NaN            NaN             45.0  \n",
       "23696            NaN                NaN            NaN              NaN  \n",
       "23698            NaN                NaN            NaN              NaN  \n",
       "\n",
       "[5524 rows x 22 columns]"
      ]
     },
     "execution_count": 53,
     "metadata": {},
     "output_type": "execute_result"
    }
   ],
   "source": [
    "data[data['airports_nearest'].isna()]"
   ]
  },
  {
   "cell_type": "code",
   "execution_count": 54,
   "metadata": {},
   "outputs": [
    {
     "data": {
      "text/plain": [
       "0        18863.0\n",
       "1        12817.0\n",
       "2        21741.0\n",
       "3        28098.0\n",
       "4        31856.0\n",
       "          ...   \n",
       "23694    24665.0\n",
       "23695        NaN\n",
       "23696        NaN\n",
       "23697    39140.0\n",
       "23698        NaN\n",
       "Name: airports_nearest, Length: 23565, dtype: float64"
      ]
     },
     "execution_count": 54,
     "metadata": {},
     "output_type": "execute_result"
    }
   ],
   "source": [
    "data['airports_nearest']"
   ]
  },
  {
   "cell_type": "code",
   "execution_count": 55,
   "metadata": {},
   "outputs": [],
   "source": [
    "data['airports_nearest'].fillna(data['airports_nearest'].median(), inplace=True)"
   ]
  },
  {
   "cell_type": "code",
   "execution_count": 56,
   "metadata": {},
   "outputs": [
    {
     "name": "stdout",
     "output_type": "stream",
     "text": [
      "Количество пропущенных значений: 0\n",
      "Процент пропущенных значений: 0.00%\n"
     ]
    }
   ],
   "source": [
    "missing_count = data['airports_nearest'].isna().sum()\n",
    "print(f\"Количество пропущенных значений: {missing_count}\")\n",
    "\n",
    "total_rows = len(data)\n",
    "missing_percentage = (missing_count / total_rows) * 100\n",
    "print(f\"Процент пропущенных значений: {missing_percentage:.2f}%\")"
   ]
  },
  {
   "cell_type": "markdown",
   "metadata": {},
   "source": [
    "#### Заполнение пропусков в столбце city_centers_nearest"
   ]
  },
  {
   "cell_type": "code",
   "execution_count": 57,
   "metadata": {},
   "outputs": [
    {
     "name": "stdout",
     "output_type": "stream",
     "text": [
      "Количество пропущенных значений: 5501\n",
      "Процент пропущенных значений: 23.34%\n"
     ]
    }
   ],
   "source": [
    "missing_count = data['city_centers_nearest'].isna().sum()\n",
    "print(f\"Количество пропущенных значений: {missing_count}\")\n",
    "\n",
    "total_rows = len(data)\n",
    "missing_percentage = (missing_count / total_rows) * 100\n",
    "print(f\"Процент пропущенных значений: {missing_percentage:.2f}%\")"
   ]
  },
  {
   "cell_type": "code",
   "execution_count": 58,
   "metadata": {},
   "outputs": [
    {
     "data": {
      "text/html": [
       "<div>\n",
       "<style scoped>\n",
       "    .dataframe tbody tr th:only-of-type {\n",
       "        vertical-align: middle;\n",
       "    }\n",
       "\n",
       "    .dataframe tbody tr th {\n",
       "        vertical-align: top;\n",
       "    }\n",
       "\n",
       "    .dataframe thead th {\n",
       "        text-align: right;\n",
       "    }\n",
       "</style>\n",
       "<table border=\"1\" class=\"dataframe\">\n",
       "  <thead>\n",
       "    <tr style=\"text-align: right;\">\n",
       "      <th></th>\n",
       "      <th>total_images</th>\n",
       "      <th>last_price</th>\n",
       "      <th>total_area</th>\n",
       "      <th>first_day_exposition</th>\n",
       "      <th>rooms</th>\n",
       "      <th>ceiling_height</th>\n",
       "      <th>floors_total</th>\n",
       "      <th>living_area</th>\n",
       "      <th>floor</th>\n",
       "      <th>is_apartment</th>\n",
       "      <th>studio</th>\n",
       "      <th>open_plan</th>\n",
       "      <th>kitchen_area</th>\n",
       "      <th>balcony</th>\n",
       "      <th>locality_name</th>\n",
       "      <th>airports_nearest</th>\n",
       "      <th>city_centers_nearest</th>\n",
       "      <th>parks_around_3000</th>\n",
       "      <th>parks_nearest</th>\n",
       "      <th>ponds_around_3000</th>\n",
       "      <th>ponds_nearest</th>\n",
       "      <th>days_exposition</th>\n",
       "    </tr>\n",
       "  </thead>\n",
       "  <tbody>\n",
       "    <tr>\n",
       "      <th>5</th>\n",
       "      <td>10</td>\n",
       "      <td>2.89e+06</td>\n",
       "      <td>30.40</td>\n",
       "      <td>2018-09-10T00:00:00</td>\n",
       "      <td>1</td>\n",
       "      <td>2.60</td>\n",
       "      <td>12.0</td>\n",
       "      <td>14.40</td>\n",
       "      <td>5</td>\n",
       "      <td>False</td>\n",
       "      <td>False</td>\n",
       "      <td>False</td>\n",
       "      <td>9.10</td>\n",
       "      <td>0</td>\n",
       "      <td>городской посёлок Янино-1</td>\n",
       "      <td>26757.0</td>\n",
       "      <td>NaN</td>\n",
       "      <td>NaN</td>\n",
       "      <td>NaN</td>\n",
       "      <td>NaN</td>\n",
       "      <td>NaN</td>\n",
       "      <td>55.0</td>\n",
       "    </tr>\n",
       "    <tr>\n",
       "      <th>8</th>\n",
       "      <td>20</td>\n",
       "      <td>2.90e+06</td>\n",
       "      <td>33.16</td>\n",
       "      <td>2018-05-23T00:00:00</td>\n",
       "      <td>1</td>\n",
       "      <td>2.70</td>\n",
       "      <td>27.0</td>\n",
       "      <td>15.43</td>\n",
       "      <td>26</td>\n",
       "      <td>False</td>\n",
       "      <td>False</td>\n",
       "      <td>False</td>\n",
       "      <td>8.81</td>\n",
       "      <td>0</td>\n",
       "      <td>посёлок Мурино</td>\n",
       "      <td>26757.0</td>\n",
       "      <td>NaN</td>\n",
       "      <td>NaN</td>\n",
       "      <td>NaN</td>\n",
       "      <td>NaN</td>\n",
       "      <td>NaN</td>\n",
       "      <td>189.0</td>\n",
       "    </tr>\n",
       "    <tr>\n",
       "      <th>12</th>\n",
       "      <td>10</td>\n",
       "      <td>3.89e+06</td>\n",
       "      <td>54.00</td>\n",
       "      <td>2016-06-30T00:00:00</td>\n",
       "      <td>2</td>\n",
       "      <td>2.60</td>\n",
       "      <td>5.0</td>\n",
       "      <td>30.00</td>\n",
       "      <td>5</td>\n",
       "      <td>False</td>\n",
       "      <td>False</td>\n",
       "      <td>False</td>\n",
       "      <td>9.00</td>\n",
       "      <td>0</td>\n",
       "      <td>Сертолово</td>\n",
       "      <td>26757.0</td>\n",
       "      <td>NaN</td>\n",
       "      <td>NaN</td>\n",
       "      <td>NaN</td>\n",
       "      <td>NaN</td>\n",
       "      <td>NaN</td>\n",
       "      <td>90.0</td>\n",
       "    </tr>\n",
       "    <tr>\n",
       "      <th>22</th>\n",
       "      <td>20</td>\n",
       "      <td>5.00e+06</td>\n",
       "      <td>58.00</td>\n",
       "      <td>2017-04-24T00:00:00</td>\n",
       "      <td>2</td>\n",
       "      <td>2.75</td>\n",
       "      <td>25.0</td>\n",
       "      <td>30.00</td>\n",
       "      <td>15</td>\n",
       "      <td>False</td>\n",
       "      <td>False</td>\n",
       "      <td>False</td>\n",
       "      <td>11.00</td>\n",
       "      <td>2</td>\n",
       "      <td>деревня Кудрово</td>\n",
       "      <td>26757.0</td>\n",
       "      <td>NaN</td>\n",
       "      <td>NaN</td>\n",
       "      <td>NaN</td>\n",
       "      <td>NaN</td>\n",
       "      <td>NaN</td>\n",
       "      <td>60.0</td>\n",
       "    </tr>\n",
       "    <tr>\n",
       "      <th>30</th>\n",
       "      <td>12</td>\n",
       "      <td>2.20e+06</td>\n",
       "      <td>32.80</td>\n",
       "      <td>2018-02-19T00:00:00</td>\n",
       "      <td>1</td>\n",
       "      <td>2.56</td>\n",
       "      <td>9.0</td>\n",
       "      <td>17.50</td>\n",
       "      <td>2</td>\n",
       "      <td>False</td>\n",
       "      <td>False</td>\n",
       "      <td>False</td>\n",
       "      <td>7.20</td>\n",
       "      <td>0</td>\n",
       "      <td>Коммунар</td>\n",
       "      <td>26757.0</td>\n",
       "      <td>NaN</td>\n",
       "      <td>NaN</td>\n",
       "      <td>NaN</td>\n",
       "      <td>NaN</td>\n",
       "      <td>NaN</td>\n",
       "      <td>63.0</td>\n",
       "    </tr>\n",
       "    <tr>\n",
       "      <th>...</th>\n",
       "      <td>...</td>\n",
       "      <td>...</td>\n",
       "      <td>...</td>\n",
       "      <td>...</td>\n",
       "      <td>...</td>\n",
       "      <td>...</td>\n",
       "      <td>...</td>\n",
       "      <td>...</td>\n",
       "      <td>...</td>\n",
       "      <td>...</td>\n",
       "      <td>...</td>\n",
       "      <td>...</td>\n",
       "      <td>...</td>\n",
       "      <td>...</td>\n",
       "      <td>...</td>\n",
       "      <td>...</td>\n",
       "      <td>...</td>\n",
       "      <td>...</td>\n",
       "      <td>...</td>\n",
       "      <td>...</td>\n",
       "      <td>...</td>\n",
       "      <td>...</td>\n",
       "    </tr>\n",
       "    <tr>\n",
       "      <th>23683</th>\n",
       "      <td>16</td>\n",
       "      <td>2.10e+06</td>\n",
       "      <td>62.80</td>\n",
       "      <td>2018-09-18T00:00:00</td>\n",
       "      <td>4</td>\n",
       "      <td>2.50</td>\n",
       "      <td>5.0</td>\n",
       "      <td>45.50</td>\n",
       "      <td>3</td>\n",
       "      <td>False</td>\n",
       "      <td>False</td>\n",
       "      <td>False</td>\n",
       "      <td>5.50</td>\n",
       "      <td>0</td>\n",
       "      <td>посёлок Дзержинского</td>\n",
       "      <td>26757.0</td>\n",
       "      <td>NaN</td>\n",
       "      <td>NaN</td>\n",
       "      <td>NaN</td>\n",
       "      <td>NaN</td>\n",
       "      <td>NaN</td>\n",
       "      <td>NaN</td>\n",
       "    </tr>\n",
       "    <tr>\n",
       "      <th>23692</th>\n",
       "      <td>2</td>\n",
       "      <td>1.35e+06</td>\n",
       "      <td>30.00</td>\n",
       "      <td>2017-07-07T00:00:00</td>\n",
       "      <td>1</td>\n",
       "      <td>2.60</td>\n",
       "      <td>5.0</td>\n",
       "      <td>17.50</td>\n",
       "      <td>4</td>\n",
       "      <td>False</td>\n",
       "      <td>False</td>\n",
       "      <td>False</td>\n",
       "      <td>6.00</td>\n",
       "      <td>0</td>\n",
       "      <td>Тихвин</td>\n",
       "      <td>26757.0</td>\n",
       "      <td>NaN</td>\n",
       "      <td>NaN</td>\n",
       "      <td>NaN</td>\n",
       "      <td>NaN</td>\n",
       "      <td>NaN</td>\n",
       "      <td>413.0</td>\n",
       "    </tr>\n",
       "    <tr>\n",
       "      <th>23695</th>\n",
       "      <td>14</td>\n",
       "      <td>3.10e+06</td>\n",
       "      <td>59.00</td>\n",
       "      <td>2018-01-15T00:00:00</td>\n",
       "      <td>3</td>\n",
       "      <td>2.50</td>\n",
       "      <td>5.0</td>\n",
       "      <td>38.00</td>\n",
       "      <td>4</td>\n",
       "      <td>False</td>\n",
       "      <td>False</td>\n",
       "      <td>False</td>\n",
       "      <td>8.50</td>\n",
       "      <td>0</td>\n",
       "      <td>Тосно</td>\n",
       "      <td>26757.0</td>\n",
       "      <td>NaN</td>\n",
       "      <td>NaN</td>\n",
       "      <td>NaN</td>\n",
       "      <td>NaN</td>\n",
       "      <td>NaN</td>\n",
       "      <td>45.0</td>\n",
       "    </tr>\n",
       "    <tr>\n",
       "      <th>23696</th>\n",
       "      <td>18</td>\n",
       "      <td>2.50e+06</td>\n",
       "      <td>56.70</td>\n",
       "      <td>2018-02-11T00:00:00</td>\n",
       "      <td>2</td>\n",
       "      <td>2.70</td>\n",
       "      <td>3.0</td>\n",
       "      <td>29.70</td>\n",
       "      <td>1</td>\n",
       "      <td>False</td>\n",
       "      <td>False</td>\n",
       "      <td>False</td>\n",
       "      <td>8.00</td>\n",
       "      <td>0</td>\n",
       "      <td>село Рождествено</td>\n",
       "      <td>26757.0</td>\n",
       "      <td>NaN</td>\n",
       "      <td>NaN</td>\n",
       "      <td>NaN</td>\n",
       "      <td>NaN</td>\n",
       "      <td>NaN</td>\n",
       "      <td>NaN</td>\n",
       "    </tr>\n",
       "    <tr>\n",
       "      <th>23698</th>\n",
       "      <td>4</td>\n",
       "      <td>1.35e+06</td>\n",
       "      <td>32.30</td>\n",
       "      <td>2017-07-21T00:00:00</td>\n",
       "      <td>1</td>\n",
       "      <td>2.50</td>\n",
       "      <td>5.0</td>\n",
       "      <td>12.30</td>\n",
       "      <td>1</td>\n",
       "      <td>False</td>\n",
       "      <td>False</td>\n",
       "      <td>False</td>\n",
       "      <td>9.00</td>\n",
       "      <td>0</td>\n",
       "      <td>поселок Новый Учхоз</td>\n",
       "      <td>26757.0</td>\n",
       "      <td>NaN</td>\n",
       "      <td>NaN</td>\n",
       "      <td>NaN</td>\n",
       "      <td>NaN</td>\n",
       "      <td>NaN</td>\n",
       "      <td>NaN</td>\n",
       "    </tr>\n",
       "  </tbody>\n",
       "</table>\n",
       "<p>5501 rows × 22 columns</p>\n",
       "</div>"
      ],
      "text/plain": [
       "       total_images  last_price  total_area first_day_exposition  rooms  \\\n",
       "5                10    2.89e+06       30.40  2018-09-10T00:00:00      1   \n",
       "8                20    2.90e+06       33.16  2018-05-23T00:00:00      1   \n",
       "12               10    3.89e+06       54.00  2016-06-30T00:00:00      2   \n",
       "22               20    5.00e+06       58.00  2017-04-24T00:00:00      2   \n",
       "30               12    2.20e+06       32.80  2018-02-19T00:00:00      1   \n",
       "...             ...         ...         ...                  ...    ...   \n",
       "23683            16    2.10e+06       62.80  2018-09-18T00:00:00      4   \n",
       "23692             2    1.35e+06       30.00  2017-07-07T00:00:00      1   \n",
       "23695            14    3.10e+06       59.00  2018-01-15T00:00:00      3   \n",
       "23696            18    2.50e+06       56.70  2018-02-11T00:00:00      2   \n",
       "23698             4    1.35e+06       32.30  2017-07-21T00:00:00      1   \n",
       "\n",
       "       ceiling_height  floors_total  living_area  floor  is_apartment  studio  \\\n",
       "5                2.60          12.0        14.40      5         False   False   \n",
       "8                2.70          27.0        15.43     26         False   False   \n",
       "12               2.60           5.0        30.00      5         False   False   \n",
       "22               2.75          25.0        30.00     15         False   False   \n",
       "30               2.56           9.0        17.50      2         False   False   \n",
       "...               ...           ...          ...    ...           ...     ...   \n",
       "23683            2.50           5.0        45.50      3         False   False   \n",
       "23692            2.60           5.0        17.50      4         False   False   \n",
       "23695            2.50           5.0        38.00      4         False   False   \n",
       "23696            2.70           3.0        29.70      1         False   False   \n",
       "23698            2.50           5.0        12.30      1         False   False   \n",
       "\n",
       "       open_plan  kitchen_area  balcony              locality_name  \\\n",
       "5          False          9.10        0  городской посёлок Янино-1   \n",
       "8          False          8.81        0             посёлок Мурино   \n",
       "12         False          9.00        0                  Сертолово   \n",
       "22         False         11.00        2            деревня Кудрово   \n",
       "30         False          7.20        0                   Коммунар   \n",
       "...          ...           ...      ...                        ...   \n",
       "23683      False          5.50        0       посёлок Дзержинского   \n",
       "23692      False          6.00        0                     Тихвин   \n",
       "23695      False          8.50        0                      Тосно   \n",
       "23696      False          8.00        0           село Рождествено   \n",
       "23698      False          9.00        0        поселок Новый Учхоз   \n",
       "\n",
       "       airports_nearest  city_centers_nearest  parks_around_3000  \\\n",
       "5               26757.0                   NaN                NaN   \n",
       "8               26757.0                   NaN                NaN   \n",
       "12              26757.0                   NaN                NaN   \n",
       "22              26757.0                   NaN                NaN   \n",
       "30              26757.0                   NaN                NaN   \n",
       "...                 ...                   ...                ...   \n",
       "23683           26757.0                   NaN                NaN   \n",
       "23692           26757.0                   NaN                NaN   \n",
       "23695           26757.0                   NaN                NaN   \n",
       "23696           26757.0                   NaN                NaN   \n",
       "23698           26757.0                   NaN                NaN   \n",
       "\n",
       "       parks_nearest  ponds_around_3000  ponds_nearest  days_exposition  \n",
       "5                NaN                NaN            NaN             55.0  \n",
       "8                NaN                NaN            NaN            189.0  \n",
       "12               NaN                NaN            NaN             90.0  \n",
       "22               NaN                NaN            NaN             60.0  \n",
       "30               NaN                NaN            NaN             63.0  \n",
       "...              ...                ...            ...              ...  \n",
       "23683            NaN                NaN            NaN              NaN  \n",
       "23692            NaN                NaN            NaN            413.0  \n",
       "23695            NaN                NaN            NaN             45.0  \n",
       "23696            NaN                NaN            NaN              NaN  \n",
       "23698            NaN                NaN            NaN              NaN  \n",
       "\n",
       "[5501 rows x 22 columns]"
      ]
     },
     "execution_count": 58,
     "metadata": {},
     "output_type": "execute_result"
    }
   ],
   "source": [
    "data[data['city_centers_nearest'].isna()]"
   ]
  },
  {
   "cell_type": "code",
   "execution_count": 59,
   "metadata": {},
   "outputs": [
    {
     "data": {
      "text/plain": [
       "0        16028.0\n",
       "1        18603.0\n",
       "2        13933.0\n",
       "3         6800.0\n",
       "4         8098.0\n",
       "          ...   \n",
       "23694     4232.0\n",
       "23695        NaN\n",
       "23696        NaN\n",
       "23697    10364.0\n",
       "23698        NaN\n",
       "Name: city_centers_nearest, Length: 23565, dtype: float64"
      ]
     },
     "execution_count": 59,
     "metadata": {},
     "output_type": "execute_result"
    }
   ],
   "source": [
    "data['city_centers_nearest']"
   ]
  },
  {
   "cell_type": "code",
   "execution_count": 60,
   "metadata": {},
   "outputs": [],
   "source": [
    "data['city_centers_nearest'].fillna(data['city_centers_nearest'].median(), inplace=True)"
   ]
  },
  {
   "cell_type": "code",
   "execution_count": 61,
   "metadata": {},
   "outputs": [
    {
     "name": "stdout",
     "output_type": "stream",
     "text": [
      "Количество пропущенных значений: 0\n",
      "Процент пропущенных значений: 0.00%\n"
     ]
    }
   ],
   "source": [
    "missing_count = data['city_centers_nearest'].isna().sum()\n",
    "print(f\"Количество пропущенных значений: {missing_count}\")\n",
    "\n",
    "total_rows = len(data)\n",
    "missing_percentage = (missing_count / total_rows) * 100\n",
    "print(f\"Процент пропущенных значений: {missing_percentage:.2f}%\")"
   ]
  },
  {
   "cell_type": "markdown",
   "metadata": {},
   "source": [
    "#### Заполнение пропусков в столбце parks_around_3000"
   ]
  },
  {
   "cell_type": "code",
   "execution_count": 62,
   "metadata": {},
   "outputs": [
    {
     "name": "stdout",
     "output_type": "stream",
     "text": [
      "Количество пропущенных значений: 5500\n",
      "Процент пропущенных значений: 23.34%\n"
     ]
    }
   ],
   "source": [
    "missing_count = data['parks_around_3000'].isna().sum()\n",
    "print(f\"Количество пропущенных значений: {missing_count}\")\n",
    "\n",
    "total_rows = len(data)\n",
    "missing_percentage = (missing_count / total_rows) * 100\n",
    "print(f\"Процент пропущенных значений: {missing_percentage:.2f}%\")"
   ]
  },
  {
   "cell_type": "code",
   "execution_count": 63,
   "metadata": {},
   "outputs": [
    {
     "data": {
      "text/plain": [
       "0        1.0\n",
       "1        0.0\n",
       "2        1.0\n",
       "3        2.0\n",
       "4        2.0\n",
       "        ... \n",
       "23694    1.0\n",
       "23695    NaN\n",
       "23696    NaN\n",
       "23697    2.0\n",
       "23698    NaN\n",
       "Name: parks_around_3000, Length: 23565, dtype: float64"
      ]
     },
     "execution_count": 63,
     "metadata": {},
     "output_type": "execute_result"
    }
   ],
   "source": [
    "data['parks_around_3000']"
   ]
  },
  {
   "cell_type": "markdown",
   "metadata": {},
   "source": [
    "Заменим вещественный тип данных, используемый для хранения информации о расстоянии до парка, на целочисленный. Это имеет смысл, так как расстояние до парка обычно измеряется в целых единицах (метрах, километрах).\n",
    "Таким образом, мы избавляемся от противоречия и приводим данные к более логичному виду."
   ]
  },
  {
   "cell_type": "code",
   "execution_count": 64,
   "metadata": {},
   "outputs": [],
   "source": [
    "data['parks_around_3000'] = data['parks_around_3000'].fillna(0).astype(int)"
   ]
  },
  {
   "cell_type": "code",
   "execution_count": 65,
   "metadata": {},
   "outputs": [
    {
     "name": "stdout",
     "output_type": "stream",
     "text": [
      "Количество пропущенных значений: 0\n",
      "Процент пропущенных значений: 0.00%\n"
     ]
    }
   ],
   "source": [
    "missing_count = data['parks_around_3000'].isna().sum()\n",
    "print(f\"Количество пропущенных значений: {missing_count}\")\n",
    "\n",
    "total_rows = len(data)\n",
    "missing_percentage = (missing_count / total_rows) * 100\n",
    "print(f\"Процент пропущенных значений: {missing_percentage:.2f}%\")"
   ]
  },
  {
   "cell_type": "markdown",
   "metadata": {},
   "source": [
    "#### Заполнение пропусков в столбце parks_nearest"
   ]
  },
  {
   "cell_type": "code",
   "execution_count": 66,
   "metadata": {},
   "outputs": [
    {
     "name": "stdout",
     "output_type": "stream",
     "text": [
      "Количество пропущенных значений: 15535\n",
      "Процент пропущенных значений: 65.92%\n"
     ]
    }
   ],
   "source": [
    "missing_count = data['parks_nearest'].isna().sum()\n",
    "print(f\"Количество пропущенных значений: {missing_count}\")\n",
    "\n",
    "total_rows = len(data)\n",
    "missing_percentage = (missing_count / total_rows) * 100\n",
    "print(f\"Процент пропущенных значений: {missing_percentage:.2f}%\")"
   ]
  },
  {
   "cell_type": "code",
   "execution_count": 67,
   "metadata": {},
   "outputs": [
    {
     "data": {
      "text/html": [
       "<div>\n",
       "<style scoped>\n",
       "    .dataframe tbody tr th:only-of-type {\n",
       "        vertical-align: middle;\n",
       "    }\n",
       "\n",
       "    .dataframe tbody tr th {\n",
       "        vertical-align: top;\n",
       "    }\n",
       "\n",
       "    .dataframe thead th {\n",
       "        text-align: right;\n",
       "    }\n",
       "</style>\n",
       "<table border=\"1\" class=\"dataframe\">\n",
       "  <thead>\n",
       "    <tr style=\"text-align: right;\">\n",
       "      <th></th>\n",
       "      <th>total_images</th>\n",
       "      <th>last_price</th>\n",
       "      <th>total_area</th>\n",
       "      <th>first_day_exposition</th>\n",
       "      <th>rooms</th>\n",
       "      <th>ceiling_height</th>\n",
       "      <th>floors_total</th>\n",
       "      <th>living_area</th>\n",
       "      <th>floor</th>\n",
       "      <th>is_apartment</th>\n",
       "      <th>studio</th>\n",
       "      <th>open_plan</th>\n",
       "      <th>kitchen_area</th>\n",
       "      <th>balcony</th>\n",
       "      <th>locality_name</th>\n",
       "      <th>airports_nearest</th>\n",
       "      <th>city_centers_nearest</th>\n",
       "      <th>parks_around_3000</th>\n",
       "      <th>parks_nearest</th>\n",
       "      <th>ponds_around_3000</th>\n",
       "      <th>ponds_nearest</th>\n",
       "      <th>days_exposition</th>\n",
       "    </tr>\n",
       "  </thead>\n",
       "  <tbody>\n",
       "    <tr>\n",
       "      <th>1</th>\n",
       "      <td>7</td>\n",
       "      <td>3.35e+06</td>\n",
       "      <td>40.40</td>\n",
       "      <td>2018-12-04T00:00:00</td>\n",
       "      <td>1</td>\n",
       "      <td>2.62</td>\n",
       "      <td>11.0</td>\n",
       "      <td>18.60</td>\n",
       "      <td>1</td>\n",
       "      <td>False</td>\n",
       "      <td>False</td>\n",
       "      <td>False</td>\n",
       "      <td>11.00</td>\n",
       "      <td>2</td>\n",
       "      <td>посёлок Шушары</td>\n",
       "      <td>12817.0</td>\n",
       "      <td>18603.0</td>\n",
       "      <td>0</td>\n",
       "      <td>NaN</td>\n",
       "      <td>0.0</td>\n",
       "      <td>NaN</td>\n",
       "      <td>81.0</td>\n",
       "    </tr>\n",
       "    <tr>\n",
       "      <th>5</th>\n",
       "      <td>10</td>\n",
       "      <td>2.89e+06</td>\n",
       "      <td>30.40</td>\n",
       "      <td>2018-09-10T00:00:00</td>\n",
       "      <td>1</td>\n",
       "      <td>2.60</td>\n",
       "      <td>12.0</td>\n",
       "      <td>14.40</td>\n",
       "      <td>5</td>\n",
       "      <td>False</td>\n",
       "      <td>False</td>\n",
       "      <td>False</td>\n",
       "      <td>9.10</td>\n",
       "      <td>0</td>\n",
       "      <td>городской посёлок Янино-1</td>\n",
       "      <td>26757.0</td>\n",
       "      <td>13096.5</td>\n",
       "      <td>0</td>\n",
       "      <td>NaN</td>\n",
       "      <td>NaN</td>\n",
       "      <td>NaN</td>\n",
       "      <td>55.0</td>\n",
       "    </tr>\n",
       "    <tr>\n",
       "      <th>6</th>\n",
       "      <td>6</td>\n",
       "      <td>3.70e+06</td>\n",
       "      <td>37.30</td>\n",
       "      <td>2017-11-02T00:00:00</td>\n",
       "      <td>1</td>\n",
       "      <td>2.64</td>\n",
       "      <td>26.0</td>\n",
       "      <td>10.60</td>\n",
       "      <td>6</td>\n",
       "      <td>False</td>\n",
       "      <td>False</td>\n",
       "      <td>False</td>\n",
       "      <td>14.40</td>\n",
       "      <td>1</td>\n",
       "      <td>посёлок Парголово</td>\n",
       "      <td>52996.0</td>\n",
       "      <td>19143.0</td>\n",
       "      <td>0</td>\n",
       "      <td>NaN</td>\n",
       "      <td>0.0</td>\n",
       "      <td>NaN</td>\n",
       "      <td>155.0</td>\n",
       "    </tr>\n",
       "    <tr>\n",
       "      <th>7</th>\n",
       "      <td>5</td>\n",
       "      <td>7.92e+06</td>\n",
       "      <td>71.60</td>\n",
       "      <td>2019-04-18T00:00:00</td>\n",
       "      <td>2</td>\n",
       "      <td>2.70</td>\n",
       "      <td>24.0</td>\n",
       "      <td>44.30</td>\n",
       "      <td>22</td>\n",
       "      <td>False</td>\n",
       "      <td>False</td>\n",
       "      <td>False</td>\n",
       "      <td>18.90</td>\n",
       "      <td>2</td>\n",
       "      <td>Санкт-Петербург</td>\n",
       "      <td>23982.0</td>\n",
       "      <td>11634.0</td>\n",
       "      <td>0</td>\n",
       "      <td>NaN</td>\n",
       "      <td>0.0</td>\n",
       "      <td>NaN</td>\n",
       "      <td>NaN</td>\n",
       "    </tr>\n",
       "    <tr>\n",
       "      <th>8</th>\n",
       "      <td>20</td>\n",
       "      <td>2.90e+06</td>\n",
       "      <td>33.16</td>\n",
       "      <td>2018-05-23T00:00:00</td>\n",
       "      <td>1</td>\n",
       "      <td>2.70</td>\n",
       "      <td>27.0</td>\n",
       "      <td>15.43</td>\n",
       "      <td>26</td>\n",
       "      <td>False</td>\n",
       "      <td>False</td>\n",
       "      <td>False</td>\n",
       "      <td>8.81</td>\n",
       "      <td>0</td>\n",
       "      <td>посёлок Мурино</td>\n",
       "      <td>26757.0</td>\n",
       "      <td>13096.5</td>\n",
       "      <td>0</td>\n",
       "      <td>NaN</td>\n",
       "      <td>NaN</td>\n",
       "      <td>NaN</td>\n",
       "      <td>189.0</td>\n",
       "    </tr>\n",
       "    <tr>\n",
       "      <th>...</th>\n",
       "      <td>...</td>\n",
       "      <td>...</td>\n",
       "      <td>...</td>\n",
       "      <td>...</td>\n",
       "      <td>...</td>\n",
       "      <td>...</td>\n",
       "      <td>...</td>\n",
       "      <td>...</td>\n",
       "      <td>...</td>\n",
       "      <td>...</td>\n",
       "      <td>...</td>\n",
       "      <td>...</td>\n",
       "      <td>...</td>\n",
       "      <td>...</td>\n",
       "      <td>...</td>\n",
       "      <td>...</td>\n",
       "      <td>...</td>\n",
       "      <td>...</td>\n",
       "      <td>...</td>\n",
       "      <td>...</td>\n",
       "      <td>...</td>\n",
       "      <td>...</td>\n",
       "    </tr>\n",
       "    <tr>\n",
       "      <th>23691</th>\n",
       "      <td>11</td>\n",
       "      <td>9.47e+06</td>\n",
       "      <td>72.90</td>\n",
       "      <td>2016-10-13T00:00:00</td>\n",
       "      <td>2</td>\n",
       "      <td>2.75</td>\n",
       "      <td>25.0</td>\n",
       "      <td>40.30</td>\n",
       "      <td>7</td>\n",
       "      <td>False</td>\n",
       "      <td>False</td>\n",
       "      <td>False</td>\n",
       "      <td>10.60</td>\n",
       "      <td>1</td>\n",
       "      <td>Санкт-Петербург</td>\n",
       "      <td>19424.0</td>\n",
       "      <td>4489.0</td>\n",
       "      <td>0</td>\n",
       "      <td>NaN</td>\n",
       "      <td>1.0</td>\n",
       "      <td>806.0</td>\n",
       "      <td>519.0</td>\n",
       "    </tr>\n",
       "    <tr>\n",
       "      <th>23692</th>\n",
       "      <td>2</td>\n",
       "      <td>1.35e+06</td>\n",
       "      <td>30.00</td>\n",
       "      <td>2017-07-07T00:00:00</td>\n",
       "      <td>1</td>\n",
       "      <td>2.60</td>\n",
       "      <td>5.0</td>\n",
       "      <td>17.50</td>\n",
       "      <td>4</td>\n",
       "      <td>False</td>\n",
       "      <td>False</td>\n",
       "      <td>False</td>\n",
       "      <td>6.00</td>\n",
       "      <td>0</td>\n",
       "      <td>Тихвин</td>\n",
       "      <td>26757.0</td>\n",
       "      <td>13096.5</td>\n",
       "      <td>0</td>\n",
       "      <td>NaN</td>\n",
       "      <td>NaN</td>\n",
       "      <td>NaN</td>\n",
       "      <td>413.0</td>\n",
       "    </tr>\n",
       "    <tr>\n",
       "      <th>23695</th>\n",
       "      <td>14</td>\n",
       "      <td>3.10e+06</td>\n",
       "      <td>59.00</td>\n",
       "      <td>2018-01-15T00:00:00</td>\n",
       "      <td>3</td>\n",
       "      <td>2.50</td>\n",
       "      <td>5.0</td>\n",
       "      <td>38.00</td>\n",
       "      <td>4</td>\n",
       "      <td>False</td>\n",
       "      <td>False</td>\n",
       "      <td>False</td>\n",
       "      <td>8.50</td>\n",
       "      <td>0</td>\n",
       "      <td>Тосно</td>\n",
       "      <td>26757.0</td>\n",
       "      <td>13096.5</td>\n",
       "      <td>0</td>\n",
       "      <td>NaN</td>\n",
       "      <td>NaN</td>\n",
       "      <td>NaN</td>\n",
       "      <td>45.0</td>\n",
       "    </tr>\n",
       "    <tr>\n",
       "      <th>23696</th>\n",
       "      <td>18</td>\n",
       "      <td>2.50e+06</td>\n",
       "      <td>56.70</td>\n",
       "      <td>2018-02-11T00:00:00</td>\n",
       "      <td>2</td>\n",
       "      <td>2.70</td>\n",
       "      <td>3.0</td>\n",
       "      <td>29.70</td>\n",
       "      <td>1</td>\n",
       "      <td>False</td>\n",
       "      <td>False</td>\n",
       "      <td>False</td>\n",
       "      <td>8.00</td>\n",
       "      <td>0</td>\n",
       "      <td>село Рождествено</td>\n",
       "      <td>26757.0</td>\n",
       "      <td>13096.5</td>\n",
       "      <td>0</td>\n",
       "      <td>NaN</td>\n",
       "      <td>NaN</td>\n",
       "      <td>NaN</td>\n",
       "      <td>NaN</td>\n",
       "    </tr>\n",
       "    <tr>\n",
       "      <th>23698</th>\n",
       "      <td>4</td>\n",
       "      <td>1.35e+06</td>\n",
       "      <td>32.30</td>\n",
       "      <td>2017-07-21T00:00:00</td>\n",
       "      <td>1</td>\n",
       "      <td>2.50</td>\n",
       "      <td>5.0</td>\n",
       "      <td>12.30</td>\n",
       "      <td>1</td>\n",
       "      <td>False</td>\n",
       "      <td>False</td>\n",
       "      <td>False</td>\n",
       "      <td>9.00</td>\n",
       "      <td>0</td>\n",
       "      <td>поселок Новый Учхоз</td>\n",
       "      <td>26757.0</td>\n",
       "      <td>13096.5</td>\n",
       "      <td>0</td>\n",
       "      <td>NaN</td>\n",
       "      <td>NaN</td>\n",
       "      <td>NaN</td>\n",
       "      <td>NaN</td>\n",
       "    </tr>\n",
       "  </tbody>\n",
       "</table>\n",
       "<p>15535 rows × 22 columns</p>\n",
       "</div>"
      ],
      "text/plain": [
       "       total_images  last_price  total_area first_day_exposition  rooms  \\\n",
       "1                 7    3.35e+06       40.40  2018-12-04T00:00:00      1   \n",
       "5                10    2.89e+06       30.40  2018-09-10T00:00:00      1   \n",
       "6                 6    3.70e+06       37.30  2017-11-02T00:00:00      1   \n",
       "7                 5    7.92e+06       71.60  2019-04-18T00:00:00      2   \n",
       "8                20    2.90e+06       33.16  2018-05-23T00:00:00      1   \n",
       "...             ...         ...         ...                  ...    ...   \n",
       "23691            11    9.47e+06       72.90  2016-10-13T00:00:00      2   \n",
       "23692             2    1.35e+06       30.00  2017-07-07T00:00:00      1   \n",
       "23695            14    3.10e+06       59.00  2018-01-15T00:00:00      3   \n",
       "23696            18    2.50e+06       56.70  2018-02-11T00:00:00      2   \n",
       "23698             4    1.35e+06       32.30  2017-07-21T00:00:00      1   \n",
       "\n",
       "       ceiling_height  floors_total  living_area  floor  is_apartment  studio  \\\n",
       "1                2.62          11.0        18.60      1         False   False   \n",
       "5                2.60          12.0        14.40      5         False   False   \n",
       "6                2.64          26.0        10.60      6         False   False   \n",
       "7                2.70          24.0        44.30     22         False   False   \n",
       "8                2.70          27.0        15.43     26         False   False   \n",
       "...               ...           ...          ...    ...           ...     ...   \n",
       "23691            2.75          25.0        40.30      7         False   False   \n",
       "23692            2.60           5.0        17.50      4         False   False   \n",
       "23695            2.50           5.0        38.00      4         False   False   \n",
       "23696            2.70           3.0        29.70      1         False   False   \n",
       "23698            2.50           5.0        12.30      1         False   False   \n",
       "\n",
       "       open_plan  kitchen_area  balcony              locality_name  \\\n",
       "1          False         11.00        2             посёлок Шушары   \n",
       "5          False          9.10        0  городской посёлок Янино-1   \n",
       "6          False         14.40        1          посёлок Парголово   \n",
       "7          False         18.90        2            Санкт-Петербург   \n",
       "8          False          8.81        0             посёлок Мурино   \n",
       "...          ...           ...      ...                        ...   \n",
       "23691      False         10.60        1            Санкт-Петербург   \n",
       "23692      False          6.00        0                     Тихвин   \n",
       "23695      False          8.50        0                      Тосно   \n",
       "23696      False          8.00        0           село Рождествено   \n",
       "23698      False          9.00        0        поселок Новый Учхоз   \n",
       "\n",
       "       airports_nearest  city_centers_nearest  parks_around_3000  \\\n",
       "1               12817.0               18603.0                  0   \n",
       "5               26757.0               13096.5                  0   \n",
       "6               52996.0               19143.0                  0   \n",
       "7               23982.0               11634.0                  0   \n",
       "8               26757.0               13096.5                  0   \n",
       "...                 ...                   ...                ...   \n",
       "23691           19424.0                4489.0                  0   \n",
       "23692           26757.0               13096.5                  0   \n",
       "23695           26757.0               13096.5                  0   \n",
       "23696           26757.0               13096.5                  0   \n",
       "23698           26757.0               13096.5                  0   \n",
       "\n",
       "       parks_nearest  ponds_around_3000  ponds_nearest  days_exposition  \n",
       "1                NaN                0.0            NaN             81.0  \n",
       "5                NaN                NaN            NaN             55.0  \n",
       "6                NaN                0.0            NaN            155.0  \n",
       "7                NaN                0.0            NaN              NaN  \n",
       "8                NaN                NaN            NaN            189.0  \n",
       "...              ...                ...            ...              ...  \n",
       "23691            NaN                1.0          806.0            519.0  \n",
       "23692            NaN                NaN            NaN            413.0  \n",
       "23695            NaN                NaN            NaN             45.0  \n",
       "23696            NaN                NaN            NaN              NaN  \n",
       "23698            NaN                NaN            NaN              NaN  \n",
       "\n",
       "[15535 rows x 22 columns]"
      ]
     },
     "execution_count": 67,
     "metadata": {},
     "output_type": "execute_result"
    }
   ],
   "source": [
    "data[data['parks_nearest'].isna()]"
   ]
  },
  {
   "cell_type": "code",
   "execution_count": 68,
   "metadata": {},
   "outputs": [
    {
     "data": {
      "text/plain": [
       "0        482.0\n",
       "1          NaN\n",
       "2         90.0\n",
       "3         84.0\n",
       "4        112.0\n",
       "         ...  \n",
       "23694    796.0\n",
       "23695      NaN\n",
       "23696      NaN\n",
       "23697    173.0\n",
       "23698      NaN\n",
       "Name: parks_nearest, Length: 23565, dtype: float64"
      ]
     },
     "execution_count": 68,
     "metadata": {},
     "output_type": "execute_result"
    }
   ],
   "source": [
    "data['parks_nearest']"
   ]
  },
  {
   "cell_type": "code",
   "execution_count": 69,
   "metadata": {},
   "outputs": [],
   "source": [
    "data['parks_nearest'].fillna(data['parks_nearest'].median(), inplace=True)"
   ]
  },
  {
   "cell_type": "code",
   "execution_count": 70,
   "metadata": {},
   "outputs": [
    {
     "name": "stdout",
     "output_type": "stream",
     "text": [
      "Количество пропущенных значений: 0\n",
      "Процент пропущенных значений: 0.00%\n"
     ]
    }
   ],
   "source": [
    "missing_count = data['parks_nearest'].isna().sum()\n",
    "print(f\"Количество пропущенных значений: {missing_count}\")\n",
    "\n",
    "total_rows = len(data)\n",
    "missing_percentage = (missing_count / total_rows) * 100\n",
    "print(f\"Процент пропущенных значений: {missing_percentage:.2f}%\")"
   ]
  },
  {
   "cell_type": "markdown",
   "metadata": {},
   "source": [
    "#### Заполнение пропусков в столбце ponds_around_3000"
   ]
  },
  {
   "cell_type": "code",
   "execution_count": 71,
   "metadata": {},
   "outputs": [
    {
     "name": "stdout",
     "output_type": "stream",
     "text": [
      "Количество пропущенных значений: 5500\n",
      "Процент пропущенных значений: 23.34%\n"
     ]
    }
   ],
   "source": [
    "missing_count = data['ponds_around_3000'].isna().sum()\n",
    "print(f\"Количество пропущенных значений: {missing_count}\")\n",
    "\n",
    "total_rows = len(data)\n",
    "missing_percentage = (missing_count / total_rows) * 100\n",
    "print(f\"Процент пропущенных значений: {missing_percentage:.2f}%\")"
   ]
  },
  {
   "cell_type": "code",
   "execution_count": 72,
   "metadata": {},
   "outputs": [
    {
     "data": {
      "text/plain": [
       "0        2.0\n",
       "1        0.0\n",
       "2        2.0\n",
       "3        3.0\n",
       "4        1.0\n",
       "        ... \n",
       "23694    3.0\n",
       "23695    NaN\n",
       "23696    NaN\n",
       "23697    3.0\n",
       "23698    NaN\n",
       "Name: ponds_around_3000, Length: 23565, dtype: float64"
      ]
     },
     "execution_count": 72,
     "metadata": {},
     "output_type": "execute_result"
    }
   ],
   "source": [
    "data['ponds_around_3000']"
   ]
  },
  {
   "cell_type": "markdown",
   "metadata": {},
   "source": [
    "Заменим вещественный тип данных на целочисленный."
   ]
  },
  {
   "cell_type": "code",
   "execution_count": 73,
   "metadata": {},
   "outputs": [],
   "source": [
    "data['ponds_around_3000'] = data['ponds_around_3000'].fillna(0).astype(int)"
   ]
  },
  {
   "cell_type": "code",
   "execution_count": 74,
   "metadata": {},
   "outputs": [
    {
     "name": "stdout",
     "output_type": "stream",
     "text": [
      "Количество пропущенных значений: 0\n",
      "Процент пропущенных значений: 0.00%\n"
     ]
    }
   ],
   "source": [
    "missing_count = data['ponds_around_3000'].isna().sum()\n",
    "print(f\"Количество пропущенных значений: {missing_count}\")\n",
    "\n",
    "total_rows = len(data)\n",
    "missing_percentage = (missing_count / total_rows) * 100\n",
    "print(f\"Процент пропущенных значений: {missing_percentage:.2f}%\")"
   ]
  },
  {
   "cell_type": "markdown",
   "metadata": {},
   "source": [
    "#### Заполнение пропусков в столбце ponds_nearest"
   ]
  },
  {
   "cell_type": "code",
   "execution_count": 75,
   "metadata": {},
   "outputs": [
    {
     "name": "stdout",
     "output_type": "stream",
     "text": [
      "Количество пропущенных значений: 14529\n",
      "Процент пропущенных значений: 61.65%\n"
     ]
    }
   ],
   "source": [
    "missing_count = data['ponds_nearest'].isna().sum()\n",
    "print(f\"Количество пропущенных значений: {missing_count}\")\n",
    "\n",
    "total_rows = len(data)\n",
    "missing_percentage = (missing_count / total_rows) * 100\n",
    "print(f\"Процент пропущенных значений: {missing_percentage:.2f}%\")"
   ]
  },
  {
   "cell_type": "code",
   "execution_count": 76,
   "metadata": {},
   "outputs": [
    {
     "data": {
      "text/plain": [
       "0        755.0\n",
       "1          NaN\n",
       "2        574.0\n",
       "3        234.0\n",
       "4         48.0\n",
       "         ...  \n",
       "23694    381.0\n",
       "23695      NaN\n",
       "23696      NaN\n",
       "23697    196.0\n",
       "23698      NaN\n",
       "Name: ponds_nearest, Length: 23565, dtype: float64"
      ]
     },
     "execution_count": 76,
     "metadata": {},
     "output_type": "execute_result"
    }
   ],
   "source": [
    "data['ponds_nearest']"
   ]
  },
  {
   "cell_type": "code",
   "execution_count": 77,
   "metadata": {},
   "outputs": [
    {
     "data": {
      "text/html": [
       "<div>\n",
       "<style scoped>\n",
       "    .dataframe tbody tr th:only-of-type {\n",
       "        vertical-align: middle;\n",
       "    }\n",
       "\n",
       "    .dataframe tbody tr th {\n",
       "        vertical-align: top;\n",
       "    }\n",
       "\n",
       "    .dataframe thead th {\n",
       "        text-align: right;\n",
       "    }\n",
       "</style>\n",
       "<table border=\"1\" class=\"dataframe\">\n",
       "  <thead>\n",
       "    <tr style=\"text-align: right;\">\n",
       "      <th></th>\n",
       "      <th>total_images</th>\n",
       "      <th>last_price</th>\n",
       "      <th>total_area</th>\n",
       "      <th>first_day_exposition</th>\n",
       "      <th>rooms</th>\n",
       "      <th>ceiling_height</th>\n",
       "      <th>floors_total</th>\n",
       "      <th>living_area</th>\n",
       "      <th>floor</th>\n",
       "      <th>is_apartment</th>\n",
       "      <th>studio</th>\n",
       "      <th>open_plan</th>\n",
       "      <th>kitchen_area</th>\n",
       "      <th>balcony</th>\n",
       "      <th>locality_name</th>\n",
       "      <th>airports_nearest</th>\n",
       "      <th>city_centers_nearest</th>\n",
       "      <th>parks_around_3000</th>\n",
       "      <th>parks_nearest</th>\n",
       "      <th>ponds_around_3000</th>\n",
       "      <th>ponds_nearest</th>\n",
       "      <th>days_exposition</th>\n",
       "    </tr>\n",
       "  </thead>\n",
       "  <tbody>\n",
       "    <tr>\n",
       "      <th>1</th>\n",
       "      <td>7</td>\n",
       "      <td>3.35e+06</td>\n",
       "      <td>40.40</td>\n",
       "      <td>2018-12-04T00:00:00</td>\n",
       "      <td>1</td>\n",
       "      <td>2.62</td>\n",
       "      <td>11.0</td>\n",
       "      <td>18.60</td>\n",
       "      <td>1</td>\n",
       "      <td>False</td>\n",
       "      <td>False</td>\n",
       "      <td>False</td>\n",
       "      <td>11.00</td>\n",
       "      <td>2</td>\n",
       "      <td>посёлок Шушары</td>\n",
       "      <td>12817.0</td>\n",
       "      <td>18603.0</td>\n",
       "      <td>0</td>\n",
       "      <td>455.0</td>\n",
       "      <td>0</td>\n",
       "      <td>NaN</td>\n",
       "      <td>81.0</td>\n",
       "    </tr>\n",
       "    <tr>\n",
       "      <th>5</th>\n",
       "      <td>10</td>\n",
       "      <td>2.89e+06</td>\n",
       "      <td>30.40</td>\n",
       "      <td>2018-09-10T00:00:00</td>\n",
       "      <td>1</td>\n",
       "      <td>2.60</td>\n",
       "      <td>12.0</td>\n",
       "      <td>14.40</td>\n",
       "      <td>5</td>\n",
       "      <td>False</td>\n",
       "      <td>False</td>\n",
       "      <td>False</td>\n",
       "      <td>9.10</td>\n",
       "      <td>0</td>\n",
       "      <td>городской посёлок Янино-1</td>\n",
       "      <td>26757.0</td>\n",
       "      <td>13096.5</td>\n",
       "      <td>0</td>\n",
       "      <td>455.0</td>\n",
       "      <td>0</td>\n",
       "      <td>NaN</td>\n",
       "      <td>55.0</td>\n",
       "    </tr>\n",
       "    <tr>\n",
       "      <th>6</th>\n",
       "      <td>6</td>\n",
       "      <td>3.70e+06</td>\n",
       "      <td>37.30</td>\n",
       "      <td>2017-11-02T00:00:00</td>\n",
       "      <td>1</td>\n",
       "      <td>2.64</td>\n",
       "      <td>26.0</td>\n",
       "      <td>10.60</td>\n",
       "      <td>6</td>\n",
       "      <td>False</td>\n",
       "      <td>False</td>\n",
       "      <td>False</td>\n",
       "      <td>14.40</td>\n",
       "      <td>1</td>\n",
       "      <td>посёлок Парголово</td>\n",
       "      <td>52996.0</td>\n",
       "      <td>19143.0</td>\n",
       "      <td>0</td>\n",
       "      <td>455.0</td>\n",
       "      <td>0</td>\n",
       "      <td>NaN</td>\n",
       "      <td>155.0</td>\n",
       "    </tr>\n",
       "    <tr>\n",
       "      <th>7</th>\n",
       "      <td>5</td>\n",
       "      <td>7.92e+06</td>\n",
       "      <td>71.60</td>\n",
       "      <td>2019-04-18T00:00:00</td>\n",
       "      <td>2</td>\n",
       "      <td>2.70</td>\n",
       "      <td>24.0</td>\n",
       "      <td>44.30</td>\n",
       "      <td>22</td>\n",
       "      <td>False</td>\n",
       "      <td>False</td>\n",
       "      <td>False</td>\n",
       "      <td>18.90</td>\n",
       "      <td>2</td>\n",
       "      <td>Санкт-Петербург</td>\n",
       "      <td>23982.0</td>\n",
       "      <td>11634.0</td>\n",
       "      <td>0</td>\n",
       "      <td>455.0</td>\n",
       "      <td>0</td>\n",
       "      <td>NaN</td>\n",
       "      <td>NaN</td>\n",
       "    </tr>\n",
       "    <tr>\n",
       "      <th>8</th>\n",
       "      <td>20</td>\n",
       "      <td>2.90e+06</td>\n",
       "      <td>33.16</td>\n",
       "      <td>2018-05-23T00:00:00</td>\n",
       "      <td>1</td>\n",
       "      <td>2.70</td>\n",
       "      <td>27.0</td>\n",
       "      <td>15.43</td>\n",
       "      <td>26</td>\n",
       "      <td>False</td>\n",
       "      <td>False</td>\n",
       "      <td>False</td>\n",
       "      <td>8.81</td>\n",
       "      <td>0</td>\n",
       "      <td>посёлок Мурино</td>\n",
       "      <td>26757.0</td>\n",
       "      <td>13096.5</td>\n",
       "      <td>0</td>\n",
       "      <td>455.0</td>\n",
       "      <td>0</td>\n",
       "      <td>NaN</td>\n",
       "      <td>189.0</td>\n",
       "    </tr>\n",
       "    <tr>\n",
       "      <th>...</th>\n",
       "      <td>...</td>\n",
       "      <td>...</td>\n",
       "      <td>...</td>\n",
       "      <td>...</td>\n",
       "      <td>...</td>\n",
       "      <td>...</td>\n",
       "      <td>...</td>\n",
       "      <td>...</td>\n",
       "      <td>...</td>\n",
       "      <td>...</td>\n",
       "      <td>...</td>\n",
       "      <td>...</td>\n",
       "      <td>...</td>\n",
       "      <td>...</td>\n",
       "      <td>...</td>\n",
       "      <td>...</td>\n",
       "      <td>...</td>\n",
       "      <td>...</td>\n",
       "      <td>...</td>\n",
       "      <td>...</td>\n",
       "      <td>...</td>\n",
       "      <td>...</td>\n",
       "    </tr>\n",
       "    <tr>\n",
       "      <th>23690</th>\n",
       "      <td>3</td>\n",
       "      <td>5.50e+06</td>\n",
       "      <td>52.00</td>\n",
       "      <td>2018-07-19T00:00:00</td>\n",
       "      <td>2</td>\n",
       "      <td>2.70</td>\n",
       "      <td>5.0</td>\n",
       "      <td>31.00</td>\n",
       "      <td>2</td>\n",
       "      <td>False</td>\n",
       "      <td>False</td>\n",
       "      <td>False</td>\n",
       "      <td>6.00</td>\n",
       "      <td>0</td>\n",
       "      <td>Санкт-Петербург</td>\n",
       "      <td>20151.0</td>\n",
       "      <td>6263.0</td>\n",
       "      <td>1</td>\n",
       "      <td>300.0</td>\n",
       "      <td>0</td>\n",
       "      <td>NaN</td>\n",
       "      <td>15.0</td>\n",
       "    </tr>\n",
       "    <tr>\n",
       "      <th>23692</th>\n",
       "      <td>2</td>\n",
       "      <td>1.35e+06</td>\n",
       "      <td>30.00</td>\n",
       "      <td>2017-07-07T00:00:00</td>\n",
       "      <td>1</td>\n",
       "      <td>2.60</td>\n",
       "      <td>5.0</td>\n",
       "      <td>17.50</td>\n",
       "      <td>4</td>\n",
       "      <td>False</td>\n",
       "      <td>False</td>\n",
       "      <td>False</td>\n",
       "      <td>6.00</td>\n",
       "      <td>0</td>\n",
       "      <td>Тихвин</td>\n",
       "      <td>26757.0</td>\n",
       "      <td>13096.5</td>\n",
       "      <td>0</td>\n",
       "      <td>455.0</td>\n",
       "      <td>0</td>\n",
       "      <td>NaN</td>\n",
       "      <td>413.0</td>\n",
       "    </tr>\n",
       "    <tr>\n",
       "      <th>23695</th>\n",
       "      <td>14</td>\n",
       "      <td>3.10e+06</td>\n",
       "      <td>59.00</td>\n",
       "      <td>2018-01-15T00:00:00</td>\n",
       "      <td>3</td>\n",
       "      <td>2.50</td>\n",
       "      <td>5.0</td>\n",
       "      <td>38.00</td>\n",
       "      <td>4</td>\n",
       "      <td>False</td>\n",
       "      <td>False</td>\n",
       "      <td>False</td>\n",
       "      <td>8.50</td>\n",
       "      <td>0</td>\n",
       "      <td>Тосно</td>\n",
       "      <td>26757.0</td>\n",
       "      <td>13096.5</td>\n",
       "      <td>0</td>\n",
       "      <td>455.0</td>\n",
       "      <td>0</td>\n",
       "      <td>NaN</td>\n",
       "      <td>45.0</td>\n",
       "    </tr>\n",
       "    <tr>\n",
       "      <th>23696</th>\n",
       "      <td>18</td>\n",
       "      <td>2.50e+06</td>\n",
       "      <td>56.70</td>\n",
       "      <td>2018-02-11T00:00:00</td>\n",
       "      <td>2</td>\n",
       "      <td>2.70</td>\n",
       "      <td>3.0</td>\n",
       "      <td>29.70</td>\n",
       "      <td>1</td>\n",
       "      <td>False</td>\n",
       "      <td>False</td>\n",
       "      <td>False</td>\n",
       "      <td>8.00</td>\n",
       "      <td>0</td>\n",
       "      <td>село Рождествено</td>\n",
       "      <td>26757.0</td>\n",
       "      <td>13096.5</td>\n",
       "      <td>0</td>\n",
       "      <td>455.0</td>\n",
       "      <td>0</td>\n",
       "      <td>NaN</td>\n",
       "      <td>NaN</td>\n",
       "    </tr>\n",
       "    <tr>\n",
       "      <th>23698</th>\n",
       "      <td>4</td>\n",
       "      <td>1.35e+06</td>\n",
       "      <td>32.30</td>\n",
       "      <td>2017-07-21T00:00:00</td>\n",
       "      <td>1</td>\n",
       "      <td>2.50</td>\n",
       "      <td>5.0</td>\n",
       "      <td>12.30</td>\n",
       "      <td>1</td>\n",
       "      <td>False</td>\n",
       "      <td>False</td>\n",
       "      <td>False</td>\n",
       "      <td>9.00</td>\n",
       "      <td>0</td>\n",
       "      <td>поселок Новый Учхоз</td>\n",
       "      <td>26757.0</td>\n",
       "      <td>13096.5</td>\n",
       "      <td>0</td>\n",
       "      <td>455.0</td>\n",
       "      <td>0</td>\n",
       "      <td>NaN</td>\n",
       "      <td>NaN</td>\n",
       "    </tr>\n",
       "  </tbody>\n",
       "</table>\n",
       "<p>14529 rows × 22 columns</p>\n",
       "</div>"
      ],
      "text/plain": [
       "       total_images  last_price  total_area first_day_exposition  rooms  \\\n",
       "1                 7    3.35e+06       40.40  2018-12-04T00:00:00      1   \n",
       "5                10    2.89e+06       30.40  2018-09-10T00:00:00      1   \n",
       "6                 6    3.70e+06       37.30  2017-11-02T00:00:00      1   \n",
       "7                 5    7.92e+06       71.60  2019-04-18T00:00:00      2   \n",
       "8                20    2.90e+06       33.16  2018-05-23T00:00:00      1   \n",
       "...             ...         ...         ...                  ...    ...   \n",
       "23690             3    5.50e+06       52.00  2018-07-19T00:00:00      2   \n",
       "23692             2    1.35e+06       30.00  2017-07-07T00:00:00      1   \n",
       "23695            14    3.10e+06       59.00  2018-01-15T00:00:00      3   \n",
       "23696            18    2.50e+06       56.70  2018-02-11T00:00:00      2   \n",
       "23698             4    1.35e+06       32.30  2017-07-21T00:00:00      1   \n",
       "\n",
       "       ceiling_height  floors_total  living_area  floor  is_apartment  studio  \\\n",
       "1                2.62          11.0        18.60      1         False   False   \n",
       "5                2.60          12.0        14.40      5         False   False   \n",
       "6                2.64          26.0        10.60      6         False   False   \n",
       "7                2.70          24.0        44.30     22         False   False   \n",
       "8                2.70          27.0        15.43     26         False   False   \n",
       "...               ...           ...          ...    ...           ...     ...   \n",
       "23690            2.70           5.0        31.00      2         False   False   \n",
       "23692            2.60           5.0        17.50      4         False   False   \n",
       "23695            2.50           5.0        38.00      4         False   False   \n",
       "23696            2.70           3.0        29.70      1         False   False   \n",
       "23698            2.50           5.0        12.30      1         False   False   \n",
       "\n",
       "       open_plan  kitchen_area  balcony              locality_name  \\\n",
       "1          False         11.00        2             посёлок Шушары   \n",
       "5          False          9.10        0  городской посёлок Янино-1   \n",
       "6          False         14.40        1          посёлок Парголово   \n",
       "7          False         18.90        2            Санкт-Петербург   \n",
       "8          False          8.81        0             посёлок Мурино   \n",
       "...          ...           ...      ...                        ...   \n",
       "23690      False          6.00        0            Санкт-Петербург   \n",
       "23692      False          6.00        0                     Тихвин   \n",
       "23695      False          8.50        0                      Тосно   \n",
       "23696      False          8.00        0           село Рождествено   \n",
       "23698      False          9.00        0        поселок Новый Учхоз   \n",
       "\n",
       "       airports_nearest  city_centers_nearest  parks_around_3000  \\\n",
       "1               12817.0               18603.0                  0   \n",
       "5               26757.0               13096.5                  0   \n",
       "6               52996.0               19143.0                  0   \n",
       "7               23982.0               11634.0                  0   \n",
       "8               26757.0               13096.5                  0   \n",
       "...                 ...                   ...                ...   \n",
       "23690           20151.0                6263.0                  1   \n",
       "23692           26757.0               13096.5                  0   \n",
       "23695           26757.0               13096.5                  0   \n",
       "23696           26757.0               13096.5                  0   \n",
       "23698           26757.0               13096.5                  0   \n",
       "\n",
       "       parks_nearest  ponds_around_3000  ponds_nearest  days_exposition  \n",
       "1              455.0                  0            NaN             81.0  \n",
       "5              455.0                  0            NaN             55.0  \n",
       "6              455.0                  0            NaN            155.0  \n",
       "7              455.0                  0            NaN              NaN  \n",
       "8              455.0                  0            NaN            189.0  \n",
       "...              ...                ...            ...              ...  \n",
       "23690          300.0                  0            NaN             15.0  \n",
       "23692          455.0                  0            NaN            413.0  \n",
       "23695          455.0                  0            NaN             45.0  \n",
       "23696          455.0                  0            NaN              NaN  \n",
       "23698          455.0                  0            NaN              NaN  \n",
       "\n",
       "[14529 rows x 22 columns]"
      ]
     },
     "execution_count": 77,
     "metadata": {},
     "output_type": "execute_result"
    }
   ],
   "source": [
    "data[data['ponds_nearest'].isna()]"
   ]
  },
  {
   "cell_type": "code",
   "execution_count": 78,
   "metadata": {},
   "outputs": [],
   "source": [
    "data['ponds_nearest'] = data['ponds_nearest'].fillna(data.groupby('locality_name')['ponds_nearest'].transform('median'))"
   ]
  },
  {
   "cell_type": "code",
   "execution_count": 79,
   "metadata": {},
   "outputs": [
    {
     "name": "stdout",
     "output_type": "stream",
     "text": [
      "Количество пропущенных значений: 5517\n",
      "Процент пропущенных значений: 23.41%\n"
     ]
    }
   ],
   "source": [
    "missing_count = data['ponds_nearest'].isna().sum()\n",
    "print(f\"Количество пропущенных значений: {missing_count}\")\n",
    "\n",
    "total_rows = len(data)\n",
    "missing_percentage = (missing_count / total_rows) * 100\n",
    "print(f\"Процент пропущенных значений: {missing_percentage:.2f}%\")"
   ]
  },
  {
   "cell_type": "markdown",
   "metadata": {},
   "source": [
    "Оставшиеся пустые значения меняем на медианное значение расчитанное по всей базе данных."
   ]
  },
  {
   "cell_type": "code",
   "execution_count": 80,
   "metadata": {},
   "outputs": [],
   "source": [
    "data['ponds_nearest'].fillna(data['ponds_nearest'].median(), inplace=True)"
   ]
  },
  {
   "cell_type": "code",
   "execution_count": 81,
   "metadata": {},
   "outputs": [
    {
     "data": {
      "text/plain": [
       "0        755.0\n",
       "1        584.5\n",
       "2        574.0\n",
       "3        234.0\n",
       "4         48.0\n",
       "         ...  \n",
       "23694    381.0\n",
       "23695    504.0\n",
       "23696    504.0\n",
       "23697    196.0\n",
       "23698    504.0\n",
       "Name: ponds_nearest, Length: 23565, dtype: float64"
      ]
     },
     "execution_count": 81,
     "metadata": {},
     "output_type": "execute_result"
    }
   ],
   "source": [
    "data['ponds_nearest']"
   ]
  },
  {
   "cell_type": "code",
   "execution_count": 82,
   "metadata": {},
   "outputs": [
    {
     "name": "stdout",
     "output_type": "stream",
     "text": [
      "Количество пропущенных значений: 0\n",
      "Процент пропущенных значений: 0.00%\n"
     ]
    }
   ],
   "source": [
    "missing_count = data['ponds_nearest'].isna().sum()\n",
    "print(f\"Количество пропущенных значений: {missing_count}\")\n",
    "\n",
    "total_rows = len(data)\n",
    "missing_percentage = (missing_count / total_rows) * 100\n",
    "print(f\"Процент пропущенных значений: {missing_percentage:.2f}%\")"
   ]
  },
  {
   "cell_type": "markdown",
   "metadata": {},
   "source": [
    "#### Заполнение пропусков в столбце days_exposition"
   ]
  },
  {
   "cell_type": "code",
   "execution_count": 83,
   "metadata": {},
   "outputs": [
    {
     "name": "stdout",
     "output_type": "stream",
     "text": [
      "Количество пропущенных значений: 3171\n",
      "Процент пропущенных значений: 13.46%\n"
     ]
    }
   ],
   "source": [
    "missing_count = data['days_exposition'].isna().sum()\n",
    "print(f\"Количество пропущенных значений: {missing_count}\")\n",
    "\n",
    "total_rows = len(data)\n",
    "missing_percentage = (missing_count / total_rows) * 100\n",
    "print(f\"Процент пропущенных значений: {missing_percentage:.2f}%\")"
   ]
  },
  {
   "cell_type": "code",
   "execution_count": 84,
   "metadata": {},
   "outputs": [
    {
     "data": {
      "text/plain": [
       "0          NaN\n",
       "1         81.0\n",
       "2        558.0\n",
       "3        424.0\n",
       "4        121.0\n",
       "         ...  \n",
       "23694      NaN\n",
       "23695     45.0\n",
       "23696      NaN\n",
       "23697    602.0\n",
       "23698      NaN\n",
       "Name: days_exposition, Length: 23565, dtype: float64"
      ]
     },
     "execution_count": 84,
     "metadata": {},
     "output_type": "execute_result"
    }
   ],
   "source": [
    "data['days_exposition']"
   ]
  },
  {
   "cell_type": "code",
   "execution_count": 85,
   "metadata": {},
   "outputs": [
    {
     "data": {
      "text/html": [
       "<div>\n",
       "<style scoped>\n",
       "    .dataframe tbody tr th:only-of-type {\n",
       "        vertical-align: middle;\n",
       "    }\n",
       "\n",
       "    .dataframe tbody tr th {\n",
       "        vertical-align: top;\n",
       "    }\n",
       "\n",
       "    .dataframe thead th {\n",
       "        text-align: right;\n",
       "    }\n",
       "</style>\n",
       "<table border=\"1\" class=\"dataframe\">\n",
       "  <thead>\n",
       "    <tr style=\"text-align: right;\">\n",
       "      <th></th>\n",
       "      <th>total_images</th>\n",
       "      <th>last_price</th>\n",
       "      <th>total_area</th>\n",
       "      <th>first_day_exposition</th>\n",
       "      <th>rooms</th>\n",
       "      <th>ceiling_height</th>\n",
       "      <th>floors_total</th>\n",
       "      <th>living_area</th>\n",
       "      <th>floor</th>\n",
       "      <th>is_apartment</th>\n",
       "      <th>studio</th>\n",
       "      <th>open_plan</th>\n",
       "      <th>kitchen_area</th>\n",
       "      <th>balcony</th>\n",
       "      <th>locality_name</th>\n",
       "      <th>airports_nearest</th>\n",
       "      <th>city_centers_nearest</th>\n",
       "      <th>parks_around_3000</th>\n",
       "      <th>parks_nearest</th>\n",
       "      <th>ponds_around_3000</th>\n",
       "      <th>ponds_nearest</th>\n",
       "      <th>days_exposition</th>\n",
       "    </tr>\n",
       "  </thead>\n",
       "  <tbody>\n",
       "    <tr>\n",
       "      <th>0</th>\n",
       "      <td>20</td>\n",
       "      <td>1.30e+07</td>\n",
       "      <td>108.00</td>\n",
       "      <td>2019-03-07T00:00:00</td>\n",
       "      <td>3</td>\n",
       "      <td>2.70</td>\n",
       "      <td>16.0</td>\n",
       "      <td>51.0</td>\n",
       "      <td>8</td>\n",
       "      <td>False</td>\n",
       "      <td>False</td>\n",
       "      <td>False</td>\n",
       "      <td>25.00</td>\n",
       "      <td>0</td>\n",
       "      <td>Санкт-Петербург</td>\n",
       "      <td>18863.0</td>\n",
       "      <td>16028.0</td>\n",
       "      <td>1</td>\n",
       "      <td>482.0</td>\n",
       "      <td>2</td>\n",
       "      <td>755.0</td>\n",
       "      <td>NaN</td>\n",
       "    </tr>\n",
       "    <tr>\n",
       "      <th>7</th>\n",
       "      <td>5</td>\n",
       "      <td>7.92e+06</td>\n",
       "      <td>71.60</td>\n",
       "      <td>2019-04-18T00:00:00</td>\n",
       "      <td>2</td>\n",
       "      <td>2.70</td>\n",
       "      <td>24.0</td>\n",
       "      <td>44.3</td>\n",
       "      <td>22</td>\n",
       "      <td>False</td>\n",
       "      <td>False</td>\n",
       "      <td>False</td>\n",
       "      <td>18.90</td>\n",
       "      <td>2</td>\n",
       "      <td>Санкт-Петербург</td>\n",
       "      <td>23982.0</td>\n",
       "      <td>11634.0</td>\n",
       "      <td>0</td>\n",
       "      <td>455.0</td>\n",
       "      <td>0</td>\n",
       "      <td>504.0</td>\n",
       "      <td>NaN</td>\n",
       "    </tr>\n",
       "    <tr>\n",
       "      <th>44</th>\n",
       "      <td>13</td>\n",
       "      <td>5.35e+06</td>\n",
       "      <td>40.00</td>\n",
       "      <td>2018-11-18T00:00:00</td>\n",
       "      <td>1</td>\n",
       "      <td>2.70</td>\n",
       "      <td>22.0</td>\n",
       "      <td>18.0</td>\n",
       "      <td>3</td>\n",
       "      <td>False</td>\n",
       "      <td>False</td>\n",
       "      <td>False</td>\n",
       "      <td>10.00</td>\n",
       "      <td>1</td>\n",
       "      <td>Санкт-Петербург</td>\n",
       "      <td>30471.0</td>\n",
       "      <td>11603.0</td>\n",
       "      <td>1</td>\n",
       "      <td>620.0</td>\n",
       "      <td>1</td>\n",
       "      <td>1152.0</td>\n",
       "      <td>NaN</td>\n",
       "    </tr>\n",
       "    <tr>\n",
       "      <th>45</th>\n",
       "      <td>17</td>\n",
       "      <td>5.20e+06</td>\n",
       "      <td>50.60</td>\n",
       "      <td>2018-12-02T00:00:00</td>\n",
       "      <td>2</td>\n",
       "      <td>2.65</td>\n",
       "      <td>9.0</td>\n",
       "      <td>30.3</td>\n",
       "      <td>7</td>\n",
       "      <td>False</td>\n",
       "      <td>False</td>\n",
       "      <td>False</td>\n",
       "      <td>7.00</td>\n",
       "      <td>0</td>\n",
       "      <td>Санкт-Петербург</td>\n",
       "      <td>30011.0</td>\n",
       "      <td>12872.0</td>\n",
       "      <td>0</td>\n",
       "      <td>455.0</td>\n",
       "      <td>0</td>\n",
       "      <td>504.0</td>\n",
       "      <td>NaN</td>\n",
       "    </tr>\n",
       "    <tr>\n",
       "      <th>46</th>\n",
       "      <td>17</td>\n",
       "      <td>6.60e+06</td>\n",
       "      <td>52.10</td>\n",
       "      <td>2019-01-31T00:00:00</td>\n",
       "      <td>2</td>\n",
       "      <td>2.60</td>\n",
       "      <td>24.0</td>\n",
       "      <td>29.7</td>\n",
       "      <td>9</td>\n",
       "      <td>False</td>\n",
       "      <td>False</td>\n",
       "      <td>False</td>\n",
       "      <td>8.30</td>\n",
       "      <td>2</td>\n",
       "      <td>Санкт-Петербург</td>\n",
       "      <td>15114.0</td>\n",
       "      <td>12702.0</td>\n",
       "      <td>0</td>\n",
       "      <td>455.0</td>\n",
       "      <td>0</td>\n",
       "      <td>504.0</td>\n",
       "      <td>NaN</td>\n",
       "    </tr>\n",
       "    <tr>\n",
       "      <th>...</th>\n",
       "      <td>...</td>\n",
       "      <td>...</td>\n",
       "      <td>...</td>\n",
       "      <td>...</td>\n",
       "      <td>...</td>\n",
       "      <td>...</td>\n",
       "      <td>...</td>\n",
       "      <td>...</td>\n",
       "      <td>...</td>\n",
       "      <td>...</td>\n",
       "      <td>...</td>\n",
       "      <td>...</td>\n",
       "      <td>...</td>\n",
       "      <td>...</td>\n",
       "      <td>...</td>\n",
       "      <td>...</td>\n",
       "      <td>...</td>\n",
       "      <td>...</td>\n",
       "      <td>...</td>\n",
       "      <td>...</td>\n",
       "      <td>...</td>\n",
       "      <td>...</td>\n",
       "    </tr>\n",
       "    <tr>\n",
       "      <th>23684</th>\n",
       "      <td>20</td>\n",
       "      <td>2.14e+07</td>\n",
       "      <td>145.00</td>\n",
       "      <td>2018-11-02T00:00:00</td>\n",
       "      <td>4</td>\n",
       "      <td>3.00</td>\n",
       "      <td>26.0</td>\n",
       "      <td>71.4</td>\n",
       "      <td>17</td>\n",
       "      <td>False</td>\n",
       "      <td>False</td>\n",
       "      <td>False</td>\n",
       "      <td>15.60</td>\n",
       "      <td>0</td>\n",
       "      <td>Санкт-Петербург</td>\n",
       "      <td>11827.0</td>\n",
       "      <td>11459.0</td>\n",
       "      <td>0</td>\n",
       "      <td>455.0</td>\n",
       "      <td>0</td>\n",
       "      <td>504.0</td>\n",
       "      <td>NaN</td>\n",
       "    </tr>\n",
       "    <tr>\n",
       "      <th>23685</th>\n",
       "      <td>15</td>\n",
       "      <td>2.49e+06</td>\n",
       "      <td>31.00</td>\n",
       "      <td>2019-01-24T00:00:00</td>\n",
       "      <td>1</td>\n",
       "      <td>2.50</td>\n",
       "      <td>5.0</td>\n",
       "      <td>17.3</td>\n",
       "      <td>5</td>\n",
       "      <td>False</td>\n",
       "      <td>False</td>\n",
       "      <td>False</td>\n",
       "      <td>5.60</td>\n",
       "      <td>1</td>\n",
       "      <td>Ломоносов</td>\n",
       "      <td>48393.0</td>\n",
       "      <td>51818.0</td>\n",
       "      <td>0</td>\n",
       "      <td>455.0</td>\n",
       "      <td>0</td>\n",
       "      <td>553.0</td>\n",
       "      <td>NaN</td>\n",
       "    </tr>\n",
       "    <tr>\n",
       "      <th>23694</th>\n",
       "      <td>9</td>\n",
       "      <td>9.70e+06</td>\n",
       "      <td>133.81</td>\n",
       "      <td>2017-03-21T00:00:00</td>\n",
       "      <td>3</td>\n",
       "      <td>3.70</td>\n",
       "      <td>5.0</td>\n",
       "      <td>73.3</td>\n",
       "      <td>3</td>\n",
       "      <td>False</td>\n",
       "      <td>False</td>\n",
       "      <td>False</td>\n",
       "      <td>13.83</td>\n",
       "      <td>0</td>\n",
       "      <td>Санкт-Петербург</td>\n",
       "      <td>24665.0</td>\n",
       "      <td>4232.0</td>\n",
       "      <td>1</td>\n",
       "      <td>796.0</td>\n",
       "      <td>3</td>\n",
       "      <td>381.0</td>\n",
       "      <td>NaN</td>\n",
       "    </tr>\n",
       "    <tr>\n",
       "      <th>23696</th>\n",
       "      <td>18</td>\n",
       "      <td>2.50e+06</td>\n",
       "      <td>56.70</td>\n",
       "      <td>2018-02-11T00:00:00</td>\n",
       "      <td>2</td>\n",
       "      <td>2.70</td>\n",
       "      <td>3.0</td>\n",
       "      <td>29.7</td>\n",
       "      <td>1</td>\n",
       "      <td>False</td>\n",
       "      <td>False</td>\n",
       "      <td>False</td>\n",
       "      <td>8.00</td>\n",
       "      <td>0</td>\n",
       "      <td>село Рождествено</td>\n",
       "      <td>26757.0</td>\n",
       "      <td>13096.5</td>\n",
       "      <td>0</td>\n",
       "      <td>455.0</td>\n",
       "      <td>0</td>\n",
       "      <td>504.0</td>\n",
       "      <td>NaN</td>\n",
       "    </tr>\n",
       "    <tr>\n",
       "      <th>23698</th>\n",
       "      <td>4</td>\n",
       "      <td>1.35e+06</td>\n",
       "      <td>32.30</td>\n",
       "      <td>2017-07-21T00:00:00</td>\n",
       "      <td>1</td>\n",
       "      <td>2.50</td>\n",
       "      <td>5.0</td>\n",
       "      <td>12.3</td>\n",
       "      <td>1</td>\n",
       "      <td>False</td>\n",
       "      <td>False</td>\n",
       "      <td>False</td>\n",
       "      <td>9.00</td>\n",
       "      <td>0</td>\n",
       "      <td>поселок Новый Учхоз</td>\n",
       "      <td>26757.0</td>\n",
       "      <td>13096.5</td>\n",
       "      <td>0</td>\n",
       "      <td>455.0</td>\n",
       "      <td>0</td>\n",
       "      <td>504.0</td>\n",
       "      <td>NaN</td>\n",
       "    </tr>\n",
       "  </tbody>\n",
       "</table>\n",
       "<p>3171 rows × 22 columns</p>\n",
       "</div>"
      ],
      "text/plain": [
       "       total_images  last_price  total_area first_day_exposition  rooms  \\\n",
       "0                20    1.30e+07      108.00  2019-03-07T00:00:00      3   \n",
       "7                 5    7.92e+06       71.60  2019-04-18T00:00:00      2   \n",
       "44               13    5.35e+06       40.00  2018-11-18T00:00:00      1   \n",
       "45               17    5.20e+06       50.60  2018-12-02T00:00:00      2   \n",
       "46               17    6.60e+06       52.10  2019-01-31T00:00:00      2   \n",
       "...             ...         ...         ...                  ...    ...   \n",
       "23684            20    2.14e+07      145.00  2018-11-02T00:00:00      4   \n",
       "23685            15    2.49e+06       31.00  2019-01-24T00:00:00      1   \n",
       "23694             9    9.70e+06      133.81  2017-03-21T00:00:00      3   \n",
       "23696            18    2.50e+06       56.70  2018-02-11T00:00:00      2   \n",
       "23698             4    1.35e+06       32.30  2017-07-21T00:00:00      1   \n",
       "\n",
       "       ceiling_height  floors_total  living_area  floor  is_apartment  studio  \\\n",
       "0                2.70          16.0         51.0      8         False   False   \n",
       "7                2.70          24.0         44.3     22         False   False   \n",
       "44               2.70          22.0         18.0      3         False   False   \n",
       "45               2.65           9.0         30.3      7         False   False   \n",
       "46               2.60          24.0         29.7      9         False   False   \n",
       "...               ...           ...          ...    ...           ...     ...   \n",
       "23684            3.00          26.0         71.4     17         False   False   \n",
       "23685            2.50           5.0         17.3      5         False   False   \n",
       "23694            3.70           5.0         73.3      3         False   False   \n",
       "23696            2.70           3.0         29.7      1         False   False   \n",
       "23698            2.50           5.0         12.3      1         False   False   \n",
       "\n",
       "       open_plan  kitchen_area  balcony        locality_name  \\\n",
       "0          False         25.00        0      Санкт-Петербург   \n",
       "7          False         18.90        2      Санкт-Петербург   \n",
       "44         False         10.00        1      Санкт-Петербург   \n",
       "45         False          7.00        0      Санкт-Петербург   \n",
       "46         False          8.30        2      Санкт-Петербург   \n",
       "...          ...           ...      ...                  ...   \n",
       "23684      False         15.60        0      Санкт-Петербург   \n",
       "23685      False          5.60        1            Ломоносов   \n",
       "23694      False         13.83        0      Санкт-Петербург   \n",
       "23696      False          8.00        0     село Рождествено   \n",
       "23698      False          9.00        0  поселок Новый Учхоз   \n",
       "\n",
       "       airports_nearest  city_centers_nearest  parks_around_3000  \\\n",
       "0               18863.0               16028.0                  1   \n",
       "7               23982.0               11634.0                  0   \n",
       "44              30471.0               11603.0                  1   \n",
       "45              30011.0               12872.0                  0   \n",
       "46              15114.0               12702.0                  0   \n",
       "...                 ...                   ...                ...   \n",
       "23684           11827.0               11459.0                  0   \n",
       "23685           48393.0               51818.0                  0   \n",
       "23694           24665.0                4232.0                  1   \n",
       "23696           26757.0               13096.5                  0   \n",
       "23698           26757.0               13096.5                  0   \n",
       "\n",
       "       parks_nearest  ponds_around_3000  ponds_nearest  days_exposition  \n",
       "0              482.0                  2          755.0              NaN  \n",
       "7              455.0                  0          504.0              NaN  \n",
       "44             620.0                  1         1152.0              NaN  \n",
       "45             455.0                  0          504.0              NaN  \n",
       "46             455.0                  0          504.0              NaN  \n",
       "...              ...                ...            ...              ...  \n",
       "23684          455.0                  0          504.0              NaN  \n",
       "23685          455.0                  0          553.0              NaN  \n",
       "23694          796.0                  3          381.0              NaN  \n",
       "23696          455.0                  0          504.0              NaN  \n",
       "23698          455.0                  0          504.0              NaN  \n",
       "\n",
       "[3171 rows x 22 columns]"
      ]
     },
     "execution_count": 85,
     "metadata": {},
     "output_type": "execute_result"
    }
   ],
   "source": [
    "data[data['days_exposition'].isna()]"
   ]
  },
  {
   "cell_type": "code",
   "execution_count": 86,
   "metadata": {},
   "outputs": [],
   "source": [
    "data['days_exposition'] = data['days_exposition'].fillna(data.groupby('locality_name')['days_exposition'].transform('median'))"
   ]
  },
  {
   "cell_type": "code",
   "execution_count": 87,
   "metadata": {},
   "outputs": [
    {
     "name": "stdout",
     "output_type": "stream",
     "text": [
      "Количество пропущенных значений: 80\n",
      "Процент пропущенных значений: 0.34%\n"
     ]
    }
   ],
   "source": [
    "missing_count = data['days_exposition'].isna().sum()\n",
    "print(f\"Количество пропущенных значений: {missing_count}\")\n",
    "\n",
    "total_rows = len(data)\n",
    "missing_percentage = (missing_count / total_rows) * 100\n",
    "print(f\"Процент пропущенных значений: {missing_percentage:.2f}%\")"
   ]
  },
  {
   "cell_type": "code",
   "execution_count": 88,
   "metadata": {},
   "outputs": [],
   "source": [
    "data['days_exposition'].fillna(data['days_exposition'].median(), inplace=True)"
   ]
  },
  {
   "cell_type": "code",
   "execution_count": 89,
   "metadata": {},
   "outputs": [
    {
     "name": "stdout",
     "output_type": "stream",
     "text": [
      "Количество пропущенных значений: 0\n",
      "Процент пропущенных значений: 0.00%\n"
     ]
    }
   ],
   "source": [
    "missing_count = data['days_exposition'].isna().sum()\n",
    "print(f\"Количество пропущенных значений: {missing_count}\")\n",
    "\n",
    "total_rows = len(data)\n",
    "missing_percentage = (missing_count / total_rows) * 100\n",
    "print(f\"Процент пропущенных значений: {missing_percentage:.2f}%\")"
   ]
  },
  {
   "cell_type": "markdown",
   "metadata": {},
   "source": [
    "#### Анализ пропусков"
   ]
  },
  {
   "cell_type": "code",
   "execution_count": 90,
   "metadata": {},
   "outputs": [
    {
     "data": {
      "text/plain": [
       "total_images            0\n",
       "last_price              0\n",
       "total_area              0\n",
       "first_day_exposition    0\n",
       "rooms                   0\n",
       "ceiling_height          0\n",
       "floors_total            0\n",
       "living_area             0\n",
       "floor                   0\n",
       "is_apartment            0\n",
       "studio                  0\n",
       "open_plan               0\n",
       "kitchen_area            0\n",
       "balcony                 0\n",
       "locality_name           0\n",
       "airports_nearest        0\n",
       "city_centers_nearest    0\n",
       "parks_around_3000       0\n",
       "parks_nearest           0\n",
       "ponds_around_3000       0\n",
       "ponds_nearest           0\n",
       "days_exposition         0\n",
       "dtype: int64"
      ]
     },
     "execution_count": 90,
     "metadata": {},
     "output_type": "execute_result"
    }
   ],
   "source": [
    "data.isna().sum()"
   ]
  },
  {
   "cell_type": "code",
   "execution_count": 91,
   "metadata": {},
   "outputs": [
    {
     "name": "stdout",
     "output_type": "stream",
     "text": [
      "<class 'pandas.core.frame.DataFrame'>\n",
      "Int64Index: 23565 entries, 0 to 23698\n",
      "Data columns (total 22 columns):\n",
      " #   Column                Non-Null Count  Dtype  \n",
      "---  ------                --------------  -----  \n",
      " 0   total_images          23565 non-null  int64  \n",
      " 1   last_price            23565 non-null  float64\n",
      " 2   total_area            23565 non-null  float64\n",
      " 3   first_day_exposition  23565 non-null  object \n",
      " 4   rooms                 23565 non-null  int64  \n",
      " 5   ceiling_height        23565 non-null  float64\n",
      " 6   floors_total          23565 non-null  float64\n",
      " 7   living_area           23565 non-null  float64\n",
      " 8   floor                 23565 non-null  int64  \n",
      " 9   is_apartment          23565 non-null  bool   \n",
      " 10  studio                23565 non-null  bool   \n",
      " 11  open_plan             23565 non-null  bool   \n",
      " 12  kitchen_area          23565 non-null  float64\n",
      " 13  balcony               23565 non-null  int64  \n",
      " 14  locality_name         23565 non-null  object \n",
      " 15  airports_nearest      23565 non-null  float64\n",
      " 16  city_centers_nearest  23565 non-null  float64\n",
      " 17  parks_around_3000     23565 non-null  int64  \n",
      " 18  parks_nearest         23565 non-null  float64\n",
      " 19  ponds_around_3000     23565 non-null  int64  \n",
      " 20  ponds_nearest         23565 non-null  float64\n",
      " 21  days_exposition       23565 non-null  float64\n",
      "dtypes: bool(3), float64(11), int64(6), object(2)\n",
      "memory usage: 3.7+ MB\n"
     ]
    }
   ],
   "source": [
    "data.info()"
   ]
  },
  {
   "cell_type": "markdown",
   "metadata": {},
   "source": [
    "#### Проверка данных на аномалии"
   ]
  },
  {
   "cell_type": "code",
   "execution_count": 92,
   "metadata": {},
   "outputs": [
    {
     "data": {
      "text/html": [
       "<div>\n",
       "<style scoped>\n",
       "    .dataframe tbody tr th:only-of-type {\n",
       "        vertical-align: middle;\n",
       "    }\n",
       "\n",
       "    .dataframe tbody tr th {\n",
       "        vertical-align: top;\n",
       "    }\n",
       "\n",
       "    .dataframe thead th {\n",
       "        text-align: right;\n",
       "    }\n",
       "</style>\n",
       "<table border=\"1\" class=\"dataframe\">\n",
       "  <thead>\n",
       "    <tr style=\"text-align: right;\">\n",
       "      <th></th>\n",
       "      <th>total_images</th>\n",
       "      <th>last_price</th>\n",
       "      <th>total_area</th>\n",
       "      <th>rooms</th>\n",
       "      <th>ceiling_height</th>\n",
       "      <th>floors_total</th>\n",
       "      <th>living_area</th>\n",
       "      <th>floor</th>\n",
       "      <th>kitchen_area</th>\n",
       "      <th>balcony</th>\n",
       "      <th>airports_nearest</th>\n",
       "      <th>city_centers_nearest</th>\n",
       "      <th>parks_around_3000</th>\n",
       "      <th>parks_nearest</th>\n",
       "      <th>ponds_around_3000</th>\n",
       "      <th>ponds_nearest</th>\n",
       "      <th>days_exposition</th>\n",
       "    </tr>\n",
       "  </thead>\n",
       "  <tbody>\n",
       "    <tr>\n",
       "      <th>count</th>\n",
       "      <td>23565.00</td>\n",
       "      <td>2.36e+04</td>\n",
       "      <td>23565.00</td>\n",
       "      <td>23565.00</td>\n",
       "      <td>23565.00</td>\n",
       "      <td>23565.00</td>\n",
       "      <td>23565.00</td>\n",
       "      <td>23565.00</td>\n",
       "      <td>23565.00</td>\n",
       "      <td>23565.00</td>\n",
       "      <td>23565.00</td>\n",
       "      <td>23565.00</td>\n",
       "      <td>23565.00</td>\n",
       "      <td>23565.00</td>\n",
       "      <td>23565.00</td>\n",
       "      <td>23565.00</td>\n",
       "      <td>23565.00</td>\n",
       "    </tr>\n",
       "    <tr>\n",
       "      <th>mean</th>\n",
       "      <td>9.88</td>\n",
       "      <td>6.54e+06</td>\n",
       "      <td>60.32</td>\n",
       "      <td>2.07</td>\n",
       "      <td>2.73</td>\n",
       "      <td>10.68</td>\n",
       "      <td>34.63</td>\n",
       "      <td>5.88</td>\n",
       "      <td>10.45</td>\n",
       "      <td>0.59</td>\n",
       "      <td>28318.86</td>\n",
       "      <td>13936.77</td>\n",
       "      <td>0.47</td>\n",
       "      <td>467.12</td>\n",
       "      <td>0.59</td>\n",
       "      <td>509.07</td>\n",
       "      <td>169.92</td>\n",
       "    </tr>\n",
       "    <tr>\n",
       "      <th>std</th>\n",
       "      <td>5.68</td>\n",
       "      <td>1.09e+07</td>\n",
       "      <td>35.66</td>\n",
       "      <td>1.08</td>\n",
       "      <td>1.01</td>\n",
       "      <td>6.59</td>\n",
       "      <td>22.47</td>\n",
       "      <td>4.87</td>\n",
       "      <td>5.90</td>\n",
       "      <td>0.96</td>\n",
       "      <td>11086.81</td>\n",
       "      <td>7555.48</td>\n",
       "      <td>0.75</td>\n",
       "      <td>200.10</td>\n",
       "      <td>0.88</td>\n",
       "      <td>174.94</td>\n",
       "      <td>206.88</td>\n",
       "    </tr>\n",
       "    <tr>\n",
       "      <th>min</th>\n",
       "      <td>0.00</td>\n",
       "      <td>1.22e+04</td>\n",
       "      <td>12.00</td>\n",
       "      <td>0.00</td>\n",
       "      <td>1.00</td>\n",
       "      <td>1.00</td>\n",
       "      <td>2.00</td>\n",
       "      <td>1.00</td>\n",
       "      <td>1.30</td>\n",
       "      <td>0.00</td>\n",
       "      <td>0.00</td>\n",
       "      <td>181.00</td>\n",
       "      <td>0.00</td>\n",
       "      <td>1.00</td>\n",
       "      <td>0.00</td>\n",
       "      <td>13.00</td>\n",
       "      <td>1.00</td>\n",
       "    </tr>\n",
       "    <tr>\n",
       "      <th>25%</th>\n",
       "      <td>6.00</td>\n",
       "      <td>3.40e+06</td>\n",
       "      <td>40.00</td>\n",
       "      <td>1.00</td>\n",
       "      <td>2.55</td>\n",
       "      <td>5.00</td>\n",
       "      <td>18.60</td>\n",
       "      <td>2.00</td>\n",
       "      <td>7.00</td>\n",
       "      <td>0.00</td>\n",
       "      <td>21166.00</td>\n",
       "      <td>10935.00</td>\n",
       "      <td>0.00</td>\n",
       "      <td>455.00</td>\n",
       "      <td>0.00</td>\n",
       "      <td>504.00</td>\n",
       "      <td>45.00</td>\n",
       "    </tr>\n",
       "    <tr>\n",
       "      <th>50%</th>\n",
       "      <td>9.00</td>\n",
       "      <td>4.65e+06</td>\n",
       "      <td>52.00</td>\n",
       "      <td>2.00</td>\n",
       "      <td>2.70</td>\n",
       "      <td>9.00</td>\n",
       "      <td>30.00</td>\n",
       "      <td>4.00</td>\n",
       "      <td>9.00</td>\n",
       "      <td>0.00</td>\n",
       "      <td>26757.00</td>\n",
       "      <td>13096.50</td>\n",
       "      <td>0.00</td>\n",
       "      <td>455.00</td>\n",
       "      <td>0.00</td>\n",
       "      <td>504.00</td>\n",
       "      <td>95.00</td>\n",
       "    </tr>\n",
       "    <tr>\n",
       "      <th>75%</th>\n",
       "      <td>14.00</td>\n",
       "      <td>6.79e+06</td>\n",
       "      <td>69.70</td>\n",
       "      <td>3.00</td>\n",
       "      <td>2.70</td>\n",
       "      <td>16.00</td>\n",
       "      <td>42.30</td>\n",
       "      <td>8.00</td>\n",
       "      <td>11.80</td>\n",
       "      <td>1.00</td>\n",
       "      <td>34324.00</td>\n",
       "      <td>15237.00</td>\n",
       "      <td>1.00</td>\n",
       "      <td>455.00</td>\n",
       "      <td>1.00</td>\n",
       "      <td>504.00</td>\n",
       "      <td>200.00</td>\n",
       "    </tr>\n",
       "    <tr>\n",
       "      <th>max</th>\n",
       "      <td>50.00</td>\n",
       "      <td>7.63e+08</td>\n",
       "      <td>900.00</td>\n",
       "      <td>19.00</td>\n",
       "      <td>100.00</td>\n",
       "      <td>60.00</td>\n",
       "      <td>409.70</td>\n",
       "      <td>33.00</td>\n",
       "      <td>112.00</td>\n",
       "      <td>5.00</td>\n",
       "      <td>84869.00</td>\n",
       "      <td>65968.00</td>\n",
       "      <td>3.00</td>\n",
       "      <td>3190.00</td>\n",
       "      <td>3.00</td>\n",
       "      <td>1344.00</td>\n",
       "      <td>1580.00</td>\n",
       "    </tr>\n",
       "  </tbody>\n",
       "</table>\n",
       "</div>"
      ],
      "text/plain": [
       "       total_images  last_price  total_area     rooms  ceiling_height  \\\n",
       "count      23565.00    2.36e+04    23565.00  23565.00        23565.00   \n",
       "mean           9.88    6.54e+06       60.32      2.07            2.73   \n",
       "std            5.68    1.09e+07       35.66      1.08            1.01   \n",
       "min            0.00    1.22e+04       12.00      0.00            1.00   \n",
       "25%            6.00    3.40e+06       40.00      1.00            2.55   \n",
       "50%            9.00    4.65e+06       52.00      2.00            2.70   \n",
       "75%           14.00    6.79e+06       69.70      3.00            2.70   \n",
       "max           50.00    7.63e+08      900.00     19.00          100.00   \n",
       "\n",
       "       floors_total  living_area     floor  kitchen_area   balcony  \\\n",
       "count      23565.00     23565.00  23565.00      23565.00  23565.00   \n",
       "mean          10.68        34.63      5.88         10.45      0.59   \n",
       "std            6.59        22.47      4.87          5.90      0.96   \n",
       "min            1.00         2.00      1.00          1.30      0.00   \n",
       "25%            5.00        18.60      2.00          7.00      0.00   \n",
       "50%            9.00        30.00      4.00          9.00      0.00   \n",
       "75%           16.00        42.30      8.00         11.80      1.00   \n",
       "max           60.00       409.70     33.00        112.00      5.00   \n",
       "\n",
       "       airports_nearest  city_centers_nearest  parks_around_3000  \\\n",
       "count          23565.00              23565.00           23565.00   \n",
       "mean           28318.86              13936.77               0.47   \n",
       "std            11086.81               7555.48               0.75   \n",
       "min                0.00                181.00               0.00   \n",
       "25%            21166.00              10935.00               0.00   \n",
       "50%            26757.00              13096.50               0.00   \n",
       "75%            34324.00              15237.00               1.00   \n",
       "max            84869.00              65968.00               3.00   \n",
       "\n",
       "       parks_nearest  ponds_around_3000  ponds_nearest  days_exposition  \n",
       "count       23565.00           23565.00       23565.00         23565.00  \n",
       "mean          467.12               0.59         509.07           169.92  \n",
       "std           200.10               0.88         174.94           206.88  \n",
       "min             1.00               0.00          13.00             1.00  \n",
       "25%           455.00               0.00         504.00            45.00  \n",
       "50%           455.00               0.00         504.00            95.00  \n",
       "75%           455.00               1.00         504.00           200.00  \n",
       "max          3190.00               3.00        1344.00          1580.00  "
      ]
     },
     "execution_count": 92,
     "metadata": {},
     "output_type": "execute_result"
    }
   ],
   "source": [
    "data.describe()"
   ]
  },
  {
   "cell_type": "markdown",
   "metadata": {},
   "source": [
    "Проведем анализ следующих данных: \n",
    "количество комнат(rooms) - min 0\n",
    "высота потолков (ceiling_height) - min 1\n",
    "жилая площадь (living_area) - min 2\n",
    "площадь кухни (kitchen_area) - min 1.3"
   ]
  },
  {
   "cell_type": "markdown",
   "metadata": {},
   "source": [
    "#### Проверка данных на аномалии  в колонке rooms"
   ]
  },
  {
   "cell_type": "code",
   "execution_count": 93,
   "metadata": {},
   "outputs": [
    {
     "data": {
      "text/plain": [
       "count    23565.00\n",
       "mean         2.07\n",
       "std          1.08\n",
       "min          0.00\n",
       "25%          1.00\n",
       "50%          2.00\n",
       "75%          3.00\n",
       "max         19.00\n",
       "Name: rooms, dtype: float64"
      ]
     },
     "execution_count": 93,
     "metadata": {},
     "output_type": "execute_result"
    }
   ],
   "source": [
    "data['rooms'].describe()"
   ]
  },
  {
   "cell_type": "code",
   "execution_count": 94,
   "metadata": {},
   "outputs": [
    {
     "data": {
      "text/html": [
       "<div>\n",
       "<style scoped>\n",
       "    .dataframe tbody tr th:only-of-type {\n",
       "        vertical-align: middle;\n",
       "    }\n",
       "\n",
       "    .dataframe tbody tr th {\n",
       "        vertical-align: top;\n",
       "    }\n",
       "\n",
       "    .dataframe thead th {\n",
       "        text-align: right;\n",
       "    }\n",
       "</style>\n",
       "<table border=\"1\" class=\"dataframe\">\n",
       "  <thead>\n",
       "    <tr style=\"text-align: right;\">\n",
       "      <th></th>\n",
       "      <th>total_images</th>\n",
       "      <th>last_price</th>\n",
       "      <th>total_area</th>\n",
       "      <th>first_day_exposition</th>\n",
       "      <th>rooms</th>\n",
       "      <th>ceiling_height</th>\n",
       "      <th>floors_total</th>\n",
       "      <th>living_area</th>\n",
       "      <th>floor</th>\n",
       "      <th>is_apartment</th>\n",
       "      <th>studio</th>\n",
       "      <th>open_plan</th>\n",
       "      <th>kitchen_area</th>\n",
       "      <th>balcony</th>\n",
       "      <th>locality_name</th>\n",
       "      <th>airports_nearest</th>\n",
       "      <th>city_centers_nearest</th>\n",
       "      <th>parks_around_3000</th>\n",
       "      <th>parks_nearest</th>\n",
       "      <th>ponds_around_3000</th>\n",
       "      <th>ponds_nearest</th>\n",
       "      <th>days_exposition</th>\n",
       "    </tr>\n",
       "  </thead>\n",
       "  <tbody>\n",
       "    <tr>\n",
       "      <th>144</th>\n",
       "      <td>1</td>\n",
       "      <td>2.45e+06</td>\n",
       "      <td>27.00</td>\n",
       "      <td>2017-03-30T00:00:00</td>\n",
       "      <td>0</td>\n",
       "      <td>2.70</td>\n",
       "      <td>24.0</td>\n",
       "      <td>15.50</td>\n",
       "      <td>2</td>\n",
       "      <td>False</td>\n",
       "      <td>True</td>\n",
       "      <td>False</td>\n",
       "      <td>5.50</td>\n",
       "      <td>2</td>\n",
       "      <td>посёлок Мурино</td>\n",
       "      <td>26757.0</td>\n",
       "      <td>13096.5</td>\n",
       "      <td>0</td>\n",
       "      <td>455.0</td>\n",
       "      <td>0</td>\n",
       "      <td>504.0</td>\n",
       "      <td>181.0</td>\n",
       "    </tr>\n",
       "    <tr>\n",
       "      <th>349</th>\n",
       "      <td>4</td>\n",
       "      <td>2.32e+06</td>\n",
       "      <td>25.00</td>\n",
       "      <td>2017-09-27T00:00:00</td>\n",
       "      <td>0</td>\n",
       "      <td>2.75</td>\n",
       "      <td>14.0</td>\n",
       "      <td>17.00</td>\n",
       "      <td>1</td>\n",
       "      <td>False</td>\n",
       "      <td>False</td>\n",
       "      <td>True</td>\n",
       "      <td>5.00</td>\n",
       "      <td>0</td>\n",
       "      <td>деревня Кудрово</td>\n",
       "      <td>26757.0</td>\n",
       "      <td>13096.5</td>\n",
       "      <td>0</td>\n",
       "      <td>455.0</td>\n",
       "      <td>0</td>\n",
       "      <td>504.0</td>\n",
       "      <td>45.0</td>\n",
       "    </tr>\n",
       "    <tr>\n",
       "      <th>440</th>\n",
       "      <td>8</td>\n",
       "      <td>2.48e+06</td>\n",
       "      <td>27.11</td>\n",
       "      <td>2018-03-12T00:00:00</td>\n",
       "      <td>0</td>\n",
       "      <td>2.70</td>\n",
       "      <td>17.0</td>\n",
       "      <td>24.75</td>\n",
       "      <td>4</td>\n",
       "      <td>False</td>\n",
       "      <td>True</td>\n",
       "      <td>False</td>\n",
       "      <td>4.69</td>\n",
       "      <td>2</td>\n",
       "      <td>Санкт-Петербург</td>\n",
       "      <td>38171.0</td>\n",
       "      <td>15015.0</td>\n",
       "      <td>0</td>\n",
       "      <td>455.0</td>\n",
       "      <td>2</td>\n",
       "      <td>982.0</td>\n",
       "      <td>64.0</td>\n",
       "    </tr>\n",
       "    <tr>\n",
       "      <th>508</th>\n",
       "      <td>0</td>\n",
       "      <td>3.38e+06</td>\n",
       "      <td>34.40</td>\n",
       "      <td>2017-03-28T00:00:00</td>\n",
       "      <td>0</td>\n",
       "      <td>2.64</td>\n",
       "      <td>26.0</td>\n",
       "      <td>24.30</td>\n",
       "      <td>19</td>\n",
       "      <td>False</td>\n",
       "      <td>False</td>\n",
       "      <td>True</td>\n",
       "      <td>8.70</td>\n",
       "      <td>1</td>\n",
       "      <td>посёлок Парголово</td>\n",
       "      <td>53115.0</td>\n",
       "      <td>19292.0</td>\n",
       "      <td>0</td>\n",
       "      <td>455.0</td>\n",
       "      <td>1</td>\n",
       "      <td>593.0</td>\n",
       "      <td>430.0</td>\n",
       "    </tr>\n",
       "    <tr>\n",
       "      <th>608</th>\n",
       "      <td>2</td>\n",
       "      <td>1.85e+06</td>\n",
       "      <td>25.00</td>\n",
       "      <td>2019-02-20T00:00:00</td>\n",
       "      <td>0</td>\n",
       "      <td>2.62</td>\n",
       "      <td>10.0</td>\n",
       "      <td>17.00</td>\n",
       "      <td>7</td>\n",
       "      <td>False</td>\n",
       "      <td>True</td>\n",
       "      <td>False</td>\n",
       "      <td>5.00</td>\n",
       "      <td>0</td>\n",
       "      <td>посёлок Шушары</td>\n",
       "      <td>26757.0</td>\n",
       "      <td>13096.5</td>\n",
       "      <td>0</td>\n",
       "      <td>455.0</td>\n",
       "      <td>0</td>\n",
       "      <td>584.5</td>\n",
       "      <td>29.0</td>\n",
       "    </tr>\n",
       "    <tr>\n",
       "      <th>...</th>\n",
       "      <td>...</td>\n",
       "      <td>...</td>\n",
       "      <td>...</td>\n",
       "      <td>...</td>\n",
       "      <td>...</td>\n",
       "      <td>...</td>\n",
       "      <td>...</td>\n",
       "      <td>...</td>\n",
       "      <td>...</td>\n",
       "      <td>...</td>\n",
       "      <td>...</td>\n",
       "      <td>...</td>\n",
       "      <td>...</td>\n",
       "      <td>...</td>\n",
       "      <td>...</td>\n",
       "      <td>...</td>\n",
       "      <td>...</td>\n",
       "      <td>...</td>\n",
       "      <td>...</td>\n",
       "      <td>...</td>\n",
       "      <td>...</td>\n",
       "      <td>...</td>\n",
       "    </tr>\n",
       "    <tr>\n",
       "      <th>23210</th>\n",
       "      <td>7</td>\n",
       "      <td>3.20e+06</td>\n",
       "      <td>26.00</td>\n",
       "      <td>2017-09-01T00:00:00</td>\n",
       "      <td>0</td>\n",
       "      <td>2.70</td>\n",
       "      <td>25.0</td>\n",
       "      <td>18.00</td>\n",
       "      <td>16</td>\n",
       "      <td>False</td>\n",
       "      <td>True</td>\n",
       "      <td>False</td>\n",
       "      <td>5.00</td>\n",
       "      <td>0</td>\n",
       "      <td>Санкт-Петербург</td>\n",
       "      <td>11405.0</td>\n",
       "      <td>13222.0</td>\n",
       "      <td>0</td>\n",
       "      <td>455.0</td>\n",
       "      <td>1</td>\n",
       "      <td>623.0</td>\n",
       "      <td>14.0</td>\n",
       "    </tr>\n",
       "    <tr>\n",
       "      <th>23442</th>\n",
       "      <td>0</td>\n",
       "      <td>2.50e+06</td>\n",
       "      <td>27.70</td>\n",
       "      <td>2017-09-28T00:00:00</td>\n",
       "      <td>0</td>\n",
       "      <td>2.70</td>\n",
       "      <td>24.0</td>\n",
       "      <td>18.00</td>\n",
       "      <td>4</td>\n",
       "      <td>False</td>\n",
       "      <td>False</td>\n",
       "      <td>True</td>\n",
       "      <td>4.79</td>\n",
       "      <td>2</td>\n",
       "      <td>посёлок Мурино</td>\n",
       "      <td>26757.0</td>\n",
       "      <td>13096.5</td>\n",
       "      <td>0</td>\n",
       "      <td>455.0</td>\n",
       "      <td>0</td>\n",
       "      <td>504.0</td>\n",
       "      <td>4.0</td>\n",
       "    </tr>\n",
       "    <tr>\n",
       "      <th>23554</th>\n",
       "      <td>15</td>\n",
       "      <td>3.35e+06</td>\n",
       "      <td>26.00</td>\n",
       "      <td>2018-09-07T00:00:00</td>\n",
       "      <td>0</td>\n",
       "      <td>2.70</td>\n",
       "      <td>19.0</td>\n",
       "      <td>17.38</td>\n",
       "      <td>8</td>\n",
       "      <td>False</td>\n",
       "      <td>True</td>\n",
       "      <td>False</td>\n",
       "      <td>5.00</td>\n",
       "      <td>0</td>\n",
       "      <td>Санкт-Петербург</td>\n",
       "      <td>18090.0</td>\n",
       "      <td>17092.0</td>\n",
       "      <td>0</td>\n",
       "      <td>455.0</td>\n",
       "      <td>2</td>\n",
       "      <td>112.0</td>\n",
       "      <td>31.0</td>\n",
       "    </tr>\n",
       "    <tr>\n",
       "      <th>23592</th>\n",
       "      <td>10</td>\n",
       "      <td>1.45e+06</td>\n",
       "      <td>29.00</td>\n",
       "      <td>2017-11-11T00:00:00</td>\n",
       "      <td>0</td>\n",
       "      <td>2.56</td>\n",
       "      <td>9.0</td>\n",
       "      <td>18.00</td>\n",
       "      <td>8</td>\n",
       "      <td>False</td>\n",
       "      <td>False</td>\n",
       "      <td>True</td>\n",
       "      <td>6.55</td>\n",
       "      <td>2</td>\n",
       "      <td>Никольское</td>\n",
       "      <td>26757.0</td>\n",
       "      <td>13096.5</td>\n",
       "      <td>0</td>\n",
       "      <td>455.0</td>\n",
       "      <td>0</td>\n",
       "      <td>504.0</td>\n",
       "      <td>82.0</td>\n",
       "    </tr>\n",
       "    <tr>\n",
       "      <th>23637</th>\n",
       "      <td>8</td>\n",
       "      <td>2.35e+06</td>\n",
       "      <td>26.00</td>\n",
       "      <td>2018-06-26T00:00:00</td>\n",
       "      <td>0</td>\n",
       "      <td>2.65</td>\n",
       "      <td>25.0</td>\n",
       "      <td>17.00</td>\n",
       "      <td>4</td>\n",
       "      <td>False</td>\n",
       "      <td>True</td>\n",
       "      <td>False</td>\n",
       "      <td>5.00</td>\n",
       "      <td>2</td>\n",
       "      <td>посёлок Бугры</td>\n",
       "      <td>26757.0</td>\n",
       "      <td>13096.5</td>\n",
       "      <td>0</td>\n",
       "      <td>455.0</td>\n",
       "      <td>0</td>\n",
       "      <td>504.0</td>\n",
       "      <td>207.0</td>\n",
       "    </tr>\n",
       "  </tbody>\n",
       "</table>\n",
       "<p>194 rows × 22 columns</p>\n",
       "</div>"
      ],
      "text/plain": [
       "       total_images  last_price  total_area first_day_exposition  rooms  \\\n",
       "144               1    2.45e+06       27.00  2017-03-30T00:00:00      0   \n",
       "349               4    2.32e+06       25.00  2017-09-27T00:00:00      0   \n",
       "440               8    2.48e+06       27.11  2018-03-12T00:00:00      0   \n",
       "508               0    3.38e+06       34.40  2017-03-28T00:00:00      0   \n",
       "608               2    1.85e+06       25.00  2019-02-20T00:00:00      0   \n",
       "...             ...         ...         ...                  ...    ...   \n",
       "23210             7    3.20e+06       26.00  2017-09-01T00:00:00      0   \n",
       "23442             0    2.50e+06       27.70  2017-09-28T00:00:00      0   \n",
       "23554            15    3.35e+06       26.00  2018-09-07T00:00:00      0   \n",
       "23592            10    1.45e+06       29.00  2017-11-11T00:00:00      0   \n",
       "23637             8    2.35e+06       26.00  2018-06-26T00:00:00      0   \n",
       "\n",
       "       ceiling_height  floors_total  living_area  floor  is_apartment  studio  \\\n",
       "144              2.70          24.0        15.50      2         False    True   \n",
       "349              2.75          14.0        17.00      1         False   False   \n",
       "440              2.70          17.0        24.75      4         False    True   \n",
       "508              2.64          26.0        24.30     19         False   False   \n",
       "608              2.62          10.0        17.00      7         False    True   \n",
       "...               ...           ...          ...    ...           ...     ...   \n",
       "23210            2.70          25.0        18.00     16         False    True   \n",
       "23442            2.70          24.0        18.00      4         False   False   \n",
       "23554            2.70          19.0        17.38      8         False    True   \n",
       "23592            2.56           9.0        18.00      8         False   False   \n",
       "23637            2.65          25.0        17.00      4         False    True   \n",
       "\n",
       "       open_plan  kitchen_area  balcony      locality_name  airports_nearest  \\\n",
       "144        False          5.50        2     посёлок Мурино           26757.0   \n",
       "349         True          5.00        0    деревня Кудрово           26757.0   \n",
       "440        False          4.69        2    Санкт-Петербург           38171.0   \n",
       "508         True          8.70        1  посёлок Парголово           53115.0   \n",
       "608        False          5.00        0     посёлок Шушары           26757.0   \n",
       "...          ...           ...      ...                ...               ...   \n",
       "23210      False          5.00        0    Санкт-Петербург           11405.0   \n",
       "23442       True          4.79        2     посёлок Мурино           26757.0   \n",
       "23554      False          5.00        0    Санкт-Петербург           18090.0   \n",
       "23592       True          6.55        2         Никольское           26757.0   \n",
       "23637      False          5.00        2      посёлок Бугры           26757.0   \n",
       "\n",
       "       city_centers_nearest  parks_around_3000  parks_nearest  \\\n",
       "144                 13096.5                  0          455.0   \n",
       "349                 13096.5                  0          455.0   \n",
       "440                 15015.0                  0          455.0   \n",
       "508                 19292.0                  0          455.0   \n",
       "608                 13096.5                  0          455.0   \n",
       "...                     ...                ...            ...   \n",
       "23210               13222.0                  0          455.0   \n",
       "23442               13096.5                  0          455.0   \n",
       "23554               17092.0                  0          455.0   \n",
       "23592               13096.5                  0          455.0   \n",
       "23637               13096.5                  0          455.0   \n",
       "\n",
       "       ponds_around_3000  ponds_nearest  days_exposition  \n",
       "144                    0          504.0            181.0  \n",
       "349                    0          504.0             45.0  \n",
       "440                    2          982.0             64.0  \n",
       "508                    1          593.0            430.0  \n",
       "608                    0          584.5             29.0  \n",
       "...                  ...            ...              ...  \n",
       "23210                  1          623.0             14.0  \n",
       "23442                  0          504.0              4.0  \n",
       "23554                  2          112.0             31.0  \n",
       "23592                  0          504.0             82.0  \n",
       "23637                  0          504.0            207.0  \n",
       "\n",
       "[194 rows x 22 columns]"
      ]
     },
     "execution_count": 94,
     "metadata": {},
     "output_type": "execute_result"
    }
   ],
   "source": [
    "data.query('rooms == 0')"
   ]
  },
  {
   "cell_type": "markdown",
   "metadata": {},
   "source": [
    "Объекты могут являются как студиями так и однокомнатными квартирами. Присвоим нулевым значениям 1 комнату."
   ]
  },
  {
   "cell_type": "code",
   "execution_count": 95,
   "metadata": {},
   "outputs": [],
   "source": [
    "data['rooms'] = data['rooms'].replace(0, 1)"
   ]
  },
  {
   "cell_type": "code",
   "execution_count": 96,
   "metadata": {},
   "outputs": [
    {
     "data": {
      "text/plain": [
       "count    23565.00\n",
       "mean         2.08\n",
       "std          1.07\n",
       "min          1.00\n",
       "25%          1.00\n",
       "50%          2.00\n",
       "75%          3.00\n",
       "max         19.00\n",
       "Name: rooms, dtype: float64"
      ]
     },
     "execution_count": 96,
     "metadata": {},
     "output_type": "execute_result"
    }
   ],
   "source": [
    "data['rooms'].describe()"
   ]
  },
  {
   "cell_type": "markdown",
   "metadata": {},
   "source": [
    "#### Проверка данных на аномалии в колонке ceiling_height"
   ]
  },
  {
   "cell_type": "code",
   "execution_count": 97,
   "metadata": {},
   "outputs": [
    {
     "data": {
      "text/plain": [
       "count    23565.00\n",
       "mean         2.73\n",
       "std          1.01\n",
       "min          1.00\n",
       "25%          2.55\n",
       "50%          2.70\n",
       "75%          2.70\n",
       "max        100.00\n",
       "Name: ceiling_height, dtype: float64"
      ]
     },
     "execution_count": 97,
     "metadata": {},
     "output_type": "execute_result"
    }
   ],
   "source": [
    "data['ceiling_height'].describe()"
   ]
  },
  {
   "cell_type": "markdown",
   "metadata": {},
   "source": [
    "Высота внутриквартирных коридоров, холлов должна составлять не менее 2,1 м. А по нашим данным min 1, max 100 что является аномальным"
   ]
  },
  {
   "cell_type": "code",
   "execution_count": 98,
   "metadata": {},
   "outputs": [
    {
     "data": {
      "text/html": [
       "<div>\n",
       "<style scoped>\n",
       "    .dataframe tbody tr th:only-of-type {\n",
       "        vertical-align: middle;\n",
       "    }\n",
       "\n",
       "    .dataframe tbody tr th {\n",
       "        vertical-align: top;\n",
       "    }\n",
       "\n",
       "    .dataframe thead th {\n",
       "        text-align: right;\n",
       "    }\n",
       "</style>\n",
       "<table border=\"1\" class=\"dataframe\">\n",
       "  <thead>\n",
       "    <tr style=\"text-align: right;\">\n",
       "      <th></th>\n",
       "      <th>total_images</th>\n",
       "      <th>last_price</th>\n",
       "      <th>total_area</th>\n",
       "      <th>first_day_exposition</th>\n",
       "      <th>rooms</th>\n",
       "      <th>ceiling_height</th>\n",
       "      <th>floors_total</th>\n",
       "      <th>living_area</th>\n",
       "      <th>floor</th>\n",
       "      <th>is_apartment</th>\n",
       "      <th>studio</th>\n",
       "      <th>open_plan</th>\n",
       "      <th>kitchen_area</th>\n",
       "      <th>balcony</th>\n",
       "      <th>locality_name</th>\n",
       "      <th>airports_nearest</th>\n",
       "      <th>city_centers_nearest</th>\n",
       "      <th>parks_around_3000</th>\n",
       "      <th>parks_nearest</th>\n",
       "      <th>ponds_around_3000</th>\n",
       "      <th>ponds_nearest</th>\n",
       "      <th>days_exposition</th>\n",
       "    </tr>\n",
       "  </thead>\n",
       "  <tbody>\n",
       "    <tr>\n",
       "      <th>552</th>\n",
       "      <td>11</td>\n",
       "      <td>3.00e+06</td>\n",
       "      <td>33.50</td>\n",
       "      <td>2017-03-30T00:00:00</td>\n",
       "      <td>1</td>\n",
       "      <td>2.00</td>\n",
       "      <td>15.0</td>\n",
       "      <td>17.50</td>\n",
       "      <td>6</td>\n",
       "      <td>False</td>\n",
       "      <td>False</td>\n",
       "      <td>False</td>\n",
       "      <td>6.50</td>\n",
       "      <td>0</td>\n",
       "      <td>Санкт-Петербург</td>\n",
       "      <td>33972.0</td>\n",
       "      <td>11746.0</td>\n",
       "      <td>1</td>\n",
       "      <td>520.0</td>\n",
       "      <td>1</td>\n",
       "      <td>949.0</td>\n",
       "      <td>270.0</td>\n",
       "    </tr>\n",
       "    <tr>\n",
       "      <th>2572</th>\n",
       "      <td>4</td>\n",
       "      <td>2.40e+06</td>\n",
       "      <td>62.00</td>\n",
       "      <td>2018-12-27T00:00:00</td>\n",
       "      <td>3</td>\n",
       "      <td>2.00</td>\n",
       "      <td>5.0</td>\n",
       "      <td>40.00</td>\n",
       "      <td>4</td>\n",
       "      <td>False</td>\n",
       "      <td>False</td>\n",
       "      <td>False</td>\n",
       "      <td>6.00</td>\n",
       "      <td>1</td>\n",
       "      <td>Луга</td>\n",
       "      <td>26757.0</td>\n",
       "      <td>13096.5</td>\n",
       "      <td>0</td>\n",
       "      <td>455.0</td>\n",
       "      <td>0</td>\n",
       "      <td>504.0</td>\n",
       "      <td>63.0</td>\n",
       "    </tr>\n",
       "    <tr>\n",
       "      <th>4212</th>\n",
       "      <td>1</td>\n",
       "      <td>2.12e+06</td>\n",
       "      <td>35.43</td>\n",
       "      <td>2017-12-18T00:00:00</td>\n",
       "      <td>1</td>\n",
       "      <td>2.00</td>\n",
       "      <td>18.0</td>\n",
       "      <td>16.60</td>\n",
       "      <td>9</td>\n",
       "      <td>False</td>\n",
       "      <td>False</td>\n",
       "      <td>False</td>\n",
       "      <td>8.80</td>\n",
       "      <td>2</td>\n",
       "      <td>Тосно</td>\n",
       "      <td>26757.0</td>\n",
       "      <td>13096.5</td>\n",
       "      <td>0</td>\n",
       "      <td>455.0</td>\n",
       "      <td>0</td>\n",
       "      <td>504.0</td>\n",
       "      <td>36.0</td>\n",
       "    </tr>\n",
       "    <tr>\n",
       "      <th>5712</th>\n",
       "      <td>5</td>\n",
       "      <td>1.50e+06</td>\n",
       "      <td>42.80</td>\n",
       "      <td>2017-08-14T00:00:00</td>\n",
       "      <td>2</td>\n",
       "      <td>1.20</td>\n",
       "      <td>2.0</td>\n",
       "      <td>27.50</td>\n",
       "      <td>1</td>\n",
       "      <td>False</td>\n",
       "      <td>False</td>\n",
       "      <td>False</td>\n",
       "      <td>5.20</td>\n",
       "      <td>0</td>\n",
       "      <td>городской посёлок Мга</td>\n",
       "      <td>26757.0</td>\n",
       "      <td>13096.5</td>\n",
       "      <td>0</td>\n",
       "      <td>455.0</td>\n",
       "      <td>0</td>\n",
       "      <td>504.0</td>\n",
       "      <td>248.0</td>\n",
       "    </tr>\n",
       "    <tr>\n",
       "      <th>5850</th>\n",
       "      <td>9</td>\n",
       "      <td>1.65e+06</td>\n",
       "      <td>35.50</td>\n",
       "      <td>2018-05-29T00:00:00</td>\n",
       "      <td>1</td>\n",
       "      <td>2.00</td>\n",
       "      <td>5.0</td>\n",
       "      <td>17.15</td>\n",
       "      <td>5</td>\n",
       "      <td>False</td>\n",
       "      <td>False</td>\n",
       "      <td>False</td>\n",
       "      <td>8.50</td>\n",
       "      <td>0</td>\n",
       "      <td>Луга</td>\n",
       "      <td>26757.0</td>\n",
       "      <td>13096.5</td>\n",
       "      <td>0</td>\n",
       "      <td>455.0</td>\n",
       "      <td>0</td>\n",
       "      <td>504.0</td>\n",
       "      <td>100.0</td>\n",
       "    </tr>\n",
       "    <tr>\n",
       "      <th>11352</th>\n",
       "      <td>4</td>\n",
       "      <td>3.30e+06</td>\n",
       "      <td>36.00</td>\n",
       "      <td>2017-06-18T00:00:00</td>\n",
       "      <td>1</td>\n",
       "      <td>2.00</td>\n",
       "      <td>17.0</td>\n",
       "      <td>15.20</td>\n",
       "      <td>12</td>\n",
       "      <td>False</td>\n",
       "      <td>False</td>\n",
       "      <td>False</td>\n",
       "      <td>10.10</td>\n",
       "      <td>0</td>\n",
       "      <td>посёлок Металлострой</td>\n",
       "      <td>25268.0</td>\n",
       "      <td>26980.0</td>\n",
       "      <td>0</td>\n",
       "      <td>455.0</td>\n",
       "      <td>0</td>\n",
       "      <td>504.0</td>\n",
       "      <td>53.0</td>\n",
       "    </tr>\n",
       "    <tr>\n",
       "      <th>16446</th>\n",
       "      <td>6</td>\n",
       "      <td>1.23e+07</td>\n",
       "      <td>88.30</td>\n",
       "      <td>2019-03-12T00:00:00</td>\n",
       "      <td>3</td>\n",
       "      <td>2.00</td>\n",
       "      <td>5.0</td>\n",
       "      <td>63.90</td>\n",
       "      <td>2</td>\n",
       "      <td>False</td>\n",
       "      <td>False</td>\n",
       "      <td>False</td>\n",
       "      <td>12.00</td>\n",
       "      <td>0</td>\n",
       "      <td>Санкт-Петербург</td>\n",
       "      <td>38415.0</td>\n",
       "      <td>7675.0</td>\n",
       "      <td>1</td>\n",
       "      <td>568.0</td>\n",
       "      <td>1</td>\n",
       "      <td>154.0</td>\n",
       "      <td>95.0</td>\n",
       "    </tr>\n",
       "    <tr>\n",
       "      <th>16884</th>\n",
       "      <td>0</td>\n",
       "      <td>1.50e+06</td>\n",
       "      <td>33.00</td>\n",
       "      <td>2018-10-03T00:00:00</td>\n",
       "      <td>1</td>\n",
       "      <td>2.00</td>\n",
       "      <td>5.0</td>\n",
       "      <td>20.00</td>\n",
       "      <td>5</td>\n",
       "      <td>False</td>\n",
       "      <td>False</td>\n",
       "      <td>False</td>\n",
       "      <td>6.00</td>\n",
       "      <td>0</td>\n",
       "      <td>Выборг</td>\n",
       "      <td>26757.0</td>\n",
       "      <td>13096.5</td>\n",
       "      <td>0</td>\n",
       "      <td>455.0</td>\n",
       "      <td>0</td>\n",
       "      <td>504.0</td>\n",
       "      <td>6.0</td>\n",
       "    </tr>\n",
       "    <tr>\n",
       "      <th>16934</th>\n",
       "      <td>5</td>\n",
       "      <td>4.10e+06</td>\n",
       "      <td>40.00</td>\n",
       "      <td>2017-10-17T00:00:00</td>\n",
       "      <td>1</td>\n",
       "      <td>1.75</td>\n",
       "      <td>37.0</td>\n",
       "      <td>17.40</td>\n",
       "      <td>5</td>\n",
       "      <td>False</td>\n",
       "      <td>False</td>\n",
       "      <td>False</td>\n",
       "      <td>8.34</td>\n",
       "      <td>0</td>\n",
       "      <td>Санкт-Петербург</td>\n",
       "      <td>18732.0</td>\n",
       "      <td>20444.0</td>\n",
       "      <td>0</td>\n",
       "      <td>455.0</td>\n",
       "      <td>3</td>\n",
       "      <td>80.0</td>\n",
       "      <td>71.0</td>\n",
       "    </tr>\n",
       "    <tr>\n",
       "      <th>19098</th>\n",
       "      <td>7</td>\n",
       "      <td>2.70e+06</td>\n",
       "      <td>56.00</td>\n",
       "      <td>2018-02-04T00:00:00</td>\n",
       "      <td>3</td>\n",
       "      <td>2.00</td>\n",
       "      <td>5.0</td>\n",
       "      <td>46.00</td>\n",
       "      <td>1</td>\n",
       "      <td>False</td>\n",
       "      <td>False</td>\n",
       "      <td>False</td>\n",
       "      <td>6.00</td>\n",
       "      <td>0</td>\n",
       "      <td>Выборг</td>\n",
       "      <td>26757.0</td>\n",
       "      <td>13096.5</td>\n",
       "      <td>0</td>\n",
       "      <td>455.0</td>\n",
       "      <td>0</td>\n",
       "      <td>504.0</td>\n",
       "      <td>282.0</td>\n",
       "    </tr>\n",
       "    <tr>\n",
       "      <th>19329</th>\n",
       "      <td>5</td>\n",
       "      <td>1.70e+06</td>\n",
       "      <td>40.00</td>\n",
       "      <td>2018-07-15T00:00:00</td>\n",
       "      <td>2</td>\n",
       "      <td>2.00</td>\n",
       "      <td>9.0</td>\n",
       "      <td>18.00</td>\n",
       "      <td>8</td>\n",
       "      <td>False</td>\n",
       "      <td>False</td>\n",
       "      <td>False</td>\n",
       "      <td>10.00</td>\n",
       "      <td>0</td>\n",
       "      <td>Сосновый Бор</td>\n",
       "      <td>26757.0</td>\n",
       "      <td>13096.5</td>\n",
       "      <td>0</td>\n",
       "      <td>455.0</td>\n",
       "      <td>0</td>\n",
       "      <td>504.0</td>\n",
       "      <td>45.0</td>\n",
       "    </tr>\n",
       "    <tr>\n",
       "      <th>20520</th>\n",
       "      <td>9</td>\n",
       "      <td>3.60e+06</td>\n",
       "      <td>38.00</td>\n",
       "      <td>2018-07-05T00:00:00</td>\n",
       "      <td>1</td>\n",
       "      <td>2.00</td>\n",
       "      <td>12.0</td>\n",
       "      <td>15.00</td>\n",
       "      <td>9</td>\n",
       "      <td>False</td>\n",
       "      <td>False</td>\n",
       "      <td>False</td>\n",
       "      <td>11.80</td>\n",
       "      <td>1</td>\n",
       "      <td>Кудрово</td>\n",
       "      <td>26757.0</td>\n",
       "      <td>13096.5</td>\n",
       "      <td>0</td>\n",
       "      <td>455.0</td>\n",
       "      <td>0</td>\n",
       "      <td>504.0</td>\n",
       "      <td>62.0</td>\n",
       "    </tr>\n",
       "    <tr>\n",
       "      <th>22590</th>\n",
       "      <td>16</td>\n",
       "      <td>6.00e+06</td>\n",
       "      <td>55.00</td>\n",
       "      <td>2018-10-31T00:00:00</td>\n",
       "      <td>2</td>\n",
       "      <td>1.00</td>\n",
       "      <td>12.0</td>\n",
       "      <td>32.40</td>\n",
       "      <td>7</td>\n",
       "      <td>False</td>\n",
       "      <td>False</td>\n",
       "      <td>False</td>\n",
       "      <td>10.00</td>\n",
       "      <td>0</td>\n",
       "      <td>Санкт-Петербург</td>\n",
       "      <td>33053.0</td>\n",
       "      <td>14217.0</td>\n",
       "      <td>2</td>\n",
       "      <td>293.0</td>\n",
       "      <td>2</td>\n",
       "      <td>289.0</td>\n",
       "      <td>13.0</td>\n",
       "    </tr>\n",
       "    <tr>\n",
       "      <th>22960</th>\n",
       "      <td>17</td>\n",
       "      <td>2.30e+06</td>\n",
       "      <td>53.60</td>\n",
       "      <td>2018-10-18T00:00:00</td>\n",
       "      <td>2</td>\n",
       "      <td>2.00</td>\n",
       "      <td>2.0</td>\n",
       "      <td>19.00</td>\n",
       "      <td>1</td>\n",
       "      <td>False</td>\n",
       "      <td>False</td>\n",
       "      <td>False</td>\n",
       "      <td>10.00</td>\n",
       "      <td>0</td>\n",
       "      <td>Всеволожск</td>\n",
       "      <td>26757.0</td>\n",
       "      <td>13096.5</td>\n",
       "      <td>0</td>\n",
       "      <td>455.0</td>\n",
       "      <td>0</td>\n",
       "      <td>504.0</td>\n",
       "      <td>123.0</td>\n",
       "    </tr>\n",
       "  </tbody>\n",
       "</table>\n",
       "</div>"
      ],
      "text/plain": [
       "       total_images  last_price  total_area first_day_exposition  rooms  \\\n",
       "552              11    3.00e+06       33.50  2017-03-30T00:00:00      1   \n",
       "2572              4    2.40e+06       62.00  2018-12-27T00:00:00      3   \n",
       "4212              1    2.12e+06       35.43  2017-12-18T00:00:00      1   \n",
       "5712              5    1.50e+06       42.80  2017-08-14T00:00:00      2   \n",
       "5850              9    1.65e+06       35.50  2018-05-29T00:00:00      1   \n",
       "11352             4    3.30e+06       36.00  2017-06-18T00:00:00      1   \n",
       "16446             6    1.23e+07       88.30  2019-03-12T00:00:00      3   \n",
       "16884             0    1.50e+06       33.00  2018-10-03T00:00:00      1   \n",
       "16934             5    4.10e+06       40.00  2017-10-17T00:00:00      1   \n",
       "19098             7    2.70e+06       56.00  2018-02-04T00:00:00      3   \n",
       "19329             5    1.70e+06       40.00  2018-07-15T00:00:00      2   \n",
       "20520             9    3.60e+06       38.00  2018-07-05T00:00:00      1   \n",
       "22590            16    6.00e+06       55.00  2018-10-31T00:00:00      2   \n",
       "22960            17    2.30e+06       53.60  2018-10-18T00:00:00      2   \n",
       "\n",
       "       ceiling_height  floors_total  living_area  floor  is_apartment  studio  \\\n",
       "552              2.00          15.0        17.50      6         False   False   \n",
       "2572             2.00           5.0        40.00      4         False   False   \n",
       "4212             2.00          18.0        16.60      9         False   False   \n",
       "5712             1.20           2.0        27.50      1         False   False   \n",
       "5850             2.00           5.0        17.15      5         False   False   \n",
       "11352            2.00          17.0        15.20     12         False   False   \n",
       "16446            2.00           5.0        63.90      2         False   False   \n",
       "16884            2.00           5.0        20.00      5         False   False   \n",
       "16934            1.75          37.0        17.40      5         False   False   \n",
       "19098            2.00           5.0        46.00      1         False   False   \n",
       "19329            2.00           9.0        18.00      8         False   False   \n",
       "20520            2.00          12.0        15.00      9         False   False   \n",
       "22590            1.00          12.0        32.40      7         False   False   \n",
       "22960            2.00           2.0        19.00      1         False   False   \n",
       "\n",
       "       open_plan  kitchen_area  balcony          locality_name  \\\n",
       "552        False          6.50        0        Санкт-Петербург   \n",
       "2572       False          6.00        1                   Луга   \n",
       "4212       False          8.80        2                  Тосно   \n",
       "5712       False          5.20        0  городской посёлок Мга   \n",
       "5850       False          8.50        0                   Луга   \n",
       "11352      False         10.10        0   посёлок Металлострой   \n",
       "16446      False         12.00        0        Санкт-Петербург   \n",
       "16884      False          6.00        0                 Выборг   \n",
       "16934      False          8.34        0        Санкт-Петербург   \n",
       "19098      False          6.00        0                 Выборг   \n",
       "19329      False         10.00        0           Сосновый Бор   \n",
       "20520      False         11.80        1                Кудрово   \n",
       "22590      False         10.00        0        Санкт-Петербург   \n",
       "22960      False         10.00        0             Всеволожск   \n",
       "\n",
       "       airports_nearest  city_centers_nearest  parks_around_3000  \\\n",
       "552             33972.0               11746.0                  1   \n",
       "2572            26757.0               13096.5                  0   \n",
       "4212            26757.0               13096.5                  0   \n",
       "5712            26757.0               13096.5                  0   \n",
       "5850            26757.0               13096.5                  0   \n",
       "11352           25268.0               26980.0                  0   \n",
       "16446           38415.0                7675.0                  1   \n",
       "16884           26757.0               13096.5                  0   \n",
       "16934           18732.0               20444.0                  0   \n",
       "19098           26757.0               13096.5                  0   \n",
       "19329           26757.0               13096.5                  0   \n",
       "20520           26757.0               13096.5                  0   \n",
       "22590           33053.0               14217.0                  2   \n",
       "22960           26757.0               13096.5                  0   \n",
       "\n",
       "       parks_nearest  ponds_around_3000  ponds_nearest  days_exposition  \n",
       "552            520.0                  1          949.0            270.0  \n",
       "2572           455.0                  0          504.0             63.0  \n",
       "4212           455.0                  0          504.0             36.0  \n",
       "5712           455.0                  0          504.0            248.0  \n",
       "5850           455.0                  0          504.0            100.0  \n",
       "11352          455.0                  0          504.0             53.0  \n",
       "16446          568.0                  1          154.0             95.0  \n",
       "16884          455.0                  0          504.0              6.0  \n",
       "16934          455.0                  3           80.0             71.0  \n",
       "19098          455.0                  0          504.0            282.0  \n",
       "19329          455.0                  0          504.0             45.0  \n",
       "20520          455.0                  0          504.0             62.0  \n",
       "22590          293.0                  2          289.0             13.0  \n",
       "22960          455.0                  0          504.0            123.0  "
      ]
     },
     "execution_count": 98,
     "metadata": {},
     "output_type": "execute_result"
    }
   ],
   "source": [
    "data.query('ceiling_height <= 2.1')"
   ]
  },
  {
   "cell_type": "markdown",
   "metadata": {},
   "source": [
    "Высота потолков на 14 объектах ниже нормы 2.1. \n",
    "Присвоим медианное значение рассчитанное по всей базе данных."
   ]
  },
  {
   "cell_type": "code",
   "execution_count": 99,
   "metadata": {},
   "outputs": [
    {
     "data": {
      "text/plain": [
       "2.7"
      ]
     },
     "execution_count": 99,
     "metadata": {},
     "output_type": "execute_result"
    }
   ],
   "source": [
    "data.ceiling_height.median()"
   ]
  },
  {
   "cell_type": "code",
   "execution_count": 100,
   "metadata": {},
   "outputs": [],
   "source": [
    "data['ceiling_height'] = data['ceiling_height'].mask(data['ceiling_height'] < 2.1, data['ceiling_height'].median())"
   ]
  },
  {
   "cell_type": "code",
   "execution_count": 101,
   "metadata": {},
   "outputs": [
    {
     "data": {
      "text/plain": [
       "count    23565.00\n",
       "mean         2.73\n",
       "std          1.01\n",
       "min          2.20\n",
       "25%          2.55\n",
       "50%          2.70\n",
       "75%          2.70\n",
       "max        100.00\n",
       "Name: ceiling_height, dtype: float64"
      ]
     },
     "execution_count": 101,
     "metadata": {},
     "output_type": "execute_result"
    }
   ],
   "source": [
    "data['ceiling_height'].describe()"
   ]
  },
  {
   "cell_type": "markdown",
   "metadata": {},
   "source": [
    "#### Проверка данных на аномалии в колонке living_area"
   ]
  },
  {
   "cell_type": "code",
   "execution_count": 102,
   "metadata": {},
   "outputs": [
    {
     "data": {
      "text/plain": [
       "count    23565.00\n",
       "mean        34.63\n",
       "std         22.47\n",
       "min          2.00\n",
       "25%         18.60\n",
       "50%         30.00\n",
       "75%         42.30\n",
       "max        409.70\n",
       "Name: living_area, dtype: float64"
      ]
     },
     "execution_count": 102,
     "metadata": {},
     "output_type": "execute_result"
    }
   ],
   "source": [
    "data['living_area'].describe()"
   ]
  },
  {
   "cell_type": "markdown",
   "metadata": {},
   "source": [
    "В Санкт-Петербурге действуют нормы:\n",
    "\n",
    "9 м2 общей площади жилого помещения для проживающих в отдельных квартирах и жилых домах;"
   ]
  },
  {
   "cell_type": "code",
   "execution_count": 103,
   "metadata": {
    "scrolled": true
   },
   "outputs": [
    {
     "name": "stdout",
     "output_type": "stream",
     "text": [
      "Найдено 5 строк с аномально маленькой жилой площадью:\n"
     ]
    },
    {
     "data": {
      "text/html": [
       "<div>\n",
       "<style scoped>\n",
       "    .dataframe tbody tr th:only-of-type {\n",
       "        vertical-align: middle;\n",
       "    }\n",
       "\n",
       "    .dataframe tbody tr th {\n",
       "        vertical-align: top;\n",
       "    }\n",
       "\n",
       "    .dataframe thead th {\n",
       "        text-align: right;\n",
       "    }\n",
       "</style>\n",
       "<table border=\"1\" class=\"dataframe\">\n",
       "  <thead>\n",
       "    <tr style=\"text-align: right;\">\n",
       "      <th></th>\n",
       "      <th>total_images</th>\n",
       "      <th>last_price</th>\n",
       "      <th>total_area</th>\n",
       "      <th>first_day_exposition</th>\n",
       "      <th>rooms</th>\n",
       "      <th>ceiling_height</th>\n",
       "      <th>floors_total</th>\n",
       "      <th>living_area</th>\n",
       "      <th>floor</th>\n",
       "      <th>is_apartment</th>\n",
       "      <th>studio</th>\n",
       "      <th>open_plan</th>\n",
       "      <th>kitchen_area</th>\n",
       "      <th>balcony</th>\n",
       "      <th>locality_name</th>\n",
       "      <th>airports_nearest</th>\n",
       "      <th>city_centers_nearest</th>\n",
       "      <th>parks_around_3000</th>\n",
       "      <th>parks_nearest</th>\n",
       "      <th>ponds_around_3000</th>\n",
       "      <th>ponds_nearest</th>\n",
       "      <th>days_exposition</th>\n",
       "    </tr>\n",
       "  </thead>\n",
       "  <tbody>\n",
       "    <tr>\n",
       "      <th>3242</th>\n",
       "      <td>7</td>\n",
       "      <td>4.44e+06</td>\n",
       "      <td>41.0</td>\n",
       "      <td>2017-07-02T00:00:00</td>\n",
       "      <td>1</td>\n",
       "      <td>2.7</td>\n",
       "      <td>17.0</td>\n",
       "      <td>3.0</td>\n",
       "      <td>17</td>\n",
       "      <td>False</td>\n",
       "      <td>False</td>\n",
       "      <td>False</td>\n",
       "      <td>11.0</td>\n",
       "      <td>0</td>\n",
       "      <td>Санкт-Петербург</td>\n",
       "      <td>19272.0</td>\n",
       "      <td>13073.0</td>\n",
       "      <td>0</td>\n",
       "      <td>455.0</td>\n",
       "      <td>0</td>\n",
       "      <td>504.0</td>\n",
       "      <td>216.0</td>\n",
       "    </tr>\n",
       "    <tr>\n",
       "      <th>13915</th>\n",
       "      <td>20</td>\n",
       "      <td>6.35e+06</td>\n",
       "      <td>52.0</td>\n",
       "      <td>2018-02-06T00:00:00</td>\n",
       "      <td>2</td>\n",
       "      <td>3.0</td>\n",
       "      <td>6.0</td>\n",
       "      <td>2.0</td>\n",
       "      <td>2</td>\n",
       "      <td>False</td>\n",
       "      <td>False</td>\n",
       "      <td>False</td>\n",
       "      <td>9.0</td>\n",
       "      <td>0</td>\n",
       "      <td>Санкт-Петербург</td>\n",
       "      <td>32453.0</td>\n",
       "      <td>6521.0</td>\n",
       "      <td>0</td>\n",
       "      <td>455.0</td>\n",
       "      <td>1</td>\n",
       "      <td>1012.0</td>\n",
       "      <td>91.0</td>\n",
       "    </tr>\n",
       "    <tr>\n",
       "      <th>17582</th>\n",
       "      <td>11</td>\n",
       "      <td>2.68e+06</td>\n",
       "      <td>22.0</td>\n",
       "      <td>2018-08-11T00:00:00</td>\n",
       "      <td>1</td>\n",
       "      <td>2.7</td>\n",
       "      <td>25.0</td>\n",
       "      <td>5.0</td>\n",
       "      <td>8</td>\n",
       "      <td>False</td>\n",
       "      <td>True</td>\n",
       "      <td>False</td>\n",
       "      <td>5.3</td>\n",
       "      <td>2</td>\n",
       "      <td>Санкт-Петербург</td>\n",
       "      <td>22735.0</td>\n",
       "      <td>11618.0</td>\n",
       "      <td>1</td>\n",
       "      <td>835.0</td>\n",
       "      <td>1</td>\n",
       "      <td>652.0</td>\n",
       "      <td>70.0</td>\n",
       "    </tr>\n",
       "    <tr>\n",
       "      <th>21758</th>\n",
       "      <td>0</td>\n",
       "      <td>2.33e+06</td>\n",
       "      <td>23.0</td>\n",
       "      <td>2018-01-01T00:00:00</td>\n",
       "      <td>1</td>\n",
       "      <td>2.7</td>\n",
       "      <td>24.0</td>\n",
       "      <td>2.0</td>\n",
       "      <td>22</td>\n",
       "      <td>False</td>\n",
       "      <td>True</td>\n",
       "      <td>False</td>\n",
       "      <td>5.0</td>\n",
       "      <td>0</td>\n",
       "      <td>посёлок Мурино</td>\n",
       "      <td>26757.0</td>\n",
       "      <td>13096.5</td>\n",
       "      <td>0</td>\n",
       "      <td>455.0</td>\n",
       "      <td>0</td>\n",
       "      <td>504.0</td>\n",
       "      <td>66.0</td>\n",
       "    </tr>\n",
       "    <tr>\n",
       "      <th>23574</th>\n",
       "      <td>14</td>\n",
       "      <td>6.50e+07</td>\n",
       "      <td>139.0</td>\n",
       "      <td>2015-11-24T00:00:00</td>\n",
       "      <td>3</td>\n",
       "      <td>3.0</td>\n",
       "      <td>8.0</td>\n",
       "      <td>3.0</td>\n",
       "      <td>8</td>\n",
       "      <td>False</td>\n",
       "      <td>False</td>\n",
       "      <td>False</td>\n",
       "      <td>16.0</td>\n",
       "      <td>1</td>\n",
       "      <td>Санкт-Петербург</td>\n",
       "      <td>33255.0</td>\n",
       "      <td>5975.0</td>\n",
       "      <td>1</td>\n",
       "      <td>630.0</td>\n",
       "      <td>3</td>\n",
       "      <td>100.0</td>\n",
       "      <td>280.0</td>\n",
       "    </tr>\n",
       "  </tbody>\n",
       "</table>\n",
       "</div>"
      ],
      "text/plain": [
       "       total_images  last_price  total_area first_day_exposition  rooms  \\\n",
       "3242              7    4.44e+06        41.0  2017-07-02T00:00:00      1   \n",
       "13915            20    6.35e+06        52.0  2018-02-06T00:00:00      2   \n",
       "17582            11    2.68e+06        22.0  2018-08-11T00:00:00      1   \n",
       "21758             0    2.33e+06        23.0  2018-01-01T00:00:00      1   \n",
       "23574            14    6.50e+07       139.0  2015-11-24T00:00:00      3   \n",
       "\n",
       "       ceiling_height  floors_total  living_area  floor  is_apartment  studio  \\\n",
       "3242              2.7          17.0          3.0     17         False   False   \n",
       "13915             3.0           6.0          2.0      2         False   False   \n",
       "17582             2.7          25.0          5.0      8         False    True   \n",
       "21758             2.7          24.0          2.0     22         False    True   \n",
       "23574             3.0           8.0          3.0      8         False   False   \n",
       "\n",
       "       open_plan  kitchen_area  balcony    locality_name  airports_nearest  \\\n",
       "3242       False          11.0        0  Санкт-Петербург           19272.0   \n",
       "13915      False           9.0        0  Санкт-Петербург           32453.0   \n",
       "17582      False           5.3        2  Санкт-Петербург           22735.0   \n",
       "21758      False           5.0        0   посёлок Мурино           26757.0   \n",
       "23574      False          16.0        1  Санкт-Петербург           33255.0   \n",
       "\n",
       "       city_centers_nearest  parks_around_3000  parks_nearest  \\\n",
       "3242                13073.0                  0          455.0   \n",
       "13915                6521.0                  0          455.0   \n",
       "17582               11618.0                  1          835.0   \n",
       "21758               13096.5                  0          455.0   \n",
       "23574                5975.0                  1          630.0   \n",
       "\n",
       "       ponds_around_3000  ponds_nearest  days_exposition  \n",
       "3242                   0          504.0            216.0  \n",
       "13915                  1         1012.0             91.0  \n",
       "17582                  1          652.0             70.0  \n",
       "21758                  0          504.0             66.0  \n",
       "23574                  3          100.0            280.0  "
      ]
     },
     "execution_count": 103,
     "metadata": {},
     "output_type": "execute_result"
    }
   ],
   "source": [
    "living_area_norm = 9\n",
    "median_area_ratio = data['living_area'].median() / data['total_area'].median()\n",
    "min_living_area = living_area_norm * median_area_ratio\n",
    "data_anomalies = data[data['living_area'] <= min_living_area]\n",
    "\n",
    "print(f\"Найдено {len(data_anomalies)} строк с аномально маленькой жилой площадью:\")\n",
    "data_anomalies"
   ]
  },
  {
   "cell_type": "markdown",
   "metadata": {},
   "source": [
    "Вычисляем медиану living_area и заменим значения меньше 9 м2 на медиану"
   ]
  },
  {
   "cell_type": "code",
   "execution_count": 104,
   "metadata": {},
   "outputs": [],
   "source": [
    "median_living_area = data['living_area'].median()\n",
    "data.loc[data['living_area'] <= 9, 'living_area'] = median_living_area"
   ]
  },
  {
   "cell_type": "code",
   "execution_count": 105,
   "metadata": {},
   "outputs": [
    {
     "data": {
      "text/plain": [
       "count    23565.00\n",
       "mean        34.66\n",
       "std         22.46\n",
       "min          9.10\n",
       "25%         18.70\n",
       "50%         30.00\n",
       "75%         42.30\n",
       "max        409.70\n",
       "Name: living_area, dtype: float64"
      ]
     },
     "execution_count": 105,
     "metadata": {},
     "output_type": "execute_result"
    }
   ],
   "source": [
    "data['living_area'].describe()"
   ]
  },
  {
   "cell_type": "markdown",
   "metadata": {},
   "source": [
    "#### Проверка данных на аномалии в колонке kitchen_area"
   ]
  },
  {
   "cell_type": "code",
   "execution_count": 106,
   "metadata": {},
   "outputs": [
    {
     "data": {
      "text/plain": [
       "count    23565.00\n",
       "mean        10.45\n",
       "std          5.90\n",
       "min          1.30\n",
       "25%          7.00\n",
       "50%          9.00\n",
       "75%         11.80\n",
       "max        112.00\n",
       "Name: kitchen_area, dtype: float64"
      ]
     },
     "execution_count": 106,
     "metadata": {},
     "output_type": "execute_result"
    }
   ],
   "source": [
    "data['kitchen_area'].describe()"
   ]
  },
  {
   "cell_type": "markdown",
   "metadata": {},
   "source": [
    "По кухне никаких норм не выявлено, поэтому оставляем без изменения"
   ]
  },
  {
   "cell_type": "markdown",
   "metadata": {},
   "source": [
    "#### Результаты проверки данных на аномалии"
   ]
  },
  {
   "cell_type": "code",
   "execution_count": 107,
   "metadata": {},
   "outputs": [
    {
     "data": {
      "text/html": [
       "<div>\n",
       "<style scoped>\n",
       "    .dataframe tbody tr th:only-of-type {\n",
       "        vertical-align: middle;\n",
       "    }\n",
       "\n",
       "    .dataframe tbody tr th {\n",
       "        vertical-align: top;\n",
       "    }\n",
       "\n",
       "    .dataframe thead th {\n",
       "        text-align: right;\n",
       "    }\n",
       "</style>\n",
       "<table border=\"1\" class=\"dataframe\">\n",
       "  <thead>\n",
       "    <tr style=\"text-align: right;\">\n",
       "      <th></th>\n",
       "      <th>total_images</th>\n",
       "      <th>last_price</th>\n",
       "      <th>total_area</th>\n",
       "      <th>rooms</th>\n",
       "      <th>ceiling_height</th>\n",
       "      <th>floors_total</th>\n",
       "      <th>living_area</th>\n",
       "      <th>floor</th>\n",
       "      <th>kitchen_area</th>\n",
       "      <th>balcony</th>\n",
       "      <th>airports_nearest</th>\n",
       "      <th>city_centers_nearest</th>\n",
       "      <th>parks_around_3000</th>\n",
       "      <th>parks_nearest</th>\n",
       "      <th>ponds_around_3000</th>\n",
       "      <th>ponds_nearest</th>\n",
       "      <th>days_exposition</th>\n",
       "    </tr>\n",
       "  </thead>\n",
       "  <tbody>\n",
       "    <tr>\n",
       "      <th>count</th>\n",
       "      <td>23565.00</td>\n",
       "      <td>2.36e+04</td>\n",
       "      <td>23565.00</td>\n",
       "      <td>23565.00</td>\n",
       "      <td>23565.00</td>\n",
       "      <td>23565.00</td>\n",
       "      <td>23565.00</td>\n",
       "      <td>23565.00</td>\n",
       "      <td>23565.00</td>\n",
       "      <td>23565.00</td>\n",
       "      <td>23565.00</td>\n",
       "      <td>23565.00</td>\n",
       "      <td>23565.00</td>\n",
       "      <td>23565.00</td>\n",
       "      <td>23565.00</td>\n",
       "      <td>23565.00</td>\n",
       "      <td>23565.00</td>\n",
       "    </tr>\n",
       "    <tr>\n",
       "      <th>mean</th>\n",
       "      <td>9.88</td>\n",
       "      <td>6.54e+06</td>\n",
       "      <td>60.32</td>\n",
       "      <td>2.08</td>\n",
       "      <td>2.73</td>\n",
       "      <td>10.68</td>\n",
       "      <td>34.66</td>\n",
       "      <td>5.88</td>\n",
       "      <td>10.45</td>\n",
       "      <td>0.59</td>\n",
       "      <td>28318.86</td>\n",
       "      <td>13936.77</td>\n",
       "      <td>0.47</td>\n",
       "      <td>467.12</td>\n",
       "      <td>0.59</td>\n",
       "      <td>509.07</td>\n",
       "      <td>169.92</td>\n",
       "    </tr>\n",
       "    <tr>\n",
       "      <th>std</th>\n",
       "      <td>5.68</td>\n",
       "      <td>1.09e+07</td>\n",
       "      <td>35.66</td>\n",
       "      <td>1.07</td>\n",
       "      <td>1.01</td>\n",
       "      <td>6.59</td>\n",
       "      <td>22.46</td>\n",
       "      <td>4.87</td>\n",
       "      <td>5.90</td>\n",
       "      <td>0.96</td>\n",
       "      <td>11086.81</td>\n",
       "      <td>7555.48</td>\n",
       "      <td>0.75</td>\n",
       "      <td>200.10</td>\n",
       "      <td>0.88</td>\n",
       "      <td>174.94</td>\n",
       "      <td>206.88</td>\n",
       "    </tr>\n",
       "    <tr>\n",
       "      <th>min</th>\n",
       "      <td>0.00</td>\n",
       "      <td>1.22e+04</td>\n",
       "      <td>12.00</td>\n",
       "      <td>1.00</td>\n",
       "      <td>2.20</td>\n",
       "      <td>1.00</td>\n",
       "      <td>9.10</td>\n",
       "      <td>1.00</td>\n",
       "      <td>1.30</td>\n",
       "      <td>0.00</td>\n",
       "      <td>0.00</td>\n",
       "      <td>181.00</td>\n",
       "      <td>0.00</td>\n",
       "      <td>1.00</td>\n",
       "      <td>0.00</td>\n",
       "      <td>13.00</td>\n",
       "      <td>1.00</td>\n",
       "    </tr>\n",
       "    <tr>\n",
       "      <th>25%</th>\n",
       "      <td>6.00</td>\n",
       "      <td>3.40e+06</td>\n",
       "      <td>40.00</td>\n",
       "      <td>1.00</td>\n",
       "      <td>2.55</td>\n",
       "      <td>5.00</td>\n",
       "      <td>18.70</td>\n",
       "      <td>2.00</td>\n",
       "      <td>7.00</td>\n",
       "      <td>0.00</td>\n",
       "      <td>21166.00</td>\n",
       "      <td>10935.00</td>\n",
       "      <td>0.00</td>\n",
       "      <td>455.00</td>\n",
       "      <td>0.00</td>\n",
       "      <td>504.00</td>\n",
       "      <td>45.00</td>\n",
       "    </tr>\n",
       "    <tr>\n",
       "      <th>50%</th>\n",
       "      <td>9.00</td>\n",
       "      <td>4.65e+06</td>\n",
       "      <td>52.00</td>\n",
       "      <td>2.00</td>\n",
       "      <td>2.70</td>\n",
       "      <td>9.00</td>\n",
       "      <td>30.00</td>\n",
       "      <td>4.00</td>\n",
       "      <td>9.00</td>\n",
       "      <td>0.00</td>\n",
       "      <td>26757.00</td>\n",
       "      <td>13096.50</td>\n",
       "      <td>0.00</td>\n",
       "      <td>455.00</td>\n",
       "      <td>0.00</td>\n",
       "      <td>504.00</td>\n",
       "      <td>95.00</td>\n",
       "    </tr>\n",
       "    <tr>\n",
       "      <th>75%</th>\n",
       "      <td>14.00</td>\n",
       "      <td>6.79e+06</td>\n",
       "      <td>69.70</td>\n",
       "      <td>3.00</td>\n",
       "      <td>2.70</td>\n",
       "      <td>16.00</td>\n",
       "      <td>42.30</td>\n",
       "      <td>8.00</td>\n",
       "      <td>11.80</td>\n",
       "      <td>1.00</td>\n",
       "      <td>34324.00</td>\n",
       "      <td>15237.00</td>\n",
       "      <td>1.00</td>\n",
       "      <td>455.00</td>\n",
       "      <td>1.00</td>\n",
       "      <td>504.00</td>\n",
       "      <td>200.00</td>\n",
       "    </tr>\n",
       "    <tr>\n",
       "      <th>max</th>\n",
       "      <td>50.00</td>\n",
       "      <td>7.63e+08</td>\n",
       "      <td>900.00</td>\n",
       "      <td>19.00</td>\n",
       "      <td>100.00</td>\n",
       "      <td>60.00</td>\n",
       "      <td>409.70</td>\n",
       "      <td>33.00</td>\n",
       "      <td>112.00</td>\n",
       "      <td>5.00</td>\n",
       "      <td>84869.00</td>\n",
       "      <td>65968.00</td>\n",
       "      <td>3.00</td>\n",
       "      <td>3190.00</td>\n",
       "      <td>3.00</td>\n",
       "      <td>1344.00</td>\n",
       "      <td>1580.00</td>\n",
       "    </tr>\n",
       "  </tbody>\n",
       "</table>\n",
       "</div>"
      ],
      "text/plain": [
       "       total_images  last_price  total_area     rooms  ceiling_height  \\\n",
       "count      23565.00    2.36e+04    23565.00  23565.00        23565.00   \n",
       "mean           9.88    6.54e+06       60.32      2.08            2.73   \n",
       "std            5.68    1.09e+07       35.66      1.07            1.01   \n",
       "min            0.00    1.22e+04       12.00      1.00            2.20   \n",
       "25%            6.00    3.40e+06       40.00      1.00            2.55   \n",
       "50%            9.00    4.65e+06       52.00      2.00            2.70   \n",
       "75%           14.00    6.79e+06       69.70      3.00            2.70   \n",
       "max           50.00    7.63e+08      900.00     19.00          100.00   \n",
       "\n",
       "       floors_total  living_area     floor  kitchen_area   balcony  \\\n",
       "count      23565.00     23565.00  23565.00      23565.00  23565.00   \n",
       "mean          10.68        34.66      5.88         10.45      0.59   \n",
       "std            6.59        22.46      4.87          5.90      0.96   \n",
       "min            1.00         9.10      1.00          1.30      0.00   \n",
       "25%            5.00        18.70      2.00          7.00      0.00   \n",
       "50%            9.00        30.00      4.00          9.00      0.00   \n",
       "75%           16.00        42.30      8.00         11.80      1.00   \n",
       "max           60.00       409.70     33.00        112.00      5.00   \n",
       "\n",
       "       airports_nearest  city_centers_nearest  parks_around_3000  \\\n",
       "count          23565.00              23565.00           23565.00   \n",
       "mean           28318.86              13936.77               0.47   \n",
       "std            11086.81               7555.48               0.75   \n",
       "min                0.00                181.00               0.00   \n",
       "25%            21166.00              10935.00               0.00   \n",
       "50%            26757.00              13096.50               0.00   \n",
       "75%            34324.00              15237.00               1.00   \n",
       "max            84869.00              65968.00               3.00   \n",
       "\n",
       "       parks_nearest  ponds_around_3000  ponds_nearest  days_exposition  \n",
       "count       23565.00           23565.00       23565.00         23565.00  \n",
       "mean          467.12               0.59         509.07           169.92  \n",
       "std           200.10               0.88         174.94           206.88  \n",
       "min             1.00               0.00          13.00             1.00  \n",
       "25%           455.00               0.00         504.00            45.00  \n",
       "50%           455.00               0.00         504.00            95.00  \n",
       "75%           455.00               1.00         504.00           200.00  \n",
       "max          3190.00               3.00        1344.00          1580.00  "
      ]
     },
     "execution_count": 107,
     "metadata": {},
     "output_type": "execute_result"
    }
   ],
   "source": [
    "data.describe()"
   ]
  },
  {
   "cell_type": "markdown",
   "metadata": {},
   "source": [
    "#### Изменение типов данных"
   ]
  },
  {
   "cell_type": "code",
   "execution_count": 108,
   "metadata": {},
   "outputs": [
    {
     "data": {
      "text/html": [
       "<div>\n",
       "<style scoped>\n",
       "    .dataframe tbody tr th:only-of-type {\n",
       "        vertical-align: middle;\n",
       "    }\n",
       "\n",
       "    .dataframe tbody tr th {\n",
       "        vertical-align: top;\n",
       "    }\n",
       "\n",
       "    .dataframe thead th {\n",
       "        text-align: right;\n",
       "    }\n",
       "</style>\n",
       "<table border=\"1\" class=\"dataframe\">\n",
       "  <thead>\n",
       "    <tr style=\"text-align: right;\">\n",
       "      <th></th>\n",
       "      <th>total_images</th>\n",
       "      <th>last_price</th>\n",
       "      <th>total_area</th>\n",
       "      <th>first_day_exposition</th>\n",
       "      <th>rooms</th>\n",
       "      <th>ceiling_height</th>\n",
       "      <th>floors_total</th>\n",
       "      <th>living_area</th>\n",
       "      <th>floor</th>\n",
       "      <th>is_apartment</th>\n",
       "      <th>studio</th>\n",
       "      <th>open_plan</th>\n",
       "      <th>kitchen_area</th>\n",
       "      <th>balcony</th>\n",
       "      <th>locality_name</th>\n",
       "      <th>airports_nearest</th>\n",
       "      <th>city_centers_nearest</th>\n",
       "      <th>parks_around_3000</th>\n",
       "      <th>parks_nearest</th>\n",
       "      <th>ponds_around_3000</th>\n",
       "      <th>ponds_nearest</th>\n",
       "      <th>days_exposition</th>\n",
       "    </tr>\n",
       "  </thead>\n",
       "  <tbody>\n",
       "    <tr>\n",
       "      <th>0</th>\n",
       "      <td>20</td>\n",
       "      <td>1.30e+07</td>\n",
       "      <td>108.0</td>\n",
       "      <td>2019-03-07T00:00:00</td>\n",
       "      <td>3</td>\n",
       "      <td>2.70</td>\n",
       "      <td>16.0</td>\n",
       "      <td>51.0</td>\n",
       "      <td>8</td>\n",
       "      <td>False</td>\n",
       "      <td>False</td>\n",
       "      <td>False</td>\n",
       "      <td>25.0</td>\n",
       "      <td>0</td>\n",
       "      <td>Санкт-Петербург</td>\n",
       "      <td>18863.0</td>\n",
       "      <td>16028.0</td>\n",
       "      <td>1</td>\n",
       "      <td>482.0</td>\n",
       "      <td>2</td>\n",
       "      <td>755.0</td>\n",
       "      <td>95.0</td>\n",
       "    </tr>\n",
       "    <tr>\n",
       "      <th>1</th>\n",
       "      <td>7</td>\n",
       "      <td>3.35e+06</td>\n",
       "      <td>40.4</td>\n",
       "      <td>2018-12-04T00:00:00</td>\n",
       "      <td>1</td>\n",
       "      <td>2.62</td>\n",
       "      <td>11.0</td>\n",
       "      <td>18.6</td>\n",
       "      <td>1</td>\n",
       "      <td>False</td>\n",
       "      <td>False</td>\n",
       "      <td>False</td>\n",
       "      <td>11.0</td>\n",
       "      <td>2</td>\n",
       "      <td>посёлок Шушары</td>\n",
       "      <td>12817.0</td>\n",
       "      <td>18603.0</td>\n",
       "      <td>0</td>\n",
       "      <td>455.0</td>\n",
       "      <td>0</td>\n",
       "      <td>584.5</td>\n",
       "      <td>81.0</td>\n",
       "    </tr>\n",
       "    <tr>\n",
       "      <th>2</th>\n",
       "      <td>10</td>\n",
       "      <td>5.20e+06</td>\n",
       "      <td>56.0</td>\n",
       "      <td>2015-08-20T00:00:00</td>\n",
       "      <td>2</td>\n",
       "      <td>2.70</td>\n",
       "      <td>5.0</td>\n",
       "      <td>34.3</td>\n",
       "      <td>4</td>\n",
       "      <td>False</td>\n",
       "      <td>False</td>\n",
       "      <td>False</td>\n",
       "      <td>8.3</td>\n",
       "      <td>0</td>\n",
       "      <td>Санкт-Петербург</td>\n",
       "      <td>21741.0</td>\n",
       "      <td>13933.0</td>\n",
       "      <td>1</td>\n",
       "      <td>90.0</td>\n",
       "      <td>2</td>\n",
       "      <td>574.0</td>\n",
       "      <td>558.0</td>\n",
       "    </tr>\n",
       "    <tr>\n",
       "      <th>3</th>\n",
       "      <td>0</td>\n",
       "      <td>6.49e+07</td>\n",
       "      <td>159.0</td>\n",
       "      <td>2015-07-24T00:00:00</td>\n",
       "      <td>3</td>\n",
       "      <td>2.70</td>\n",
       "      <td>14.0</td>\n",
       "      <td>95.0</td>\n",
       "      <td>9</td>\n",
       "      <td>False</td>\n",
       "      <td>False</td>\n",
       "      <td>False</td>\n",
       "      <td>15.0</td>\n",
       "      <td>0</td>\n",
       "      <td>Санкт-Петербург</td>\n",
       "      <td>28098.0</td>\n",
       "      <td>6800.0</td>\n",
       "      <td>2</td>\n",
       "      <td>84.0</td>\n",
       "      <td>3</td>\n",
       "      <td>234.0</td>\n",
       "      <td>424.0</td>\n",
       "    </tr>\n",
       "    <tr>\n",
       "      <th>4</th>\n",
       "      <td>2</td>\n",
       "      <td>1.00e+07</td>\n",
       "      <td>100.0</td>\n",
       "      <td>2018-06-19T00:00:00</td>\n",
       "      <td>2</td>\n",
       "      <td>3.03</td>\n",
       "      <td>14.0</td>\n",
       "      <td>32.0</td>\n",
       "      <td>13</td>\n",
       "      <td>False</td>\n",
       "      <td>False</td>\n",
       "      <td>False</td>\n",
       "      <td>41.0</td>\n",
       "      <td>0</td>\n",
       "      <td>Санкт-Петербург</td>\n",
       "      <td>31856.0</td>\n",
       "      <td>8098.0</td>\n",
       "      <td>2</td>\n",
       "      <td>112.0</td>\n",
       "      <td>1</td>\n",
       "      <td>48.0</td>\n",
       "      <td>121.0</td>\n",
       "    </tr>\n",
       "  </tbody>\n",
       "</table>\n",
       "</div>"
      ],
      "text/plain": [
       "   total_images  last_price  total_area first_day_exposition  rooms  \\\n",
       "0            20    1.30e+07       108.0  2019-03-07T00:00:00      3   \n",
       "1             7    3.35e+06        40.4  2018-12-04T00:00:00      1   \n",
       "2            10    5.20e+06        56.0  2015-08-20T00:00:00      2   \n",
       "3             0    6.49e+07       159.0  2015-07-24T00:00:00      3   \n",
       "4             2    1.00e+07       100.0  2018-06-19T00:00:00      2   \n",
       "\n",
       "   ceiling_height  floors_total  living_area  floor  is_apartment  studio  \\\n",
       "0            2.70          16.0         51.0      8         False   False   \n",
       "1            2.62          11.0         18.6      1         False   False   \n",
       "2            2.70           5.0         34.3      4         False   False   \n",
       "3            2.70          14.0         95.0      9         False   False   \n",
       "4            3.03          14.0         32.0     13         False   False   \n",
       "\n",
       "   open_plan  kitchen_area  balcony    locality_name  airports_nearest  \\\n",
       "0      False          25.0        0  Санкт-Петербург           18863.0   \n",
       "1      False          11.0        2   посёлок Шушары           12817.0   \n",
       "2      False           8.3        0  Санкт-Петербург           21741.0   \n",
       "3      False          15.0        0  Санкт-Петербург           28098.0   \n",
       "4      False          41.0        0  Санкт-Петербург           31856.0   \n",
       "\n",
       "   city_centers_nearest  parks_around_3000  parks_nearest  ponds_around_3000  \\\n",
       "0               16028.0                  1          482.0                  2   \n",
       "1               18603.0                  0          455.0                  0   \n",
       "2               13933.0                  1           90.0                  2   \n",
       "3                6800.0                  2           84.0                  3   \n",
       "4                8098.0                  2          112.0                  1   \n",
       "\n",
       "   ponds_nearest  days_exposition  \n",
       "0          755.0             95.0  \n",
       "1          584.5             81.0  \n",
       "2          574.0            558.0  \n",
       "3          234.0            424.0  \n",
       "4           48.0            121.0  "
      ]
     },
     "execution_count": 108,
     "metadata": {},
     "output_type": "execute_result"
    }
   ],
   "source": [
    "data.head()"
   ]
  },
  {
   "cell_type": "code",
   "execution_count": 109,
   "metadata": {},
   "outputs": [
    {
     "data": {
      "text/plain": [
       "array(['2019-03-07T00:00:00', '2018-12-04T00:00:00',\n",
       "       '2015-08-20T00:00:00', ..., '2014-12-29T00:00:00',\n",
       "       '2016-09-12T00:00:00', '2015-07-19T00:00:00'], dtype=object)"
      ]
     },
     "execution_count": 109,
     "metadata": {},
     "output_type": "execute_result"
    }
   ],
   "source": [
    "data['first_day_exposition'].unique()"
   ]
  },
  {
   "cell_type": "markdown",
   "metadata": {},
   "source": [
    "Приведем столбец first_day_exposition к нормальной форме datetime."
   ]
  },
  {
   "cell_type": "code",
   "execution_count": 110,
   "metadata": {},
   "outputs": [],
   "source": [
    "data['first_day_exposition'] = pd.to_datetime(data['first_day_exposition'], format= '%Y-%m-%dT%H:%M:%S')"
   ]
  },
  {
   "cell_type": "code",
   "execution_count": 111,
   "metadata": {},
   "outputs": [
    {
     "data": {
      "text/plain": [
       "0       2019-03-07\n",
       "1       2018-12-04\n",
       "2       2015-08-20\n",
       "3       2015-07-24\n",
       "4       2018-06-19\n",
       "           ...    \n",
       "23694   2017-03-21\n",
       "23695   2018-01-15\n",
       "23696   2018-02-11\n",
       "23697   2017-03-28\n",
       "23698   2017-07-21\n",
       "Name: first_day_exposition, Length: 23565, dtype: datetime64[ns]"
      ]
     },
     "execution_count": 111,
     "metadata": {},
     "output_type": "execute_result"
    }
   ],
   "source": [
    "data['first_day_exposition']"
   ]
  },
  {
   "cell_type": "code",
   "execution_count": 112,
   "metadata": {},
   "outputs": [
    {
     "data": {
      "text/html": [
       "<div>\n",
       "<style scoped>\n",
       "    .dataframe tbody tr th:only-of-type {\n",
       "        vertical-align: middle;\n",
       "    }\n",
       "\n",
       "    .dataframe tbody tr th {\n",
       "        vertical-align: top;\n",
       "    }\n",
       "\n",
       "    .dataframe thead th {\n",
       "        text-align: right;\n",
       "    }\n",
       "</style>\n",
       "<table border=\"1\" class=\"dataframe\">\n",
       "  <thead>\n",
       "    <tr style=\"text-align: right;\">\n",
       "      <th></th>\n",
       "      <th>total_images</th>\n",
       "      <th>last_price</th>\n",
       "      <th>total_area</th>\n",
       "      <th>first_day_exposition</th>\n",
       "      <th>rooms</th>\n",
       "      <th>ceiling_height</th>\n",
       "      <th>floors_total</th>\n",
       "      <th>living_area</th>\n",
       "      <th>floor</th>\n",
       "      <th>is_apartment</th>\n",
       "      <th>studio</th>\n",
       "      <th>open_plan</th>\n",
       "      <th>kitchen_area</th>\n",
       "      <th>balcony</th>\n",
       "      <th>locality_name</th>\n",
       "      <th>airports_nearest</th>\n",
       "      <th>city_centers_nearest</th>\n",
       "      <th>parks_around_3000</th>\n",
       "      <th>parks_nearest</th>\n",
       "      <th>ponds_around_3000</th>\n",
       "      <th>ponds_nearest</th>\n",
       "      <th>days_exposition</th>\n",
       "    </tr>\n",
       "  </thead>\n",
       "  <tbody>\n",
       "    <tr>\n",
       "      <th>0</th>\n",
       "      <td>20</td>\n",
       "      <td>1.30e+07</td>\n",
       "      <td>108.0</td>\n",
       "      <td>2019-03-07</td>\n",
       "      <td>3</td>\n",
       "      <td>2.70</td>\n",
       "      <td>16.0</td>\n",
       "      <td>51.0</td>\n",
       "      <td>8</td>\n",
       "      <td>False</td>\n",
       "      <td>False</td>\n",
       "      <td>False</td>\n",
       "      <td>25.0</td>\n",
       "      <td>0</td>\n",
       "      <td>Санкт-Петербург</td>\n",
       "      <td>18863.0</td>\n",
       "      <td>16028.0</td>\n",
       "      <td>1</td>\n",
       "      <td>482.0</td>\n",
       "      <td>2</td>\n",
       "      <td>755.0</td>\n",
       "      <td>95.0</td>\n",
       "    </tr>\n",
       "    <tr>\n",
       "      <th>1</th>\n",
       "      <td>7</td>\n",
       "      <td>3.35e+06</td>\n",
       "      <td>40.4</td>\n",
       "      <td>2018-12-04</td>\n",
       "      <td>1</td>\n",
       "      <td>2.62</td>\n",
       "      <td>11.0</td>\n",
       "      <td>18.6</td>\n",
       "      <td>1</td>\n",
       "      <td>False</td>\n",
       "      <td>False</td>\n",
       "      <td>False</td>\n",
       "      <td>11.0</td>\n",
       "      <td>2</td>\n",
       "      <td>посёлок Шушары</td>\n",
       "      <td>12817.0</td>\n",
       "      <td>18603.0</td>\n",
       "      <td>0</td>\n",
       "      <td>455.0</td>\n",
       "      <td>0</td>\n",
       "      <td>584.5</td>\n",
       "      <td>81.0</td>\n",
       "    </tr>\n",
       "    <tr>\n",
       "      <th>2</th>\n",
       "      <td>10</td>\n",
       "      <td>5.20e+06</td>\n",
       "      <td>56.0</td>\n",
       "      <td>2015-08-20</td>\n",
       "      <td>2</td>\n",
       "      <td>2.70</td>\n",
       "      <td>5.0</td>\n",
       "      <td>34.3</td>\n",
       "      <td>4</td>\n",
       "      <td>False</td>\n",
       "      <td>False</td>\n",
       "      <td>False</td>\n",
       "      <td>8.3</td>\n",
       "      <td>0</td>\n",
       "      <td>Санкт-Петербург</td>\n",
       "      <td>21741.0</td>\n",
       "      <td>13933.0</td>\n",
       "      <td>1</td>\n",
       "      <td>90.0</td>\n",
       "      <td>2</td>\n",
       "      <td>574.0</td>\n",
       "      <td>558.0</td>\n",
       "    </tr>\n",
       "    <tr>\n",
       "      <th>3</th>\n",
       "      <td>0</td>\n",
       "      <td>6.49e+07</td>\n",
       "      <td>159.0</td>\n",
       "      <td>2015-07-24</td>\n",
       "      <td>3</td>\n",
       "      <td>2.70</td>\n",
       "      <td>14.0</td>\n",
       "      <td>95.0</td>\n",
       "      <td>9</td>\n",
       "      <td>False</td>\n",
       "      <td>False</td>\n",
       "      <td>False</td>\n",
       "      <td>15.0</td>\n",
       "      <td>0</td>\n",
       "      <td>Санкт-Петербург</td>\n",
       "      <td>28098.0</td>\n",
       "      <td>6800.0</td>\n",
       "      <td>2</td>\n",
       "      <td>84.0</td>\n",
       "      <td>3</td>\n",
       "      <td>234.0</td>\n",
       "      <td>424.0</td>\n",
       "    </tr>\n",
       "    <tr>\n",
       "      <th>4</th>\n",
       "      <td>2</td>\n",
       "      <td>1.00e+07</td>\n",
       "      <td>100.0</td>\n",
       "      <td>2018-06-19</td>\n",
       "      <td>2</td>\n",
       "      <td>3.03</td>\n",
       "      <td>14.0</td>\n",
       "      <td>32.0</td>\n",
       "      <td>13</td>\n",
       "      <td>False</td>\n",
       "      <td>False</td>\n",
       "      <td>False</td>\n",
       "      <td>41.0</td>\n",
       "      <td>0</td>\n",
       "      <td>Санкт-Петербург</td>\n",
       "      <td>31856.0</td>\n",
       "      <td>8098.0</td>\n",
       "      <td>2</td>\n",
       "      <td>112.0</td>\n",
       "      <td>1</td>\n",
       "      <td>48.0</td>\n",
       "      <td>121.0</td>\n",
       "    </tr>\n",
       "  </tbody>\n",
       "</table>\n",
       "</div>"
      ],
      "text/plain": [
       "   total_images  last_price  total_area first_day_exposition  rooms  \\\n",
       "0            20    1.30e+07       108.0           2019-03-07      3   \n",
       "1             7    3.35e+06        40.4           2018-12-04      1   \n",
       "2            10    5.20e+06        56.0           2015-08-20      2   \n",
       "3             0    6.49e+07       159.0           2015-07-24      3   \n",
       "4             2    1.00e+07       100.0           2018-06-19      2   \n",
       "\n",
       "   ceiling_height  floors_total  living_area  floor  is_apartment  studio  \\\n",
       "0            2.70          16.0         51.0      8         False   False   \n",
       "1            2.62          11.0         18.6      1         False   False   \n",
       "2            2.70           5.0         34.3      4         False   False   \n",
       "3            2.70          14.0         95.0      9         False   False   \n",
       "4            3.03          14.0         32.0     13         False   False   \n",
       "\n",
       "   open_plan  kitchen_area  balcony    locality_name  airports_nearest  \\\n",
       "0      False          25.0        0  Санкт-Петербург           18863.0   \n",
       "1      False          11.0        2   посёлок Шушары           12817.0   \n",
       "2      False           8.3        0  Санкт-Петербург           21741.0   \n",
       "3      False          15.0        0  Санкт-Петербург           28098.0   \n",
       "4      False          41.0        0  Санкт-Петербург           31856.0   \n",
       "\n",
       "   city_centers_nearest  parks_around_3000  parks_nearest  ponds_around_3000  \\\n",
       "0               16028.0                  1          482.0                  2   \n",
       "1               18603.0                  0          455.0                  0   \n",
       "2               13933.0                  1           90.0                  2   \n",
       "3                6800.0                  2           84.0                  3   \n",
       "4                8098.0                  2          112.0                  1   \n",
       "\n",
       "   ponds_nearest  days_exposition  \n",
       "0          755.0             95.0  \n",
       "1          584.5             81.0  \n",
       "2          574.0            558.0  \n",
       "3          234.0            424.0  \n",
       "4           48.0            121.0  "
      ]
     },
     "execution_count": 112,
     "metadata": {},
     "output_type": "execute_result"
    }
   ],
   "source": [
    "data.head()"
   ]
  },
  {
   "cell_type": "markdown",
   "metadata": {},
   "source": [
    "Заменим вещественный тип данных на целочисленный в столбах last_price и floors_total."
   ]
  },
  {
   "cell_type": "code",
   "execution_count": 113,
   "metadata": {},
   "outputs": [],
   "source": [
    "data['last_price'] = data['last_price'].astype(int)\n",
    "data['floors_total'] = data['floors_total'].astype(int)"
   ]
  },
  {
   "cell_type": "code",
   "execution_count": 114,
   "metadata": {},
   "outputs": [
    {
     "name": "stdout",
     "output_type": "stream",
     "text": [
      "<class 'pandas.core.frame.DataFrame'>\n",
      "Int64Index: 23565 entries, 0 to 23698\n",
      "Data columns (total 22 columns):\n",
      " #   Column                Non-Null Count  Dtype         \n",
      "---  ------                --------------  -----         \n",
      " 0   total_images          23565 non-null  int64         \n",
      " 1   last_price            23565 non-null  int64         \n",
      " 2   total_area            23565 non-null  float64       \n",
      " 3   first_day_exposition  23565 non-null  datetime64[ns]\n",
      " 4   rooms                 23565 non-null  int64         \n",
      " 5   ceiling_height        23565 non-null  float64       \n",
      " 6   floors_total          23565 non-null  int64         \n",
      " 7   living_area           23565 non-null  float64       \n",
      " 8   floor                 23565 non-null  int64         \n",
      " 9   is_apartment          23565 non-null  bool          \n",
      " 10  studio                23565 non-null  bool          \n",
      " 11  open_plan             23565 non-null  bool          \n",
      " 12  kitchen_area          23565 non-null  float64       \n",
      " 13  balcony               23565 non-null  int64         \n",
      " 14  locality_name         23565 non-null  object        \n",
      " 15  airports_nearest      23565 non-null  float64       \n",
      " 16  city_centers_nearest  23565 non-null  float64       \n",
      " 17  parks_around_3000     23565 non-null  int64         \n",
      " 18  parks_nearest         23565 non-null  float64       \n",
      " 19  ponds_around_3000     23565 non-null  int64         \n",
      " 20  ponds_nearest         23565 non-null  float64       \n",
      " 21  days_exposition       23565 non-null  float64       \n",
      "dtypes: bool(3), datetime64[ns](1), float64(9), int64(8), object(1)\n",
      "memory usage: 3.7+ MB\n"
     ]
    }
   ],
   "source": [
    "data.info()"
   ]
  },
  {
   "cell_type": "markdown",
   "metadata": {},
   "source": [
    "#### Удаление дубликатов"
   ]
  },
  {
   "cell_type": "markdown",
   "metadata": {},
   "source": [
    "Искать неявные дубликаты целесообразно только столбцы с типом данных object. В столбцах с типом данных int и float неявные дубликаты не выделишь. Только - locality_name."
   ]
  },
  {
   "cell_type": "code",
   "execution_count": 115,
   "metadata": {
    "scrolled": false
   },
   "outputs": [
    {
     "data": {
      "text/plain": [
       "array(['Бокситогорск', 'Волосово', 'Волхов', 'Всеволожск', 'Выборг',\n",
       "       'Высоцк', 'Гатчина', 'Зеленогорск', 'Ивангород', 'Каменногорск',\n",
       "       'Кингисепп', 'Кириши', 'Кировск', 'Колпино', 'Коммунар',\n",
       "       'Красное Село', 'Кронштадт', 'Кудрово', 'Лодейное Поле',\n",
       "       'Ломоносов', 'Луга', 'Любань', 'Мурино', 'Никольское',\n",
       "       'Новая Ладога', 'Отрадное', 'Павловск', 'Петергоф', 'Пикалёво',\n",
       "       'Подпорожье', 'Приморск', 'Приозерск', 'Пушкин', 'Санкт-Петербург',\n",
       "       'Светогорск', 'Сертолово', 'Сестрорецк', 'Сланцы', 'Сосновый Бор',\n",
       "       'Сясьстрой', 'Тихвин', 'Тосно', 'Шлиссельбург',\n",
       "       'городской поселок Большая Ижора', 'городской поселок Янино-1',\n",
       "       'городской посёлок Будогощь', 'городской посёлок Виллози',\n",
       "       'городской посёлок Лесогорский', 'городской посёлок Мга',\n",
       "       'городской посёлок Назия', 'городской посёлок Новоселье',\n",
       "       'городской посёлок Павлово', 'городской посёлок Рощино',\n",
       "       'городской посёлок Свирьстрой', 'городской посёлок Советский',\n",
       "       'городской посёлок Фёдоровское', 'городской посёлок Янино-1',\n",
       "       'деревня Агалатово', 'деревня Аро', 'деревня Батово',\n",
       "       'деревня Бегуницы', 'деревня Белогорка', 'деревня Большая Вруда',\n",
       "       'деревня Большая Пустомержа', 'деревня Большие Колпаны',\n",
       "       'деревня Большое Рейзино', 'деревня Большой Сабск', 'деревня Бор',\n",
       "       'деревня Борисова Грива', 'деревня Ваганово', 'деревня Вартемяги',\n",
       "       'деревня Вахнова Кара', 'деревня Выскатка', 'деревня Гарболово',\n",
       "       'деревня Глинка', 'деревня Горбунки', 'деревня Гостилицы',\n",
       "       'деревня Заклинье', 'деревня Заневка', 'деревня Зимитицы',\n",
       "       'деревня Извара', 'деревня Иссад', 'деревня Калитино',\n",
       "       'деревня Кальтино', 'деревня Камышовка', 'деревня Каськово',\n",
       "       'деревня Келози', 'деревня Кипень', 'деревня Кисельня',\n",
       "       'деревня Колтуши', 'деревня Коркино', 'деревня Котлы',\n",
       "       'деревня Кривко', 'деревня Кудрово', 'деревня Кузьмолово',\n",
       "       'деревня Курковицы', 'деревня Куровицы', 'деревня Куттузи',\n",
       "       'деревня Лаврики', 'деревня Лаголово', 'деревня Лампово',\n",
       "       'деревня Лесколово', 'деревня Лопухинка', 'деревня Лупполово',\n",
       "       'деревня Малая Романовка', 'деревня Малое Верево',\n",
       "       'деревня Малое Карлино', 'деревня Малые Колпаны',\n",
       "       'деревня Мануйлово', 'деревня Меньково', 'деревня Мины',\n",
       "       'деревня Мистолово', 'деревня Ненимяки', 'деревня Нижние Осельки',\n",
       "       'деревня Нижняя', 'деревня Низино', 'деревня Новое Девяткино',\n",
       "       'деревня Новолисино', 'деревня Нурма', 'деревня Оржицы',\n",
       "       'деревня Парицы', 'деревня Пельгора', 'деревня Пеники',\n",
       "       'деревня Пижма', 'деревня Пикколово', 'деревня Пудомяги',\n",
       "       'деревня Пустынка', 'деревня Пчева', 'деревня Рабитицы',\n",
       "       'деревня Разбегаево', 'деревня Раздолье', 'деревня Разметелево',\n",
       "       'деревня Рапполово', 'деревня Реброво', 'деревня Русско',\n",
       "       'деревня Сижно', 'деревня Снегирёвка', 'деревня Старая',\n",
       "       'деревня Старая Пустошь', 'деревня Старое Хинколово',\n",
       "       'деревня Старополье', 'деревня Старосиверская',\n",
       "       'деревня Старые Бегуницы', 'деревня Суоранда',\n",
       "       'деревня Сяськелево', 'деревня Тарасово', 'деревня Терпилицы',\n",
       "       'деревня Тихковицы', 'деревня Тойворово', 'деревня Торосово',\n",
       "       'деревня Торошковичи', 'деревня Трубников Бор',\n",
       "       'деревня Фалилеево', 'деревня Фёдоровское', 'деревня Хапо-Ое',\n",
       "       'деревня Хязельки', 'деревня Чудской Бор', 'деревня Шпаньково',\n",
       "       'деревня Щеглово', 'деревня Юкки', 'деревня Ялгино',\n",
       "       'деревня Яльгелево', 'деревня Ям-Тесово',\n",
       "       'коттеджный поселок Кивеннапа Север', 'коттеджный поселок Счастье',\n",
       "       'коттеджный посёлок Лесное', 'поселок Аннино', 'поселок Барышево',\n",
       "       'поселок Бугры', 'поселок Возрождение', 'поселок Войсковицы',\n",
       "       'поселок Володарское', 'поселок Гаврилово', 'поселок Гарболово',\n",
       "       'поселок Гладкое', 'поселок Глажево', 'поселок Глебычево',\n",
       "       'поселок Гончарово', 'поселок Громово', 'поселок Дружноселье',\n",
       "       'поселок Елизаветино', 'поселок Жилгородок', 'поселок Жилпосёлок',\n",
       "       'поселок Житково', 'поселок Заводской', 'поселок Запорожское',\n",
       "       'поселок Зимитицы', 'поселок Ильичёво', 'поселок Калитино',\n",
       "       'поселок Каложицы', 'поселок Кингисеппский', 'поселок Кирпичное',\n",
       "       'поселок Кобралово', 'поселок Кобринское', 'поселок Коммунары',\n",
       "       'поселок Коробицыно', 'поселок Котельский',\n",
       "       'поселок Красная Долина', 'поселок Красносельское',\n",
       "       'поселок Лесное', 'поселок Лисий Нос', 'поселок Лукаши',\n",
       "       'поселок Любань', 'поселок Мельниково', 'поселок Мичуринское',\n",
       "       'поселок Молодцово', 'поселок Мурино', 'поселок Новый Свет',\n",
       "       'поселок Новый Учхоз', 'поселок Оредеж',\n",
       "       'поселок Пансионат Зелёный Бор', 'поселок Первомайское',\n",
       "       'поселок Перово', 'поселок Петровское', 'поселок Победа',\n",
       "       'поселок Поляны', 'поселок Почап', 'поселок Починок',\n",
       "       'поселок Пушное', 'поселок Пчевжа', 'поселок Рабитицы',\n",
       "       'поселок Романовка', 'поселок Ромашки', 'поселок Рябово',\n",
       "       'поселок Севастьяново', 'поселок Селезнёво', 'поселок Сельцо',\n",
       "       'поселок Семиозерье', 'поселок Семрино', 'поселок Серебрянский',\n",
       "       'поселок Совхозный', 'поселок Старая Малукса',\n",
       "       'поселок Стеклянный', 'поселок Сумино', 'поселок Суходолье',\n",
       "       'поселок Тельмана', 'поселок Терволово', 'поселок Торковичи',\n",
       "       'поселок Тёсово-4', 'поселок Углово', 'поселок Усть-Луга',\n",
       "       'поселок Ушаки', 'поселок Цвелодубово', 'поселок Цвылёво',\n",
       "       'поселок городского типа Большая Ижора',\n",
       "       'поселок городского типа Вырица',\n",
       "       'поселок городского типа Дружная Горка',\n",
       "       'поселок городского типа Дубровка',\n",
       "       'поселок городского типа Ефимовский',\n",
       "       'поселок городского типа Кондратьево',\n",
       "       'поселок городского типа Красный Бор',\n",
       "       'поселок городского типа Кузьмоловский',\n",
       "       'поселок городского типа Лебяжье',\n",
       "       'поселок городского типа Лесогорский',\n",
       "       'поселок городского типа Назия',\n",
       "       'поселок городского типа Никольский',\n",
       "       'поселок городского типа Приладожский',\n",
       "       'поселок городского типа Рахья', 'поселок городского типа Рощино',\n",
       "       'поселок городского типа Рябово',\n",
       "       'поселок городского типа Синявино',\n",
       "       'поселок городского типа Советский',\n",
       "       'поселок городского типа Токсово',\n",
       "       'поселок городского типа Форносово',\n",
       "       'поселок городского типа имени Свердлова',\n",
       "       'поселок станции Вещево', 'поселок станции Корнево',\n",
       "       'поселок станции Лужайка', 'поселок станции Приветнинское',\n",
       "       'посёлок Александровская', 'посёлок Алексеевка', 'посёлок Аннино',\n",
       "       'посёлок Белоостров', 'посёлок Бугры', 'посёлок Возрождение',\n",
       "       'посёлок Войскорово', 'посёлок Высокоключевой',\n",
       "       'посёлок Гаврилово', 'посёлок Дзержинского', 'посёлок Жилгородок',\n",
       "       'посёлок Ильичёво', 'посёлок Кикерино', 'посёлок Кобралово',\n",
       "       'посёлок Коробицыно', 'посёлок Левашово', 'посёлок Ленинское',\n",
       "       'посёлок Лисий Нос', 'посёлок Мельниково', 'посёлок Металлострой',\n",
       "       'посёлок Мичуринское', 'посёлок Молодёжное', 'посёлок Мурино',\n",
       "       'посёлок Мыза-Ивановка', 'посёлок Новогорелово',\n",
       "       'посёлок Новый Свет', 'посёлок Пансионат Зелёный Бор',\n",
       "       'посёлок Парголово', 'посёлок Перово', 'посёлок Песочный',\n",
       "       'посёлок Петро-Славянка', 'посёлок Петровское',\n",
       "       'посёлок Платформа 69-й километр', 'посёлок Плодовое',\n",
       "       'посёлок Плоское', 'посёлок Победа', 'посёлок Поляны',\n",
       "       'посёлок Понтонный', 'посёлок Пригородный', 'посёлок Пудость',\n",
       "       'посёлок Репино', 'посёлок Ропша', 'посёлок Сапёрное',\n",
       "       'посёлок Сапёрный', 'посёлок Сосново', 'посёлок Старая Малукса',\n",
       "       'посёлок Стеклянный', 'посёлок Стрельна', 'посёлок Суйда',\n",
       "       'посёлок Сумино', 'посёлок Тельмана', 'посёлок Терволово',\n",
       "       'посёлок Торфяное', 'посёлок Усть-Ижора', 'посёлок Усть-Луга',\n",
       "       'посёлок Форт Красная Горка', 'посёлок Шугозеро', 'посёлок Шушары',\n",
       "       'посёлок Щеглово', 'посёлок городского типа Важины',\n",
       "       'посёлок городского типа Вознесенье',\n",
       "       'посёлок городского типа Вырица',\n",
       "       'посёлок городского типа Красный Бор',\n",
       "       'посёлок городского типа Кузнечное',\n",
       "       'посёлок городского типа Кузьмоловский',\n",
       "       'посёлок городского типа Лебяжье', 'посёлок городского типа Мга',\n",
       "       'посёлок городского типа Павлово',\n",
       "       'посёлок городского типа Рощино', 'посёлок городского типа Рябово',\n",
       "       'посёлок городского типа Сиверский',\n",
       "       'посёлок городского типа Тайцы', 'посёлок городского типа Токсово',\n",
       "       'посёлок городского типа Ульяновка',\n",
       "       'посёлок городского типа Форносово',\n",
       "       'посёлок городского типа имени Морозова',\n",
       "       'посёлок городского типа имени Свердлова',\n",
       "       'посёлок при железнодорожной станции Вещево',\n",
       "       'посёлок при железнодорожной станции Приветнинское',\n",
       "       'посёлок станции Громово', 'посёлок станции Свирь',\n",
       "       'садоводческое некоммерческое товарищество Лесная Поляна',\n",
       "       'садовое товарищество Новая Ропша',\n",
       "       'садовое товарищество Приладожский', 'садовое товарищество Рахья',\n",
       "       'садовое товарищество Садко', 'село Копорье', 'село Никольское',\n",
       "       'село Павлово', 'село Паша', 'село Путилово', 'село Рождествено',\n",
       "       'село Русско-Высоцкое', 'село Старая Ладога', 'село Шум'],\n",
       "      dtype=object)"
      ]
     },
     "execution_count": 115,
     "metadata": {},
     "output_type": "execute_result"
    }
   ],
   "source": [
    "data.sort_values(by='locality_name')['locality_name'].unique()"
   ]
  },
  {
   "cell_type": "code",
   "execution_count": 116,
   "metadata": {},
   "outputs": [
    {
     "data": {
      "text/plain": [
       "364"
      ]
     },
     "execution_count": 116,
     "metadata": {},
     "output_type": "execute_result"
    }
   ],
   "source": [
    "data['locality_name'].nunique()"
   ]
  },
  {
   "cell_type": "code",
   "execution_count": 117,
   "metadata": {},
   "outputs": [],
   "source": [
    "data['locality_name'] = data['locality_name'].str.replace('ё', 'е', regex=True)"
   ]
  },
  {
   "cell_type": "code",
   "execution_count": 118,
   "metadata": {},
   "outputs": [
    {
     "data": {
      "text/plain": [
       "330"
      ]
     },
     "execution_count": 118,
     "metadata": {},
     "output_type": "execute_result"
    }
   ],
   "source": [
    "data['locality_name'].nunique()"
   ]
  },
  {
   "cell_type": "code",
   "execution_count": 119,
   "metadata": {},
   "outputs": [],
   "source": [
    "data['locality_name'] = data['locality_name'].str.replace('поселок городского типа ', 'поселок ', regex=True)"
   ]
  },
  {
   "cell_type": "code",
   "execution_count": 120,
   "metadata": {},
   "outputs": [
    {
     "data": {
      "text/plain": [
       "0"
      ]
     },
     "execution_count": 120,
     "metadata": {},
     "output_type": "execute_result"
    }
   ],
   "source": [
    "data['locality_name'] = data['locality_name'].where(~data['locality_name'].isna(),'unknown')\n",
    "data['locality_name'].isna().sum()"
   ]
  },
  {
   "cell_type": "code",
   "execution_count": 121,
   "metadata": {
    "scrolled": false
   },
   "outputs": [
    {
     "data": {
      "text/plain": [
       "array(['Бокситогорск', 'Волосово', 'Волхов', 'Всеволожск', 'Выборг',\n",
       "       'Высоцк', 'Гатчина', 'Зеленогорск', 'Ивангород', 'Каменногорск',\n",
       "       'Кингисепп', 'Кириши', 'Кировск', 'Колпино', 'Коммунар',\n",
       "       'Красное Село', 'Кронштадт', 'Кудрово', 'Лодейное Поле',\n",
       "       'Ломоносов', 'Луга', 'Любань', 'Мурино', 'Никольское',\n",
       "       'Новая Ладога', 'Отрадное', 'Павловск', 'Петергоф', 'Пикалево',\n",
       "       'Подпорожье', 'Приморск', 'Приозерск', 'Пушкин', 'Санкт-Петербург',\n",
       "       'Светогорск', 'Сертолово', 'Сестрорецк', 'Сланцы', 'Сосновый Бор',\n",
       "       'Сясьстрой', 'Тихвин', 'Тосно', 'Шлиссельбург',\n",
       "       'городской поселок Большая Ижора', 'городской поселок Будогощь',\n",
       "       'городской поселок Виллози', 'городской поселок Лесогорский',\n",
       "       'городской поселок Мга', 'городской поселок Назия',\n",
       "       'городской поселок Новоселье', 'городской поселок Павлово',\n",
       "       'городской поселок Рощино', 'городской поселок Свирьстрой',\n",
       "       'городской поселок Советский', 'городской поселок Федоровское',\n",
       "       'городской поселок Янино-1', 'деревня Агалатово', 'деревня Аро',\n",
       "       'деревня Батово', 'деревня Бегуницы', 'деревня Белогорка',\n",
       "       'деревня Большая Вруда', 'деревня Большая Пустомержа',\n",
       "       'деревня Большие Колпаны', 'деревня Большое Рейзино',\n",
       "       'деревня Большой Сабск', 'деревня Бор', 'деревня Борисова Грива',\n",
       "       'деревня Ваганово', 'деревня Вартемяги', 'деревня Вахнова Кара',\n",
       "       'деревня Выскатка', 'деревня Гарболово', 'деревня Глинка',\n",
       "       'деревня Горбунки', 'деревня Гостилицы', 'деревня Заклинье',\n",
       "       'деревня Заневка', 'деревня Зимитицы', 'деревня Извара',\n",
       "       'деревня Иссад', 'деревня Калитино', 'деревня Кальтино',\n",
       "       'деревня Камышовка', 'деревня Каськово', 'деревня Келози',\n",
       "       'деревня Кипень', 'деревня Кисельня', 'деревня Колтуши',\n",
       "       'деревня Коркино', 'деревня Котлы', 'деревня Кривко',\n",
       "       'деревня Кудрово', 'деревня Кузьмолово', 'деревня Курковицы',\n",
       "       'деревня Куровицы', 'деревня Куттузи', 'деревня Лаврики',\n",
       "       'деревня Лаголово', 'деревня Лампово', 'деревня Лесколово',\n",
       "       'деревня Лопухинка', 'деревня Лупполово',\n",
       "       'деревня Малая Романовка', 'деревня Малое Верево',\n",
       "       'деревня Малое Карлино', 'деревня Малые Колпаны',\n",
       "       'деревня Мануйлово', 'деревня Меньково', 'деревня Мины',\n",
       "       'деревня Мистолово', 'деревня Ненимяки', 'деревня Нижние Осельки',\n",
       "       'деревня Нижняя', 'деревня Низино', 'деревня Новое Девяткино',\n",
       "       'деревня Новолисино', 'деревня Нурма', 'деревня Оржицы',\n",
       "       'деревня Парицы', 'деревня Пельгора', 'деревня Пеники',\n",
       "       'деревня Пижма', 'деревня Пикколово', 'деревня Пудомяги',\n",
       "       'деревня Пустынка', 'деревня Пчева', 'деревня Рабитицы',\n",
       "       'деревня Разбегаево', 'деревня Раздолье', 'деревня Разметелево',\n",
       "       'деревня Рапполово', 'деревня Реброво', 'деревня Русско',\n",
       "       'деревня Сижно', 'деревня Снегиревка', 'деревня Старая',\n",
       "       'деревня Старая Пустошь', 'деревня Старое Хинколово',\n",
       "       'деревня Старополье', 'деревня Старосиверская',\n",
       "       'деревня Старые Бегуницы', 'деревня Суоранда',\n",
       "       'деревня Сяськелево', 'деревня Тарасово', 'деревня Терпилицы',\n",
       "       'деревня Тихковицы', 'деревня Тойворово', 'деревня Торосово',\n",
       "       'деревня Торошковичи', 'деревня Трубников Бор',\n",
       "       'деревня Фалилеево', 'деревня Федоровское', 'деревня Хапо-Ое',\n",
       "       'деревня Хязельки', 'деревня Чудской Бор', 'деревня Шпаньково',\n",
       "       'деревня Щеглово', 'деревня Юкки', 'деревня Ялгино',\n",
       "       'деревня Яльгелево', 'деревня Ям-Тесово',\n",
       "       'коттеджный поселок Кивеннапа Север', 'коттеджный поселок Лесное',\n",
       "       'коттеджный поселок Счастье', 'поселок Александровская',\n",
       "       'поселок Алексеевка', 'поселок Аннино', 'поселок Барышево',\n",
       "       'поселок Белоостров', 'поселок Большая Ижора', 'поселок Бугры',\n",
       "       'поселок Важины', 'поселок Вознесенье', 'поселок Возрождение',\n",
       "       'поселок Войсковицы', 'поселок Войскорово', 'поселок Володарское',\n",
       "       'поселок Вырица', 'поселок Высокоключевой', 'поселок Гаврилово',\n",
       "       'поселок Гарболово', 'поселок Гладкое', 'поселок Глажево',\n",
       "       'поселок Глебычево', 'поселок Гончарово', 'поселок Громово',\n",
       "       'поселок Дзержинского', 'поселок Дружная Горка',\n",
       "       'поселок Дружноселье', 'поселок Дубровка', 'поселок Елизаветино',\n",
       "       'поселок Ефимовский', 'поселок Жилгородок', 'поселок Жилпоселок',\n",
       "       'поселок Житково', 'поселок Заводской', 'поселок Запорожское',\n",
       "       'поселок Зимитицы', 'поселок Ильичево', 'поселок Калитино',\n",
       "       'поселок Каложицы', 'поселок Кикерино', 'поселок Кингисеппский',\n",
       "       'поселок Кирпичное', 'поселок Кобралово', 'поселок Кобринское',\n",
       "       'поселок Коммунары', 'поселок Кондратьево', 'поселок Коробицыно',\n",
       "       'поселок Котельский', 'поселок Красная Долина',\n",
       "       'поселок Красносельское', 'поселок Красный Бор',\n",
       "       'поселок Кузнечное', 'поселок Кузьмоловский', 'поселок Лебяжье',\n",
       "       'поселок Левашово', 'поселок Ленинское', 'поселок Лесное',\n",
       "       'поселок Лесогорский', 'поселок Лисий Нос', 'поселок Лукаши',\n",
       "       'поселок Любань', 'поселок Мга', 'поселок Мельниково',\n",
       "       'поселок Металлострой', 'поселок Мичуринское',\n",
       "       'поселок Молодежное', 'поселок Молодцово', 'поселок Мурино',\n",
       "       'поселок Мыза-Ивановка', 'поселок Назия', 'поселок Никольский',\n",
       "       'поселок Новогорелово', 'поселок Новый Свет',\n",
       "       'поселок Новый Учхоз', 'поселок Оредеж', 'поселок Павлово',\n",
       "       'поселок Пансионат Зеленый Бор', 'поселок Парголово',\n",
       "       'поселок Первомайское', 'поселок Перово', 'поселок Песочный',\n",
       "       'поселок Петро-Славянка', 'поселок Петровское',\n",
       "       'поселок Платформа 69-й километр', 'поселок Плодовое',\n",
       "       'поселок Плоское', 'поселок Победа', 'поселок Поляны',\n",
       "       'поселок Понтонный', 'поселок Почап', 'поселок Починок',\n",
       "       'поселок Пригородный', 'поселок Приладожский', 'поселок Пудость',\n",
       "       'поселок Пушное', 'поселок Пчевжа', 'поселок Рабитицы',\n",
       "       'поселок Рахья', 'поселок Репино', 'поселок Романовка',\n",
       "       'поселок Ромашки', 'поселок Ропша', 'поселок Рощино',\n",
       "       'поселок Рябово', 'поселок Саперное', 'поселок Саперный',\n",
       "       'поселок Севастьяново', 'поселок Селезнево', 'поселок Сельцо',\n",
       "       'поселок Семиозерье', 'поселок Семрино', 'поселок Серебрянский',\n",
       "       'поселок Сиверский', 'поселок Синявино', 'поселок Советский',\n",
       "       'поселок Совхозный', 'поселок Сосново', 'поселок Старая Малукса',\n",
       "       'поселок Стеклянный', 'поселок Стрельна', 'поселок Суйда',\n",
       "       'поселок Сумино', 'поселок Суходолье', 'поселок Тайцы',\n",
       "       'поселок Тельмана', 'поселок Терволово', 'поселок Тесово-4',\n",
       "       'поселок Токсово', 'поселок Торковичи', 'поселок Торфяное',\n",
       "       'поселок Углово', 'поселок Ульяновка', 'поселок Усть-Ижора',\n",
       "       'поселок Усть-Луга', 'поселок Ушаки', 'поселок Форносово',\n",
       "       'поселок Форт Красная Горка', 'поселок Цвелодубово',\n",
       "       'поселок Цвылево', 'поселок Шугозеро', 'поселок Шушары',\n",
       "       'поселок Щеглово', 'поселок имени Морозова',\n",
       "       'поселок имени Свердлова',\n",
       "       'поселок при железнодорожной станции Вещево',\n",
       "       'поселок при железнодорожной станции Приветнинское',\n",
       "       'поселок станции Вещево', 'поселок станции Громово',\n",
       "       'поселок станции Корнево', 'поселок станции Лужайка',\n",
       "       'поселок станции Приветнинское', 'поселок станции Свирь',\n",
       "       'садоводческое некоммерческое товарищество Лесная Поляна',\n",
       "       'садовое товарищество Новая Ропша',\n",
       "       'садовое товарищество Приладожский', 'садовое товарищество Рахья',\n",
       "       'садовое товарищество Садко', 'село Копорье', 'село Никольское',\n",
       "       'село Павлово', 'село Паша', 'село Путилово', 'село Рождествено',\n",
       "       'село Русско-Высоцкое', 'село Старая Ладога', 'село Шум'],\n",
       "      dtype=object)"
      ]
     },
     "execution_count": 121,
     "metadata": {},
     "output_type": "execute_result"
    }
   ],
   "source": [
    "data.sort_values(by='locality_name')['locality_name'].unique()"
   ]
  },
  {
   "cell_type": "markdown",
   "metadata": {
    "id": "QCcvyY6YAwb-"
   },
   "source": [
    "### Добавьте в таблицу новые столбцы"
   ]
  },
  {
   "cell_type": "markdown",
   "metadata": {},
   "source": [
    "#### Добавляем параметр price_sq_meter с расчетом 1 кв м"
   ]
  },
  {
   "cell_type": "code",
   "execution_count": 125,
   "metadata": {},
   "outputs": [],
   "source": [
    "data['price_sq_meter'] = data['last_price'] / data['total_area']"
   ]
  },
  {
   "cell_type": "code",
   "execution_count": 126,
   "metadata": {
    "id": "Z8eJek3IAwb-"
   },
   "outputs": [
    {
     "data": {
      "text/html": [
       "<div>\n",
       "<style scoped>\n",
       "    .dataframe tbody tr th:only-of-type {\n",
       "        vertical-align: middle;\n",
       "    }\n",
       "\n",
       "    .dataframe tbody tr th {\n",
       "        vertical-align: top;\n",
       "    }\n",
       "\n",
       "    .dataframe thead th {\n",
       "        text-align: right;\n",
       "    }\n",
       "</style>\n",
       "<table border=\"1\" class=\"dataframe\">\n",
       "  <thead>\n",
       "    <tr style=\"text-align: right;\">\n",
       "      <th></th>\n",
       "      <th>total_images</th>\n",
       "      <th>last_price</th>\n",
       "      <th>total_area</th>\n",
       "      <th>first_day_exposition</th>\n",
       "      <th>rooms</th>\n",
       "      <th>ceiling_height</th>\n",
       "      <th>floors_total</th>\n",
       "      <th>living_area</th>\n",
       "      <th>floor</th>\n",
       "      <th>is_apartment</th>\n",
       "      <th>studio</th>\n",
       "      <th>open_plan</th>\n",
       "      <th>kitchen_area</th>\n",
       "      <th>balcony</th>\n",
       "      <th>locality_name</th>\n",
       "      <th>airports_nearest</th>\n",
       "      <th>city_centers_nearest</th>\n",
       "      <th>parks_around_3000</th>\n",
       "      <th>parks_nearest</th>\n",
       "      <th>ponds_around_3000</th>\n",
       "      <th>ponds_nearest</th>\n",
       "      <th>days_exposition</th>\n",
       "      <th>price_sq_meter</th>\n",
       "    </tr>\n",
       "  </thead>\n",
       "  <tbody>\n",
       "    <tr>\n",
       "      <th>0</th>\n",
       "      <td>20</td>\n",
       "      <td>13000000</td>\n",
       "      <td>108.0</td>\n",
       "      <td>2019-03-07</td>\n",
       "      <td>3</td>\n",
       "      <td>2.70</td>\n",
       "      <td>16</td>\n",
       "      <td>51.0</td>\n",
       "      <td>8</td>\n",
       "      <td>False</td>\n",
       "      <td>False</td>\n",
       "      <td>False</td>\n",
       "      <td>25.0</td>\n",
       "      <td>0</td>\n",
       "      <td>Санкт-Петербург</td>\n",
       "      <td>18863.0</td>\n",
       "      <td>16028.0</td>\n",
       "      <td>1</td>\n",
       "      <td>482.0</td>\n",
       "      <td>2</td>\n",
       "      <td>755.0</td>\n",
       "      <td>95.0</td>\n",
       "      <td>120370.37</td>\n",
       "    </tr>\n",
       "    <tr>\n",
       "      <th>1</th>\n",
       "      <td>7</td>\n",
       "      <td>3350000</td>\n",
       "      <td>40.4</td>\n",
       "      <td>2018-12-04</td>\n",
       "      <td>1</td>\n",
       "      <td>2.62</td>\n",
       "      <td>11</td>\n",
       "      <td>18.6</td>\n",
       "      <td>1</td>\n",
       "      <td>False</td>\n",
       "      <td>False</td>\n",
       "      <td>False</td>\n",
       "      <td>11.0</td>\n",
       "      <td>2</td>\n",
       "      <td>поселок Шушары</td>\n",
       "      <td>12817.0</td>\n",
       "      <td>18603.0</td>\n",
       "      <td>0</td>\n",
       "      <td>455.0</td>\n",
       "      <td>0</td>\n",
       "      <td>584.5</td>\n",
       "      <td>81.0</td>\n",
       "      <td>82920.79</td>\n",
       "    </tr>\n",
       "    <tr>\n",
       "      <th>2</th>\n",
       "      <td>10</td>\n",
       "      <td>5196000</td>\n",
       "      <td>56.0</td>\n",
       "      <td>2015-08-20</td>\n",
       "      <td>2</td>\n",
       "      <td>2.70</td>\n",
       "      <td>5</td>\n",
       "      <td>34.3</td>\n",
       "      <td>4</td>\n",
       "      <td>False</td>\n",
       "      <td>False</td>\n",
       "      <td>False</td>\n",
       "      <td>8.3</td>\n",
       "      <td>0</td>\n",
       "      <td>Санкт-Петербург</td>\n",
       "      <td>21741.0</td>\n",
       "      <td>13933.0</td>\n",
       "      <td>1</td>\n",
       "      <td>90.0</td>\n",
       "      <td>2</td>\n",
       "      <td>574.0</td>\n",
       "      <td>558.0</td>\n",
       "      <td>92785.71</td>\n",
       "    </tr>\n",
       "    <tr>\n",
       "      <th>3</th>\n",
       "      <td>0</td>\n",
       "      <td>64900000</td>\n",
       "      <td>159.0</td>\n",
       "      <td>2015-07-24</td>\n",
       "      <td>3</td>\n",
       "      <td>2.70</td>\n",
       "      <td>14</td>\n",
       "      <td>95.0</td>\n",
       "      <td>9</td>\n",
       "      <td>False</td>\n",
       "      <td>False</td>\n",
       "      <td>False</td>\n",
       "      <td>15.0</td>\n",
       "      <td>0</td>\n",
       "      <td>Санкт-Петербург</td>\n",
       "      <td>28098.0</td>\n",
       "      <td>6800.0</td>\n",
       "      <td>2</td>\n",
       "      <td>84.0</td>\n",
       "      <td>3</td>\n",
       "      <td>234.0</td>\n",
       "      <td>424.0</td>\n",
       "      <td>408176.10</td>\n",
       "    </tr>\n",
       "    <tr>\n",
       "      <th>4</th>\n",
       "      <td>2</td>\n",
       "      <td>10000000</td>\n",
       "      <td>100.0</td>\n",
       "      <td>2018-06-19</td>\n",
       "      <td>2</td>\n",
       "      <td>3.03</td>\n",
       "      <td>14</td>\n",
       "      <td>32.0</td>\n",
       "      <td>13</td>\n",
       "      <td>False</td>\n",
       "      <td>False</td>\n",
       "      <td>False</td>\n",
       "      <td>41.0</td>\n",
       "      <td>0</td>\n",
       "      <td>Санкт-Петербург</td>\n",
       "      <td>31856.0</td>\n",
       "      <td>8098.0</td>\n",
       "      <td>2</td>\n",
       "      <td>112.0</td>\n",
       "      <td>1</td>\n",
       "      <td>48.0</td>\n",
       "      <td>121.0</td>\n",
       "      <td>100000.00</td>\n",
       "    </tr>\n",
       "  </tbody>\n",
       "</table>\n",
       "</div>"
      ],
      "text/plain": [
       "   total_images  last_price  total_area first_day_exposition  rooms  \\\n",
       "0            20    13000000       108.0           2019-03-07      3   \n",
       "1             7     3350000        40.4           2018-12-04      1   \n",
       "2            10     5196000        56.0           2015-08-20      2   \n",
       "3             0    64900000       159.0           2015-07-24      3   \n",
       "4             2    10000000       100.0           2018-06-19      2   \n",
       "\n",
       "   ceiling_height  floors_total  living_area  floor  is_apartment  studio  \\\n",
       "0            2.70            16         51.0      8         False   False   \n",
       "1            2.62            11         18.6      1         False   False   \n",
       "2            2.70             5         34.3      4         False   False   \n",
       "3            2.70            14         95.0      9         False   False   \n",
       "4            3.03            14         32.0     13         False   False   \n",
       "\n",
       "   open_plan  kitchen_area  balcony    locality_name  airports_nearest  \\\n",
       "0      False          25.0        0  Санкт-Петербург           18863.0   \n",
       "1      False          11.0        2   поселок Шушары           12817.0   \n",
       "2      False           8.3        0  Санкт-Петербург           21741.0   \n",
       "3      False          15.0        0  Санкт-Петербург           28098.0   \n",
       "4      False          41.0        0  Санкт-Петербург           31856.0   \n",
       "\n",
       "   city_centers_nearest  parks_around_3000  parks_nearest  ponds_around_3000  \\\n",
       "0               16028.0                  1          482.0                  2   \n",
       "1               18603.0                  0          455.0                  0   \n",
       "2               13933.0                  1           90.0                  2   \n",
       "3                6800.0                  2           84.0                  3   \n",
       "4                8098.0                  2          112.0                  1   \n",
       "\n",
       "   ponds_nearest  days_exposition  price_sq_meter  \n",
       "0          755.0             95.0       120370.37  \n",
       "1          584.5             81.0        82920.79  \n",
       "2          574.0            558.0        92785.71  \n",
       "3          234.0            424.0       408176.10  \n",
       "4           48.0            121.0       100000.00  "
      ]
     },
     "execution_count": 126,
     "metadata": {},
     "output_type": "execute_result"
    }
   ],
   "source": [
    "data.head()"
   ]
  },
  {
   "cell_type": "markdown",
   "metadata": {},
   "source": [
    "#### Добавление параметра с днем недели публикации объявления"
   ]
  },
  {
   "cell_type": "code",
   "execution_count": 127,
   "metadata": {},
   "outputs": [],
   "source": [
    "data['weekday_publications'] = pd.DatetimeIndex(data['first_day_exposition']).weekday"
   ]
  },
  {
   "cell_type": "code",
   "execution_count": 128,
   "metadata": {},
   "outputs": [
    {
     "data": {
      "text/plain": [
       "0        3\n",
       "1        1\n",
       "2        3\n",
       "3        4\n",
       "4        1\n",
       "        ..\n",
       "23694    1\n",
       "23695    0\n",
       "23696    6\n",
       "23697    1\n",
       "23698    4\n",
       "Name: weekday_publications, Length: 23565, dtype: int64"
      ]
     },
     "execution_count": 128,
     "metadata": {},
     "output_type": "execute_result"
    }
   ],
   "source": [
    "data['weekday_publications']"
   ]
  },
  {
   "cell_type": "markdown",
   "metadata": {},
   "source": [
    "#### Добавление параметра с месяцем публикации объявления"
   ]
  },
  {
   "cell_type": "code",
   "execution_count": 129,
   "metadata": {},
   "outputs": [],
   "source": [
    "data['month_publications'] = pd.DatetimeIndex(data['first_day_exposition']).month"
   ]
  },
  {
   "cell_type": "code",
   "execution_count": 130,
   "metadata": {},
   "outputs": [
    {
     "data": {
      "text/plain": [
       "0         3\n",
       "1        12\n",
       "2         8\n",
       "3         7\n",
       "4         6\n",
       "         ..\n",
       "23694     3\n",
       "23695     1\n",
       "23696     2\n",
       "23697     3\n",
       "23698     7\n",
       "Name: month_publications, Length: 23565, dtype: int64"
      ]
     },
     "execution_count": 130,
     "metadata": {},
     "output_type": "execute_result"
    }
   ],
   "source": [
    "data['month_publications']"
   ]
  },
  {
   "cell_type": "markdown",
   "metadata": {},
   "source": [
    "#### Добавление параметра с годом публикации объявления"
   ]
  },
  {
   "cell_type": "code",
   "execution_count": 132,
   "metadata": {},
   "outputs": [],
   "source": [
    "data['year_publications'] = pd.DatetimeIndex(data['first_day_exposition']).year"
   ]
  },
  {
   "cell_type": "code",
   "execution_count": 133,
   "metadata": {},
   "outputs": [
    {
     "data": {
      "text/plain": [
       "0        2019\n",
       "1        2018\n",
       "2        2015\n",
       "3        2015\n",
       "4        2018\n",
       "         ... \n",
       "23694    2017\n",
       "23695    2018\n",
       "23696    2018\n",
       "23697    2017\n",
       "23698    2017\n",
       "Name: year_publications, Length: 23565, dtype: int64"
      ]
     },
     "execution_count": 133,
     "metadata": {},
     "output_type": "execute_result"
    }
   ],
   "source": [
    "data['year_publications']"
   ]
  },
  {
   "cell_type": "code",
   "execution_count": 134,
   "metadata": {
    "scrolled": true
   },
   "outputs": [
    {
     "data": {
      "text/html": [
       "<div>\n",
       "<style scoped>\n",
       "    .dataframe tbody tr th:only-of-type {\n",
       "        vertical-align: middle;\n",
       "    }\n",
       "\n",
       "    .dataframe tbody tr th {\n",
       "        vertical-align: top;\n",
       "    }\n",
       "\n",
       "    .dataframe thead th {\n",
       "        text-align: right;\n",
       "    }\n",
       "</style>\n",
       "<table border=\"1\" class=\"dataframe\">\n",
       "  <thead>\n",
       "    <tr style=\"text-align: right;\">\n",
       "      <th></th>\n",
       "      <th>total_images</th>\n",
       "      <th>last_price</th>\n",
       "      <th>total_area</th>\n",
       "      <th>first_day_exposition</th>\n",
       "      <th>rooms</th>\n",
       "      <th>ceiling_height</th>\n",
       "      <th>floors_total</th>\n",
       "      <th>living_area</th>\n",
       "      <th>floor</th>\n",
       "      <th>is_apartment</th>\n",
       "      <th>studio</th>\n",
       "      <th>open_plan</th>\n",
       "      <th>kitchen_area</th>\n",
       "      <th>balcony</th>\n",
       "      <th>locality_name</th>\n",
       "      <th>airports_nearest</th>\n",
       "      <th>city_centers_nearest</th>\n",
       "      <th>parks_around_3000</th>\n",
       "      <th>parks_nearest</th>\n",
       "      <th>ponds_around_3000</th>\n",
       "      <th>ponds_nearest</th>\n",
       "      <th>days_exposition</th>\n",
       "      <th>price_sq_meter</th>\n",
       "      <th>weekday_publications</th>\n",
       "      <th>month_publications</th>\n",
       "      <th>year_publications</th>\n",
       "    </tr>\n",
       "  </thead>\n",
       "  <tbody>\n",
       "    <tr>\n",
       "      <th>0</th>\n",
       "      <td>20</td>\n",
       "      <td>13000000</td>\n",
       "      <td>108.0</td>\n",
       "      <td>2019-03-07</td>\n",
       "      <td>3</td>\n",
       "      <td>2.70</td>\n",
       "      <td>16</td>\n",
       "      <td>51.0</td>\n",
       "      <td>8</td>\n",
       "      <td>False</td>\n",
       "      <td>False</td>\n",
       "      <td>False</td>\n",
       "      <td>25.0</td>\n",
       "      <td>0</td>\n",
       "      <td>Санкт-Петербург</td>\n",
       "      <td>18863.0</td>\n",
       "      <td>16028.0</td>\n",
       "      <td>1</td>\n",
       "      <td>482.0</td>\n",
       "      <td>2</td>\n",
       "      <td>755.0</td>\n",
       "      <td>95.0</td>\n",
       "      <td>120370.37</td>\n",
       "      <td>3</td>\n",
       "      <td>3</td>\n",
       "      <td>2019</td>\n",
       "    </tr>\n",
       "    <tr>\n",
       "      <th>1</th>\n",
       "      <td>7</td>\n",
       "      <td>3350000</td>\n",
       "      <td>40.4</td>\n",
       "      <td>2018-12-04</td>\n",
       "      <td>1</td>\n",
       "      <td>2.62</td>\n",
       "      <td>11</td>\n",
       "      <td>18.6</td>\n",
       "      <td>1</td>\n",
       "      <td>False</td>\n",
       "      <td>False</td>\n",
       "      <td>False</td>\n",
       "      <td>11.0</td>\n",
       "      <td>2</td>\n",
       "      <td>поселок Шушары</td>\n",
       "      <td>12817.0</td>\n",
       "      <td>18603.0</td>\n",
       "      <td>0</td>\n",
       "      <td>455.0</td>\n",
       "      <td>0</td>\n",
       "      <td>584.5</td>\n",
       "      <td>81.0</td>\n",
       "      <td>82920.79</td>\n",
       "      <td>1</td>\n",
       "      <td>12</td>\n",
       "      <td>2018</td>\n",
       "    </tr>\n",
       "    <tr>\n",
       "      <th>2</th>\n",
       "      <td>10</td>\n",
       "      <td>5196000</td>\n",
       "      <td>56.0</td>\n",
       "      <td>2015-08-20</td>\n",
       "      <td>2</td>\n",
       "      <td>2.70</td>\n",
       "      <td>5</td>\n",
       "      <td>34.3</td>\n",
       "      <td>4</td>\n",
       "      <td>False</td>\n",
       "      <td>False</td>\n",
       "      <td>False</td>\n",
       "      <td>8.3</td>\n",
       "      <td>0</td>\n",
       "      <td>Санкт-Петербург</td>\n",
       "      <td>21741.0</td>\n",
       "      <td>13933.0</td>\n",
       "      <td>1</td>\n",
       "      <td>90.0</td>\n",
       "      <td>2</td>\n",
       "      <td>574.0</td>\n",
       "      <td>558.0</td>\n",
       "      <td>92785.71</td>\n",
       "      <td>3</td>\n",
       "      <td>8</td>\n",
       "      <td>2015</td>\n",
       "    </tr>\n",
       "    <tr>\n",
       "      <th>3</th>\n",
       "      <td>0</td>\n",
       "      <td>64900000</td>\n",
       "      <td>159.0</td>\n",
       "      <td>2015-07-24</td>\n",
       "      <td>3</td>\n",
       "      <td>2.70</td>\n",
       "      <td>14</td>\n",
       "      <td>95.0</td>\n",
       "      <td>9</td>\n",
       "      <td>False</td>\n",
       "      <td>False</td>\n",
       "      <td>False</td>\n",
       "      <td>15.0</td>\n",
       "      <td>0</td>\n",
       "      <td>Санкт-Петербург</td>\n",
       "      <td>28098.0</td>\n",
       "      <td>6800.0</td>\n",
       "      <td>2</td>\n",
       "      <td>84.0</td>\n",
       "      <td>3</td>\n",
       "      <td>234.0</td>\n",
       "      <td>424.0</td>\n",
       "      <td>408176.10</td>\n",
       "      <td>4</td>\n",
       "      <td>7</td>\n",
       "      <td>2015</td>\n",
       "    </tr>\n",
       "    <tr>\n",
       "      <th>4</th>\n",
       "      <td>2</td>\n",
       "      <td>10000000</td>\n",
       "      <td>100.0</td>\n",
       "      <td>2018-06-19</td>\n",
       "      <td>2</td>\n",
       "      <td>3.03</td>\n",
       "      <td>14</td>\n",
       "      <td>32.0</td>\n",
       "      <td>13</td>\n",
       "      <td>False</td>\n",
       "      <td>False</td>\n",
       "      <td>False</td>\n",
       "      <td>41.0</td>\n",
       "      <td>0</td>\n",
       "      <td>Санкт-Петербург</td>\n",
       "      <td>31856.0</td>\n",
       "      <td>8098.0</td>\n",
       "      <td>2</td>\n",
       "      <td>112.0</td>\n",
       "      <td>1</td>\n",
       "      <td>48.0</td>\n",
       "      <td>121.0</td>\n",
       "      <td>100000.00</td>\n",
       "      <td>1</td>\n",
       "      <td>6</td>\n",
       "      <td>2018</td>\n",
       "    </tr>\n",
       "  </tbody>\n",
       "</table>\n",
       "</div>"
      ],
      "text/plain": [
       "   total_images  last_price  total_area first_day_exposition  rooms  \\\n",
       "0            20    13000000       108.0           2019-03-07      3   \n",
       "1             7     3350000        40.4           2018-12-04      1   \n",
       "2            10     5196000        56.0           2015-08-20      2   \n",
       "3             0    64900000       159.0           2015-07-24      3   \n",
       "4             2    10000000       100.0           2018-06-19      2   \n",
       "\n",
       "   ceiling_height  floors_total  living_area  floor  is_apartment  studio  \\\n",
       "0            2.70            16         51.0      8         False   False   \n",
       "1            2.62            11         18.6      1         False   False   \n",
       "2            2.70             5         34.3      4         False   False   \n",
       "3            2.70            14         95.0      9         False   False   \n",
       "4            3.03            14         32.0     13         False   False   \n",
       "\n",
       "   open_plan  kitchen_area  balcony    locality_name  airports_nearest  \\\n",
       "0      False          25.0        0  Санкт-Петербург           18863.0   \n",
       "1      False          11.0        2   поселок Шушары           12817.0   \n",
       "2      False           8.3        0  Санкт-Петербург           21741.0   \n",
       "3      False          15.0        0  Санкт-Петербург           28098.0   \n",
       "4      False          41.0        0  Санкт-Петербург           31856.0   \n",
       "\n",
       "   city_centers_nearest  parks_around_3000  parks_nearest  ponds_around_3000  \\\n",
       "0               16028.0                  1          482.0                  2   \n",
       "1               18603.0                  0          455.0                  0   \n",
       "2               13933.0                  1           90.0                  2   \n",
       "3                6800.0                  2           84.0                  3   \n",
       "4                8098.0                  2          112.0                  1   \n",
       "\n",
       "   ponds_nearest  days_exposition  price_sq_meter  weekday_publications  \\\n",
       "0          755.0             95.0       120370.37                     3   \n",
       "1          584.5             81.0        82920.79                     1   \n",
       "2          574.0            558.0        92785.71                     3   \n",
       "3          234.0            424.0       408176.10                     4   \n",
       "4           48.0            121.0       100000.00                     1   \n",
       "\n",
       "   month_publications  year_publications  \n",
       "0                   3               2019  \n",
       "1                  12               2018  \n",
       "2                   8               2015  \n",
       "3                   7               2015  \n",
       "4                   6               2018  "
      ]
     },
     "execution_count": 134,
     "metadata": {},
     "output_type": "execute_result"
    }
   ],
   "source": [
    "data.head()"
   ]
  },
  {
   "cell_type": "markdown",
   "metadata": {},
   "source": [
    "#### Функция, определяющая категорию этажа"
   ]
  },
  {
   "cell_type": "code",
   "execution_count": 136,
   "metadata": {},
   "outputs": [],
   "source": [
    "def apartment_floors_group(row):\n",
    "    if row['floor'] == 1:\n",
    "        return 'первый'\n",
    "    elif row['floor'] == row['floors_total']:\n",
    "        return 'последний'\n",
    "    else:\n",
    "        return 'другой'\n",
    "data['apartment_floors'] = data.apply(apartment_floors_group, axis=1)"
   ]
  },
  {
   "cell_type": "code",
   "execution_count": 138,
   "metadata": {
    "scrolled": true
   },
   "outputs": [
    {
     "data": {
      "text/html": [
       "<div>\n",
       "<style scoped>\n",
       "    .dataframe tbody tr th:only-of-type {\n",
       "        vertical-align: middle;\n",
       "    }\n",
       "\n",
       "    .dataframe tbody tr th {\n",
       "        vertical-align: top;\n",
       "    }\n",
       "\n",
       "    .dataframe thead th {\n",
       "        text-align: right;\n",
       "    }\n",
       "</style>\n",
       "<table border=\"1\" class=\"dataframe\">\n",
       "  <thead>\n",
       "    <tr style=\"text-align: right;\">\n",
       "      <th></th>\n",
       "      <th>total_images</th>\n",
       "      <th>last_price</th>\n",
       "      <th>total_area</th>\n",
       "      <th>first_day_exposition</th>\n",
       "      <th>rooms</th>\n",
       "      <th>ceiling_height</th>\n",
       "      <th>floors_total</th>\n",
       "      <th>living_area</th>\n",
       "      <th>floor</th>\n",
       "      <th>is_apartment</th>\n",
       "      <th>studio</th>\n",
       "      <th>open_plan</th>\n",
       "      <th>kitchen_area</th>\n",
       "      <th>balcony</th>\n",
       "      <th>locality_name</th>\n",
       "      <th>airports_nearest</th>\n",
       "      <th>city_centers_nearest</th>\n",
       "      <th>parks_around_3000</th>\n",
       "      <th>parks_nearest</th>\n",
       "      <th>ponds_around_3000</th>\n",
       "      <th>ponds_nearest</th>\n",
       "      <th>days_exposition</th>\n",
       "      <th>price_sq_meter</th>\n",
       "      <th>weekday_publications</th>\n",
       "      <th>month_publications</th>\n",
       "      <th>year_publications</th>\n",
       "      <th>apartment_floors</th>\n",
       "    </tr>\n",
       "  </thead>\n",
       "  <tbody>\n",
       "    <tr>\n",
       "      <th>0</th>\n",
       "      <td>20</td>\n",
       "      <td>13000000</td>\n",
       "      <td>108.0</td>\n",
       "      <td>2019-03-07</td>\n",
       "      <td>3</td>\n",
       "      <td>2.70</td>\n",
       "      <td>16</td>\n",
       "      <td>51.0</td>\n",
       "      <td>8</td>\n",
       "      <td>False</td>\n",
       "      <td>False</td>\n",
       "      <td>False</td>\n",
       "      <td>25.0</td>\n",
       "      <td>0</td>\n",
       "      <td>Санкт-Петербург</td>\n",
       "      <td>18863.0</td>\n",
       "      <td>16028.0</td>\n",
       "      <td>1</td>\n",
       "      <td>482.0</td>\n",
       "      <td>2</td>\n",
       "      <td>755.0</td>\n",
       "      <td>95.0</td>\n",
       "      <td>120370.37</td>\n",
       "      <td>3</td>\n",
       "      <td>3</td>\n",
       "      <td>2019</td>\n",
       "      <td>другой</td>\n",
       "    </tr>\n",
       "    <tr>\n",
       "      <th>1</th>\n",
       "      <td>7</td>\n",
       "      <td>3350000</td>\n",
       "      <td>40.4</td>\n",
       "      <td>2018-12-04</td>\n",
       "      <td>1</td>\n",
       "      <td>2.62</td>\n",
       "      <td>11</td>\n",
       "      <td>18.6</td>\n",
       "      <td>1</td>\n",
       "      <td>False</td>\n",
       "      <td>False</td>\n",
       "      <td>False</td>\n",
       "      <td>11.0</td>\n",
       "      <td>2</td>\n",
       "      <td>поселок Шушары</td>\n",
       "      <td>12817.0</td>\n",
       "      <td>18603.0</td>\n",
       "      <td>0</td>\n",
       "      <td>455.0</td>\n",
       "      <td>0</td>\n",
       "      <td>584.5</td>\n",
       "      <td>81.0</td>\n",
       "      <td>82920.79</td>\n",
       "      <td>1</td>\n",
       "      <td>12</td>\n",
       "      <td>2018</td>\n",
       "      <td>первый</td>\n",
       "    </tr>\n",
       "    <tr>\n",
       "      <th>2</th>\n",
       "      <td>10</td>\n",
       "      <td>5196000</td>\n",
       "      <td>56.0</td>\n",
       "      <td>2015-08-20</td>\n",
       "      <td>2</td>\n",
       "      <td>2.70</td>\n",
       "      <td>5</td>\n",
       "      <td>34.3</td>\n",
       "      <td>4</td>\n",
       "      <td>False</td>\n",
       "      <td>False</td>\n",
       "      <td>False</td>\n",
       "      <td>8.3</td>\n",
       "      <td>0</td>\n",
       "      <td>Санкт-Петербург</td>\n",
       "      <td>21741.0</td>\n",
       "      <td>13933.0</td>\n",
       "      <td>1</td>\n",
       "      <td>90.0</td>\n",
       "      <td>2</td>\n",
       "      <td>574.0</td>\n",
       "      <td>558.0</td>\n",
       "      <td>92785.71</td>\n",
       "      <td>3</td>\n",
       "      <td>8</td>\n",
       "      <td>2015</td>\n",
       "      <td>другой</td>\n",
       "    </tr>\n",
       "    <tr>\n",
       "      <th>3</th>\n",
       "      <td>0</td>\n",
       "      <td>64900000</td>\n",
       "      <td>159.0</td>\n",
       "      <td>2015-07-24</td>\n",
       "      <td>3</td>\n",
       "      <td>2.70</td>\n",
       "      <td>14</td>\n",
       "      <td>95.0</td>\n",
       "      <td>9</td>\n",
       "      <td>False</td>\n",
       "      <td>False</td>\n",
       "      <td>False</td>\n",
       "      <td>15.0</td>\n",
       "      <td>0</td>\n",
       "      <td>Санкт-Петербург</td>\n",
       "      <td>28098.0</td>\n",
       "      <td>6800.0</td>\n",
       "      <td>2</td>\n",
       "      <td>84.0</td>\n",
       "      <td>3</td>\n",
       "      <td>234.0</td>\n",
       "      <td>424.0</td>\n",
       "      <td>408176.10</td>\n",
       "      <td>4</td>\n",
       "      <td>7</td>\n",
       "      <td>2015</td>\n",
       "      <td>другой</td>\n",
       "    </tr>\n",
       "    <tr>\n",
       "      <th>4</th>\n",
       "      <td>2</td>\n",
       "      <td>10000000</td>\n",
       "      <td>100.0</td>\n",
       "      <td>2018-06-19</td>\n",
       "      <td>2</td>\n",
       "      <td>3.03</td>\n",
       "      <td>14</td>\n",
       "      <td>32.0</td>\n",
       "      <td>13</td>\n",
       "      <td>False</td>\n",
       "      <td>False</td>\n",
       "      <td>False</td>\n",
       "      <td>41.0</td>\n",
       "      <td>0</td>\n",
       "      <td>Санкт-Петербург</td>\n",
       "      <td>31856.0</td>\n",
       "      <td>8098.0</td>\n",
       "      <td>2</td>\n",
       "      <td>112.0</td>\n",
       "      <td>1</td>\n",
       "      <td>48.0</td>\n",
       "      <td>121.0</td>\n",
       "      <td>100000.00</td>\n",
       "      <td>1</td>\n",
       "      <td>6</td>\n",
       "      <td>2018</td>\n",
       "      <td>другой</td>\n",
       "    </tr>\n",
       "  </tbody>\n",
       "</table>\n",
       "</div>"
      ],
      "text/plain": [
       "   total_images  last_price  total_area first_day_exposition  rooms  \\\n",
       "0            20    13000000       108.0           2019-03-07      3   \n",
       "1             7     3350000        40.4           2018-12-04      1   \n",
       "2            10     5196000        56.0           2015-08-20      2   \n",
       "3             0    64900000       159.0           2015-07-24      3   \n",
       "4             2    10000000       100.0           2018-06-19      2   \n",
       "\n",
       "   ceiling_height  floors_total  living_area  floor  is_apartment  studio  \\\n",
       "0            2.70            16         51.0      8         False   False   \n",
       "1            2.62            11         18.6      1         False   False   \n",
       "2            2.70             5         34.3      4         False   False   \n",
       "3            2.70            14         95.0      9         False   False   \n",
       "4            3.03            14         32.0     13         False   False   \n",
       "\n",
       "   open_plan  kitchen_area  balcony    locality_name  airports_nearest  \\\n",
       "0      False          25.0        0  Санкт-Петербург           18863.0   \n",
       "1      False          11.0        2   поселок Шушары           12817.0   \n",
       "2      False           8.3        0  Санкт-Петербург           21741.0   \n",
       "3      False          15.0        0  Санкт-Петербург           28098.0   \n",
       "4      False          41.0        0  Санкт-Петербург           31856.0   \n",
       "\n",
       "   city_centers_nearest  parks_around_3000  parks_nearest  ponds_around_3000  \\\n",
       "0               16028.0                  1          482.0                  2   \n",
       "1               18603.0                  0          455.0                  0   \n",
       "2               13933.0                  1           90.0                  2   \n",
       "3                6800.0                  2           84.0                  3   \n",
       "4                8098.0                  2          112.0                  1   \n",
       "\n",
       "   ponds_nearest  days_exposition  price_sq_meter  weekday_publications  \\\n",
       "0          755.0             95.0       120370.37                     3   \n",
       "1          584.5             81.0        82920.79                     1   \n",
       "2          574.0            558.0        92785.71                     3   \n",
       "3          234.0            424.0       408176.10                     4   \n",
       "4           48.0            121.0       100000.00                     1   \n",
       "\n",
       "   month_publications  year_publications apartment_floors  \n",
       "0                   3               2019           другой  \n",
       "1                  12               2018           первый  \n",
       "2                   8               2015           другой  \n",
       "3                   7               2015           другой  \n",
       "4                   6               2018           другой  "
      ]
     },
     "execution_count": 138,
     "metadata": {},
     "output_type": "execute_result"
    }
   ],
   "source": [
    "data.head()"
   ]
  },
  {
   "cell_type": "markdown",
   "metadata": {},
   "source": [
    "#### Добавим расстояние до центра города в километрах"
   ]
  },
  {
   "cell_type": "code",
   "execution_count": 142,
   "metadata": {},
   "outputs": [],
   "source": [
    "data['city_center_distance_km'] = data.apply(lambda row: round(row['city_centers_nearest'] / 1000), axis=1)"
   ]
  },
  {
   "cell_type": "code",
   "execution_count": 143,
   "metadata": {},
   "outputs": [
    {
     "data": {
      "text/plain": [
       "0        16\n",
       "1        19\n",
       "2        14\n",
       "3         7\n",
       "4         8\n",
       "         ..\n",
       "23694     4\n",
       "23695    13\n",
       "23696    13\n",
       "23697    10\n",
       "23698    13\n",
       "Name: city_center_distance_km, Length: 23565, dtype: int64"
      ]
     },
     "execution_count": 143,
     "metadata": {},
     "output_type": "execute_result"
    }
   ],
   "source": [
    "data['city_center_distance_km']"
   ]
  },
  {
   "cell_type": "markdown",
   "metadata": {},
   "source": [
    "Добавлены столбцы со значениями:\n",
    "\n",
    "1. Цена за 1 кв.м. (price_sq_meter)\n",
    "2. День объявления (weekday_publications)\n",
    "3. Месяц объявления (month_publications)\n",
    "4. Год объявления (year_publications)\n",
    "5. Категория этажа (apartment_floors)\n",
    "6. Расстояние до центра города в километрах (city_center_distance_km)"
   ]
  },
  {
   "cell_type": "markdown",
   "metadata": {
    "id": "pPyxrKWTAwb-"
   },
   "source": [
    "### Проведите исследовательский анализ данных"
   ]
  },
  {
   "cell_type": "markdown",
   "metadata": {
    "id": "V2f0D3kLAwb-"
   },
   "source": [
    "#### Как быстро продавались квартиры"
   ]
  },
  {
   "cell_type": "code",
   "execution_count": 145,
   "metadata": {},
   "outputs": [
    {
     "data": {
      "text/plain": [
       "18843    1580.0\n",
       "1109     1572.0\n",
       "9553     1553.0\n",
       "1885     1513.0\n",
       "20969    1512.0\n",
       "6691     1512.0\n",
       "14093    1497.0\n",
       "15313    1489.0\n",
       "19123    1485.0\n",
       "11955    1484.0\n",
       "Name: days_exposition, dtype: float64"
      ]
     },
     "execution_count": 145,
     "metadata": {},
     "output_type": "execute_result"
    }
   ],
   "source": [
    "data['days_exposition'].sort_values(ascending=False).head(10)"
   ]
  },
  {
   "cell_type": "code",
   "execution_count": 147,
   "metadata": {},
   "outputs": [
    {
     "data": {
      "text/plain": [
       "count    23565.00\n",
       "mean       169.92\n",
       "std        206.88\n",
       "min          1.00\n",
       "25%         45.00\n",
       "50%         95.00\n",
       "75%        200.00\n",
       "max       1580.00\n",
       "Name: days_exposition, dtype: float64"
      ]
     },
     "execution_count": 147,
     "metadata": {},
     "output_type": "execute_result"
    }
   ],
   "source": [
    "data['days_exposition'].describe()"
   ]
  },
  {
   "cell_type": "code",
   "execution_count": 148,
   "metadata": {},
   "outputs": [
    {
     "data": {
      "text/plain": [
       "95.0"
      ]
     },
     "execution_count": 148,
     "metadata": {},
     "output_type": "execute_result"
    }
   ],
   "source": [
    "data['days_exposition'].median()"
   ]
  },
  {
   "cell_type": "code",
   "execution_count": 149,
   "metadata": {},
   "outputs": [
    {
     "data": {
      "image/png": "[encoded data removed]",
      "text/plain": [
       "<Figure size 1080x360 with 1 Axes>"
      ]
     },
     "metadata": {
      "needs_background": "light"
     },
     "output_type": "display_data"
    }
   ],
   "source": [
    "data['days_exposition'].hist(bins=30, legend=True,alpha=0.7, figsize = (15,5)).set(title='Время продажи квартиры (за весь период)', \n",
    "    xlabel='количество дней продажи', ylabel='количество объектов');"
   ]
  },
  {
   "cell_type": "markdown",
   "metadata": {},
   "source": [
    "На рынке недвижимости квартиры в среднем продаются за 181 день, но медианный срок составляет 95 дней, указывая на более быстрые продажи для половины случаев. Минимальный срок продажи — 1 день, максимальный — 1580 дней (более 4 лет). Большинство квартир продается приблизительно за 100 дней. Быстрыми считаются продажи до 45 дней (первый квартиль), долгими — свыше 231 дня (четвертый квартиль)."
   ]
  },
  {
   "cell_type": "markdown",
   "metadata": {},
   "source": [
    "#### Анализ общей площади"
   ]
  },
  {
   "cell_type": "code",
   "execution_count": 153,
   "metadata": {},
   "outputs": [
    {
     "data": {
      "text/plain": [
       "count    23565.00\n",
       "mean        60.32\n",
       "std         35.66\n",
       "min         12.00\n",
       "25%         40.00\n",
       "50%         52.00\n",
       "75%         69.70\n",
       "max        900.00\n",
       "Name: total_area, dtype: float64"
      ]
     },
     "execution_count": 153,
     "metadata": {},
     "output_type": "execute_result"
    }
   ],
   "source": [
    "data['total_area'].describe()"
   ]
  },
  {
   "cell_type": "code",
   "execution_count": 154,
   "metadata": {},
   "outputs": [
    {
     "data": {
      "image/png": "[encoded data removed]",
      "text/plain": [
       "<Figure size 1080x360 with 1 Axes>"
      ]
     },
     "metadata": {
      "needs_background": "light"
     },
     "output_type": "display_data"
    }
   ],
   "source": [
    "data['living_area'].hist(bins = 30, legend=True, alpha=0.7, figsize = (15,5)).set(title='Жилая площадь', \n",
    "    xlabel='площадь в кв.м.', ylabel='количество объектов');"
   ]
  },
  {
   "cell_type": "markdown",
   "metadata": {},
   "source": [
    "На рынке самое большое предложение квартир с общей площадью от 40 до 69 кв. метров с максимумом около 52 кв. метров общей площади"
   ]
  },
  {
   "cell_type": "markdown",
   "metadata": {},
   "source": [
    "#### Анализ жилой площади"
   ]
  },
  {
   "cell_type": "code",
   "execution_count": 155,
   "metadata": {},
   "outputs": [
    {
     "data": {
      "text/plain": [
       "count    23565.00\n",
       "mean        34.66\n",
       "std         22.46\n",
       "min          9.10\n",
       "25%         18.70\n",
       "50%         30.00\n",
       "75%         42.30\n",
       "max        409.70\n",
       "Name: living_area, dtype: float64"
      ]
     },
     "execution_count": 155,
     "metadata": {},
     "output_type": "execute_result"
    }
   ],
   "source": [
    "data['living_area'].describe()"
   ]
  },
  {
   "cell_type": "code",
   "execution_count": 156,
   "metadata": {},
   "outputs": [
    {
     "data": {
      "image/png": "[encoded data removed]",
      "text/plain": [
       "<Figure size 1080x360 with 1 Axes>"
      ]
     },
     "metadata": {
      "needs_background": "light"
     },
     "output_type": "display_data"
    }
   ],
   "source": [
    "data['living_area'].hist(bins = 30, legend=True, alpha=0.7, figsize = (15,5)).set(title='Жилая площадь', \n",
    "    xlabel='площадь в кв.м.', ylabel='количество объектов');"
   ]
  },
  {
   "cell_type": "markdown",
   "metadata": {},
   "source": [
    "Основной диапазон жилой площади приблизительно находится от 18 кв.м до 42 кв.м "
   ]
  },
  {
   "cell_type": "markdown",
   "metadata": {},
   "source": [
    "#### Анализ площади кухни"
   ]
  },
  {
   "cell_type": "code",
   "execution_count": 159,
   "metadata": {},
   "outputs": [
    {
     "data": {
      "text/plain": [
       "count    23565.00\n",
       "mean        10.45\n",
       "std          5.90\n",
       "min          1.30\n",
       "25%          7.00\n",
       "50%          9.00\n",
       "75%         11.80\n",
       "max        112.00\n",
       "Name: kitchen_area, dtype: float64"
      ]
     },
     "execution_count": 159,
     "metadata": {},
     "output_type": "execute_result"
    }
   ],
   "source": [
    "data['kitchen_area'].describe()"
   ]
  },
  {
   "cell_type": "code",
   "execution_count": 160,
   "metadata": {},
   "outputs": [
    {
     "data": {
      "image/png": "[encoded data removed]",
      "text/plain": [
       "<Figure size 1080x360 with 1 Axes>"
      ]
     },
     "metadata": {
      "needs_background": "light"
     },
     "output_type": "display_data"
    }
   ],
   "source": [
    "data['kitchen_area'].hist(bins=20, legend=True,alpha=0.7, figsize = (15,5)).set(title='Площадь кухни', \n",
    "    xlabel='площадь в кв.м.', ylabel='количество объектов');"
   ]
  },
  {
   "cell_type": "markdown",
   "metadata": {},
   "source": [
    "Прослеживается тенденция что больше всего предложений с площадью кухни в 6 метров затем 9 и 12 кв.метром "
   ]
  },
  {
   "cell_type": "markdown",
   "metadata": {},
   "source": [
    "#### Анализ цены объекта"
   ]
  },
  {
   "cell_type": "code",
   "execution_count": 162,
   "metadata": {},
   "outputs": [
    {
     "data": {
      "text/plain": [
       "count    2.36e+04\n",
       "mean     6.54e+06\n",
       "std      1.09e+07\n",
       "min      1.22e+04\n",
       "25%      3.40e+06\n",
       "50%      4.65e+06\n",
       "75%      6.79e+06\n",
       "max      7.63e+08\n",
       "Name: last_price, dtype: float64"
      ]
     },
     "execution_count": 162,
     "metadata": {},
     "output_type": "execute_result"
    }
   ],
   "source": [
    "data['last_price'].describe()"
   ]
  },
  {
   "cell_type": "code",
   "execution_count": 174,
   "metadata": {},
   "outputs": [
    {
     "data": {
      "image/png": "[encoded data removed]",
      "text/plain": [
       "<Figure size 1080x360 with 1 Axes>"
      ]
     },
     "metadata": {
      "needs_background": "light"
     },
     "output_type": "display_data"
    }
   ],
   "source": [
    "ax = (data['last_price'] / 1000000).hist(bins=30, range=(0, 30), legend=True, alpha=0.7, figsize=(15, 5))\n",
    "ax.set(title='Цены на жилье', xlabel='Цена в млн.руб.', ylabel='Количество объектов')\n",
    "plt.show()"
   ]
  },
  {
   "cell_type": "markdown",
   "metadata": {},
   "source": [
    "Цены на квартиры в основном находятся в диапазоне 2-6 млн.руб. с пиком в области 3-6 млн.руб."
   ]
  },
  {
   "cell_type": "markdown",
   "metadata": {},
   "source": [
    "#### Анализ количества комнат"
   ]
  },
  {
   "cell_type": "code",
   "execution_count": 176,
   "metadata": {},
   "outputs": [
    {
     "data": {
      "text/plain": [
       "count    23565.00\n",
       "mean         2.08\n",
       "std          1.07\n",
       "min          1.00\n",
       "25%          1.00\n",
       "50%          2.00\n",
       "75%          3.00\n",
       "max         19.00\n",
       "Name: rooms, dtype: float64"
      ]
     },
     "execution_count": 176,
     "metadata": {},
     "output_type": "execute_result"
    }
   ],
   "source": [
    "data['rooms'].describe()"
   ]
  },
  {
   "cell_type": "code",
   "execution_count": 177,
   "metadata": {},
   "outputs": [
    {
     "data": {
      "image/png": "[encoded data removed]",
      "text/plain": [
       "<Figure size 1080x360 with 1 Axes>"
      ]
     },
     "metadata": {
      "needs_background": "light"
     },
     "output_type": "display_data"
    }
   ],
   "source": [
    "data['rooms'].hist(bins = data['rooms'].max(), legend=True,alpha=0.7, figsize = (15,5)).set(title='Количество комнат', \n",
    "    xlabel='количество комнат в квартире', ylabel='количество объектов');"
   ]
  },
  {
   "cell_type": "markdown",
   "metadata": {},
   "source": [
    "Большая часть квартир являются 1-3 комнатными."
   ]
  },
  {
   "cell_type": "markdown",
   "metadata": {},
   "source": [
    "#### Анализ высоты потолков"
   ]
  },
  {
   "cell_type": "code",
   "execution_count": 178,
   "metadata": {},
   "outputs": [
    {
     "data": {
      "text/plain": [
       "count    23565.00\n",
       "mean         2.73\n",
       "std          1.01\n",
       "min          2.20\n",
       "25%          2.55\n",
       "50%          2.70\n",
       "75%          2.70\n",
       "max        100.00\n",
       "Name: ceiling_height, dtype: float64"
      ]
     },
     "execution_count": 178,
     "metadata": {},
     "output_type": "execute_result"
    }
   ],
   "source": [
    "data['ceiling_height'].describe()"
   ]
  },
  {
   "cell_type": "code",
   "execution_count": 180,
   "metadata": {},
   "outputs": [
    {
     "data": {
      "image/png": "[encoded data removed]",
      "text/plain": [
       "<Figure size 1080x360 with 1 Axes>"
      ]
     },
     "metadata": {
      "needs_background": "light"
     },
     "output_type": "display_data"
    }
   ],
   "source": [
    "ax = data['ceiling_height'].hist(bins=20, range=(0, 4), legend=True, alpha=0.7, figsize=(15, 5))\n",
    "ax.set(title='Высота потолков (все объекты)', xlabel='Высота потолка в м.', ylabel='Количество объектов')\n",
    "plt.show()"
   ]
  },
  {
   "cell_type": "markdown",
   "metadata": {},
   "source": [
    "Высота потолка в основном от 2.5 до 2.7 м "
   ]
  },
  {
   "cell_type": "markdown",
   "metadata": {},
   "source": [
    "#### Тип этажа квартиры («первый», «последний», «другой»)"
   ]
  },
  {
   "cell_type": "code",
   "execution_count": 183,
   "metadata": {},
   "outputs": [
    {
     "data": {
      "text/plain": [
       "count      23565\n",
       "unique         3\n",
       "top       другой\n",
       "freq       17326\n",
       "Name: apartment_floors, dtype: object"
      ]
     },
     "execution_count": 183,
     "metadata": {},
     "output_type": "execute_result"
    }
   ],
   "source": [
    "data['apartment_floors'].describe()"
   ]
  },
  {
   "cell_type": "code",
   "execution_count": 186,
   "metadata": {},
   "outputs": [
    {
     "data": {
      "image/png": "[encoded data removed]",
      "text/plain": [
       "<Figure size 1080x360 with 1 Axes>"
      ]
     },
     "metadata": {
      "needs_background": "light"
     },
     "output_type": "display_data"
    }
   ],
   "source": [
    "ax = (\n",
    "    data.pivot_table(index='apartment_floors', values='last_price', aggfunc='median')\n",
    "    .sort_values(by='last_price', ascending=False)\n",
    "    .plot(grid=True, style='o-', figsize=(15, 5), legend=True, alpha=0.7, title='Зависимость цены от этажа расположения квартиры')\n",
    ")\n",
    "\n",
    "ax.set_xlabel('Расположение квартиры по этажам', fontsize=12)\n",
    "ax.set_ylabel('Цена', fontsize=12)\n",
    "ax.legend(['Медианная цена'])\n",
    "\n",
    "plt.show()"
   ]
  },
  {
   "cell_type": "code",
   "execution_count": 191,
   "metadata": {},
   "outputs": [
    {
     "data": {
      "image/png": "[encoded data removed]",
      "text/plain": [
       "<Figure size 864x432 with 1 Axes>"
      ]
     },
     "metadata": {
      "needs_background": "light"
     },
     "output_type": "display_data"
    }
   ],
   "source": [
    "fig, ax = plt.subplots(figsize=(12, 6))\n",
    "\n",
    "data.pivot_table(index='apartment_floors', values='last_price', aggfunc='count').plot(kind='bar', ax=ax)\n",
    "ax.set_title('Распределение предложений в зависимости от этажа')\n",
    "ax.set_xlabel('Этаж')\n",
    "ax.set_ylabel('Количество предложений')\n",
    "\n",
    "ax.spines['top'].set_visible(False)\n",
    "ax.spines['right'].set_visible(False)\n",
    "ax.tick_params(axis='both', which='major', labelsize=12)\n",
    "ax.grid(True, linestyle='--', alpha=0.5)\n",
    "\n",
    "plt.show()"
   ]
  },
  {
   "cell_type": "markdown",
   "metadata": {},
   "source": [
    "Менее ценными считаются квартиры на \"Первом\" и \"Последнем\" этаже. На диаграмме заметно, что общее количество предложений \"Первого\" и \"Последнего\" этажа составляет чуть больше 20% от общего количества предложений."
   ]
  },
  {
   "cell_type": "markdown",
   "metadata": {},
   "source": [
    "#### Анализ общего количества этажей в доме"
   ]
  },
  {
   "cell_type": "code",
   "execution_count": 193,
   "metadata": {},
   "outputs": [
    {
     "data": {
      "text/plain": [
       "count    23565.00\n",
       "mean        10.68\n",
       "std          6.59\n",
       "min          1.00\n",
       "25%          5.00\n",
       "50%          9.00\n",
       "75%         16.00\n",
       "max         60.00\n",
       "Name: floors_total, dtype: float64"
      ]
     },
     "execution_count": 193,
     "metadata": {},
     "output_type": "execute_result"
    }
   ],
   "source": [
    "data['floors_total'].describe()"
   ]
  },
  {
   "cell_type": "code",
   "execution_count": 194,
   "metadata": {},
   "outputs": [
    {
     "data": {
      "image/png": "[encoded data removed]",
      "text/plain": [
       "<Figure size 1080x360 with 1 Axes>"
      ]
     },
     "metadata": {
      "needs_background": "light"
     },
     "output_type": "display_data"
    }
   ],
   "source": [
    "data['floors_total'].hist(bins=20, legend=True,alpha=0.7, figsize = (15,5)).set(title='Общее количество этажей в доме', \n",
    "    xlabel='кол-во этажей', ylabel='количество объектов');"
   ]
  },
  {
   "cell_type": "markdown",
   "metadata": {},
   "source": [
    "Больше всего предложений о продаже квартир в пятиэтажных домах, а потом в девятиэтажках."
   ]
  },
  {
   "cell_type": "markdown",
   "metadata": {},
   "source": [
    "#### Анализ расстояния до центра города в метрах"
   ]
  },
  {
   "cell_type": "code",
   "execution_count": 197,
   "metadata": {},
   "outputs": [
    {
     "data": {
      "text/plain": [
       "<bound method NDFrame.describe of 0        16028.0\n",
       "1        18603.0\n",
       "2        13933.0\n",
       "3         6800.0\n",
       "4         8098.0\n",
       "          ...   \n",
       "23694     4232.0\n",
       "23695    13096.5\n",
       "23696    13096.5\n",
       "23697    10364.0\n",
       "23698    13096.5\n",
       "Name: city_centers_nearest, Length: 23565, dtype: float64>"
      ]
     },
     "execution_count": 197,
     "metadata": {},
     "output_type": "execute_result"
    }
   ],
   "source": [
    "data['city_centers_nearest'].describe"
   ]
  },
  {
   "cell_type": "code",
   "execution_count": 198,
   "metadata": {},
   "outputs": [
    {
     "data": {
      "image/png": "[encoded data removed]",
      "text/plain": [
       "<Figure size 1080x360 with 1 Axes>"
      ]
     },
     "metadata": {
      "needs_background": "light"
     },
     "output_type": "display_data"
    }
   ],
   "source": [
    "data['city_centers_nearest'].hist(bins=20, legend=True,alpha=0.7, figsize = (15,5)).set(title='Расстояние до центра города в метрах', \n",
    "    xlabel='расстояние в метрах', ylabel='количество объектов');"
   ]
  },
  {
   "cell_type": "markdown",
   "metadata": {},
   "source": [
    "Больше всего предложений о продаже на расстоянии 10000 -15000 метров"
   ]
  },
  {
   "cell_type": "markdown",
   "metadata": {},
   "source": [
    "#### Анализ расстояния до ближайшего парка"
   ]
  },
  {
   "cell_type": "code",
   "execution_count": 200,
   "metadata": {},
   "outputs": [
    {
     "data": {
      "text/plain": [
       "count    23565.00\n",
       "mean       467.12\n",
       "std        200.10\n",
       "min          1.00\n",
       "25%        455.00\n",
       "50%        455.00\n",
       "75%        455.00\n",
       "max       3190.00\n",
       "Name: parks_nearest, dtype: float64"
      ]
     },
     "execution_count": 200,
     "metadata": {},
     "output_type": "execute_result"
    }
   ],
   "source": [
    "data['parks_nearest'].describe()"
   ]
  },
  {
   "cell_type": "code",
   "execution_count": 202,
   "metadata": {},
   "outputs": [
    {
     "data": {
      "image/png": "[encoded data removed]",
      "text/plain": [
       "<Figure size 1080x360 with 1 Axes>"
      ]
     },
     "metadata": {
      "needs_background": "light"
     },
     "output_type": "display_data"
    }
   ],
   "source": [
    "data['parks_nearest'].hist(bins=20, legend=True,alpha=0.7, figsize = (15,5)).set(title='Расстояние до ближайшего парка', \n",
    "    xlabel='расстояние в м', ylabel='количество объектов');"
   ]
  },
  {
   "cell_type": "markdown",
   "metadata": {},
   "source": [
    "В основном все дома расположены возле парка, лишь некоторая часть находится в удаленности более 1 км."
   ]
  },
  {
   "cell_type": "markdown",
   "metadata": {},
   "source": [
    "Вывод\n",
    "\n",
    "Общая или жилая площадь и количество комнат влияет на цену квартиры. Квартиры на последнем этаже, стоят гораздо дешевле, чем квартиры на других этажах. Квартиры на первом этаже самые дешевые. Наблюдается просадка цены в пятницу и воскресенье, повышение цены происходит во вторник, в остальные дни цена сохраняется приблизительно на одном уровне."
   ]
  },
  {
   "cell_type": "markdown",
   "metadata": {},
   "source": [
    "#### 10 населённых пунктов с наибольшим числом объявлений"
   ]
  },
  {
   "cell_type": "code",
   "execution_count": 208,
   "metadata": {},
   "outputs": [
    {
     "data": {
      "text/html": [
       "<div>\n",
       "<style scoped>\n",
       "    .dataframe tbody tr th:only-of-type {\n",
       "        vertical-align: middle;\n",
       "    }\n",
       "\n",
       "    .dataframe tbody tr th {\n",
       "        vertical-align: top;\n",
       "    }\n",
       "\n",
       "    .dataframe thead th {\n",
       "        text-align: right;\n",
       "    }\n",
       "</style>\n",
       "<table border=\"1\" class=\"dataframe\">\n",
       "  <thead>\n",
       "    <tr style=\"text-align: right;\">\n",
       "      <th></th>\n",
       "      <th>count</th>\n",
       "      <th>mean</th>\n",
       "    </tr>\n",
       "    <tr>\n",
       "      <th>locality_name</th>\n",
       "      <th></th>\n",
       "      <th></th>\n",
       "    </tr>\n",
       "  </thead>\n",
       "  <tbody>\n",
       "    <tr>\n",
       "      <th>Санкт-Петербург</th>\n",
       "      <td>15651</td>\n",
       "      <td>114868.88</td>\n",
       "    </tr>\n",
       "    <tr>\n",
       "      <th>поселок Мурино</th>\n",
       "      <td>552</td>\n",
       "      <td>85629.57</td>\n",
       "    </tr>\n",
       "    <tr>\n",
       "      <th>поселок Шушары</th>\n",
       "      <td>439</td>\n",
       "      <td>78551.34</td>\n",
       "    </tr>\n",
       "    <tr>\n",
       "      <th>Всеволожск</th>\n",
       "      <td>398</td>\n",
       "      <td>68654.47</td>\n",
       "    </tr>\n",
       "    <tr>\n",
       "      <th>Пушкин</th>\n",
       "      <td>369</td>\n",
       "      <td>103125.82</td>\n",
       "    </tr>\n",
       "    <tr>\n",
       "      <th>Колпино</th>\n",
       "      <td>338</td>\n",
       "      <td>75424.58</td>\n",
       "    </tr>\n",
       "    <tr>\n",
       "      <th>поселок Парголово</th>\n",
       "      <td>327</td>\n",
       "      <td>90175.91</td>\n",
       "    </tr>\n",
       "    <tr>\n",
       "      <th>Гатчина</th>\n",
       "      <td>307</td>\n",
       "      <td>68746.15</td>\n",
       "    </tr>\n",
       "    <tr>\n",
       "      <th>деревня Кудрово</th>\n",
       "      <td>299</td>\n",
       "      <td>92473.55</td>\n",
       "    </tr>\n",
       "    <tr>\n",
       "      <th>Выборг</th>\n",
       "      <td>237</td>\n",
       "      <td>58141.91</td>\n",
       "    </tr>\n",
       "  </tbody>\n",
       "</table>\n",
       "</div>"
      ],
      "text/plain": [
       "                   count       mean\n",
       "locality_name                      \n",
       "Санкт-Петербург    15651  114868.88\n",
       "поселок Мурино       552   85629.57\n",
       "поселок Шушары       439   78551.34\n",
       "Всеволожск           398   68654.47\n",
       "Пушкин               369  103125.82\n",
       "Колпино              338   75424.58\n",
       "поселок Парголово    327   90175.91\n",
       "Гатчина              307   68746.15\n",
       "деревня Кудрово      299   92473.55\n",
       "Выборг               237   58141.91"
      ]
     },
     "execution_count": 208,
     "metadata": {},
     "output_type": "execute_result"
    }
   ],
   "source": [
    "locality_name_sorted_pivot_table = (data.pivot_table(index = 'locality_name', values = [\"price_sq_meter\"], aggfunc = [\"count\",\"mean\"]))\n",
    "\n",
    "locality_name_sorted_pivot_table.columns = [\"count\",\"mean\"]\n",
    "\n",
    "locality_name_sorted_pivot_table.sort_values(by = \"count\",inplace = True,ascending = False)\n",
    "\n",
    "locality_name_sorted_pivot_table = locality_name_sorted_pivot_table[:10]\n",
    "\n",
    "locality_name_sorted_pivot_table"
   ]
  },
  {
   "cell_type": "code",
   "execution_count": 209,
   "metadata": {},
   "outputs": [
    {
     "data": {
      "text/html": [
       "<div>\n",
       "<style scoped>\n",
       "    .dataframe tbody tr th:only-of-type {\n",
       "        vertical-align: middle;\n",
       "    }\n",
       "\n",
       "    .dataframe tbody tr th {\n",
       "        vertical-align: top;\n",
       "    }\n",
       "\n",
       "    .dataframe thead th {\n",
       "        text-align: right;\n",
       "    }\n",
       "</style>\n",
       "<table border=\"1\" class=\"dataframe\">\n",
       "  <thead>\n",
       "    <tr style=\"text-align: right;\">\n",
       "      <th></th>\n",
       "      <th>count</th>\n",
       "      <th>mean</th>\n",
       "    </tr>\n",
       "    <tr>\n",
       "      <th>locality_name</th>\n",
       "      <th></th>\n",
       "      <th></th>\n",
       "    </tr>\n",
       "  </thead>\n",
       "  <tbody>\n",
       "    <tr>\n",
       "      <th>Санкт-Петербург</th>\n",
       "      <td>15651</td>\n",
       "      <td>114868.88</td>\n",
       "    </tr>\n",
       "    <tr>\n",
       "      <th>Выборг</th>\n",
       "      <td>237</td>\n",
       "      <td>58141.91</td>\n",
       "    </tr>\n",
       "  </tbody>\n",
       "</table>\n",
       "</div>"
      ],
      "text/plain": [
       "                 count       mean\n",
       "locality_name                    \n",
       "Санкт-Петербург  15651  114868.88\n",
       "Выборг             237   58141.91"
      ]
     },
     "execution_count": 209,
     "metadata": {},
     "output_type": "execute_result"
    }
   ],
   "source": [
    "locality_name_sorted_pivot_table.query('mean == mean.min() or mean == mean.max()')"
   ]
  },
  {
   "cell_type": "markdown",
   "metadata": {},
   "source": [
    "Вывод\n",
    "\n",
    "Максимальная средняя стоимость жилья - Санкт-Петербург (114 тыс.за кв.м.), минимальная - Выборг (58 тыс.за кв.м.)"
   ]
  },
  {
   "cell_type": "markdown",
   "metadata": {},
   "source": [
    "#### Выделим квартиры в Санкт-Петербурге с помощью столбца locality_name и вычислим их среднюю стоимость на разном удалении от центра"
   ]
  },
  {
   "cell_type": "code",
   "execution_count": 220,
   "metadata": {},
   "outputs": [
    {
     "data": {
      "text/plain": [
       "count    15651.00\n",
       "mean        11.59\n",
       "std          4.85\n",
       "min          0.00\n",
       "25%          8.00\n",
       "50%         12.00\n",
       "75%         15.00\n",
       "max         29.00\n",
       "Name: city_center_distance_km, dtype: float64"
      ]
     },
     "execution_count": 220,
     "metadata": {},
     "output_type": "execute_result"
    }
   ],
   "source": [
    "data.query('locality_name == \"Санкт-Петербург\"')['city_center_distance_km'].describe()"
   ]
  },
  {
   "cell_type": "code",
   "execution_count": 230,
   "metadata": {},
   "outputs": [
    {
     "data": {
      "image/png": "[encoded data removed]",
      "text/plain": [
       "<Figure size 720x360 with 1 Axes>"
      ]
     },
     "metadata": {
      "needs_background": "light"
     },
     "output_type": "display_data"
    }
   ],
   "source": [
    "(data.query('locality_name == \"Санкт-Петербург\"')\n",
    "    .pivot_table(index='city_center_distance_km', values='last_price',aggfunc='mean')\n",
    "    .plot(grid=True, style='o-', xlim=(0,15), figsize=(10, 5)))\n",
    "plt.show()"
   ]
  },
  {
   "cell_type": "markdown",
   "metadata": {},
   "source": [
    "Самые дорогие квартиры в центре города и их стоимость уменьшается c увеличением расстояния от центра города до 7 километров, далее стоимость не зависит от удаления."
   ]
  },
  {
   "cell_type": "code",
   "execution_count": 238,
   "metadata": {},
   "outputs": [],
   "source": [
    "spb_center = data.query('(locality_name == \"Санкт-Петербург\") & (city_center_distance_km <= 7)')"
   ]
  },
  {
   "cell_type": "code",
   "execution_count": 259,
   "metadata": {},
   "outputs": [],
   "source": [
    "def frame_plot(frame,list_of_columns):\n",
    "    for column in list_of_columns:\n",
    "        frame[column].hist(bins = 15,figsize = (15,5))\n",
    "        plt.title(column)\n",
    "        plt.show()"
   ]
  },
  {
   "cell_type": "code",
   "execution_count": 260,
   "metadata": {
    "scrolled": false
   },
   "outputs": [
    {
     "data": {
      "image/png": "[encoded data removed]",
      "text/plain": [
       "<Figure size 1080x360 with 1 Axes>"
      ]
     },
     "metadata": {
      "needs_background": "light"
     },
     "output_type": "display_data"
    },
    {
     "data": {
      "image/png": "[encoded data removed]",
      "text/plain": [
       "<Figure size 1080x360 with 1 Axes>"
      ]
     },
     "metadata": {
      "needs_background": "light"
     },
     "output_type": "display_data"
    },
    {
     "data": {
      "image/png": "[encoded data removed]",
      "text/plain": [
       "<Figure size 1080x360 with 1 Axes>"
      ]
     },
     "metadata": {
      "needs_background": "light"
     },
     "output_type": "display_data"
    },
    {
     "data": {
      "image/png": "[encoded data removed]",
      "text/plain": [
       "<Figure size 1080x360 with 1 Axes>"
      ]
     },
     "metadata": {
      "needs_background": "light"
     },
     "output_type": "display_data"
    },
    {
     "data": {
      "image/png": "[encoded data removed]",
      "text/plain": [
       "<Figure size 1080x360 with 1 Axes>"
      ]
     },
     "metadata": {
      "needs_background": "light"
     },
     "output_type": "display_data"
    },
    {
     "data": {
      "image/png": "[encoded data removed]",
      "text/plain": [
       "<Figure size 1080x360 with 1 Axes>"
      ]
     },
     "metadata": {
      "needs_background": "light"
     },
     "output_type": "display_data"
    },
    {
     "data": {
      "image/png": "[encoded data removed]",
      "text/plain": [
       "<Figure size 1080x360 with 1 Axes>"
      ]
     },
     "metadata": {
      "needs_background": "light"
     },
     "output_type": "display_data"
    },
    {
     "data": {
      "image/png": "[encoded data removed]",
      "text/plain": [
       "<Figure size 1080x360 with 1 Axes>"
      ]
     },
     "metadata": {
      "needs_background": "light"
     },
     "output_type": "display_data"
    }
   ],
   "source": [
    "list_of_columns_spb = ['rooms'\n",
    "                       ,'floor'\n",
    "                       ,'city_centers_nearest'\n",
    "                       ,'first_day_exposition'\n",
    "                       ,'apartment_floors'\n",
    "                       ,'weekday_publications'\n",
    "                       ,'month_publications'\n",
    "                       ,'year_publications']\n",
    "frame_plot(spb_center,list_of_columns_spb)"
   ]
  },
  {
   "cell_type": "markdown",
   "metadata": {},
   "source": [
    "Анализируя зависимость стоимости квартир в центре города от различных факторов, можно сделать следующие выводы:\n",
    "\n",
    "- Число комнат: В центре города цена квартиры зависит от количества комнат так же, как и в остальных районах города. Это означает, что увеличение числа комнат обычно приводит к пропорциональному увеличению стоимости жилья.\n",
    "\n",
    "- Площадь: Самый сильный фактор, влияющий на стоимость квартиры в центре, - это ее площадь. Чем больше площадь квартиры, тем выше ее цена.\n",
    "\n",
    "- Высота потолков: Минимальное влияние на цену оказывает высота потолков в квартире. Это означает, что изменения в этом параметре мало влияют на общую стоимость недвижимости.\n",
    "\n",
    "- Расположение относительно центра: Цены на квартиры повышаются по мере удаления от центральной части города, что может быть связано с более высоким спросом и удобством местоположения в центре.\n",
    "\n",
    "- Этажность: Наиболее востребованы квартиры, расположенные не на первом и не на последнем этажах. Это может быть обусловлено предпочтениями покупателей по безопасности, шуму и уровню приватности.\n",
    "\n",
    "- Динамика рынка: Пик активности по продаже квартир приходится на 2017-2018 годы, после чего наблюдается снижение. Большинство объявлений о продаже публикуются в рабочие дни, а ежемесячные пики спроса приходятся на февраль-март и ноябрь. Это может указывать на сезонность на рынке недвижимости."
   ]
  },
  {
   "cell_type": "markdown",
   "metadata": {
    "id": "h7VpzkIDAwb-"
   },
   "source": [
    "### Напишите общий вывод"
   ]
  },
  {
   "cell_type": "markdown",
   "metadata": {},
   "source": [
    "#### Общий вывод"
   ]
  },
  {
   "cell_type": "markdown",
   "metadata": {},
   "source": [
    "В целом, на рынке недвижимости Санкт-Петербурга и его окрестностей наблюдаются следующие тенденции:\n",
    "\n",
    "- Средняя площадь квартир составляет 60 кв.м., с минимальной площадью 12 кв.м. и максимальной - 900 кв.м. Большинство квартир имеют площадь от 25 до 100 кв.м.\n",
    "- Средняя стоимость квартир составляет 6,5 млн. рублей, с минимальной стоимостью 1,2 млн. рублей и максимальной - 763 млн. рублей. Большинство квартир стоит от 2 до 6 млн. рублей, но есть и эксклюзивные предложения.\n",
    "- Среднее количество комнат в квартире - 2, с минимальным количеством 1 комнаты и максимальным - 19 комнат. Большинство квартир являются 1-, 2- и 3-комнатными, а также есть небольшая доля 4-комнатных квартир.\n",
    "- Средняя высота потолков составляет 2,7 метра, с минимальной высотой 2,2 метра и максимальной - 100 метров. Большинство квартир имеют высоту потолков от 2,5 до 3 метров, а в просторных помещениях потолок может достигать 5 метров.\n",
    "- Средний срок нахождения квартиры в продаже составляет 181 день, с медианной продажей за 95 дней. Минимальный срок продажи - 1 день, а максимальный - 1580 дней (свыше 4 лет). Большинство квартир продаются за срок в 100 дней, но есть и квартиры, проданные всего за несколько дней после публикации, а также те, что продавались несколько лет.\n",
    "- Самая дорогая стоимость квадратного метра недвижимости наблюдается в Санкт-Петербурге (114,000 рублей за кв метр), а самая дешевая - в Выборге (58,000 рублей за кв метр).\n",
    "- Число комнат в квартире влияет на ее цену, причем большее количество комнат обычно соответствует более высокой цене. Корреляция между числом комнат и ценой ниже, чем между площадью и ценой. Самые дорогие квартиры находятся в центре города, но есть и дешевые варианты. Квартиры на первом этаже значительно дешевле, чем на других этажах, а последний этаж немного дороже.\n",
    "- Стоимость квартир снижалась с 2014 по 2018 год, вероятно, из-за санкций и роста ставки рефинансирования, а с 2018 года наблюдается стабилизация и рост.\n",
    "- Зависимость цены квартиры от числа комнат в центре города такая же, как и в целом по городу. Максимальная зависимость от площади, минимальная от высоты потолков. В центре есть очень дорогие однокомнатные квартиры. Стоимость повышается при удалении от центра, вероятно, из-за расположения формального центра города. В продаже в основном находятся квартиры, расположенные не на первом и не на последнем этаже. Пик публикаций объявлений приходится на 2017-2018 годы с последующим падением."
   ]
  },
  {
   "cell_type": "markdown",
   "metadata": {
    "id": "3H4lnp_KAwb-"
   },
   "source": []
  },
  {
   "cell_type": "markdown",
   "metadata": {
    "id": "A90mc0BgAwb-"
   },
   "source": [
    "**Чек-лист готовности проекта**\n",
    "\n",
    "Поставьте 'x' в выполненных пунктах. Далее нажмите Shift+Enter."
   ]
  },
  {
   "cell_type": "markdown",
   "metadata": {
    "id": "ME3sTWm6Awb-"
   },
   "source": [
    "- [x]  Файл с данными открыт.\n",
    "- [x]  Файл с данными изучен: выведены первые строки, использован метод `info()`, построены гистограммы.\n",
    "- [x]  Найдены пропущенные значения.\n",
    "- [x]  Пропущенные значения заполнены там, где это возможно.\n",
    "- [x]  Объяснено, какие пропущенные значения обнаружены.\n",
    "- [x]  В каждом столбце установлен корректный тип данных.\n",
    "- [x]  Объяснено, в каких столбцах изменён тип данных и почему.\n",
    "- [x]  Устранены неявные дубликаты в названиях населённых пунктов.\n",
    "- [x]  Обработаны редкие и выбивающиеся значения (аномалии).\n",
    "- [x]  В таблицу добавлены новые параметры:\n",
    "       – цена одного квадратного метра;\n",
    "       – день публикации объявления (0 - понедельник, 1 - вторник и т. д.);\n",
    "       – месяц публикации объявления;\n",
    "       – год публикации объявления;\n",
    "       – тип этажа квартиры (значения — «первый», «последний», «другой»);\n",
    "       – расстояние до центра города в километрах.\n",
    "- [x]  Изучены и описаны параметры:\n",
    "        - общая площадь;\n",
    "        - жилая площадь;\n",
    "        - площадь кухни;\n",
    "        - цена объекта;\n",
    "        - количество комнат;\n",
    "        - высота потолков;\n",
    "        - тип этажа квартиры («первый», «последний», «другой»);\n",
    "        - общее количество этажей в доме;\n",
    "        - расстояние до центра города в метрах;\n",
    "        - расстояние до ближайшего парка.\n",
    "- [x]  Выполнено задание «Изучите, как быстро продавались квартиры (столбец `days_exposition`)»:\n",
    "    - построена гистограмма;\n",
    "    - рассчитаны среднее и медиана;\n",
    "    - описано, сколько обычно занимает продажа и указано, какие продажи можно считать быстрыми, а какие — необычно долгими.\n",
    "- [x]  Выполнено задание «Определите факторы, которые больше всего влияют на общую (полную) стоимость объекта». Построены графики, которые показывают зависимость цены от параметров:\n",
    "        - общая площадь;\n",
    "        - жилая площадь;\n",
    "        - площадь кухни;\n",
    "        - количество комнат;\n",
    "        - тип этажа, на котором расположена квартира (первый, последний, другой);\n",
    "        - дата размещения (день недели, месяц, год).\n",
    "- [x]  Выполнено задание «Посчитайте среднюю цену одного квадратного метра в 10 населённых пунктах с наибольшим числом объявлений»:\n",
    "    - выделены населённые пункты с самой высокой и низкой стоимостью квадратного метра.\n",
    "- [x]  Выполнено задание «Выделите квартиры в Санкт-Петербурге с помощью столбца `locality_name` и вычислите их среднюю стоимость на разном удалении от центра»:\n",
    "    -  учтён каждый километр расстояния, известны средние цены квартир в одном километре от центра, в двух и так далее;\n",
    "    -  описано, как стоимость объекта зависит от расстояния до центра города;\n",
    "    -  построен график изменения средней цены для каждого километра от центра Петербурга.\n",
    "- [x]  На каждом этапе сделаны промежуточные выводы.\n",
    "- [x]  В конце проекта сделан общий вывод."
   ]
  }
 ],
 "metadata": {
  "ExecuteTimeLog": [
   {
    "duration": 850,
    "start_time": "2024-05-17T09:42:46.768Z"
   },
   {
    "duration": 318,
    "start_time": "2024-05-17T09:45:51.091Z"
   },
   {
    "duration": 105,
    "start_time": "2024-05-17T09:46:03.101Z"
   },
   {
    "duration": 110,
    "start_time": "2024-05-17T09:46:12.342Z"
   },
   {
    "duration": 107,
    "start_time": "2024-05-17T09:46:18.203Z"
   },
   {
    "duration": 108,
    "start_time": "2024-05-17T09:46:26.198Z"
   },
   {
    "duration": 111,
    "start_time": "2024-05-17T09:46:43.468Z"
   },
   {
    "duration": 87,
    "start_time": "2024-05-17T10:38:24.224Z"
   },
   {
    "duration": 107,
    "start_time": "2024-05-17T10:53:23.643Z"
   },
   {
    "duration": 16,
    "start_time": "2024-05-17T10:59:03.577Z"
   },
   {
    "duration": 111,
    "start_time": "2024-05-17T11:01:37.237Z"
   },
   {
    "duration": 50,
    "start_time": "2024-05-17T15:00:32.675Z"
   },
   {
    "duration": 887,
    "start_time": "2024-05-17T15:00:38.753Z"
   },
   {
    "duration": 290,
    "start_time": "2024-05-17T15:00:39.643Z"
   },
   {
    "duration": 104,
    "start_time": "2024-05-17T15:00:39.935Z"
   },
   {
    "duration": 16,
    "start_time": "2024-05-17T15:00:40.041Z"
   },
   {
    "duration": 93,
    "start_time": "2024-05-17T15:00:40.059Z"
   },
   {
    "duration": 3,
    "start_time": "2024-05-17T15:01:50.990Z"
   },
   {
    "duration": 76,
    "start_time": "2024-05-17T15:01:59.970Z"
   },
   {
    "duration": 76,
    "start_time": "2024-05-17T15:11:45.390Z"
   },
   {
    "duration": 635,
    "start_time": "2024-05-17T15:38:47.523Z"
   },
   {
    "duration": 111,
    "start_time": "2024-05-17T15:38:48.160Z"
   },
   {
    "duration": 114,
    "start_time": "2024-05-17T15:38:48.273Z"
   },
   {
    "duration": 17,
    "start_time": "2024-05-17T15:38:48.389Z"
   },
   {
    "duration": 96,
    "start_time": "2024-05-17T15:38:48.408Z"
   },
   {
    "duration": 87,
    "start_time": "2024-05-17T15:38:48.505Z"
   },
   {
    "duration": 16,
    "start_time": "2024-05-17T15:42:49.093Z"
   },
   {
    "duration": 11,
    "start_time": "2024-05-17T15:42:54.938Z"
   },
   {
    "duration": 2093,
    "start_time": "2024-05-17T15:54:59.909Z"
   },
   {
    "duration": 2093,
    "start_time": "2024-05-17T15:55:25.959Z"
   },
   {
    "duration": 12,
    "start_time": "2024-05-17T16:19:48.092Z"
   },
   {
    "duration": 2119,
    "start_time": "2024-05-17T16:19:55.221Z"
   },
   {
    "duration": 672,
    "start_time": "2024-05-17T16:20:04.335Z"
   },
   {
    "duration": 106,
    "start_time": "2024-05-17T16:20:05.009Z"
   },
   {
    "duration": 131,
    "start_time": "2024-05-17T16:20:05.116Z"
   },
   {
    "duration": 26,
    "start_time": "2024-05-17T16:20:05.249Z"
   },
   {
    "duration": 94,
    "start_time": "2024-05-17T16:20:05.277Z"
   },
   {
    "duration": 75,
    "start_time": "2024-05-17T16:20:05.373Z"
   },
   {
    "duration": 35,
    "start_time": "2024-05-17T16:20:05.450Z"
   },
   {
    "duration": 2143,
    "start_time": "2024-05-17T16:20:05.486Z"
   },
   {
    "duration": 665,
    "start_time": "2024-05-17T16:31:17.824Z"
   },
   {
    "duration": 109,
    "start_time": "2024-05-17T16:31:18.491Z"
   },
   {
    "duration": 107,
    "start_time": "2024-05-17T16:31:18.602Z"
   },
   {
    "duration": 16,
    "start_time": "2024-05-17T16:31:18.710Z"
   },
   {
    "duration": 93,
    "start_time": "2024-05-17T16:31:18.728Z"
   },
   {
    "duration": 82,
    "start_time": "2024-05-17T16:31:18.822Z"
   },
   {
    "duration": 10,
    "start_time": "2024-05-17T16:31:18.905Z"
   },
   {
    "duration": 2165,
    "start_time": "2024-05-17T16:31:18.917Z"
   },
   {
    "duration": 40,
    "start_time": "2024-05-17T16:51:03.318Z"
   },
   {
    "duration": 42,
    "start_time": "2024-05-17T16:51:57.248Z"
   },
   {
    "duration": 34,
    "start_time": "2024-05-17T16:52:36.325Z"
   },
   {
    "duration": 16,
    "start_time": "2024-05-17T16:56:38.247Z"
   },
   {
    "duration": 259,
    "start_time": "2024-05-17T17:07:55.686Z"
   },
   {
    "duration": 17,
    "start_time": "2024-05-17T17:08:35.462Z"
   },
   {
    "duration": 248,
    "start_time": "2024-05-17T17:08:39.864Z"
   },
   {
    "duration": 264,
    "start_time": "2024-05-17T17:08:55.640Z"
   },
   {
    "duration": 2143,
    "start_time": "2024-05-17T17:09:09.362Z"
   },
   {
    "duration": 2043,
    "start_time": "2024-05-17T17:09:23.283Z"
   },
   {
    "duration": 497,
    "start_time": "2024-05-17T17:21:07.159Z"
   },
   {
    "duration": 281,
    "start_time": "2024-05-17T17:21:21.862Z"
   },
   {
    "duration": 53,
    "start_time": "2024-05-18T09:05:47.979Z"
   },
   {
    "duration": 758,
    "start_time": "2024-05-18T09:05:58.607Z"
   },
   {
    "duration": 296,
    "start_time": "2024-05-18T09:05:59.367Z"
   },
   {
    "duration": 103,
    "start_time": "2024-05-18T09:05:59.665Z"
   },
   {
    "duration": 16,
    "start_time": "2024-05-18T09:05:59.770Z"
   },
   {
    "duration": 166,
    "start_time": "2024-05-18T09:05:59.788Z"
   },
   {
    "duration": 80,
    "start_time": "2024-05-18T09:05:59.956Z"
   },
   {
    "duration": 11,
    "start_time": "2024-05-18T09:06:00.038Z"
   },
   {
    "duration": 2203,
    "start_time": "2024-05-18T09:06:00.050Z"
   },
   {
    "duration": 279,
    "start_time": "2024-05-18T09:06:02.255Z"
   },
   {
    "duration": 6,
    "start_time": "2024-05-18T09:06:02.537Z"
   },
   {
    "duration": 9,
    "start_time": "2024-05-18T09:06:50.867Z"
   },
   {
    "duration": 81,
    "start_time": "2024-05-18T09:13:50.238Z"
   },
   {
    "duration": 20,
    "start_time": "2024-05-18T09:14:33.581Z"
   },
   {
    "duration": 22,
    "start_time": "2024-05-18T09:15:07.447Z"
   },
   {
    "duration": 665,
    "start_time": "2024-05-18T09:16:07.414Z"
   },
   {
    "duration": 98,
    "start_time": "2024-05-18T09:16:08.081Z"
   },
   {
    "duration": 106,
    "start_time": "2024-05-18T09:16:08.181Z"
   },
   {
    "duration": 17,
    "start_time": "2024-05-18T09:16:08.289Z"
   },
   {
    "duration": 95,
    "start_time": "2024-05-18T09:16:08.307Z"
   },
   {
    "duration": 79,
    "start_time": "2024-05-18T09:16:08.403Z"
   },
   {
    "duration": 9,
    "start_time": "2024-05-18T09:16:08.483Z"
   },
   {
    "duration": 2075,
    "start_time": "2024-05-18T09:16:08.494Z"
   },
   {
    "duration": 271,
    "start_time": "2024-05-18T09:16:10.571Z"
   },
   {
    "duration": 6,
    "start_time": "2024-05-18T09:16:10.844Z"
   },
   {
    "duration": 94,
    "start_time": "2024-05-18T09:16:10.852Z"
   },
   {
    "duration": 11,
    "start_time": "2024-05-18T09:20:02.765Z"
   },
   {
    "duration": 7,
    "start_time": "2024-05-18T09:20:33.331Z"
   },
   {
    "duration": 49,
    "start_time": "2024-05-18T09:20:39.269Z"
   },
   {
    "duration": 11,
    "start_time": "2024-05-18T09:20:50.748Z"
   },
   {
    "duration": 6,
    "start_time": "2024-05-18T09:29:24.405Z"
   },
   {
    "duration": 13,
    "start_time": "2024-05-18T09:35:02.445Z"
   },
   {
    "duration": 8,
    "start_time": "2024-05-18T09:35:14.316Z"
   },
   {
    "duration": 6,
    "start_time": "2024-05-18T09:48:29.055Z"
   },
   {
    "duration": 15,
    "start_time": "2024-05-18T09:48:39.076Z"
   },
   {
    "duration": 10,
    "start_time": "2024-05-18T09:48:40.972Z"
   },
   {
    "duration": 11,
    "start_time": "2024-05-18T09:58:08.928Z"
   },
   {
    "duration": 4,
    "start_time": "2024-05-18T09:58:35.306Z"
   },
   {
    "duration": 8,
    "start_time": "2024-05-18T10:06:22.934Z"
   },
   {
    "duration": 5,
    "start_time": "2024-05-18T10:06:32.106Z"
   },
   {
    "duration": 79,
    "start_time": "2024-05-18T10:06:48.926Z"
   },
   {
    "duration": 52,
    "start_time": "2024-05-18T10:06:59.454Z"
   },
   {
    "duration": 32,
    "start_time": "2024-05-18T10:07:13.879Z"
   },
   {
    "duration": 56,
    "start_time": "2024-05-18T10:14:30.685Z"
   },
   {
    "duration": 5,
    "start_time": "2024-05-18T10:14:59.699Z"
   },
   {
    "duration": 5,
    "start_time": "2024-05-18T10:15:14.545Z"
   },
   {
    "duration": 2,
    "start_time": "2024-05-18T10:22:32.053Z"
   },
   {
    "duration": 6,
    "start_time": "2024-05-18T10:23:19.542Z"
   },
   {
    "duration": 18,
    "start_time": "2024-05-18T10:24:26.984Z"
   },
   {
    "duration": 6,
    "start_time": "2024-05-18T10:24:36.685Z"
   },
   {
    "duration": 4,
    "start_time": "2024-05-18T10:27:36.925Z"
   },
   {
    "duration": 5,
    "start_time": "2024-05-18T10:27:42.491Z"
   },
   {
    "duration": 16,
    "start_time": "2024-05-18T10:37:50.237Z"
   },
   {
    "duration": 8,
    "start_time": "2024-05-18T10:43:15.167Z"
   },
   {
    "duration": 9,
    "start_time": "2024-05-18T10:46:27.340Z"
   },
   {
    "duration": 10,
    "start_time": "2024-05-18T10:48:01.981Z"
   },
   {
    "duration": 9,
    "start_time": "2024-05-18T10:48:30.801Z"
   },
   {
    "duration": 5,
    "start_time": "2024-05-18T10:48:51.132Z"
   },
   {
    "duration": 5,
    "start_time": "2024-05-18T10:55:54.801Z"
   },
   {
    "duration": 6,
    "start_time": "2024-05-18T10:56:29.402Z"
   },
   {
    "duration": 5,
    "start_time": "2024-05-18T10:56:42.546Z"
   },
   {
    "duration": 7,
    "start_time": "2024-05-18T11:01:33.847Z"
   },
   {
    "duration": 13,
    "start_time": "2024-05-18T11:01:58.708Z"
   },
   {
    "duration": 5,
    "start_time": "2024-05-18T11:02:15.451Z"
   },
   {
    "duration": 14,
    "start_time": "2024-05-18T11:02:18.579Z"
   },
   {
    "duration": 10,
    "start_time": "2024-05-18T11:03:08.377Z"
   },
   {
    "duration": 6,
    "start_time": "2024-05-18T11:03:17.029Z"
   },
   {
    "duration": 5,
    "start_time": "2024-05-18T11:03:42.427Z"
   },
   {
    "duration": 5,
    "start_time": "2024-05-18T11:03:55.897Z"
   },
   {
    "duration": 5,
    "start_time": "2024-05-18T11:12:33.931Z"
   },
   {
    "duration": 6,
    "start_time": "2024-05-18T11:12:49.648Z"
   },
   {
    "duration": 6,
    "start_time": "2024-05-18T11:14:01.124Z"
   },
   {
    "duration": 5,
    "start_time": "2024-05-18T11:14:53.925Z"
   },
   {
    "duration": 6,
    "start_time": "2024-05-18T11:15:23.163Z"
   },
   {
    "duration": 7,
    "start_time": "2024-05-18T11:16:11.180Z"
   },
   {
    "duration": 5,
    "start_time": "2024-05-18T11:16:16.962Z"
   },
   {
    "duration": 6,
    "start_time": "2024-05-18T11:17:25.335Z"
   },
   {
    "duration": 5,
    "start_time": "2024-05-18T11:17:51.758Z"
   },
   {
    "duration": 5,
    "start_time": "2024-05-18T11:18:50.218Z"
   },
   {
    "duration": 5,
    "start_time": "2024-05-18T12:31:07.371Z"
   },
   {
    "duration": 4,
    "start_time": "2024-05-18T12:32:15.115Z"
   },
   {
    "duration": 32,
    "start_time": "2024-05-18T12:33:30.924Z"
   },
   {
    "duration": 6,
    "start_time": "2024-05-18T12:37:34.577Z"
   },
   {
    "duration": 4,
    "start_time": "2024-05-18T12:38:40.171Z"
   },
   {
    "duration": 6,
    "start_time": "2024-05-18T12:38:44.938Z"
   },
   {
    "duration": 7,
    "start_time": "2024-05-18T12:40:04.587Z"
   },
   {
    "duration": 5,
    "start_time": "2024-05-18T12:40:08.363Z"
   },
   {
    "duration": 6,
    "start_time": "2024-05-18T12:41:32.797Z"
   },
   {
    "duration": 10,
    "start_time": "2024-05-18T12:42:27.882Z"
   },
   {
    "duration": 668,
    "start_time": "2024-05-18T12:42:38.942Z"
   },
   {
    "duration": 97,
    "start_time": "2024-05-18T12:42:39.612Z"
   },
   {
    "duration": 105,
    "start_time": "2024-05-18T12:42:39.710Z"
   },
   {
    "duration": 15,
    "start_time": "2024-05-18T12:42:39.817Z"
   },
   {
    "duration": 106,
    "start_time": "2024-05-18T12:42:39.835Z"
   },
   {
    "duration": 84,
    "start_time": "2024-05-18T12:42:39.942Z"
   },
   {
    "duration": 9,
    "start_time": "2024-05-18T12:42:40.028Z"
   },
   {
    "duration": 2058,
    "start_time": "2024-05-18T12:42:40.039Z"
   },
   {
    "duration": 277,
    "start_time": "2024-05-18T12:42:42.098Z"
   },
   {
    "duration": 8,
    "start_time": "2024-05-18T12:42:42.376Z"
   },
   {
    "duration": 18,
    "start_time": "2024-05-18T12:42:42.385Z"
   },
   {
    "duration": 18,
    "start_time": "2024-05-18T12:42:42.404Z"
   },
   {
    "duration": 17,
    "start_time": "2024-05-18T12:42:42.424Z"
   },
   {
    "duration": 19,
    "start_time": "2024-05-18T12:42:42.444Z"
   },
   {
    "duration": 22,
    "start_time": "2024-05-18T12:42:42.464Z"
   },
   {
    "duration": 119,
    "start_time": "2024-05-18T12:42:42.488Z"
   },
   {
    "duration": 46,
    "start_time": "2024-05-18T12:42:42.609Z"
   },
   {
    "duration": 30,
    "start_time": "2024-05-18T12:42:42.657Z"
   },
   {
    "duration": 5,
    "start_time": "2024-05-18T12:42:42.689Z"
   },
   {
    "duration": 13,
    "start_time": "2024-05-18T12:42:42.696Z"
   },
   {
    "duration": 7,
    "start_time": "2024-05-18T12:42:42.711Z"
   },
   {
    "duration": 24,
    "start_time": "2024-05-18T12:42:42.719Z"
   },
   {
    "duration": 21,
    "start_time": "2024-05-18T12:42:42.744Z"
   },
   {
    "duration": 39,
    "start_time": "2024-05-18T12:42:42.767Z"
   },
   {
    "duration": 5,
    "start_time": "2024-05-18T12:42:42.808Z"
   },
   {
    "duration": 174,
    "start_time": "2024-05-18T12:42:42.814Z"
   },
   {
    "duration": 163,
    "start_time": "2024-05-18T12:42:42.990Z"
   },
   {
    "duration": 13,
    "start_time": "2024-05-18T12:42:43.155Z"
   },
   {
    "duration": 17,
    "start_time": "2024-05-18T12:42:43.170Z"
   },
   {
    "duration": 16,
    "start_time": "2024-05-18T12:42:43.188Z"
   },
   {
    "duration": 12,
    "start_time": "2024-05-18T12:42:43.206Z"
   },
   {
    "duration": 8,
    "start_time": "2024-05-18T12:42:43.220Z"
   },
   {
    "duration": 9,
    "start_time": "2024-05-18T12:42:43.229Z"
   },
   {
    "duration": 7,
    "start_time": "2024-05-18T12:42:43.240Z"
   },
   {
    "duration": 21,
    "start_time": "2024-05-18T12:42:43.248Z"
   },
   {
    "duration": 7,
    "start_time": "2024-05-18T12:42:43.271Z"
   },
   {
    "duration": 14,
    "start_time": "2024-05-18T12:42:43.280Z"
   },
   {
    "duration": 10,
    "start_time": "2024-05-18T12:42:43.295Z"
   },
   {
    "duration": 42,
    "start_time": "2024-05-18T12:42:43.307Z"
   },
   {
    "duration": 5,
    "start_time": "2024-05-18T12:42:43.350Z"
   },
   {
    "duration": 18,
    "start_time": "2024-05-18T12:42:43.358Z"
   },
   {
    "duration": 46,
    "start_time": "2024-05-18T12:42:43.377Z"
   },
   {
    "duration": 5,
    "start_time": "2024-05-18T12:42:43.424Z"
   },
   {
    "duration": 6,
    "start_time": "2024-05-18T12:42:43.431Z"
   },
   {
    "duration": 4,
    "start_time": "2024-05-18T12:42:43.438Z"
   },
   {
    "duration": 14,
    "start_time": "2024-05-18T12:42:43.443Z"
   },
   {
    "duration": 7,
    "start_time": "2024-05-18T12:42:43.459Z"
   },
   {
    "duration": 25,
    "start_time": "2024-05-18T12:42:43.467Z"
   },
   {
    "duration": 9,
    "start_time": "2024-05-18T12:42:43.494Z"
   },
   {
    "duration": 6,
    "start_time": "2024-05-18T12:42:43.504Z"
   },
   {
    "duration": 7,
    "start_time": "2024-05-18T12:42:43.512Z"
   },
   {
    "duration": 8,
    "start_time": "2024-05-18T12:42:43.521Z"
   },
   {
    "duration": 36,
    "start_time": "2024-05-18T12:42:43.531Z"
   },
   {
    "duration": 6,
    "start_time": "2024-05-18T12:42:43.568Z"
   },
   {
    "duration": 15,
    "start_time": "2024-05-18T12:42:43.576Z"
   },
   {
    "duration": 10,
    "start_time": "2024-05-18T12:42:43.593Z"
   },
   {
    "duration": 82,
    "start_time": "2024-05-18T12:42:43.604Z"
   },
   {
    "duration": 5,
    "start_time": "2024-05-18T12:42:53.346Z"
   },
   {
    "duration": 47,
    "start_time": "2024-05-18T12:44:39.975Z"
   },
   {
    "duration": 52,
    "start_time": "2024-05-18T15:02:50.262Z"
   },
   {
    "duration": 876,
    "start_time": "2024-05-18T15:03:08.328Z"
   },
   {
    "duration": 283,
    "start_time": "2024-05-18T15:03:09.206Z"
   },
   {
    "duration": 104,
    "start_time": "2024-05-18T15:03:09.491Z"
   },
   {
    "duration": 17,
    "start_time": "2024-05-18T15:03:09.598Z"
   },
   {
    "duration": 88,
    "start_time": "2024-05-18T15:03:09.617Z"
   },
   {
    "duration": 87,
    "start_time": "2024-05-18T15:03:09.707Z"
   },
   {
    "duration": 10,
    "start_time": "2024-05-18T15:03:09.796Z"
   },
   {
    "duration": 2101,
    "start_time": "2024-05-18T15:03:09.808Z"
   },
   {
    "duration": 288,
    "start_time": "2024-05-18T15:03:11.911Z"
   },
   {
    "duration": 7,
    "start_time": "2024-05-18T15:03:12.202Z"
   },
   {
    "duration": 10,
    "start_time": "2024-05-18T15:03:12.211Z"
   },
   {
    "duration": 16,
    "start_time": "2024-05-18T15:03:12.223Z"
   },
   {
    "duration": 7,
    "start_time": "2024-05-18T15:03:12.241Z"
   },
   {
    "duration": 38,
    "start_time": "2024-05-18T15:03:12.250Z"
   },
   {
    "duration": 7,
    "start_time": "2024-05-18T15:03:12.290Z"
   },
   {
    "duration": 22,
    "start_time": "2024-05-18T15:03:12.298Z"
   },
   {
    "duration": 8,
    "start_time": "2024-05-18T15:03:12.322Z"
   },
   {
    "duration": 9,
    "start_time": "2024-05-18T15:03:12.332Z"
   },
   {
    "duration": 11,
    "start_time": "2024-05-18T15:03:12.343Z"
   },
   {
    "duration": 22,
    "start_time": "2024-05-18T15:03:12.356Z"
   },
   {
    "duration": 29,
    "start_time": "2024-05-18T15:03:12.379Z"
   },
   {
    "duration": 34,
    "start_time": "2024-05-18T15:03:12.409Z"
   },
   {
    "duration": 56,
    "start_time": "2024-05-18T15:03:12.446Z"
   },
   {
    "duration": 45,
    "start_time": "2024-05-18T15:03:12.503Z"
   },
   {
    "duration": 4,
    "start_time": "2024-05-18T15:03:12.550Z"
   },
   {
    "duration": 12,
    "start_time": "2024-05-18T15:03:12.555Z"
   },
   {
    "duration": 7,
    "start_time": "2024-05-18T15:03:12.568Z"
   },
   {
    "duration": 5,
    "start_time": "2024-05-18T15:03:12.581Z"
   },
   {
    "duration": 9,
    "start_time": "2024-05-18T15:03:12.588Z"
   },
   {
    "duration": 5,
    "start_time": "2024-05-18T15:03:12.599Z"
   },
   {
    "duration": 11,
    "start_time": "2024-05-18T15:03:12.606Z"
   },
   {
    "duration": 3,
    "start_time": "2024-05-18T15:03:12.619Z"
   },
   {
    "duration": 5,
    "start_time": "2024-05-18T15:03:12.624Z"
   },
   {
    "duration": 9,
    "start_time": "2024-05-18T15:03:12.630Z"
   },
   {
    "duration": 6,
    "start_time": "2024-05-18T15:03:12.641Z"
   },
   {
    "duration": 7,
    "start_time": "2024-05-18T15:03:12.681Z"
   },
   {
    "duration": 7,
    "start_time": "2024-05-18T15:03:12.689Z"
   },
   {
    "duration": 6,
    "start_time": "2024-05-18T15:03:12.697Z"
   },
   {
    "duration": 4,
    "start_time": "2024-05-18T15:03:12.705Z"
   },
   {
    "duration": 8,
    "start_time": "2024-05-18T15:03:12.711Z"
   },
   {
    "duration": 16,
    "start_time": "2024-05-18T15:03:12.720Z"
   },
   {
    "duration": 16,
    "start_time": "2024-05-18T15:03:12.737Z"
   },
   {
    "duration": 23,
    "start_time": "2024-05-18T15:03:12.755Z"
   },
   {
    "duration": 6,
    "start_time": "2024-05-18T15:03:12.780Z"
   },
   {
    "duration": 4,
    "start_time": "2024-05-18T15:03:12.788Z"
   },
   {
    "duration": 9,
    "start_time": "2024-05-18T15:03:12.793Z"
   },
   {
    "duration": 5,
    "start_time": "2024-05-18T15:03:12.804Z"
   },
   {
    "duration": 18,
    "start_time": "2024-05-18T15:03:12.811Z"
   },
   {
    "duration": 5,
    "start_time": "2024-05-18T15:03:12.831Z"
   },
   {
    "duration": 4,
    "start_time": "2024-05-18T15:03:12.838Z"
   },
   {
    "duration": 73,
    "start_time": "2024-05-18T15:03:12.843Z"
   },
   {
    "duration": 11,
    "start_time": "2024-05-18T15:03:12.918Z"
   },
   {
    "duration": 33,
    "start_time": "2024-05-18T15:03:12.931Z"
   },
   {
    "duration": 5,
    "start_time": "2024-05-18T15:03:12.966Z"
   },
   {
    "duration": 25,
    "start_time": "2024-05-18T15:03:12.972Z"
   },
   {
    "duration": 4,
    "start_time": "2024-05-18T15:03:12.999Z"
   },
   {
    "duration": 88,
    "start_time": "2024-05-18T15:03:13.005Z"
   },
   {
    "duration": 1096,
    "start_time": "2024-05-18T15:03:13.095Z"
   },
   {
    "duration": 30,
    "start_time": "2024-05-18T15:03:30.348Z"
   },
   {
    "duration": 5,
    "start_time": "2024-05-18T15:04:12.202Z"
   },
   {
    "duration": 12,
    "start_time": "2024-05-18T15:05:28.919Z"
   },
   {
    "duration": 6,
    "start_time": "2024-05-18T15:05:37.881Z"
   },
   {
    "duration": 7,
    "start_time": "2024-05-18T15:05:53.683Z"
   },
   {
    "duration": 5,
    "start_time": "2024-05-18T15:05:55.813Z"
   },
   {
    "duration": 5,
    "start_time": "2024-05-18T15:06:10.750Z"
   },
   {
    "duration": 5,
    "start_time": "2024-05-18T15:08:49.548Z"
   },
   {
    "duration": 6,
    "start_time": "2024-05-18T15:08:51.737Z"
   },
   {
    "duration": 6,
    "start_time": "2024-05-18T15:09:04.124Z"
   },
   {
    "duration": 5,
    "start_time": "2024-05-18T15:10:30.480Z"
   },
   {
    "duration": 5,
    "start_time": "2024-05-18T15:10:32.311Z"
   },
   {
    "duration": 3,
    "start_time": "2024-05-18T15:15:24.080Z"
   },
   {
    "duration": 5,
    "start_time": "2024-05-18T15:16:43.915Z"
   },
   {
    "duration": 6,
    "start_time": "2024-05-18T15:21:18.679Z"
   },
   {
    "duration": 6,
    "start_time": "2024-05-18T15:24:28.733Z"
   },
   {
    "duration": 5,
    "start_time": "2024-05-18T15:24:40.328Z"
   },
   {
    "duration": 7,
    "start_time": "2024-05-18T15:26:42.477Z"
   },
   {
    "duration": 40,
    "start_time": "2024-05-18T15:27:43.700Z"
   },
   {
    "duration": 5,
    "start_time": "2024-05-18T15:27:52.570Z"
   },
   {
    "duration": 6,
    "start_time": "2024-05-18T15:28:45.974Z"
   },
   {
    "duration": 7,
    "start_time": "2024-05-18T15:28:51.472Z"
   },
   {
    "duration": 5,
    "start_time": "2024-05-18T15:29:27.172Z"
   },
   {
    "duration": 4,
    "start_time": "2024-05-18T15:31:11.213Z"
   },
   {
    "duration": 6,
    "start_time": "2024-05-18T15:33:06.742Z"
   },
   {
    "duration": 6,
    "start_time": "2024-05-18T15:33:32.630Z"
   },
   {
    "duration": 647,
    "start_time": "2024-05-18T15:33:55.295Z"
   },
   {
    "duration": 99,
    "start_time": "2024-05-18T15:33:55.943Z"
   },
   {
    "duration": 117,
    "start_time": "2024-05-18T15:33:56.044Z"
   },
   {
    "duration": 18,
    "start_time": "2024-05-18T15:33:56.163Z"
   },
   {
    "duration": 75,
    "start_time": "2024-05-18T15:33:56.182Z"
   },
   {
    "duration": 94,
    "start_time": "2024-05-18T15:33:56.259Z"
   },
   {
    "duration": 9,
    "start_time": "2024-05-18T15:33:56.354Z"
   },
   {
    "duration": 2136,
    "start_time": "2024-05-18T15:33:56.365Z"
   },
   {
    "duration": 289,
    "start_time": "2024-05-18T15:33:58.503Z"
   },
   {
    "duration": 8,
    "start_time": "2024-05-18T15:33:58.795Z"
   },
   {
    "duration": 12,
    "start_time": "2024-05-18T15:33:58.805Z"
   },
   {
    "duration": 6,
    "start_time": "2024-05-18T15:33:58.818Z"
   },
   {
    "duration": 6,
    "start_time": "2024-05-18T15:33:58.826Z"
   },
   {
    "duration": 17,
    "start_time": "2024-05-18T15:33:58.833Z"
   },
   {
    "duration": 6,
    "start_time": "2024-05-18T15:33:58.880Z"
   },
   {
    "duration": 7,
    "start_time": "2024-05-18T15:33:58.887Z"
   },
   {
    "duration": 10,
    "start_time": "2024-05-18T15:33:58.896Z"
   },
   {
    "duration": 14,
    "start_time": "2024-05-18T15:33:58.907Z"
   },
   {
    "duration": 5,
    "start_time": "2024-05-18T15:33:58.922Z"
   },
   {
    "duration": 20,
    "start_time": "2024-05-18T15:33:58.928Z"
   },
   {
    "duration": 6,
    "start_time": "2024-05-18T15:33:58.951Z"
   },
   {
    "duration": 27,
    "start_time": "2024-05-18T15:33:58.959Z"
   },
   {
    "duration": 6,
    "start_time": "2024-05-18T15:33:58.988Z"
   },
   {
    "duration": 31,
    "start_time": "2024-05-18T15:33:58.996Z"
   },
   {
    "duration": 5,
    "start_time": "2024-05-18T15:33:59.029Z"
   },
   {
    "duration": 69,
    "start_time": "2024-05-18T15:33:59.035Z"
   },
   {
    "duration": 18,
    "start_time": "2024-05-18T15:33:59.105Z"
   },
   {
    "duration": 6,
    "start_time": "2024-05-18T15:33:59.127Z"
   },
   {
    "duration": 14,
    "start_time": "2024-05-18T15:33:59.134Z"
   },
   {
    "duration": 8,
    "start_time": "2024-05-18T15:33:59.149Z"
   },
   {
    "duration": 97,
    "start_time": "2024-05-18T15:33:59.158Z"
   },
   {
    "duration": 4,
    "start_time": "2024-05-18T15:33:59.258Z"
   },
   {
    "duration": 6,
    "start_time": "2024-05-18T15:33:59.264Z"
   },
   {
    "duration": 12,
    "start_time": "2024-05-18T15:33:59.272Z"
   },
   {
    "duration": 17,
    "start_time": "2024-05-18T15:33:59.285Z"
   },
   {
    "duration": 16,
    "start_time": "2024-05-18T15:33:59.303Z"
   },
   {
    "duration": 13,
    "start_time": "2024-05-18T15:33:59.321Z"
   },
   {
    "duration": 14,
    "start_time": "2024-05-18T15:33:59.336Z"
   },
   {
    "duration": 11,
    "start_time": "2024-05-18T15:33:59.351Z"
   },
   {
    "duration": 15,
    "start_time": "2024-05-18T15:33:59.364Z"
   },
   {
    "duration": 7,
    "start_time": "2024-05-18T15:33:59.381Z"
   },
   {
    "duration": 14,
    "start_time": "2024-05-18T15:33:59.389Z"
   },
   {
    "duration": 56,
    "start_time": "2024-05-18T15:33:59.404Z"
   },
   {
    "duration": 83,
    "start_time": "2024-05-18T15:33:59.462Z"
   },
   {
    "duration": 5,
    "start_time": "2024-05-18T15:33:59.547Z"
   },
   {
    "duration": 9,
    "start_time": "2024-05-18T15:33:59.554Z"
   },
   {
    "duration": 6,
    "start_time": "2024-05-18T15:33:59.565Z"
   },
   {
    "duration": 6,
    "start_time": "2024-05-18T15:33:59.572Z"
   },
   {
    "duration": 79,
    "start_time": "2024-05-18T15:33:59.579Z"
   },
   {
    "duration": 20,
    "start_time": "2024-05-18T15:33:59.659Z"
   },
   {
    "duration": 9,
    "start_time": "2024-05-18T15:33:59.681Z"
   },
   {
    "duration": 15,
    "start_time": "2024-05-18T15:33:59.692Z"
   },
   {
    "duration": 37,
    "start_time": "2024-05-18T15:33:59.709Z"
   },
   {
    "duration": 6,
    "start_time": "2024-05-18T15:33:59.748Z"
   },
   {
    "duration": 24,
    "start_time": "2024-05-18T15:33:59.755Z"
   },
   {
    "duration": 12,
    "start_time": "2024-05-18T15:33:59.781Z"
   },
   {
    "duration": 22,
    "start_time": "2024-05-18T15:33:59.795Z"
   },
   {
    "duration": 59,
    "start_time": "2024-05-18T15:33:59.818Z"
   },
   {
    "duration": 4,
    "start_time": "2024-05-18T15:33:59.879Z"
   },
   {
    "duration": 7,
    "start_time": "2024-05-18T15:33:59.884Z"
   },
   {
    "duration": 5,
    "start_time": "2024-05-18T15:33:59.892Z"
   },
   {
    "duration": 56,
    "start_time": "2024-05-18T15:33:59.898Z"
   },
   {
    "duration": 7,
    "start_time": "2024-05-18T15:33:59.956Z"
   },
   {
    "duration": 5,
    "start_time": "2024-05-18T15:33:59.965Z"
   },
   {
    "duration": 10,
    "start_time": "2024-05-18T15:33:59.972Z"
   },
   {
    "duration": 13,
    "start_time": "2024-05-18T15:33:59.984Z"
   },
   {
    "duration": 35,
    "start_time": "2024-05-18T15:33:59.998Z"
   },
   {
    "duration": 25,
    "start_time": "2024-05-18T15:34:00.034Z"
   },
   {
    "duration": 135,
    "start_time": "2024-05-18T15:34:00.061Z"
   },
   {
    "duration": 88,
    "start_time": "2024-05-18T15:34:00.198Z"
   },
   {
    "duration": 324,
    "start_time": "2024-05-18T15:34:00.287Z"
   },
   {
    "duration": 184,
    "start_time": "2024-05-18T15:34:00.613Z"
   },
   {
    "duration": 81,
    "start_time": "2024-05-18T15:34:00.798Z"
   },
   {
    "duration": 56,
    "start_time": "2024-05-18T15:34:00.881Z"
   },
   {
    "duration": 5,
    "start_time": "2024-05-18T15:36:33.344Z"
   },
   {
    "duration": 6,
    "start_time": "2024-05-18T15:37:07.996Z"
   },
   {
    "duration": 33,
    "start_time": "2024-05-18T15:40:25.311Z"
   },
   {
    "duration": 10,
    "start_time": "2024-05-18T15:42:15.151Z"
   },
   {
    "duration": 5,
    "start_time": "2024-05-18T15:42:27.181Z"
   },
   {
    "duration": 7,
    "start_time": "2024-05-18T15:43:23.426Z"
   },
   {
    "duration": 5,
    "start_time": "2024-05-18T15:43:25.491Z"
   },
   {
    "duration": 5,
    "start_time": "2024-05-18T15:43:31.373Z"
   },
   {
    "duration": 6,
    "start_time": "2024-05-18T15:43:47.548Z"
   },
   {
    "duration": 6,
    "start_time": "2024-05-18T15:44:13.963Z"
   },
   {
    "duration": 2,
    "start_time": "2024-05-18T15:45:06.689Z"
   },
   {
    "duration": 735,
    "start_time": "2024-05-18T17:16:32.718Z"
   },
   {
    "duration": 227,
    "start_time": "2024-05-18T17:16:33.455Z"
   },
   {
    "duration": 78,
    "start_time": "2024-05-18T17:16:33.683Z"
   },
   {
    "duration": 12,
    "start_time": "2024-05-18T17:16:33.763Z"
   },
   {
    "duration": 68,
    "start_time": "2024-05-18T17:16:33.776Z"
   },
   {
    "duration": 68,
    "start_time": "2024-05-18T17:16:33.845Z"
   },
   {
    "duration": 8,
    "start_time": "2024-05-18T17:16:33.915Z"
   },
   {
    "duration": 1556,
    "start_time": "2024-05-18T17:16:33.924Z"
   },
   {
    "duration": 195,
    "start_time": "2024-05-18T17:16:35.482Z"
   },
   {
    "duration": 6,
    "start_time": "2024-05-18T17:16:35.680Z"
   },
   {
    "duration": 33,
    "start_time": "2024-05-18T17:16:35.687Z"
   },
   {
    "duration": 11,
    "start_time": "2024-05-18T17:16:35.722Z"
   },
   {
    "duration": 17,
    "start_time": "2024-05-18T17:16:35.734Z"
   },
   {
    "duration": 30,
    "start_time": "2024-05-18T17:16:35.752Z"
   },
   {
    "duration": 15,
    "start_time": "2024-05-18T17:16:35.783Z"
   },
   {
    "duration": 30,
    "start_time": "2024-05-18T17:16:35.799Z"
   },
   {
    "duration": 50,
    "start_time": "2024-05-18T17:16:35.830Z"
   },
   {
    "duration": 13,
    "start_time": "2024-05-18T17:16:35.882Z"
   },
   {
    "duration": 10,
    "start_time": "2024-05-18T17:16:35.896Z"
   },
   {
    "duration": 12,
    "start_time": "2024-05-18T17:16:35.907Z"
   },
   {
    "duration": 21,
    "start_time": "2024-05-18T17:16:35.921Z"
   },
   {
    "duration": 17,
    "start_time": "2024-05-18T17:16:35.943Z"
   },
   {
    "duration": 48,
    "start_time": "2024-05-18T17:16:35.962Z"
   },
   {
    "duration": 31,
    "start_time": "2024-05-18T17:16:36.012Z"
   },
   {
    "duration": 4,
    "start_time": "2024-05-18T17:16:36.044Z"
   },
   {
    "duration": 6,
    "start_time": "2024-05-18T17:16:36.049Z"
   },
   {
    "duration": 20,
    "start_time": "2024-05-18T17:16:36.056Z"
   },
   {
    "duration": 13,
    "start_time": "2024-05-18T17:16:36.080Z"
   },
   {
    "duration": 32,
    "start_time": "2024-05-18T17:16:36.095Z"
   },
   {
    "duration": 28,
    "start_time": "2024-05-18T17:16:36.128Z"
   },
   {
    "duration": 26,
    "start_time": "2024-05-18T17:16:36.157Z"
   },
   {
    "duration": 11,
    "start_time": "2024-05-18T17:16:36.185Z"
   },
   {
    "duration": 15,
    "start_time": "2024-05-18T17:16:36.197Z"
   },
   {
    "duration": 8,
    "start_time": "2024-05-18T17:16:36.214Z"
   },
   {
    "duration": 10,
    "start_time": "2024-05-18T17:16:36.223Z"
   },
   {
    "duration": 9,
    "start_time": "2024-05-18T17:16:36.235Z"
   },
   {
    "duration": 31,
    "start_time": "2024-05-18T17:16:36.245Z"
   },
   {
    "duration": 20,
    "start_time": "2024-05-18T17:16:36.277Z"
   },
   {
    "duration": 6,
    "start_time": "2024-05-18T17:16:36.298Z"
   },
   {
    "duration": 30,
    "start_time": "2024-05-18T17:16:36.306Z"
   },
   {
    "duration": 11,
    "start_time": "2024-05-18T17:16:36.337Z"
   },
   {
    "duration": 8,
    "start_time": "2024-05-18T17:16:36.349Z"
   },
   {
    "duration": 26,
    "start_time": "2024-05-18T17:16:36.358Z"
   },
   {
    "duration": 14,
    "start_time": "2024-05-18T17:16:36.385Z"
   },
   {
    "duration": 9,
    "start_time": "2024-05-18T17:16:36.400Z"
   },
   {
    "duration": 7,
    "start_time": "2024-05-18T17:16:36.410Z"
   },
   {
    "duration": 4,
    "start_time": "2024-05-18T17:16:36.418Z"
   },
   {
    "duration": 20,
    "start_time": "2024-05-18T17:16:36.423Z"
   },
   {
    "duration": 11,
    "start_time": "2024-05-18T17:16:36.444Z"
   },
   {
    "duration": 17,
    "start_time": "2024-05-18T17:16:36.456Z"
   },
   {
    "duration": 24,
    "start_time": "2024-05-18T17:16:36.474Z"
   },
   {
    "duration": 16,
    "start_time": "2024-05-18T17:16:36.499Z"
   },
   {
    "duration": 36,
    "start_time": "2024-05-18T17:16:36.516Z"
   },
   {
    "duration": 4,
    "start_time": "2024-05-18T17:16:36.554Z"
   },
   {
    "duration": 21,
    "start_time": "2024-05-18T17:16:36.559Z"
   },
   {
    "duration": 6,
    "start_time": "2024-05-18T17:16:36.582Z"
   },
   {
    "duration": 6,
    "start_time": "2024-05-18T17:16:36.589Z"
   },
   {
    "duration": 30,
    "start_time": "2024-05-18T17:16:36.597Z"
   },
   {
    "duration": 5,
    "start_time": "2024-05-18T17:16:36.629Z"
   },
   {
    "duration": 24,
    "start_time": "2024-05-18T17:16:36.635Z"
   },
   {
    "duration": 11,
    "start_time": "2024-05-18T17:16:36.661Z"
   },
   {
    "duration": 24,
    "start_time": "2024-05-18T17:16:36.674Z"
   },
   {
    "duration": 32,
    "start_time": "2024-05-18T17:16:36.699Z"
   },
   {
    "duration": 25,
    "start_time": "2024-05-18T17:16:36.732Z"
   },
   {
    "duration": 26,
    "start_time": "2024-05-18T17:16:36.758Z"
   },
   {
    "duration": 14,
    "start_time": "2024-05-18T17:16:36.786Z"
   },
   {
    "duration": 31,
    "start_time": "2024-05-18T17:16:36.801Z"
   },
   {
    "duration": 3,
    "start_time": "2024-05-18T17:16:36.834Z"
   },
   {
    "duration": 8,
    "start_time": "2024-05-18T17:16:36.839Z"
   },
   {
    "duration": 9,
    "start_time": "2024-05-18T17:16:36.848Z"
   },
   {
    "duration": 10,
    "start_time": "2024-05-18T17:16:36.859Z"
   },
   {
    "duration": 12,
    "start_time": "2024-05-18T17:16:36.871Z"
   },
   {
    "duration": 7,
    "start_time": "2024-05-18T17:16:36.884Z"
   },
   {
    "duration": 16,
    "start_time": "2024-05-18T17:16:36.892Z"
   },
   {
    "duration": 27,
    "start_time": "2024-05-18T17:16:36.909Z"
   },
   {
    "duration": 14,
    "start_time": "2024-05-18T17:16:36.937Z"
   },
   {
    "duration": 36,
    "start_time": "2024-05-18T17:16:36.952Z"
   },
   {
    "duration": 6,
    "start_time": "2024-05-18T17:16:36.989Z"
   },
   {
    "duration": 10,
    "start_time": "2024-05-18T17:16:36.996Z"
   },
   {
    "duration": 18,
    "start_time": "2024-05-18T17:16:37.007Z"
   },
   {
    "duration": 14,
    "start_time": "2024-05-18T17:16:37.026Z"
   },
   {
    "duration": 20,
    "start_time": "2024-05-18T17:16:37.045Z"
   },
   {
    "duration": 4,
    "start_time": "2024-05-18T17:17:36.697Z"
   },
   {
    "duration": 5,
    "start_time": "2024-05-18T17:18:01.244Z"
   },
   {
    "duration": 23,
    "start_time": "2024-05-18T17:18:22.379Z"
   },
   {
    "duration": 9,
    "start_time": "2024-05-18T17:21:49.965Z"
   },
   {
    "duration": 4,
    "start_time": "2024-05-18T17:22:05.107Z"
   },
   {
    "duration": 4,
    "start_time": "2024-05-18T17:22:42.582Z"
   },
   {
    "duration": 4,
    "start_time": "2024-05-18T17:22:49.020Z"
   },
   {
    "duration": 7,
    "start_time": "2024-05-18T17:23:47.387Z"
   },
   {
    "duration": 11,
    "start_time": "2024-05-18T17:24:24.756Z"
   },
   {
    "duration": 3,
    "start_time": "2024-05-18T17:49:40.436Z"
   },
   {
    "duration": 63,
    "start_time": "2024-05-18T17:50:31.354Z"
   },
   {
    "duration": 54,
    "start_time": "2024-05-18T17:50:40.180Z"
   },
   {
    "duration": 9,
    "start_time": "2024-05-18T17:54:53.906Z"
   },
   {
    "duration": 559,
    "start_time": "2024-05-18T17:55:22.242Z"
   },
   {
    "duration": 85,
    "start_time": "2024-05-18T17:55:22.803Z"
   },
   {
    "duration": 74,
    "start_time": "2024-05-18T17:55:22.889Z"
   },
   {
    "duration": 12,
    "start_time": "2024-05-18T17:55:22.965Z"
   },
   {
    "duration": 66,
    "start_time": "2024-05-18T17:55:22.978Z"
   },
   {
    "duration": 62,
    "start_time": "2024-05-18T17:55:23.045Z"
   },
   {
    "duration": 7,
    "start_time": "2024-05-18T17:55:23.108Z"
   },
   {
    "duration": 1540,
    "start_time": "2024-05-18T17:55:23.116Z"
   },
   {
    "duration": 205,
    "start_time": "2024-05-18T17:55:24.657Z"
   },
   {
    "duration": 6,
    "start_time": "2024-05-18T17:55:24.864Z"
   },
   {
    "duration": 20,
    "start_time": "2024-05-18T17:55:24.871Z"
   },
   {
    "duration": 9,
    "start_time": "2024-05-18T17:55:24.892Z"
   },
   {
    "duration": 10,
    "start_time": "2024-05-18T17:55:24.903Z"
   },
   {
    "duration": 10,
    "start_time": "2024-05-18T17:55:24.914Z"
   },
   {
    "duration": 4,
    "start_time": "2024-05-18T17:55:24.925Z"
   },
   {
    "duration": 5,
    "start_time": "2024-05-18T17:55:24.931Z"
   },
   {
    "duration": 6,
    "start_time": "2024-05-18T17:55:24.937Z"
   },
   {
    "duration": 10,
    "start_time": "2024-05-18T17:55:24.944Z"
   },
   {
    "duration": 5,
    "start_time": "2024-05-18T17:55:24.956Z"
   },
   {
    "duration": 22,
    "start_time": "2024-05-18T17:55:24.963Z"
   },
   {
    "duration": 17,
    "start_time": "2024-05-18T17:55:24.986Z"
   },
   {
    "duration": 10,
    "start_time": "2024-05-18T17:55:25.004Z"
   },
   {
    "duration": 5,
    "start_time": "2024-05-18T17:55:25.015Z"
   },
   {
    "duration": 39,
    "start_time": "2024-05-18T17:55:25.021Z"
   },
   {
    "duration": 3,
    "start_time": "2024-05-18T17:55:25.062Z"
   },
   {
    "duration": 20,
    "start_time": "2024-05-18T17:55:25.066Z"
   },
   {
    "duration": 20,
    "start_time": "2024-05-18T17:55:25.087Z"
   },
   {
    "duration": 10,
    "start_time": "2024-05-18T17:55:25.110Z"
   },
   {
    "duration": 16,
    "start_time": "2024-05-18T17:55:25.122Z"
   },
   {
    "duration": 16,
    "start_time": "2024-05-18T17:55:25.139Z"
   },
   {
    "duration": 33,
    "start_time": "2024-05-18T17:55:25.156Z"
   },
   {
    "duration": 13,
    "start_time": "2024-05-18T17:55:25.191Z"
   },
   {
    "duration": 9,
    "start_time": "2024-05-18T17:55:25.205Z"
   },
   {
    "duration": 22,
    "start_time": "2024-05-18T17:55:25.215Z"
   },
   {
    "duration": 7,
    "start_time": "2024-05-18T17:55:25.238Z"
   },
   {
    "duration": 10,
    "start_time": "2024-05-18T17:55:25.246Z"
   },
   {
    "duration": 13,
    "start_time": "2024-05-18T17:55:25.258Z"
   },
   {
    "duration": 19,
    "start_time": "2024-05-18T17:55:25.272Z"
   },
   {
    "duration": 14,
    "start_time": "2024-05-18T17:55:25.292Z"
   },
   {
    "duration": 15,
    "start_time": "2024-05-18T17:55:25.307Z"
   },
   {
    "duration": 8,
    "start_time": "2024-05-18T17:55:25.323Z"
   },
   {
    "duration": 19,
    "start_time": "2024-05-18T17:55:25.332Z"
   },
   {
    "duration": 7,
    "start_time": "2024-05-18T17:55:25.352Z"
   },
   {
    "duration": 11,
    "start_time": "2024-05-18T17:55:25.360Z"
   },
   {
    "duration": 5,
    "start_time": "2024-05-18T17:55:25.373Z"
   },
   {
    "duration": 6,
    "start_time": "2024-05-18T17:55:25.379Z"
   },
   {
    "duration": 6,
    "start_time": "2024-05-18T17:55:25.386Z"
   },
   {
    "duration": 8,
    "start_time": "2024-05-18T17:55:25.393Z"
   },
   {
    "duration": 11,
    "start_time": "2024-05-18T17:55:25.402Z"
   },
   {
    "duration": 4,
    "start_time": "2024-05-18T17:55:25.414Z"
   },
   {
    "duration": 6,
    "start_time": "2024-05-18T17:55:25.419Z"
   },
   {
    "duration": 5,
    "start_time": "2024-05-18T17:55:25.426Z"
   },
   {
    "duration": 26,
    "start_time": "2024-05-18T17:55:25.432Z"
   },
   {
    "duration": 5,
    "start_time": "2024-05-18T17:55:25.459Z"
   },
   {
    "duration": 9,
    "start_time": "2024-05-18T17:55:25.465Z"
   },
   {
    "duration": 16,
    "start_time": "2024-05-18T17:55:25.475Z"
   },
   {
    "duration": 15,
    "start_time": "2024-05-18T17:55:25.493Z"
   },
   {
    "duration": 28,
    "start_time": "2024-05-18T17:55:25.509Z"
   },
   {
    "duration": 4,
    "start_time": "2024-05-18T17:55:25.538Z"
   },
   {
    "duration": 9,
    "start_time": "2024-05-18T17:55:25.543Z"
   },
   {
    "duration": 6,
    "start_time": "2024-05-18T17:55:25.553Z"
   },
   {
    "duration": 8,
    "start_time": "2024-05-18T17:55:25.561Z"
   },
   {
    "duration": 13,
    "start_time": "2024-05-18T17:55:25.570Z"
   },
   {
    "duration": 7,
    "start_time": "2024-05-18T17:55:25.585Z"
   },
   {
    "duration": 5,
    "start_time": "2024-05-18T17:55:25.593Z"
   },
   {
    "duration": 18,
    "start_time": "2024-05-18T17:55:25.599Z"
   },
   {
    "duration": 30,
    "start_time": "2024-05-18T17:55:25.618Z"
   },
   {
    "duration": 4,
    "start_time": "2024-05-18T17:55:25.649Z"
   },
   {
    "duration": 5,
    "start_time": "2024-05-18T17:55:25.654Z"
   },
   {
    "duration": 29,
    "start_time": "2024-05-18T17:55:25.660Z"
   },
   {
    "duration": 10,
    "start_time": "2024-05-18T17:55:25.690Z"
   },
   {
    "duration": 14,
    "start_time": "2024-05-18T17:55:25.701Z"
   },
   {
    "duration": 13,
    "start_time": "2024-05-18T17:55:25.716Z"
   },
   {
    "duration": 8,
    "start_time": "2024-05-18T17:55:25.730Z"
   },
   {
    "duration": 14,
    "start_time": "2024-05-18T17:55:25.740Z"
   },
   {
    "duration": 8,
    "start_time": "2024-05-18T17:55:25.755Z"
   },
   {
    "duration": 30,
    "start_time": "2024-05-18T17:55:25.764Z"
   },
   {
    "duration": 5,
    "start_time": "2024-05-18T17:55:25.795Z"
   },
   {
    "duration": 7,
    "start_time": "2024-05-18T17:55:25.801Z"
   },
   {
    "duration": 17,
    "start_time": "2024-05-18T17:55:25.809Z"
   },
   {
    "duration": 15,
    "start_time": "2024-05-18T17:55:25.827Z"
   },
   {
    "duration": 6,
    "start_time": "2024-05-18T17:55:25.846Z"
   },
   {
    "duration": 8,
    "start_time": "2024-05-18T17:55:25.854Z"
   },
   {
    "duration": 17,
    "start_time": "2024-05-18T17:55:25.863Z"
   },
   {
    "duration": 30,
    "start_time": "2024-05-18T17:55:25.881Z"
   },
   {
    "duration": 6,
    "start_time": "2024-05-18T17:55:25.912Z"
   },
   {
    "duration": 4,
    "start_time": "2024-05-18T17:55:25.919Z"
   },
   {
    "duration": 5,
    "start_time": "2024-05-18T17:55:25.924Z"
   },
   {
    "duration": 6,
    "start_time": "2024-05-18T17:55:25.930Z"
   },
   {
    "duration": 13,
    "start_time": "2024-05-18T17:55:25.937Z"
   },
   {
    "duration": 13,
    "start_time": "2024-05-18T17:55:25.951Z"
   },
   {
    "duration": 66,
    "start_time": "2024-05-18T17:55:25.966Z"
   },
   {
    "duration": 71,
    "start_time": "2024-05-18T17:55:26.034Z"
   },
   {
    "duration": 143,
    "start_time": "2024-05-18T17:55:45.968Z"
   },
   {
    "duration": 713,
    "start_time": "2024-05-18T17:57:07.272Z"
   },
   {
    "duration": 252,
    "start_time": "2024-05-18T17:57:34.619Z"
   },
   {
    "duration": 341,
    "start_time": "2024-05-18T17:58:30.845Z"
   },
   {
    "duration": 690,
    "start_time": "2024-05-18T17:59:19.767Z"
   },
   {
    "duration": 528,
    "start_time": "2024-05-18T18:01:59.212Z"
   },
   {
    "duration": 7,
    "start_time": "2024-05-18T18:13:26.118Z"
   },
   {
    "duration": 24,
    "start_time": "2024-05-18T18:16:37.784Z"
   },
   {
    "duration": 4,
    "start_time": "2024-05-18T18:18:53.875Z"
   },
   {
    "duration": 5,
    "start_time": "2024-05-18T18:19:09.915Z"
   },
   {
    "duration": 7,
    "start_time": "2024-05-18T18:19:16.905Z"
   },
   {
    "duration": 8,
    "start_time": "2024-05-18T18:24:58.757Z"
   },
   {
    "duration": 568,
    "start_time": "2024-05-18T19:36:13.285Z"
   },
   {
    "duration": 85,
    "start_time": "2024-05-18T19:36:13.855Z"
   },
   {
    "duration": 76,
    "start_time": "2024-05-18T19:36:13.942Z"
   },
   {
    "duration": 13,
    "start_time": "2024-05-18T19:36:14.020Z"
   },
   {
    "duration": 71,
    "start_time": "2024-05-18T19:36:14.034Z"
   },
   {
    "duration": 56,
    "start_time": "2024-05-18T19:36:14.107Z"
   },
   {
    "duration": 7,
    "start_time": "2024-05-18T19:36:14.164Z"
   },
   {
    "duration": 1575,
    "start_time": "2024-05-18T19:36:14.173Z"
   },
   {
    "duration": 213,
    "start_time": "2024-05-18T19:36:15.749Z"
   },
   {
    "duration": 6,
    "start_time": "2024-05-18T19:36:15.964Z"
   },
   {
    "duration": 8,
    "start_time": "2024-05-18T19:36:15.971Z"
   },
   {
    "duration": 4,
    "start_time": "2024-05-18T19:36:15.980Z"
   },
   {
    "duration": 4,
    "start_time": "2024-05-18T19:36:16.001Z"
   },
   {
    "duration": 15,
    "start_time": "2024-05-18T19:36:16.006Z"
   },
   {
    "duration": 7,
    "start_time": "2024-05-18T19:36:16.022Z"
   },
   {
    "duration": 5,
    "start_time": "2024-05-18T19:36:16.030Z"
   },
   {
    "duration": 6,
    "start_time": "2024-05-18T19:36:16.036Z"
   },
   {
    "duration": 7,
    "start_time": "2024-05-18T19:36:16.043Z"
   },
   {
    "duration": 3,
    "start_time": "2024-05-18T19:36:16.051Z"
   },
   {
    "duration": 10,
    "start_time": "2024-05-18T19:36:16.056Z"
   },
   {
    "duration": 5,
    "start_time": "2024-05-18T19:36:16.067Z"
   },
   {
    "duration": 8,
    "start_time": "2024-05-18T19:36:16.073Z"
   },
   {
    "duration": 21,
    "start_time": "2024-05-18T19:36:16.082Z"
   },
   {
    "duration": 22,
    "start_time": "2024-05-18T19:36:16.104Z"
   },
   {
    "duration": 4,
    "start_time": "2024-05-18T19:36:16.127Z"
   },
   {
    "duration": 7,
    "start_time": "2024-05-18T19:36:16.132Z"
   },
   {
    "duration": 21,
    "start_time": "2024-05-18T19:36:16.141Z"
   },
   {
    "duration": 5,
    "start_time": "2024-05-18T19:36:16.166Z"
   },
   {
    "duration": 9,
    "start_time": "2024-05-18T19:36:16.172Z"
   },
   {
    "duration": 7,
    "start_time": "2024-05-18T19:36:16.182Z"
   },
   {
    "duration": 7,
    "start_time": "2024-05-18T19:36:16.190Z"
   },
   {
    "duration": 3,
    "start_time": "2024-05-18T19:36:16.201Z"
   },
   {
    "duration": 8,
    "start_time": "2024-05-18T19:36:16.205Z"
   },
   {
    "duration": 4,
    "start_time": "2024-05-18T19:36:16.214Z"
   },
   {
    "duration": 8,
    "start_time": "2024-05-18T19:36:16.219Z"
   },
   {
    "duration": 5,
    "start_time": "2024-05-18T19:36:16.228Z"
   },
   {
    "duration": 5,
    "start_time": "2024-05-18T19:36:16.234Z"
   },
   {
    "duration": 5,
    "start_time": "2024-05-18T19:36:16.241Z"
   },
   {
    "duration": 4,
    "start_time": "2024-05-18T19:36:16.247Z"
   },
   {
    "duration": 5,
    "start_time": "2024-05-18T19:36:16.252Z"
   },
   {
    "duration": 4,
    "start_time": "2024-05-18T19:36:16.258Z"
   },
   {
    "duration": 8,
    "start_time": "2024-05-18T19:36:16.263Z"
   },
   {
    "duration": 3,
    "start_time": "2024-05-18T19:36:16.302Z"
   },
   {
    "duration": 36,
    "start_time": "2024-05-18T19:36:16.306Z"
   },
   {
    "duration": 5,
    "start_time": "2024-05-18T19:36:16.343Z"
   },
   {
    "duration": 5,
    "start_time": "2024-05-18T19:36:16.349Z"
   },
   {
    "duration": 9,
    "start_time": "2024-05-18T19:36:16.356Z"
   },
   {
    "duration": 4,
    "start_time": "2024-05-18T19:36:16.366Z"
   },
   {
    "duration": 6,
    "start_time": "2024-05-18T19:36:16.371Z"
   },
   {
    "duration": 5,
    "start_time": "2024-05-18T19:36:16.377Z"
   },
   {
    "duration": 6,
    "start_time": "2024-05-18T19:36:16.383Z"
   },
   {
    "duration": 14,
    "start_time": "2024-05-18T19:36:16.390Z"
   },
   {
    "duration": 27,
    "start_time": "2024-05-18T19:36:16.405Z"
   },
   {
    "duration": 4,
    "start_time": "2024-05-18T19:36:16.433Z"
   },
   {
    "duration": 29,
    "start_time": "2024-05-18T19:36:16.438Z"
   },
   {
    "duration": 8,
    "start_time": "2024-05-18T19:36:16.468Z"
   },
   {
    "duration": 18,
    "start_time": "2024-05-18T19:36:16.477Z"
   },
   {
    "duration": 28,
    "start_time": "2024-05-18T19:36:16.496Z"
   },
   {
    "duration": 4,
    "start_time": "2024-05-18T19:36:16.525Z"
   },
   {
    "duration": 6,
    "start_time": "2024-05-18T19:36:16.530Z"
   },
   {
    "duration": 3,
    "start_time": "2024-05-18T19:36:16.537Z"
   },
   {
    "duration": 5,
    "start_time": "2024-05-18T19:36:16.541Z"
   },
   {
    "duration": 13,
    "start_time": "2024-05-18T19:36:16.547Z"
   },
   {
    "duration": 9,
    "start_time": "2024-05-18T19:36:16.561Z"
   },
   {
    "duration": 12,
    "start_time": "2024-05-18T19:36:16.571Z"
   },
   {
    "duration": 5,
    "start_time": "2024-05-18T19:36:16.584Z"
   },
   {
    "duration": 37,
    "start_time": "2024-05-18T19:36:16.590Z"
   },
   {
    "duration": 4,
    "start_time": "2024-05-18T19:36:16.628Z"
   },
   {
    "duration": 4,
    "start_time": "2024-05-18T19:36:16.634Z"
   },
   {
    "duration": 5,
    "start_time": "2024-05-18T19:36:16.639Z"
   },
   {
    "duration": 3,
    "start_time": "2024-05-18T19:36:16.645Z"
   },
   {
    "duration": 4,
    "start_time": "2024-05-18T19:36:16.649Z"
   },
   {
    "duration": 4,
    "start_time": "2024-05-18T19:36:16.655Z"
   },
   {
    "duration": 3,
    "start_time": "2024-05-18T19:36:16.660Z"
   },
   {
    "duration": 39,
    "start_time": "2024-05-18T19:36:16.665Z"
   },
   {
    "duration": 8,
    "start_time": "2024-05-18T19:36:16.705Z"
   },
   {
    "duration": 31,
    "start_time": "2024-05-18T19:36:16.714Z"
   },
   {
    "duration": 5,
    "start_time": "2024-05-18T19:36:16.747Z"
   },
   {
    "duration": 8,
    "start_time": "2024-05-18T19:36:16.754Z"
   },
   {
    "duration": 3,
    "start_time": "2024-05-18T19:36:16.763Z"
   },
   {
    "duration": 16,
    "start_time": "2024-05-18T19:36:16.767Z"
   },
   {
    "duration": 3,
    "start_time": "2024-05-18T19:36:16.788Z"
   },
   {
    "duration": 3,
    "start_time": "2024-05-18T19:36:16.802Z"
   },
   {
    "duration": 22,
    "start_time": "2024-05-18T19:36:16.806Z"
   },
   {
    "duration": 37,
    "start_time": "2024-05-18T19:36:16.829Z"
   },
   {
    "duration": 6,
    "start_time": "2024-05-18T19:36:16.867Z"
   },
   {
    "duration": 5,
    "start_time": "2024-05-18T19:36:16.874Z"
   },
   {
    "duration": 4,
    "start_time": "2024-05-18T19:36:16.880Z"
   },
   {
    "duration": 4,
    "start_time": "2024-05-18T19:36:16.885Z"
   },
   {
    "duration": 9,
    "start_time": "2024-05-18T19:36:16.891Z"
   },
   {
    "duration": 10,
    "start_time": "2024-05-18T19:36:16.902Z"
   },
   {
    "duration": 51,
    "start_time": "2024-05-18T19:36:16.913Z"
   },
   {
    "duration": 7,
    "start_time": "2024-05-18T19:36:16.965Z"
   },
   {
    "duration": 47,
    "start_time": "2024-05-18T19:36:16.973Z"
   },
   {
    "duration": 3,
    "start_time": "2024-05-18T19:36:17.021Z"
   },
   {
    "duration": 8,
    "start_time": "2024-05-18T19:36:17.026Z"
   },
   {
    "duration": 7,
    "start_time": "2024-05-18T19:36:17.035Z"
   },
   {
    "duration": 21,
    "start_time": "2024-05-18T19:37:33.431Z"
   },
   {
    "duration": 4,
    "start_time": "2024-05-18T19:41:11.266Z"
   },
   {
    "duration": 6,
    "start_time": "2024-05-18T19:43:54.638Z"
   },
   {
    "duration": 7,
    "start_time": "2024-05-18T19:44:10.493Z"
   },
   {
    "duration": 2,
    "start_time": "2024-05-18T19:46:59.868Z"
   },
   {
    "duration": 7,
    "start_time": "2024-05-18T19:49:42.450Z"
   },
   {
    "duration": 80,
    "start_time": "2024-05-18T19:55:20.972Z"
   },
   {
    "duration": 11,
    "start_time": "2024-05-18T19:56:05.982Z"
   },
   {
    "duration": 10,
    "start_time": "2024-05-18T19:57:21.745Z"
   },
   {
    "duration": 19,
    "start_time": "2024-05-18T19:59:09.398Z"
   },
   {
    "duration": 7,
    "start_time": "2024-05-18T20:19:23.236Z"
   },
   {
    "duration": 4,
    "start_time": "2024-05-18T20:19:43.040Z"
   },
   {
    "duration": 8,
    "start_time": "2024-05-18T20:19:46.629Z"
   },
   {
    "duration": 4,
    "start_time": "2024-05-18T20:21:37.898Z"
   },
   {
    "duration": 8,
    "start_time": "2024-05-18T20:21:39.273Z"
   },
   {
    "duration": 7,
    "start_time": "2024-05-18T20:58:58.752Z"
   },
   {
    "duration": 3,
    "start_time": "2024-05-18T21:04:35.651Z"
   },
   {
    "duration": 9,
    "start_time": "2024-05-18T21:05:02.534Z"
   },
   {
    "duration": 54,
    "start_time": "2024-05-18T21:05:11.792Z"
   },
   {
    "duration": 14,
    "start_time": "2024-05-18T21:23:04.511Z"
   },
   {
    "duration": 5,
    "start_time": "2024-05-18T21:25:54.828Z"
   },
   {
    "duration": 7,
    "start_time": "2024-05-18T21:27:41.385Z"
   },
   {
    "duration": 4,
    "start_time": "2024-05-18T21:28:10.963Z"
   },
   {
    "duration": 15,
    "start_time": "2024-05-18T21:28:27.284Z"
   },
   {
    "duration": 5,
    "start_time": "2024-05-18T21:36:36.967Z"
   },
   {
    "duration": 11,
    "start_time": "2024-05-18T21:37:05.460Z"
   },
   {
    "duration": 19,
    "start_time": "2024-05-18T21:45:41.447Z"
   },
   {
    "duration": 7,
    "start_time": "2024-05-18T21:51:50.357Z"
   },
   {
    "duration": 9,
    "start_time": "2024-05-18T21:53:07.257Z"
   },
   {
    "duration": 6,
    "start_time": "2024-05-18T21:54:03.483Z"
   },
   {
    "duration": 12,
    "start_time": "2024-05-18T21:54:42.668Z"
   },
   {
    "duration": 7,
    "start_time": "2024-05-18T21:58:00.976Z"
   },
   {
    "duration": 18,
    "start_time": "2024-05-18T21:58:26.476Z"
   },
   {
    "duration": 7,
    "start_time": "2024-05-18T21:58:50.912Z"
   },
   {
    "duration": 8,
    "start_time": "2024-05-18T21:59:24.105Z"
   },
   {
    "duration": 6,
    "start_time": "2024-05-18T21:59:32.365Z"
   },
   {
    "duration": 541,
    "start_time": "2024-05-18T21:59:57.140Z"
   },
   {
    "duration": 86,
    "start_time": "2024-05-18T21:59:57.682Z"
   },
   {
    "duration": 79,
    "start_time": "2024-05-18T21:59:57.769Z"
   },
   {
    "duration": 11,
    "start_time": "2024-05-18T21:59:57.850Z"
   },
   {
    "duration": 66,
    "start_time": "2024-05-18T21:59:57.863Z"
   },
   {
    "duration": 55,
    "start_time": "2024-05-18T21:59:57.930Z"
   },
   {
    "duration": 17,
    "start_time": "2024-05-18T21:59:57.986Z"
   },
   {
    "duration": 1561,
    "start_time": "2024-05-18T21:59:58.005Z"
   },
   {
    "duration": 199,
    "start_time": "2024-05-18T21:59:59.569Z"
   },
   {
    "duration": 6,
    "start_time": "2024-05-18T21:59:59.770Z"
   },
   {
    "duration": 15,
    "start_time": "2024-05-18T21:59:59.777Z"
   },
   {
    "duration": 11,
    "start_time": "2024-05-18T21:59:59.793Z"
   },
   {
    "duration": 18,
    "start_time": "2024-05-18T21:59:59.805Z"
   },
   {
    "duration": 10,
    "start_time": "2024-05-18T21:59:59.825Z"
   },
   {
    "duration": 5,
    "start_time": "2024-05-18T21:59:59.836Z"
   },
   {
    "duration": 11,
    "start_time": "2024-05-18T21:59:59.842Z"
   },
   {
    "duration": 5,
    "start_time": "2024-05-18T21:59:59.854Z"
   },
   {
    "duration": 8,
    "start_time": "2024-05-18T21:59:59.860Z"
   },
   {
    "duration": 4,
    "start_time": "2024-05-18T21:59:59.869Z"
   },
   {
    "duration": 9,
    "start_time": "2024-05-18T21:59:59.874Z"
   },
   {
    "duration": 17,
    "start_time": "2024-05-18T21:59:59.884Z"
   },
   {
    "duration": 6,
    "start_time": "2024-05-18T21:59:59.903Z"
   },
   {
    "duration": 4,
    "start_time": "2024-05-18T21:59:59.910Z"
   },
   {
    "duration": 30,
    "start_time": "2024-05-18T21:59:59.915Z"
   },
   {
    "duration": 5,
    "start_time": "2024-05-18T21:59:59.946Z"
   },
   {
    "duration": 12,
    "start_time": "2024-05-18T21:59:59.952Z"
   },
   {
    "duration": 7,
    "start_time": "2024-05-18T21:59:59.966Z"
   },
   {
    "duration": 26,
    "start_time": "2024-05-18T21:59:59.977Z"
   },
   {
    "duration": 72,
    "start_time": "2024-05-18T22:00:00.005Z"
   },
   {
    "duration": 26,
    "start_time": "2024-05-18T22:00:00.078Z"
   },
   {
    "duration": 53,
    "start_time": "2024-05-18T22:00:00.105Z"
   },
   {
    "duration": 37,
    "start_time": "2024-05-18T22:00:00.160Z"
   },
   {
    "duration": 32,
    "start_time": "2024-05-18T22:00:00.198Z"
   },
   {
    "duration": 22,
    "start_time": "2024-05-18T22:00:00.232Z"
   },
   {
    "duration": 75,
    "start_time": "2024-05-18T22:00:00.256Z"
   },
   {
    "duration": 61,
    "start_time": "2024-05-18T22:00:00.332Z"
   },
   {
    "duration": 56,
    "start_time": "2024-05-18T22:00:00.394Z"
   },
   {
    "duration": 73,
    "start_time": "2024-05-18T22:00:00.452Z"
   },
   {
    "duration": 48,
    "start_time": "2024-05-18T22:00:00.526Z"
   },
   {
    "duration": 30,
    "start_time": "2024-05-18T22:00:00.576Z"
   },
   {
    "duration": 25,
    "start_time": "2024-05-18T22:00:00.607Z"
   },
   {
    "duration": 64,
    "start_time": "2024-05-18T22:00:00.634Z"
   },
   {
    "duration": 31,
    "start_time": "2024-05-18T22:00:00.700Z"
   },
   {
    "duration": 22,
    "start_time": "2024-05-18T22:00:00.732Z"
   },
   {
    "duration": 24,
    "start_time": "2024-05-18T22:00:00.755Z"
   },
   {
    "duration": 29,
    "start_time": "2024-05-18T22:00:00.780Z"
   },
   {
    "duration": 58,
    "start_time": "2024-05-18T22:00:00.811Z"
   },
   {
    "duration": 61,
    "start_time": "2024-05-18T22:00:00.870Z"
   },
   {
    "duration": 82,
    "start_time": "2024-05-18T22:00:00.932Z"
   },
   {
    "duration": 67,
    "start_time": "2024-05-18T22:00:01.016Z"
   },
   {
    "duration": 59,
    "start_time": "2024-05-18T22:00:01.084Z"
   },
   {
    "duration": 101,
    "start_time": "2024-05-18T22:00:01.144Z"
   },
   {
    "duration": 67,
    "start_time": "2024-05-18T22:00:01.246Z"
   },
   {
    "duration": 96,
    "start_time": "2024-05-18T22:00:01.314Z"
   },
   {
    "duration": 128,
    "start_time": "2024-05-18T22:00:01.412Z"
   },
   {
    "duration": 70,
    "start_time": "2024-05-18T22:00:01.541Z"
   },
   {
    "duration": 46,
    "start_time": "2024-05-18T22:00:01.612Z"
   },
   {
    "duration": 93,
    "start_time": "2024-05-18T22:00:01.659Z"
   },
   {
    "duration": 25,
    "start_time": "2024-05-18T22:00:01.753Z"
   },
   {
    "duration": 33,
    "start_time": "2024-05-18T22:00:01.780Z"
   },
   {
    "duration": 36,
    "start_time": "2024-05-18T22:00:01.814Z"
   },
   {
    "duration": 25,
    "start_time": "2024-05-18T22:00:01.851Z"
   },
   {
    "duration": 59,
    "start_time": "2024-05-18T22:00:01.877Z"
   },
   {
    "duration": 45,
    "start_time": "2024-05-18T22:00:01.937Z"
   },
   {
    "duration": 39,
    "start_time": "2024-05-18T22:00:01.983Z"
   },
   {
    "duration": 50,
    "start_time": "2024-05-18T22:00:02.023Z"
   },
   {
    "duration": 77,
    "start_time": "2024-05-18T22:00:02.074Z"
   },
   {
    "duration": 4,
    "start_time": "2024-05-18T22:00:02.153Z"
   },
   {
    "duration": 44,
    "start_time": "2024-05-18T22:00:02.158Z"
   },
   {
    "duration": 32,
    "start_time": "2024-05-18T22:00:02.204Z"
   },
   {
    "duration": 6,
    "start_time": "2024-05-18T22:00:02.237Z"
   },
   {
    "duration": 43,
    "start_time": "2024-05-18T22:00:02.245Z"
   },
   {
    "duration": 23,
    "start_time": "2024-05-18T22:00:02.289Z"
   },
   {
    "duration": 10,
    "start_time": "2024-05-18T22:00:02.313Z"
   },
   {
    "duration": 30,
    "start_time": "2024-05-18T22:00:02.324Z"
   },
   {
    "duration": 48,
    "start_time": "2024-05-18T22:00:02.355Z"
   },
   {
    "duration": 43,
    "start_time": "2024-05-18T22:00:02.404Z"
   },
   {
    "duration": 7,
    "start_time": "2024-05-18T22:00:02.448Z"
   },
   {
    "duration": 8,
    "start_time": "2024-05-18T22:00:02.456Z"
   },
   {
    "duration": 31,
    "start_time": "2024-05-18T22:00:02.466Z"
   },
   {
    "duration": 18,
    "start_time": "2024-05-18T22:00:02.499Z"
   },
   {
    "duration": 29,
    "start_time": "2024-05-18T22:00:02.523Z"
   },
   {
    "duration": 25,
    "start_time": "2024-05-18T22:00:02.553Z"
   },
   {
    "duration": 18,
    "start_time": "2024-05-18T22:00:02.579Z"
   },
   {
    "duration": 45,
    "start_time": "2024-05-18T22:00:02.599Z"
   },
   {
    "duration": 31,
    "start_time": "2024-05-18T22:00:02.645Z"
   },
   {
    "duration": 30,
    "start_time": "2024-05-18T22:00:02.677Z"
   },
   {
    "duration": 27,
    "start_time": "2024-05-18T22:00:02.708Z"
   },
   {
    "duration": 20,
    "start_time": "2024-05-18T22:00:02.736Z"
   },
   {
    "duration": 42,
    "start_time": "2024-05-18T22:00:02.757Z"
   },
   {
    "duration": 48,
    "start_time": "2024-05-18T22:00:02.800Z"
   },
   {
    "duration": 65,
    "start_time": "2024-05-18T22:00:02.850Z"
   },
   {
    "duration": 7,
    "start_time": "2024-05-18T22:00:02.917Z"
   },
   {
    "duration": 29,
    "start_time": "2024-05-18T22:00:02.925Z"
   },
   {
    "duration": 3,
    "start_time": "2024-05-18T22:00:02.956Z"
   },
   {
    "duration": 19,
    "start_time": "2024-05-18T22:00:02.960Z"
   },
   {
    "duration": 15,
    "start_time": "2024-05-18T22:00:02.980Z"
   },
   {
    "duration": 23,
    "start_time": "2024-05-18T22:00:02.996Z"
   },
   {
    "duration": 7,
    "start_time": "2024-05-18T22:00:03.020Z"
   },
   {
    "duration": 15,
    "start_time": "2024-05-18T22:00:03.028Z"
   },
   {
    "duration": 46,
    "start_time": "2024-05-18T22:00:03.044Z"
   },
   {
    "duration": 9,
    "start_time": "2024-05-18T22:00:03.091Z"
   },
   {
    "duration": 17,
    "start_time": "2024-05-18T22:00:03.101Z"
   },
   {
    "duration": 20,
    "start_time": "2024-05-18T22:00:03.119Z"
   },
   {
    "duration": 16,
    "start_time": "2024-05-18T22:00:03.141Z"
   },
   {
    "duration": 38,
    "start_time": "2024-05-18T22:00:03.158Z"
   },
   {
    "duration": 60,
    "start_time": "2024-05-18T22:00:03.198Z"
   },
   {
    "duration": 16,
    "start_time": "2024-05-18T22:00:03.259Z"
   },
   {
    "duration": 17,
    "start_time": "2024-05-18T22:00:03.276Z"
   },
   {
    "duration": 15,
    "start_time": "2024-05-18T22:00:03.294Z"
   },
   {
    "duration": 12,
    "start_time": "2024-05-18T22:00:03.310Z"
   },
   {
    "duration": 23,
    "start_time": "2024-05-18T22:00:03.323Z"
   },
   {
    "duration": 14,
    "start_time": "2024-05-18T22:00:03.348Z"
   },
   {
    "duration": 17,
    "start_time": "2024-05-18T22:00:03.363Z"
   },
   {
    "duration": 46,
    "start_time": "2024-05-18T22:00:03.382Z"
   },
   {
    "duration": 12,
    "start_time": "2024-05-18T22:00:03.430Z"
   },
   {
    "duration": 18,
    "start_time": "2024-05-18T22:00:03.443Z"
   },
   {
    "duration": 10,
    "start_time": "2024-05-18T22:00:03.462Z"
   },
   {
    "duration": 37,
    "start_time": "2024-05-18T22:00:03.474Z"
   },
   {
    "duration": 31,
    "start_time": "2024-05-18T22:00:03.513Z"
   },
   {
    "duration": 47,
    "start_time": "2024-05-18T22:00:03.546Z"
   },
   {
    "duration": 11,
    "start_time": "2024-05-18T22:00:03.594Z"
   },
   {
    "duration": 776,
    "start_time": "2024-05-19T06:53:29.648Z"
   },
   {
    "duration": 221,
    "start_time": "2024-05-19T06:53:30.426Z"
   },
   {
    "duration": 89,
    "start_time": "2024-05-19T06:53:30.649Z"
   },
   {
    "duration": 14,
    "start_time": "2024-05-19T06:53:30.740Z"
   },
   {
    "duration": 112,
    "start_time": "2024-05-19T06:53:30.756Z"
   },
   {
    "duration": 68,
    "start_time": "2024-05-19T06:53:30.869Z"
   },
   {
    "duration": 8,
    "start_time": "2024-05-19T06:53:30.939Z"
   },
   {
    "duration": 1833,
    "start_time": "2024-05-19T06:53:30.949Z"
   },
   {
    "duration": 234,
    "start_time": "2024-05-19T06:53:32.784Z"
   },
   {
    "duration": 8,
    "start_time": "2024-05-19T06:53:33.022Z"
   },
   {
    "duration": 13,
    "start_time": "2024-05-19T06:53:33.032Z"
   },
   {
    "duration": 7,
    "start_time": "2024-05-19T06:53:33.046Z"
   },
   {
    "duration": 8,
    "start_time": "2024-05-19T06:53:33.055Z"
   },
   {
    "duration": 10,
    "start_time": "2024-05-19T06:53:33.065Z"
   },
   {
    "duration": 5,
    "start_time": "2024-05-19T06:53:33.076Z"
   },
   {
    "duration": 5,
    "start_time": "2024-05-19T06:53:33.113Z"
   },
   {
    "duration": 13,
    "start_time": "2024-05-19T06:53:33.120Z"
   },
   {
    "duration": 21,
    "start_time": "2024-05-19T06:53:33.135Z"
   },
   {
    "duration": 6,
    "start_time": "2024-05-19T06:53:33.158Z"
   },
   {
    "duration": 8,
    "start_time": "2024-05-19T06:53:33.166Z"
   },
   {
    "duration": 11,
    "start_time": "2024-05-19T06:53:33.176Z"
   },
   {
    "duration": 25,
    "start_time": "2024-05-19T06:53:33.189Z"
   },
   {
    "duration": 5,
    "start_time": "2024-05-19T06:53:33.216Z"
   },
   {
    "duration": 31,
    "start_time": "2024-05-19T06:53:33.223Z"
   },
   {
    "duration": 5,
    "start_time": "2024-05-19T06:53:33.256Z"
   },
   {
    "duration": 4,
    "start_time": "2024-05-19T06:53:33.263Z"
   },
   {
    "duration": 8,
    "start_time": "2024-05-19T06:53:33.269Z"
   },
   {
    "duration": 6,
    "start_time": "2024-05-19T06:53:33.314Z"
   },
   {
    "duration": 8,
    "start_time": "2024-05-19T06:53:33.322Z"
   },
   {
    "duration": 5,
    "start_time": "2024-05-19T06:53:33.332Z"
   },
   {
    "duration": 6,
    "start_time": "2024-05-19T06:53:33.339Z"
   },
   {
    "duration": 4,
    "start_time": "2024-05-19T06:53:33.347Z"
   },
   {
    "duration": 6,
    "start_time": "2024-05-19T06:53:33.352Z"
   },
   {
    "duration": 9,
    "start_time": "2024-05-19T06:53:33.359Z"
   },
   {
    "duration": 43,
    "start_time": "2024-05-19T06:53:33.370Z"
   },
   {
    "duration": 9,
    "start_time": "2024-05-19T06:53:33.415Z"
   },
   {
    "duration": 8,
    "start_time": "2024-05-19T06:53:33.426Z"
   },
   {
    "duration": 5,
    "start_time": "2024-05-19T06:53:33.435Z"
   },
   {
    "duration": 11,
    "start_time": "2024-05-19T06:53:33.442Z"
   },
   {
    "duration": 14,
    "start_time": "2024-05-19T06:53:33.455Z"
   },
   {
    "duration": 10,
    "start_time": "2024-05-19T06:53:33.470Z"
   },
   {
    "duration": 12,
    "start_time": "2024-05-19T06:53:33.481Z"
   },
   {
    "duration": 6,
    "start_time": "2024-05-19T06:53:33.511Z"
   },
   {
    "duration": 15,
    "start_time": "2024-05-19T06:53:33.519Z"
   },
   {
    "duration": 3,
    "start_time": "2024-05-19T06:53:33.536Z"
   },
   {
    "duration": 6,
    "start_time": "2024-05-19T06:53:33.541Z"
   },
   {
    "duration": 12,
    "start_time": "2024-05-19T06:53:33.548Z"
   },
   {
    "duration": 10,
    "start_time": "2024-05-19T06:53:33.562Z"
   },
   {
    "duration": 7,
    "start_time": "2024-05-19T06:53:33.578Z"
   },
   {
    "duration": 6,
    "start_time": "2024-05-19T06:53:33.612Z"
   },
   {
    "duration": 10,
    "start_time": "2024-05-19T06:53:33.620Z"
   },
   {
    "duration": 10,
    "start_time": "2024-05-19T06:53:33.632Z"
   },
   {
    "duration": 33,
    "start_time": "2024-05-19T06:53:33.644Z"
   },
   {
    "duration": 6,
    "start_time": "2024-05-19T06:53:33.679Z"
   },
   {
    "duration": 25,
    "start_time": "2024-05-19T06:53:33.687Z"
   },
   {
    "duration": 9,
    "start_time": "2024-05-19T06:53:33.714Z"
   },
   {
    "duration": 5,
    "start_time": "2024-05-19T06:53:33.724Z"
   },
   {
    "duration": 45,
    "start_time": "2024-05-19T06:53:33.731Z"
   },
   {
    "duration": 5,
    "start_time": "2024-05-19T06:53:33.779Z"
   },
   {
    "duration": 5,
    "start_time": "2024-05-19T06:53:33.812Z"
   },
   {
    "duration": 6,
    "start_time": "2024-05-19T06:53:33.818Z"
   },
   {
    "duration": 5,
    "start_time": "2024-05-19T06:53:33.825Z"
   },
   {
    "duration": 17,
    "start_time": "2024-05-19T06:53:33.831Z"
   },
   {
    "duration": 6,
    "start_time": "2024-05-19T06:53:33.849Z"
   },
   {
    "duration": 5,
    "start_time": "2024-05-19T06:53:33.856Z"
   },
   {
    "duration": 5,
    "start_time": "2024-05-19T06:53:33.862Z"
   },
   {
    "duration": 68,
    "start_time": "2024-05-19T06:53:33.868Z"
   },
   {
    "duration": 5,
    "start_time": "2024-05-19T06:53:33.937Z"
   },
   {
    "duration": 5,
    "start_time": "2024-05-19T06:53:33.944Z"
   },
   {
    "duration": 4,
    "start_time": "2024-05-19T06:53:33.951Z"
   },
   {
    "duration": 5,
    "start_time": "2024-05-19T06:53:33.956Z"
   },
   {
    "duration": 9,
    "start_time": "2024-05-19T06:53:33.962Z"
   },
   {
    "duration": 39,
    "start_time": "2024-05-19T06:53:33.973Z"
   },
   {
    "duration": 6,
    "start_time": "2024-05-19T06:53:34.013Z"
   },
   {
    "duration": 14,
    "start_time": "2024-05-19T06:53:34.020Z"
   },
   {
    "duration": 15,
    "start_time": "2024-05-19T06:53:34.035Z"
   },
   {
    "duration": 38,
    "start_time": "2024-05-19T06:53:34.052Z"
   },
   {
    "duration": 7,
    "start_time": "2024-05-19T06:53:34.091Z"
   },
   {
    "duration": 15,
    "start_time": "2024-05-19T06:53:34.100Z"
   },
   {
    "duration": 7,
    "start_time": "2024-05-19T06:53:34.116Z"
   },
   {
    "duration": 14,
    "start_time": "2024-05-19T06:53:34.125Z"
   },
   {
    "duration": 5,
    "start_time": "2024-05-19T06:53:34.146Z"
   },
   {
    "duration": 9,
    "start_time": "2024-05-19T06:53:34.153Z"
   },
   {
    "duration": 9,
    "start_time": "2024-05-19T06:53:34.164Z"
   },
   {
    "duration": 47,
    "start_time": "2024-05-19T06:53:34.174Z"
   },
   {
    "duration": 8,
    "start_time": "2024-05-19T06:53:34.223Z"
   },
   {
    "duration": 4,
    "start_time": "2024-05-19T06:53:34.233Z"
   },
   {
    "duration": 5,
    "start_time": "2024-05-19T06:53:34.239Z"
   },
   {
    "duration": 6,
    "start_time": "2024-05-19T06:53:34.245Z"
   },
   {
    "duration": 7,
    "start_time": "2024-05-19T06:53:34.253Z"
   },
   {
    "duration": 53,
    "start_time": "2024-05-19T06:53:34.261Z"
   },
   {
    "duration": 58,
    "start_time": "2024-05-19T06:53:34.315Z"
   },
   {
    "duration": 7,
    "start_time": "2024-05-19T06:53:34.374Z"
   },
   {
    "duration": 49,
    "start_time": "2024-05-19T06:53:34.382Z"
   },
   {
    "duration": 3,
    "start_time": "2024-05-19T06:53:34.433Z"
   },
   {
    "duration": 11,
    "start_time": "2024-05-19T06:53:34.437Z"
   },
   {
    "duration": 9,
    "start_time": "2024-05-19T06:53:34.450Z"
   },
   {
    "duration": 25,
    "start_time": "2024-05-19T06:53:34.460Z"
   },
   {
    "duration": 29,
    "start_time": "2024-05-19T06:53:34.486Z"
   },
   {
    "duration": 12,
    "start_time": "2024-05-19T06:53:34.516Z"
   },
   {
    "duration": 9,
    "start_time": "2024-05-19T06:53:34.530Z"
   },
   {
    "duration": 9,
    "start_time": "2024-05-19T06:53:34.540Z"
   },
   {
    "duration": 24,
    "start_time": "2024-05-19T06:53:34.550Z"
   },
   {
    "duration": 4,
    "start_time": "2024-05-19T06:53:34.576Z"
   },
   {
    "duration": 15,
    "start_time": "2024-05-19T06:53:34.613Z"
   },
   {
    "duration": 8,
    "start_time": "2024-05-19T06:53:34.629Z"
   },
   {
    "duration": 80,
    "start_time": "2024-05-19T06:53:34.639Z"
   },
   {
    "duration": 17,
    "start_time": "2024-05-19T06:53:34.721Z"
   },
   {
    "duration": 7,
    "start_time": "2024-05-19T06:53:34.739Z"
   },
   {
    "duration": 8,
    "start_time": "2024-05-19T06:53:34.747Z"
   },
   {
    "duration": 7,
    "start_time": "2024-05-19T06:53:34.757Z"
   },
   {
    "duration": 19,
    "start_time": "2024-05-19T06:53:34.766Z"
   },
   {
    "duration": 37,
    "start_time": "2024-05-19T06:53:34.786Z"
   },
   {
    "duration": 18,
    "start_time": "2024-05-19T06:53:34.824Z"
   },
   {
    "duration": 32,
    "start_time": "2024-05-19T06:53:34.844Z"
   },
   {
    "duration": 7,
    "start_time": "2024-05-19T06:53:34.878Z"
   },
   {
    "duration": 33,
    "start_time": "2024-05-19T06:53:34.886Z"
   },
   {
    "duration": 7,
    "start_time": "2024-05-19T06:53:34.921Z"
   },
   {
    "duration": 17,
    "start_time": "2024-05-19T06:53:34.929Z"
   },
   {
    "duration": 8,
    "start_time": "2024-05-19T06:53:34.947Z"
   },
   {
    "duration": 55,
    "start_time": "2024-05-19T06:53:34.957Z"
   },
   {
    "duration": 2,
    "start_time": "2024-05-19T07:23:22.439Z"
   },
   {
    "duration": 3,
    "start_time": "2024-05-19T07:28:03.294Z"
   },
   {
    "duration": 71,
    "start_time": "2024-05-19T07:28:57.466Z"
   },
   {
    "duration": 3,
    "start_time": "2024-05-19T07:29:12.513Z"
   },
   {
    "duration": 17,
    "start_time": "2024-05-19T07:29:41.708Z"
   },
   {
    "duration": 5,
    "start_time": "2024-05-19T07:31:27.520Z"
   },
   {
    "duration": 5,
    "start_time": "2024-05-19T07:32:33.058Z"
   },
   {
    "duration": 4,
    "start_time": "2024-05-19T07:33:14.049Z"
   },
   {
    "duration": 6,
    "start_time": "2024-05-19T07:33:25.361Z"
   },
   {
    "duration": 2,
    "start_time": "2024-05-19T07:36:23.009Z"
   },
   {
    "duration": 5,
    "start_time": "2024-05-19T07:36:51.009Z"
   },
   {
    "duration": 5,
    "start_time": "2024-05-19T07:36:58.282Z"
   },
   {
    "duration": 17,
    "start_time": "2024-05-19T07:37:40.623Z"
   },
   {
    "duration": 9,
    "start_time": "2024-05-19T07:44:37.708Z"
   },
   {
    "duration": 335,
    "start_time": "2024-05-19T07:44:47.294Z"
   },
   {
    "duration": 7,
    "start_time": "2024-05-19T07:45:35.156Z"
   },
   {
    "duration": 18,
    "start_time": "2024-05-19T07:45:40.249Z"
   },
   {
    "duration": 2,
    "start_time": "2024-05-19T07:46:52.490Z"
   },
   {
    "duration": 7,
    "start_time": "2024-05-19T07:47:43.432Z"
   },
   {
    "duration": 7,
    "start_time": "2024-05-19T07:48:17.543Z"
   },
   {
    "duration": 273,
    "start_time": "2024-05-19T07:50:49.830Z"
   },
   {
    "duration": 6,
    "start_time": "2024-05-19T07:51:03.921Z"
   },
   {
    "duration": 2,
    "start_time": "2024-05-19T08:06:29.082Z"
   },
   {
    "duration": 8,
    "start_time": "2024-05-19T08:07:18.997Z"
   },
   {
    "duration": 7,
    "start_time": "2024-05-19T08:07:31.006Z"
   },
   {
    "duration": 7,
    "start_time": "2024-05-19T08:07:36.127Z"
   },
   {
    "duration": 4,
    "start_time": "2024-05-19T08:08:29.759Z"
   },
   {
    "duration": 208,
    "start_time": "2024-05-19T08:09:55.666Z"
   },
   {
    "duration": 178,
    "start_time": "2024-05-19T08:10:26.050Z"
   },
   {
    "duration": 8,
    "start_time": "2024-05-19T08:11:07.470Z"
   },
   {
    "duration": 268,
    "start_time": "2024-05-19T08:11:16.758Z"
   },
   {
    "duration": 10,
    "start_time": "2024-05-19T08:31:45.886Z"
   },
   {
    "duration": 209,
    "start_time": "2024-05-19T08:32:40.645Z"
   },
   {
    "duration": 7,
    "start_time": "2024-05-19T08:35:37.246Z"
   },
   {
    "duration": 200,
    "start_time": "2024-05-19T08:35:47.565Z"
   },
   {
    "duration": 205,
    "start_time": "2024-05-19T08:37:07.757Z"
   },
   {
    "duration": 2,
    "start_time": "2024-05-19T08:50:16.161Z"
   },
   {
    "duration": 8,
    "start_time": "2024-05-19T08:50:35.331Z"
   },
   {
    "duration": 174,
    "start_time": "2024-05-19T08:51:00.040Z"
   },
   {
    "duration": 3,
    "start_time": "2024-05-19T08:56:33.609Z"
   },
   {
    "duration": 7,
    "start_time": "2024-05-19T08:57:12.773Z"
   },
   {
    "duration": 214,
    "start_time": "2024-05-19T08:57:30.829Z"
   },
   {
    "duration": 264,
    "start_time": "2024-05-19T08:57:54.060Z"
   },
   {
    "duration": 210,
    "start_time": "2024-05-19T08:58:37.234Z"
   },
   {
    "duration": 206,
    "start_time": "2024-05-19T08:58:42.665Z"
   },
   {
    "duration": 206,
    "start_time": "2024-05-19T08:59:53.113Z"
   },
   {
    "duration": 202,
    "start_time": "2024-05-19T09:00:30.659Z"
   },
   {
    "duration": 285,
    "start_time": "2024-05-19T09:02:01.415Z"
   },
   {
    "duration": 180,
    "start_time": "2024-05-19T09:02:10.645Z"
   },
   {
    "duration": 204,
    "start_time": "2024-05-19T09:02:25.341Z"
   },
   {
    "duration": 213,
    "start_time": "2024-05-19T09:02:32.352Z"
   },
   {
    "duration": 183,
    "start_time": "2024-05-19T09:04:10.605Z"
   },
   {
    "duration": 188,
    "start_time": "2024-05-19T09:04:24.472Z"
   },
   {
    "duration": 3,
    "start_time": "2024-05-19T09:14:01.954Z"
   },
   {
    "duration": 8,
    "start_time": "2024-05-19T09:14:47.891Z"
   },
   {
    "duration": 182,
    "start_time": "2024-05-19T09:14:55.549Z"
   },
   {
    "duration": 8,
    "start_time": "2024-05-19T09:17:44.795Z"
   },
   {
    "duration": 175,
    "start_time": "2024-05-19T09:18:00.253Z"
   },
   {
    "duration": 192,
    "start_time": "2024-05-19T09:19:34.260Z"
   },
   {
    "duration": 2,
    "start_time": "2024-05-19T09:23:19.450Z"
   },
   {
    "duration": 752,
    "start_time": "2024-05-19T09:25:10.993Z"
   },
   {
    "duration": 8,
    "start_time": "2024-05-19T09:26:14.498Z"
   },
   {
    "duration": 8,
    "start_time": "2024-05-19T09:28:02.373Z"
   },
   {
    "duration": 17,
    "start_time": "2024-05-19T09:28:14.166Z"
   },
   {
    "duration": 168,
    "start_time": "2024-05-19T09:28:29.703Z"
   },
   {
    "duration": 635,
    "start_time": "2024-05-19T09:30:41.303Z"
   },
   {
    "duration": 9,
    "start_time": "2024-05-19T09:31:22.609Z"
   },
   {
    "duration": 157,
    "start_time": "2024-05-19T09:31:32.032Z"
   },
   {
    "duration": 169,
    "start_time": "2024-05-19T09:32:21.045Z"
   },
   {
    "duration": 163,
    "start_time": "2024-05-19T09:32:57.831Z"
   },
   {
    "duration": 3,
    "start_time": "2024-05-19T09:36:06.541Z"
   },
   {
    "duration": 7,
    "start_time": "2024-05-19T09:41:11.811Z"
   },
   {
    "duration": 193,
    "start_time": "2024-05-19T09:41:19.615Z"
   },
   {
    "duration": 11,
    "start_time": "2024-05-19T09:46:55.335Z"
   },
   {
    "duration": 14,
    "start_time": "2024-05-19T09:47:36.772Z"
   },
   {
    "duration": 6,
    "start_time": "2024-05-19T09:47:55.957Z"
   },
   {
    "duration": 188,
    "start_time": "2024-05-19T09:48:35.049Z"
   },
   {
    "duration": 2,
    "start_time": "2024-05-19T09:50:59.828Z"
   },
   {
    "duration": 10,
    "start_time": "2024-05-19T09:51:14.839Z"
   },
   {
    "duration": 253,
    "start_time": "2024-05-19T09:51:22.723Z"
   },
   {
    "duration": 198,
    "start_time": "2024-05-19T09:52:16.024Z"
   },
   {
    "duration": 2,
    "start_time": "2024-05-19T10:00:07.308Z"
   },
   {
    "duration": 7,
    "start_time": "2024-05-19T10:01:09.959Z"
   },
   {
    "duration": 8,
    "start_time": "2024-05-19T10:01:46.418Z"
   },
   {
    "duration": 11,
    "start_time": "2024-05-19T10:01:50.868Z"
   },
   {
    "duration": 7,
    "start_time": "2024-05-19T10:02:06.919Z"
   },
   {
    "duration": 24,
    "start_time": "2024-05-19T10:04:01.169Z"
   },
   {
    "duration": 9,
    "start_time": "2024-05-19T10:36:44.116Z"
   },
   {
    "duration": 10,
    "start_time": "2024-05-19T10:39:04.663Z"
   },
   {
    "duration": 11,
    "start_time": "2024-05-19T10:39:26.772Z"
   },
   {
    "duration": 8,
    "start_time": "2024-05-19T10:39:36.974Z"
   },
   {
    "duration": 9,
    "start_time": "2024-05-19T10:40:08.567Z"
   },
   {
    "duration": 15,
    "start_time": "2024-05-19T10:42:39.184Z"
   },
   {
    "duration": 7,
    "start_time": "2024-05-19T10:43:13.349Z"
   },
   {
    "duration": 9,
    "start_time": "2024-05-19T10:43:33.689Z"
   },
   {
    "duration": 661,
    "start_time": "2024-05-19T10:45:51.848Z"
   },
   {
    "duration": 653,
    "start_time": "2024-05-19T10:46:44.225Z"
   },
   {
    "duration": 12,
    "start_time": "2024-05-19T10:47:13.160Z"
   },
   {
    "duration": 13,
    "start_time": "2024-05-19T10:47:39.611Z"
   },
   {
    "duration": 26,
    "start_time": "2024-05-19T10:52:05.762Z"
   },
   {
    "duration": 172,
    "start_time": "2024-05-19T10:52:43.213Z"
   },
   {
    "duration": 190,
    "start_time": "2024-05-19T10:53:02.594Z"
   },
   {
    "duration": 180,
    "start_time": "2024-05-19T10:54:12.999Z"
   },
   {
    "duration": 7,
    "start_time": "2024-05-19T10:58:18.851Z"
   },
   {
    "duration": 12,
    "start_time": "2024-05-19T10:59:20.633Z"
   },
   {
    "duration": 8,
    "start_time": "2024-05-19T10:59:38.931Z"
   },
   {
    "duration": 11,
    "start_time": "2024-05-19T11:00:05.391Z"
   },
   {
    "duration": 27,
    "start_time": "2024-05-19T11:00:43.562Z"
   },
   {
    "duration": 171,
    "start_time": "2024-05-19T11:01:09.317Z"
   },
   {
    "duration": 3,
    "start_time": "2024-05-19T11:04:45.530Z"
   },
   {
    "duration": 8,
    "start_time": "2024-05-19T11:04:53.100Z"
   },
   {
    "duration": 17,
    "start_time": "2024-05-19T11:05:29.781Z"
   },
   {
    "duration": 8,
    "start_time": "2024-05-19T11:06:11.297Z"
   },
   {
    "duration": 8,
    "start_time": "2024-05-19T11:06:52.523Z"
   },
   {
    "duration": 8,
    "start_time": "2024-05-19T11:07:03.574Z"
   },
   {
    "duration": 36,
    "start_time": "2024-05-19T11:07:09.487Z"
   },
   {
    "duration": 7,
    "start_time": "2024-05-19T11:07:31.086Z"
   },
   {
    "duration": 3,
    "start_time": "2024-05-19T11:07:33.165Z"
   },
   {
    "duration": 1028,
    "start_time": "2024-05-19T11:07:34.787Z"
   },
   {
    "duration": 1491,
    "start_time": "2024-05-19T11:07:59.101Z"
   },
   {
    "duration": 1058,
    "start_time": "2024-05-19T11:09:30.379Z"
   },
   {
    "duration": 4,
    "start_time": "2024-05-19T11:10:25.080Z"
   },
   {
    "duration": 1816,
    "start_time": "2024-05-19T11:10:26.317Z"
   },
   {
    "duration": 3,
    "start_time": "2024-05-19T11:10:44.710Z"
   },
   {
    "duration": 829,
    "start_time": "2024-05-19T11:10:45.517Z"
   },
   {
    "duration": 3,
    "start_time": "2024-05-19T11:10:56.956Z"
   },
   {
    "duration": 1078,
    "start_time": "2024-05-19T11:10:57.604Z"
   },
   {
    "duration": 3,
    "start_time": "2024-05-19T11:11:43.875Z"
   },
   {
    "duration": 212,
    "start_time": "2024-05-19T11:11:44.690Z"
   },
   {
    "duration": 3,
    "start_time": "2024-05-19T11:11:50.612Z"
   },
   {
    "duration": 205,
    "start_time": "2024-05-19T11:11:52.551Z"
   },
   {
    "duration": 3,
    "start_time": "2024-05-19T11:11:59.536Z"
   },
   {
    "duration": 1094,
    "start_time": "2024-05-19T11:12:00.080Z"
   },
   {
    "duration": 3,
    "start_time": "2024-05-19T11:13:41.020Z"
   },
   {
    "duration": 1224,
    "start_time": "2024-05-19T11:13:41.429Z"
   },
   {
    "duration": 3,
    "start_time": "2024-05-19T11:14:18.623Z"
   },
   {
    "duration": 1647,
    "start_time": "2024-05-19T11:14:19.088Z"
   },
   {
    "duration": 3,
    "start_time": "2024-05-19T11:14:26.032Z"
   },
   {
    "duration": 1249,
    "start_time": "2024-05-19T11:14:26.833Z"
   },
   {
    "duration": 18,
    "start_time": "2024-05-19T11:15:19.242Z"
   }
  ],
  "colab": {
   "provenance": []
  },
  "kernelspec": {
   "display_name": "Python 3 (ipykernel)",
   "language": "python",
   "name": "python3"
  },
  "language_info": {
   "codemirror_mode": {
    "name": "ipython",
    "version": 3
   },
   "file_extension": ".py",
   "mimetype": "text/x-python",
   "name": "python",
   "nbconvert_exporter": "python",
   "pygments_lexer": "ipython3",
   "version": "3.9.5"
  },
  "toc": {
   "base_numbering": 1,
   "nav_menu": {},
   "number_sections": true,
   "sideBar": true,
   "skip_h1_title": true,
   "title_cell": "Table of Contents",
   "title_sidebar": "Contents",
   "toc_cell": false,
   "toc_position": {},
   "toc_section_display": true,
   "toc_window_display": false
  }
 },
 "nbformat": 4,
 "nbformat_minor": 1
}
