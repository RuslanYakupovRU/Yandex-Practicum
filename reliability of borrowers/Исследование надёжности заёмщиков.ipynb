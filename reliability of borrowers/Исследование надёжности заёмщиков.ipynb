{
 "cells": [
  {
   "cell_type": "markdown",
   "id": "645f17a7-c252-4a48-954f-2d757cedf1d2",
   "metadata": {},
   "source": [
    "# Исследование надежности заемщиков"
   ]
  },
  {
   "cell_type": "markdown",
   "id": "000fd9b1-d9bf-4cfa-bf73-40db96a6f030",
   "metadata": {},
   "source": [
    "## 1. Откроем таблицу и изучим общую информацию о данных"
   ]
  },
  {
   "cell_type": "markdown",
   "id": "47fe6d20-abb1-4ad0-810b-7590410b4339",
   "metadata": {},
   "source": [
    "**1.1 Импортируем библиотеку pandas. Считаем данные из csv - файла в датафрейм и сохраним в переменную data.**"
   ]
  },
  {
   "cell_type": "code",
   "execution_count": 1,
   "id": "35051f71-4e98-4ad3-8234-c44646b760e8",
   "metadata": {},
   "outputs": [],
   "source": [
    "import pandas as pd"
   ]
  },
  {
   "cell_type": "code",
   "execution_count": 3,
   "id": "257ca503-ee5d-4d81-889c-1e72b2e30686",
   "metadata": {},
   "outputs": [],
   "source": [
    "data = pd.read_csv('C:/Users/RYaku/OneDrive/Рабочий стол/МОИ ПРОЕКТЫ/Яндекс практикум/Второй проект/data.csv')"
   ]
  },
  {
   "cell_type": "markdown",
   "id": "62dc4acd-db58-4896-9ff8-bff174cf03f2",
   "metadata": {},
   "source": [
    "**1.2 Выведим первые 20 строчек датафрейма data на экран**"
   ]
  },
  {
   "cell_type": "code",
   "execution_count": 5,
   "id": "44ceea49-6145-48cb-a7ab-e79c7a4a5718",
   "metadata": {},
   "outputs": [
    {
     "data": {
      "text/html": [
       "<div>\n",
       "<style scoped>\n",
       "    .dataframe tbody tr th:only-of-type {\n",
       "        vertical-align: middle;\n",
       "    }\n",
       "\n",
       "    .dataframe tbody tr th {\n",
       "        vertical-align: top;\n",
       "    }\n",
       "\n",
       "    .dataframe thead th {\n",
       "        text-align: right;\n",
       "    }\n",
       "</style>\n",
       "<table border=\"1\" class=\"dataframe\">\n",
       "  <thead>\n",
       "    <tr style=\"text-align: right;\">\n",
       "      <th></th>\n",
       "      <th>children</th>\n",
       "      <th>days_employed</th>\n",
       "      <th>dob_years</th>\n",
       "      <th>education</th>\n",
       "      <th>education_id</th>\n",
       "      <th>family_status</th>\n",
       "      <th>family_status_id</th>\n",
       "      <th>gender</th>\n",
       "      <th>income_type</th>\n",
       "      <th>debt</th>\n",
       "      <th>total_income</th>\n",
       "      <th>purpose</th>\n",
       "    </tr>\n",
       "  </thead>\n",
       "  <tbody>\n",
       "    <tr>\n",
       "      <th>0</th>\n",
       "      <td>1</td>\n",
       "      <td>-8437.673028</td>\n",
       "      <td>42</td>\n",
       "      <td>высшее</td>\n",
       "      <td>0</td>\n",
       "      <td>женат / замужем</td>\n",
       "      <td>0</td>\n",
       "      <td>F</td>\n",
       "      <td>сотрудник</td>\n",
       "      <td>0</td>\n",
       "      <td>253875.639453</td>\n",
       "      <td>покупка жилья</td>\n",
       "    </tr>\n",
       "    <tr>\n",
       "      <th>1</th>\n",
       "      <td>1</td>\n",
       "      <td>-4024.803754</td>\n",
       "      <td>36</td>\n",
       "      <td>среднее</td>\n",
       "      <td>1</td>\n",
       "      <td>женат / замужем</td>\n",
       "      <td>0</td>\n",
       "      <td>F</td>\n",
       "      <td>сотрудник</td>\n",
       "      <td>0</td>\n",
       "      <td>112080.014102</td>\n",
       "      <td>приобретение автомобиля</td>\n",
       "    </tr>\n",
       "    <tr>\n",
       "      <th>2</th>\n",
       "      <td>0</td>\n",
       "      <td>-5623.422610</td>\n",
       "      <td>33</td>\n",
       "      <td>Среднее</td>\n",
       "      <td>1</td>\n",
       "      <td>женат / замужем</td>\n",
       "      <td>0</td>\n",
       "      <td>M</td>\n",
       "      <td>сотрудник</td>\n",
       "      <td>0</td>\n",
       "      <td>145885.952297</td>\n",
       "      <td>покупка жилья</td>\n",
       "    </tr>\n",
       "    <tr>\n",
       "      <th>3</th>\n",
       "      <td>3</td>\n",
       "      <td>-4124.747207</td>\n",
       "      <td>32</td>\n",
       "      <td>среднее</td>\n",
       "      <td>1</td>\n",
       "      <td>женат / замужем</td>\n",
       "      <td>0</td>\n",
       "      <td>M</td>\n",
       "      <td>сотрудник</td>\n",
       "      <td>0</td>\n",
       "      <td>267628.550329</td>\n",
       "      <td>дополнительное образование</td>\n",
       "    </tr>\n",
       "    <tr>\n",
       "      <th>4</th>\n",
       "      <td>0</td>\n",
       "      <td>340266.072047</td>\n",
       "      <td>53</td>\n",
       "      <td>среднее</td>\n",
       "      <td>1</td>\n",
       "      <td>гражданский брак</td>\n",
       "      <td>1</td>\n",
       "      <td>F</td>\n",
       "      <td>пенсионер</td>\n",
       "      <td>0</td>\n",
       "      <td>158616.077870</td>\n",
       "      <td>сыграть свадьбу</td>\n",
       "    </tr>\n",
       "    <tr>\n",
       "      <th>5</th>\n",
       "      <td>0</td>\n",
       "      <td>-926.185831</td>\n",
       "      <td>27</td>\n",
       "      <td>высшее</td>\n",
       "      <td>0</td>\n",
       "      <td>гражданский брак</td>\n",
       "      <td>1</td>\n",
       "      <td>M</td>\n",
       "      <td>компаньон</td>\n",
       "      <td>0</td>\n",
       "      <td>255763.565419</td>\n",
       "      <td>покупка жилья</td>\n",
       "    </tr>\n",
       "    <tr>\n",
       "      <th>6</th>\n",
       "      <td>0</td>\n",
       "      <td>-2879.202052</td>\n",
       "      <td>43</td>\n",
       "      <td>высшее</td>\n",
       "      <td>0</td>\n",
       "      <td>женат / замужем</td>\n",
       "      <td>0</td>\n",
       "      <td>F</td>\n",
       "      <td>компаньон</td>\n",
       "      <td>0</td>\n",
       "      <td>240525.971920</td>\n",
       "      <td>операции с жильем</td>\n",
       "    </tr>\n",
       "    <tr>\n",
       "      <th>7</th>\n",
       "      <td>0</td>\n",
       "      <td>-152.779569</td>\n",
       "      <td>50</td>\n",
       "      <td>СРЕДНЕЕ</td>\n",
       "      <td>1</td>\n",
       "      <td>женат / замужем</td>\n",
       "      <td>0</td>\n",
       "      <td>M</td>\n",
       "      <td>сотрудник</td>\n",
       "      <td>0</td>\n",
       "      <td>135823.934197</td>\n",
       "      <td>образование</td>\n",
       "    </tr>\n",
       "    <tr>\n",
       "      <th>8</th>\n",
       "      <td>2</td>\n",
       "      <td>-6929.865299</td>\n",
       "      <td>35</td>\n",
       "      <td>ВЫСШЕЕ</td>\n",
       "      <td>0</td>\n",
       "      <td>гражданский брак</td>\n",
       "      <td>1</td>\n",
       "      <td>F</td>\n",
       "      <td>сотрудник</td>\n",
       "      <td>0</td>\n",
       "      <td>95856.832424</td>\n",
       "      <td>на проведение свадьбы</td>\n",
       "    </tr>\n",
       "    <tr>\n",
       "      <th>9</th>\n",
       "      <td>0</td>\n",
       "      <td>-2188.756445</td>\n",
       "      <td>41</td>\n",
       "      <td>среднее</td>\n",
       "      <td>1</td>\n",
       "      <td>женат / замужем</td>\n",
       "      <td>0</td>\n",
       "      <td>M</td>\n",
       "      <td>сотрудник</td>\n",
       "      <td>0</td>\n",
       "      <td>144425.938277</td>\n",
       "      <td>покупка жилья для семьи</td>\n",
       "    </tr>\n",
       "    <tr>\n",
       "      <th>10</th>\n",
       "      <td>2</td>\n",
       "      <td>-4171.483647</td>\n",
       "      <td>36</td>\n",
       "      <td>высшее</td>\n",
       "      <td>0</td>\n",
       "      <td>женат / замужем</td>\n",
       "      <td>0</td>\n",
       "      <td>M</td>\n",
       "      <td>компаньон</td>\n",
       "      <td>0</td>\n",
       "      <td>113943.491460</td>\n",
       "      <td>покупка недвижимости</td>\n",
       "    </tr>\n",
       "    <tr>\n",
       "      <th>11</th>\n",
       "      <td>0</td>\n",
       "      <td>-792.701887</td>\n",
       "      <td>40</td>\n",
       "      <td>среднее</td>\n",
       "      <td>1</td>\n",
       "      <td>женат / замужем</td>\n",
       "      <td>0</td>\n",
       "      <td>F</td>\n",
       "      <td>сотрудник</td>\n",
       "      <td>0</td>\n",
       "      <td>77069.234271</td>\n",
       "      <td>покупка коммерческой недвижимости</td>\n",
       "    </tr>\n",
       "    <tr>\n",
       "      <th>12</th>\n",
       "      <td>0</td>\n",
       "      <td>NaN</td>\n",
       "      <td>65</td>\n",
       "      <td>среднее</td>\n",
       "      <td>1</td>\n",
       "      <td>гражданский брак</td>\n",
       "      <td>1</td>\n",
       "      <td>M</td>\n",
       "      <td>пенсионер</td>\n",
       "      <td>0</td>\n",
       "      <td>NaN</td>\n",
       "      <td>сыграть свадьбу</td>\n",
       "    </tr>\n",
       "    <tr>\n",
       "      <th>13</th>\n",
       "      <td>0</td>\n",
       "      <td>-1846.641941</td>\n",
       "      <td>54</td>\n",
       "      <td>неоконченное высшее</td>\n",
       "      <td>2</td>\n",
       "      <td>женат / замужем</td>\n",
       "      <td>0</td>\n",
       "      <td>F</td>\n",
       "      <td>сотрудник</td>\n",
       "      <td>0</td>\n",
       "      <td>130458.228857</td>\n",
       "      <td>приобретение автомобиля</td>\n",
       "    </tr>\n",
       "    <tr>\n",
       "      <th>14</th>\n",
       "      <td>0</td>\n",
       "      <td>-1844.956182</td>\n",
       "      <td>56</td>\n",
       "      <td>высшее</td>\n",
       "      <td>0</td>\n",
       "      <td>гражданский брак</td>\n",
       "      <td>1</td>\n",
       "      <td>F</td>\n",
       "      <td>компаньон</td>\n",
       "      <td>1</td>\n",
       "      <td>165127.911772</td>\n",
       "      <td>покупка жилой недвижимости</td>\n",
       "    </tr>\n",
       "    <tr>\n",
       "      <th>15</th>\n",
       "      <td>1</td>\n",
       "      <td>-972.364419</td>\n",
       "      <td>26</td>\n",
       "      <td>среднее</td>\n",
       "      <td>1</td>\n",
       "      <td>женат / замужем</td>\n",
       "      <td>0</td>\n",
       "      <td>F</td>\n",
       "      <td>сотрудник</td>\n",
       "      <td>0</td>\n",
       "      <td>116820.904450</td>\n",
       "      <td>строительство собственной недвижимости</td>\n",
       "    </tr>\n",
       "    <tr>\n",
       "      <th>16</th>\n",
       "      <td>0</td>\n",
       "      <td>-1719.934226</td>\n",
       "      <td>35</td>\n",
       "      <td>среднее</td>\n",
       "      <td>1</td>\n",
       "      <td>женат / замужем</td>\n",
       "      <td>0</td>\n",
       "      <td>F</td>\n",
       "      <td>сотрудник</td>\n",
       "      <td>0</td>\n",
       "      <td>289202.704229</td>\n",
       "      <td>недвижимость</td>\n",
       "    </tr>\n",
       "    <tr>\n",
       "      <th>17</th>\n",
       "      <td>0</td>\n",
       "      <td>-2369.999720</td>\n",
       "      <td>33</td>\n",
       "      <td>высшее</td>\n",
       "      <td>0</td>\n",
       "      <td>гражданский брак</td>\n",
       "      <td>1</td>\n",
       "      <td>M</td>\n",
       "      <td>сотрудник</td>\n",
       "      <td>0</td>\n",
       "      <td>90410.586745</td>\n",
       "      <td>строительство недвижимости</td>\n",
       "    </tr>\n",
       "    <tr>\n",
       "      <th>18</th>\n",
       "      <td>0</td>\n",
       "      <td>400281.136913</td>\n",
       "      <td>53</td>\n",
       "      <td>среднее</td>\n",
       "      <td>1</td>\n",
       "      <td>вдовец / вдова</td>\n",
       "      <td>2</td>\n",
       "      <td>F</td>\n",
       "      <td>пенсионер</td>\n",
       "      <td>0</td>\n",
       "      <td>56823.777243</td>\n",
       "      <td>на покупку подержанного автомобиля</td>\n",
       "    </tr>\n",
       "    <tr>\n",
       "      <th>19</th>\n",
       "      <td>0</td>\n",
       "      <td>-10038.818549</td>\n",
       "      <td>48</td>\n",
       "      <td>СРЕДНЕЕ</td>\n",
       "      <td>1</td>\n",
       "      <td>в разводе</td>\n",
       "      <td>3</td>\n",
       "      <td>F</td>\n",
       "      <td>сотрудник</td>\n",
       "      <td>0</td>\n",
       "      <td>242831.107982</td>\n",
       "      <td>на покупку своего автомобиля</td>\n",
       "    </tr>\n",
       "  </tbody>\n",
       "</table>\n",
       "</div>"
      ],
      "text/plain": [
       "    children  days_employed  dob_years            education  education_id  \\\n",
       "0          1   -8437.673028         42               высшее             0   \n",
       "1          1   -4024.803754         36              среднее             1   \n",
       "2          0   -5623.422610         33              Среднее             1   \n",
       "3          3   -4124.747207         32              среднее             1   \n",
       "4          0  340266.072047         53              среднее             1   \n",
       "5          0    -926.185831         27               высшее             0   \n",
       "6          0   -2879.202052         43               высшее             0   \n",
       "7          0    -152.779569         50              СРЕДНЕЕ             1   \n",
       "8          2   -6929.865299         35               ВЫСШЕЕ             0   \n",
       "9          0   -2188.756445         41              среднее             1   \n",
       "10         2   -4171.483647         36               высшее             0   \n",
       "11         0    -792.701887         40              среднее             1   \n",
       "12         0            NaN         65              среднее             1   \n",
       "13         0   -1846.641941         54  неоконченное высшее             2   \n",
       "14         0   -1844.956182         56               высшее             0   \n",
       "15         1    -972.364419         26              среднее             1   \n",
       "16         0   -1719.934226         35              среднее             1   \n",
       "17         0   -2369.999720         33               высшее             0   \n",
       "18         0  400281.136913         53              среднее             1   \n",
       "19         0  -10038.818549         48              СРЕДНЕЕ             1   \n",
       "\n",
       "       family_status  family_status_id gender income_type  debt  \\\n",
       "0    женат / замужем                 0      F   сотрудник     0   \n",
       "1    женат / замужем                 0      F   сотрудник     0   \n",
       "2    женат / замужем                 0      M   сотрудник     0   \n",
       "3    женат / замужем                 0      M   сотрудник     0   \n",
       "4   гражданский брак                 1      F   пенсионер     0   \n",
       "5   гражданский брак                 1      M   компаньон     0   \n",
       "6    женат / замужем                 0      F   компаньон     0   \n",
       "7    женат / замужем                 0      M   сотрудник     0   \n",
       "8   гражданский брак                 1      F   сотрудник     0   \n",
       "9    женат / замужем                 0      M   сотрудник     0   \n",
       "10   женат / замужем                 0      M   компаньон     0   \n",
       "11   женат / замужем                 0      F   сотрудник     0   \n",
       "12  гражданский брак                 1      M   пенсионер     0   \n",
       "13   женат / замужем                 0      F   сотрудник     0   \n",
       "14  гражданский брак                 1      F   компаньон     1   \n",
       "15   женат / замужем                 0      F   сотрудник     0   \n",
       "16   женат / замужем                 0      F   сотрудник     0   \n",
       "17  гражданский брак                 1      M   сотрудник     0   \n",
       "18    вдовец / вдова                 2      F   пенсионер     0   \n",
       "19         в разводе                 3      F   сотрудник     0   \n",
       "\n",
       "     total_income                                 purpose  \n",
       "0   253875.639453                           покупка жилья  \n",
       "1   112080.014102                 приобретение автомобиля  \n",
       "2   145885.952297                           покупка жилья  \n",
       "3   267628.550329              дополнительное образование  \n",
       "4   158616.077870                         сыграть свадьбу  \n",
       "5   255763.565419                           покупка жилья  \n",
       "6   240525.971920                       операции с жильем  \n",
       "7   135823.934197                             образование  \n",
       "8    95856.832424                   на проведение свадьбы  \n",
       "9   144425.938277                 покупка жилья для семьи  \n",
       "10  113943.491460                    покупка недвижимости  \n",
       "11   77069.234271       покупка коммерческой недвижимости  \n",
       "12            NaN                         сыграть свадьбу  \n",
       "13  130458.228857                 приобретение автомобиля  \n",
       "14  165127.911772              покупка жилой недвижимости  \n",
       "15  116820.904450  строительство собственной недвижимости  \n",
       "16  289202.704229                            недвижимость  \n",
       "17   90410.586745              строительство недвижимости  \n",
       "18   56823.777243      на покупку подержанного автомобиля  \n",
       "19  242831.107982            на покупку своего автомобиля  "
      ]
     },
     "execution_count": 5,
     "metadata": {},
     "output_type": "execute_result"
    }
   ],
   "source": [
    "data.head(20)"
   ]
  },
  {
   "cell_type": "markdown",
   "id": "9770d8dc-01a2-4e44-87ac-aafb56ee10da",
   "metadata": {},
   "source": [
    "**1.3 Выведиv основную информацию о датафрейме с помощью метода info().**"
   ]
  },
  {
   "cell_type": "code",
   "execution_count": 6,
   "id": "a39b2660-ee42-4601-9c70-c63fb298d9ac",
   "metadata": {},
   "outputs": [
    {
     "name": "stdout",
     "output_type": "stream",
     "text": [
      "<class 'pandas.core.frame.DataFrame'>\n",
      "RangeIndex: 21525 entries, 0 to 21524\n",
      "Data columns (total 12 columns):\n",
      " #   Column            Non-Null Count  Dtype  \n",
      "---  ------            --------------  -----  \n",
      " 0   children          21525 non-null  int64  \n",
      " 1   days_employed     19351 non-null  float64\n",
      " 2   dob_years         21525 non-null  int64  \n",
      " 3   education         21525 non-null  object \n",
      " 4   education_id      21525 non-null  int64  \n",
      " 5   family_status     21525 non-null  object \n",
      " 6   family_status_id  21525 non-null  int64  \n",
      " 7   gender            21525 non-null  object \n",
      " 8   income_type       21525 non-null  object \n",
      " 9   debt              21525 non-null  int64  \n",
      " 10  total_income      19351 non-null  float64\n",
      " 11  purpose           21525 non-null  object \n",
      "dtypes: float64(2), int64(5), object(5)\n",
      "memory usage: 2.0+ MB\n"
     ]
    }
   ],
   "source": [
    "data.info()"
   ]
  },
  {
   "cell_type": "markdown",
   "id": "efb3a3fa-2393-4b25-a3cc-781bce089a8a",
   "metadata": {},
   "source": [
    "## 2. Предобработка данных"
   ]
  },
  {
   "cell_type": "markdown",
   "id": "100204d7-d0b5-46a0-85b0-05069cb133f9",
   "metadata": {},
   "source": [
    "### 2.1 Удаление пропусков"
   ]
  },
  {
   "cell_type": "markdown",
   "id": "c2d16543-163e-4ddd-9bc1-005af5ded9ee",
   "metadata": {},
   "source": [
    "**2.1.1 Выведим количество пропущенных значений для каждого столбца. Используем комбинацию двух методов.**"
   ]
  },
  {
   "cell_type": "code",
   "execution_count": 8,
   "id": "fc0965b5-6580-4d0c-b1a6-4bcd69ff633f",
   "metadata": {},
   "outputs": [
    {
     "data": {
      "text/plain": [
       "children               0\n",
       "days_employed       2174\n",
       "dob_years              0\n",
       "education              0\n",
       "education_id           0\n",
       "family_status          0\n",
       "family_status_id       0\n",
       "gender                 0\n",
       "income_type            0\n",
       "debt                   0\n",
       "total_income        2174\n",
       "purpose                0\n",
       "dtype: int64"
      ]
     },
     "execution_count": 8,
     "metadata": {},
     "output_type": "execute_result"
    }
   ],
   "source": [
    "data.isna().sum()"
   ]
  },
  {
   "cell_type": "markdown",
   "id": "d58533d8-d874-49f3-81f9-24d6330118e8",
   "metadata": {},
   "source": [
    "**2.1.2 total_income — хранит данные о доходах. На сумму дохода сильнее всего влияет тип занятости, поэтому заполнить пропуски в этом столбце нужно медианным значением по каждому типу из столбца income_type**"
   ]
  },
  {
   "cell_type": "code",
   "execution_count": 9,
   "id": "a091a503-377b-45c4-bb48-618f1489091f",
   "metadata": {},
   "outputs": [],
   "source": [
    "data['total_income'].fillna(data.groupby('income_type')['total_income'].transform('median'), inplace=True)\n",
    "for t in data['income_type'].unique():\n",
    "    data.loc[(data['income_type'] == t) & (data['total_income'].isna()), 'total_income'] = \\\n",
    "        data.loc[data['income_type'] == t, 'total_income'].median()"
   ]
  },
  {
   "cell_type": "markdown",
   "id": "f13a26eb-84a0-4ae2-a906-3467fc2fa8df",
   "metadata": {},
   "source": [
    "### 2.2 Обработка аномальных значений"
   ]
  },
  {
   "cell_type": "markdown",
   "id": "eb4b7851-c6ea-461f-9c78-21e2c5ea54a0",
   "metadata": {},
   "source": [
    "**2.2.1 В данных могут встречаться артефакты (аномалии) — значения, которые не отражают действительность и появились по какой-то ошибке. Таким артефактом будет отрицательное количество дней трудового стажа в столбце days_employed. Для реальных данных это нормально. Обработайте значения в этом столбце: замените все отрицательные значения положительными с помощью метода abs().**"
   ]
  },
  {
   "cell_type": "code",
   "execution_count": 13,
   "id": "dc90dbe3-dbcf-4c09-900c-818a99ae25e2",
   "metadata": {},
   "outputs": [],
   "source": [
    "data['days_employed'] = data['days_employed'].abs()"
   ]
  },
  {
   "cell_type": "markdown",
   "id": "3bd26817-8798-4358-9629-47399b7179be",
   "metadata": {},
   "source": [
    "**2.2.2 Для каждого типа занятости выведим медианное значение трудового стажа days_employed в днях.**"
   ]
  },
  {
   "cell_type": "code",
   "execution_count": 15,
   "id": "07d5597a-a65a-4e65-b852-b843eec16ac2",
   "metadata": {},
   "outputs": [
    {
     "data": {
      "text/plain": [
       "income_type\n",
       "безработный        366413.652744\n",
       "в декрете            3296.759962\n",
       "госслужащий          2689.368353\n",
       "компаньон            1547.382223\n",
       "пенсионер          365213.306266\n",
       "предприниматель       520.848083\n",
       "сотрудник            1574.202821\n",
       "студент               578.751554\n",
       "Name: days_employed, dtype: float64"
      ]
     },
     "execution_count": 15,
     "metadata": {},
     "output_type": "execute_result"
    }
   ],
   "source": [
    "data.groupby('income_type')['days_employed'].agg('median')"
   ]
  },
  {
   "cell_type": "markdown",
   "id": "79d21c16-9a90-45de-9ee2-040413d08ed8",
   "metadata": {},
   "source": [
    "**2.2.3 Выведим перечень уникальных значений столбца children**"
   ]
  },
  {
   "cell_type": "code",
   "execution_count": 16,
   "id": "0141d35f-6b96-4cfa-9cb6-95e4095de628",
   "metadata": {},
   "outputs": [
    {
     "data": {
      "text/plain": [
       "array([ 1,  0,  3,  2, -1,  4, 20,  5], dtype=int64)"
      ]
     },
     "execution_count": 16,
     "metadata": {},
     "output_type": "execute_result"
    }
   ],
   "source": [
    "data['children'].unique()"
   ]
  },
  {
   "cell_type": "markdown",
   "id": "790a9e69-1d8a-4c21-8ba8-b41cf21f97ab",
   "metadata": {},
   "source": [
    "**2.2.4 В столбце children есть два аномальных значения. Удалим строки, в которых встречаются такие аномальные значения из датафрейма data.**"
   ]
  },
  {
   "cell_type": "code",
   "execution_count": 17,
   "id": "c8facc39-87a0-401c-8787-0562fcf4870f",
   "metadata": {},
   "outputs": [],
   "source": [
    "data = data[(data['children'] != -1) & (data['children'] != 20)]"
   ]
  },
  {
   "cell_type": "markdown",
   "id": "45749304-0028-40e9-84c1-6bf2b7528203",
   "metadata": {},
   "source": [
    "**2.2.5 Снова выведим перечень уникальных значений столбца children**"
   ]
  },
  {
   "cell_type": "code",
   "execution_count": 18,
   "id": "fe80dbec-c204-4f56-bf84-3ea13e53d652",
   "metadata": {},
   "outputs": [
    {
     "data": {
      "text/plain": [
       "array([1, 0, 3, 2, 4, 5], dtype=int64)"
      ]
     },
     "execution_count": 18,
     "metadata": {},
     "output_type": "execute_result"
    }
   ],
   "source": [
    "data['children'].unique()"
   ]
  },
  {
   "cell_type": "markdown",
   "id": "85495986-0d9e-4474-b9f6-eee792e099d0",
   "metadata": {},
   "source": [
    "### 2.3 Удаление пропусков (продолжение)"
   ]
  },
  {
   "cell_type": "markdown",
   "id": "e4311845-eff0-493c-a0a0-26e8bb244b30",
   "metadata": {},
   "source": [
    "**2.3.1 Заполним пропуски в столбце days_employed медианными значениями по каждому типу занятости income_type.**"
   ]
  },
  {
   "cell_type": "code",
   "execution_count": 19,
   "id": "c585a228-e7e8-49c7-bdd0-2a077a7ef20b",
   "metadata": {},
   "outputs": [],
   "source": [
    "for income_type in data['income_type'].unique():\n",
    "    median_days_employed = data.loc[data['income_type'] == income_type, 'days_employed'].median()\n",
    "    data.loc[(data['income_type'] == income_type) & (data['days_employed'].isna()), 'days_employed'] = median_days_employed"
   ]
  },
  {
   "cell_type": "markdown",
   "id": "2ba4a8cd-475b-47ef-8b2e-e2d1d58ef507",
   "metadata": {},
   "source": [
    "**2.3.2 Убедимся, что все пропуски заполнены.**"
   ]
  },
  {
   "cell_type": "code",
   "execution_count": 21,
   "id": "986db557-8ba5-41e3-8f25-37c256e30449",
   "metadata": {},
   "outputs": [
    {
     "data": {
      "text/plain": [
       "children            0\n",
       "days_employed       0\n",
       "dob_years           0\n",
       "education           0\n",
       "education_id        0\n",
       "family_status       0\n",
       "family_status_id    0\n",
       "gender              0\n",
       "income_type         0\n",
       "debt                0\n",
       "total_income        0\n",
       "purpose             0\n",
       "dtype: int64"
      ]
     },
     "execution_count": 21,
     "metadata": {},
     "output_type": "execute_result"
    }
   ],
   "source": [
    "data.isna().sum()"
   ]
  },
  {
   "cell_type": "code",
   "execution_count": 22,
   "id": "4aa83e7b-ac4c-4c36-992a-92340ef6b109",
   "metadata": {},
   "outputs": [
    {
     "name": "stdout",
     "output_type": "stream",
     "text": [
      "<class 'pandas.core.frame.DataFrame'>\n",
      "Index: 21402 entries, 0 to 21524\n",
      "Data columns (total 12 columns):\n",
      " #   Column            Non-Null Count  Dtype  \n",
      "---  ------            --------------  -----  \n",
      " 0   children          21402 non-null  int64  \n",
      " 1   days_employed     21402 non-null  float64\n",
      " 2   dob_years         21402 non-null  int64  \n",
      " 3   education         21402 non-null  object \n",
      " 4   education_id      21402 non-null  int64  \n",
      " 5   family_status     21402 non-null  object \n",
      " 6   family_status_id  21402 non-null  int64  \n",
      " 7   gender            21402 non-null  object \n",
      " 8   income_type       21402 non-null  object \n",
      " 9   debt              21402 non-null  int64  \n",
      " 10  total_income      21402 non-null  float64\n",
      " 11  purpose           21402 non-null  object \n",
      "dtypes: float64(2), int64(5), object(5)\n",
      "memory usage: 2.1+ MB\n"
     ]
    }
   ],
   "source": [
    "data.info()"
   ]
  },
  {
   "cell_type": "markdown",
   "id": "d09f9fe7-980a-41c1-80ef-611712601f95",
   "metadata": {},
   "source": [
    "### 2.4 Изменение типов данных"
   ]
  },
  {
   "cell_type": "markdown",
   "id": "d9b2645b-0d7c-41b6-8697-4b91e0ba5c64",
   "metadata": {},
   "source": [
    "**2.4.1 Заменим вещественный тип данных в столбце total_income на целочисленный с помощью метода astype().**"
   ]
  },
  {
   "cell_type": "code",
   "execution_count": 23,
   "id": "afa35942-af59-45ec-8fed-e55cd2b1c7b1",
   "metadata": {},
   "outputs": [],
   "source": [
    "data['total_income'] = data['total_income'].astype(int)"
   ]
  },
  {
   "cell_type": "markdown",
   "id": "73b6490e-734e-4561-8af8-358a3ee9dfba",
   "metadata": {},
   "source": [
    "### 2.5 Обработка дубликатов"
   ]
  },
  {
   "cell_type": "markdown",
   "id": "760ac617-192c-4cf0-a44b-699b98f8d1bc",
   "metadata": {},
   "source": [
    "**2.5.1 Обработаем неявные дубликаты в столбце education. В этом столбце есть одни и те же значения, но записанные по-разному: с использованием заглавных и строчных букв. Приведем их к нижнему регистру.**"
   ]
  },
  {
   "cell_type": "code",
   "execution_count": 24,
   "id": "e6743de8-5294-48ae-bbcb-ab8b6e59d9ac",
   "metadata": {},
   "outputs": [],
   "source": [
    "data['education'] = data['education'].str.lower()"
   ]
  },
  {
   "cell_type": "markdown",
   "id": "072225be-235f-4c11-bd57-f1530345ba3a",
   "metadata": {},
   "source": [
    "**2.5.2 Выведим на экран количество строк-дубликатов в данных.**"
   ]
  },
  {
   "cell_type": "code",
   "execution_count": 25,
   "id": "9f919426-c940-4d57-804e-abf9bbd99368",
   "metadata": {},
   "outputs": [
    {
     "data": {
      "text/plain": [
       "71"
      ]
     },
     "execution_count": 25,
     "metadata": {},
     "output_type": "execute_result"
    }
   ],
   "source": [
    "data.duplicated().sum()"
   ]
  },
  {
   "cell_type": "code",
   "execution_count": 27,
   "id": "0a2cde72-ab06-400a-998a-939f8ed7c11b",
   "metadata": {},
   "outputs": [],
   "source": [
    "data = data.drop_duplicates()"
   ]
  },
  {
   "cell_type": "markdown",
   "id": "db1ca48c-6730-452f-a9b9-b52a428f3387",
   "metadata": {},
   "source": [
    "**2.5.3 Снова выведим на экран количество строк-дубликатов в данных.**"
   ]
  },
  {
   "cell_type": "code",
   "execution_count": 28,
   "id": "25e34ad7-6319-4a46-ace7-c0dbccafc4e9",
   "metadata": {},
   "outputs": [
    {
     "data": {
      "text/plain": [
       "0"
      ]
     },
     "execution_count": 28,
     "metadata": {},
     "output_type": "execute_result"
    }
   ],
   "source": [
    "data.duplicated().sum()"
   ]
  },
  {
   "cell_type": "markdown",
   "id": "c1d9cbd5-161b-4b31-95e2-45df9e8466fc",
   "metadata": {},
   "source": [
    "### 2.6 Категоризация данных"
   ]
  },
  {
   "cell_type": "markdown",
   "id": "39398bbc-15df-4850-9505-93e9f720a143",
   "metadata": {},
   "source": [
    "**2.6.1  На основании диапазонов, указанных ниже, создадим в датафрейме data столбец total_income_category с категориями:**\n",
    "\n",
    "- 0–30000 — 'E';\n",
    "- 30001–50000 — 'D';\n",
    "- 50001–200000 — 'C';\n",
    "- 200001–1000000 — 'B';\n",
    "- 1000001 и выше — 'A'.\n",
    " \n",
    "**Например, кредитополучателю с доходом 25000 нужно назначить категорию 'E', а клиенту, получающему 235000, — 'B'. Используйте собственную функцию с именем categorize_income() и метод apply().**"
   ]
  },
  {
   "cell_type": "code",
   "execution_count": 39,
   "id": "8d59acf7-caf3-4cdf-80d5-c2ca9a7adad4",
   "metadata": {},
   "outputs": [],
   "source": [
    "def categorize_income(income):\n",
    "    try:\n",
    "        if 0 <= income <= 30000:\n",
    "            return 'E'\n",
    "        elif 30001 <= income <= 50000:\n",
    "            return 'D'\n",
    "        elif 50001 <= income <= 200000:\n",
    "            return 'C'\n",
    "        elif 200001 <= income <= 1000000:\n",
    "            return 'B'\n",
    "        elif income >= 1000001:\n",
    "            return 'A'\n",
    "    except:\n",
    "        pass"
   ]
  },
  {
   "cell_type": "code",
   "execution_count": 31,
   "id": "2b12f2cd-4fc9-49da-80a1-7ffc553aaf1e",
   "metadata": {},
   "outputs": [],
   "source": [
    "\n",
    "data['total_income_category'] = data['total_income'].apply(categorize_income)"
   ]
  },
  {
   "cell_type": "markdown",
   "id": "46af5590-fb96-4922-84bf-a423948c15e1",
   "metadata": {},
   "source": [
    "**2.6.2 Проверим созданный столбец**"
   ]
  },
  {
   "cell_type": "code",
   "execution_count": 34,
   "id": "9f303155-82ce-4823-b52f-8ca53b570d15",
   "metadata": {},
   "outputs": [
    {
     "name": "stdout",
     "output_type": "stream",
     "text": [
      "Index(['children', 'days_employed', 'dob_years', 'education', 'education_id',\n",
      "       'family_status', 'family_status_id', 'gender', 'income_type', 'debt',\n",
      "       'total_income', 'purpose', 'total_income_category'],\n",
      "      dtype='object')\n"
     ]
    }
   ],
   "source": [
    "print(data.columns)"
   ]
  },
  {
   "cell_type": "markdown",
   "id": "fd22afe8-9a4f-4e84-8cc0-0c261a8c8b21",
   "metadata": {},
   "source": [
    "**2.6.3 Выведим на экран перечень уникальных целей взятия кредита из столбца purpose.**"
   ]
  },
  {
   "cell_type": "code",
   "execution_count": 32,
   "id": "690bb4ab-9462-4f3a-85ad-0e8bcf954748",
   "metadata": {},
   "outputs": [
    {
     "data": {
      "text/plain": [
       "array(['покупка жилья', 'приобретение автомобиля',\n",
       "       'дополнительное образование', 'сыграть свадьбу',\n",
       "       'операции с жильем', 'образование', 'на проведение свадьбы',\n",
       "       'покупка жилья для семьи', 'покупка недвижимости',\n",
       "       'покупка коммерческой недвижимости', 'покупка жилой недвижимости',\n",
       "       'строительство собственной недвижимости', 'недвижимость',\n",
       "       'строительство недвижимости', 'на покупку подержанного автомобиля',\n",
       "       'на покупку своего автомобиля',\n",
       "       'операции с коммерческой недвижимостью',\n",
       "       'строительство жилой недвижимости', 'жилье',\n",
       "       'операции со своей недвижимостью', 'автомобили',\n",
       "       'заняться образованием', 'сделка с подержанным автомобилем',\n",
       "       'получение образования', 'автомобиль', 'свадьба',\n",
       "       'получение дополнительного образования', 'покупка своего жилья',\n",
       "       'операции с недвижимостью', 'получение высшего образования',\n",
       "       'свой автомобиль', 'сделка с автомобилем',\n",
       "       'профильное образование', 'высшее образование',\n",
       "       'покупка жилья для сдачи', 'на покупку автомобиля', 'ремонт жилью',\n",
       "       'заняться высшим образованием'], dtype=object)"
      ]
     },
     "execution_count": 32,
     "metadata": {},
     "output_type": "execute_result"
    }
   ],
   "source": [
    "data['purpose'].unique()"
   ]
  },
  {
   "cell_type": "markdown",
   "id": "955b1979-a95e-4edb-8aa6-a6d741275c03",
   "metadata": {},
   "source": [
    "**2.6.4 Создадим функцию, которая на основании данных из столбца purpose сформирует новый столбец purpose_category, в который войдут следующие категории:**\n",
    "\n",
    "- `'операции с автомобилем'`,\r\n",
    "- `'операции с недвижимостью'`,\r\n",
    "- `'проведение свадьбы'`,\r\n",
    "- `'получение образовани'`.я'."
   ]
  },
  {
   "cell_type": "markdown",
   "id": "318080bf-2d5a-4d66-842f-8ba86b5b5e1d",
   "metadata": {},
   "source": [
    "def categorize_purpose(row):\n",
    "    try:\n",
    "        if 'автом' in row:\n",
    "            return 'операции с автомобилем'\n",
    "        elif 'жил' in row or 'недвиж' in row:\n",
    "            return 'операции с недвижимостью'\n",
    "        elif 'свад' in row:\n",
    "            return 'проведение свадьбы'\n",
    "        elif 'образов' in row:\n",
    "            return 'получение образования'\n",
    "    except:\n",
    "        return 'нет категории'"
   ]
  },
  {
   "cell_type": "code",
   "execution_count": 36,
   "id": "52d5c0e7-f0b0-4f42-898d-e5f2a30aa0f5",
   "metadata": {},
   "outputs": [],
   "source": [
    "data['purpose_category'] = data['purpose'].apply(categorize_purpose)"
   ]
  },
  {
   "cell_type": "markdown",
   "id": "d9bda3e5-5bd5-455b-af6b-c1b3e2eabaf7",
   "metadata": {},
   "source": [
    "### 2.7 Шаг 3. Исследуем вопросы"
   ]
  },
  {
   "cell_type": "markdown",
   "id": "4040c27c-7bbe-43af-8f67-4a427a05abdc",
   "metadata": {},
   "source": [
    "#### 2.7.1 Есть ли зависимость между количеством детей и возвратом кредита в срок?"
   ]
  },
  {
   "cell_type": "code",
   "execution_count": 77,
   "id": "62be7ae2-acdf-4415-8d47-eea60ecc7f3b",
   "metadata": {},
   "outputs": [
    {
     "data": {
      "text/html": [
       "<div>\n",
       "<style scoped>\n",
       "    .dataframe tbody tr th:only-of-type {\n",
       "        vertical-align: middle;\n",
       "    }\n",
       "\n",
       "    .dataframe tbody tr th {\n",
       "        vertical-align: top;\n",
       "    }\n",
       "\n",
       "    .dataframe thead th {\n",
       "        text-align: right;\n",
       "    }\n",
       "</style>\n",
       "<table border=\"1\" class=\"dataframe\">\n",
       "  <thead>\n",
       "    <tr style=\"text-align: right;\">\n",
       "      <th></th>\n",
       "      <th>количество_кредитов</th>\n",
       "      <th>доля_просрочек</th>\n",
       "    </tr>\n",
       "    <tr>\n",
       "      <th>children</th>\n",
       "      <th></th>\n",
       "      <th></th>\n",
       "    </tr>\n",
       "  </thead>\n",
       "  <tbody>\n",
       "    <tr>\n",
       "      <th>0</th>\n",
       "      <td>14091</td>\n",
       "      <td>7.54</td>\n",
       "    </tr>\n",
       "    <tr>\n",
       "      <th>1</th>\n",
       "      <td>4808</td>\n",
       "      <td>9.23</td>\n",
       "    </tr>\n",
       "    <tr>\n",
       "      <th>2</th>\n",
       "      <td>2052</td>\n",
       "      <td>9.45</td>\n",
       "    </tr>\n",
       "    <tr>\n",
       "      <th>3</th>\n",
       "      <td>330</td>\n",
       "      <td>8.18</td>\n",
       "    </tr>\n",
       "    <tr>\n",
       "      <th>4</th>\n",
       "      <td>41</td>\n",
       "      <td>9.76</td>\n",
       "    </tr>\n",
       "    <tr>\n",
       "      <th>5</th>\n",
       "      <td>9</td>\n",
       "      <td>0.00</td>\n",
       "    </tr>\n",
       "  </tbody>\n",
       "</table>\n",
       "</div>"
      ],
      "text/plain": [
       "          количество_кредитов  доля_просрочек\n",
       "children                                     \n",
       "0                       14091            7.54\n",
       "1                        4808            9.23\n",
       "2                        2052            9.45\n",
       "3                         330            8.18\n",
       "4                          41            9.76\n",
       "5                           9            0.00"
      ]
     },
     "execution_count": 77,
     "metadata": {},
     "output_type": "execute_result"
    }
   ],
   "source": [
    "def calculate_mean_percentage(x):\n",
    "    return round(x.mean() * 100, 2)\n",
    "\n",
    "result = data.groupby('children')['debt'].agg(['count', calculate_mean_percentage])\n",
    "result.columns = ['количество_кредитов', 'доля_просрочек']\n",
    "\n",
    "result"
   ]
  },
  {
   "cell_type": "markdown",
   "id": "2350b7b8-29c1-4ec0-ab66-742c2193c258",
   "metadata": {},
   "source": [
    "**Исходя из представленных данных, можно сделать следующие выводы:**\r\n",
    "\r\n",
    "- 1. Группа заемщиков без детей (0 детей) имеет наименьшую долю невозвратов кредита - 7,54%. Это может указывать на то, что отсутствие детей позволяет более стабильно управлять финансами и своевременно возвращать кредиты.\r\n",
    "\r\n",
    "- 2. С увеличением количества детей у заемщиков, наблюдается некоторое увеличение доли невозвратов кредита. Так, для групп с 1, 2 и 4 детьми доля невозвратов составляет 9,23%, 9,45% и 9,76% соответственно.\r\n",
    "\r\n",
    "- 3. Однако стоит отметить, что группа с 3 детьми имеет более низкую долю невозвратов (8,18%) по сравнению с группами с 1, 2 и 4 детьми. Это может указывать на то, что влияние количества детей на возврат кредита не является строго линейным.\r\n",
    "\r\n",
    "- 4. Группа с 5 детьми имеет 0% невозвратов, но размер выборки для этой группы очень мал (всего 9 заемщиков), поэтому делать однозначные выводы по ней не представляется возможным.\r\n",
    "\r\n",
    "**В целом, данные указывают на наличие некоторой зависимости между количеством детей и своевременным возвратом кредита, однако эта зависимость не является прямолинейной. Необходимо дальнейшее изучение данного вопроса с привлечением более обширной выборки.** "
   ]
  },
  {
   "cell_type": "markdown",
   "id": "8ac8b044-db11-4731-8987-7579f8327867",
   "metadata": {},
   "source": [
    "#### 2.7.2 Есть ли зависимость между семейным положением и возвратом кредита в срок?"
   ]
  },
  {
   "cell_type": "code",
   "execution_count": 64,
   "id": "dba7239b-66d4-46d2-9a8a-3b6bd92ccb07",
   "metadata": {},
   "outputs": [
    {
     "data": {
      "text/html": [
       "<div>\n",
       "<style scoped>\n",
       "    .dataframe tbody tr th:only-of-type {\n",
       "        vertical-align: middle;\n",
       "    }\n",
       "\n",
       "    .dataframe tbody tr th {\n",
       "        vertical-align: top;\n",
       "    }\n",
       "\n",
       "    .dataframe thead th {\n",
       "        text-align: right;\n",
       "    }\n",
       "</style>\n",
       "<table border=\"1\" class=\"dataframe\">\n",
       "  <thead>\n",
       "    <tr style=\"text-align: right;\">\n",
       "      <th></th>\n",
       "      <th></th>\n",
       "      <th>количество_кредитов</th>\n",
       "      <th>доля_просрочек</th>\n",
       "    </tr>\n",
       "    <tr>\n",
       "      <th>family_status</th>\n",
       "      <th>family_status_id</th>\n",
       "      <th></th>\n",
       "      <th></th>\n",
       "    </tr>\n",
       "  </thead>\n",
       "  <tbody>\n",
       "    <tr>\n",
       "      <th>женат / замужем</th>\n",
       "      <th>0</th>\n",
       "      <td>12261</td>\n",
       "      <td>7.56</td>\n",
       "    </tr>\n",
       "    <tr>\n",
       "      <th>гражданский брак</th>\n",
       "      <th>1</th>\n",
       "      <td>4134</td>\n",
       "      <td>9.31</td>\n",
       "    </tr>\n",
       "    <tr>\n",
       "      <th>вдовец / вдова</th>\n",
       "      <th>2</th>\n",
       "      <td>951</td>\n",
       "      <td>6.62</td>\n",
       "    </tr>\n",
       "    <tr>\n",
       "      <th>в разводе</th>\n",
       "      <th>3</th>\n",
       "      <td>1189</td>\n",
       "      <td>7.06</td>\n",
       "    </tr>\n",
       "    <tr>\n",
       "      <th>Не женат / не замужем</th>\n",
       "      <th>4</th>\n",
       "      <td>2796</td>\n",
       "      <td>9.76</td>\n",
       "    </tr>\n",
       "  </tbody>\n",
       "</table>\n",
       "</div>"
      ],
      "text/plain": [
       "                                        количество_кредитов  доля_просрочек\n",
       "family_status         family_status_id                                     \n",
       "женат / замужем       0                               12261            7.56\n",
       "гражданский брак      1                                4134            9.31\n",
       "вдовец / вдова        2                                 951            6.62\n",
       "в разводе             3                                1189            7.06\n",
       "Не женат / не замужем 4                                2796            9.76"
      ]
     },
     "execution_count": 64,
     "metadata": {},
     "output_type": "execute_result"
    }
   ],
   "source": [
    "result = data.groupby(['family_status','family_status_id'])['debt'].agg(\n",
    "    количество_кредитов='count', \n",
    "    доля_просрочек ='mean'\n",
    ").sort_values('family_status_id')\n",
    "\n",
    "result['доля_просрочек'] = round(result['доля_просрочек'] * 100, 2)\n",
    "result"
   ]
  },
  {
   "cell_type": "markdown",
   "id": "cb4912d9-6f4c-4f9e-9813-c7d766c1c60e",
   "metadata": {},
   "source": [
    "**Исходя из представленных данных, можно сделать вывод, что существует некоторая зависимость между семейным положением и возвратом кредита в срок. Процент невозврата кредита (доля просрочек) варьируется в зависимости от семейного статуса:**\n",
    "\n",
    "- Люди, находящиеся в браке (\"женат / замужем\"), имеют более низкий процент просрочек (7.56%).\n",
    "- Те, кто находится в гражданском браке или не женат / не замужем, демонстрируют более высокий уровень просрочек (9.31% и 9.76% соответственно).\n",
    "- Вдовцы и вдовы, а также люди в разводе, показывают относительно низкую долю просрочек (6.62% и 7.06% соответственно).\n",
    "\n",
    "**Эти данные могут указывать на то, что люди, которые не состоят в официальном браке, могут иметь более высокий риск просрочки платежей по кредитам. Однако для окончательных выводов необходимо провести более глубокий статистический анализ, так как могут быть и другие факторы, влияющие на возврат кредита в срок.**"
   ]
  },
  {
   "cell_type": "markdown",
   "id": "bcf6ddac-c8a3-4516-98f3-ade224b59658",
   "metadata": {},
   "source": [
    "#### 2.7.3 Есть ли зависимость между уровнем дохода и возвратом кредита в срок?"
   ]
  },
  {
   "cell_type": "code",
   "execution_count": 73,
   "id": "b2eadb88-f6e9-4c0b-a6eb-0e7c4bf0ebad",
   "metadata": {},
   "outputs": [
    {
     "data": {
      "text/html": [
       "<div>\n",
       "<style scoped>\n",
       "    .dataframe tbody tr th:only-of-type {\n",
       "        vertical-align: middle;\n",
       "    }\n",
       "\n",
       "    .dataframe tbody tr th {\n",
       "        vertical-align: top;\n",
       "    }\n",
       "\n",
       "    .dataframe thead th {\n",
       "        text-align: right;\n",
       "    }\n",
       "</style>\n",
       "<table border=\"1\" class=\"dataframe\">\n",
       "  <thead>\n",
       "    <tr style=\"text-align: right;\">\n",
       "      <th></th>\n",
       "      <th>количество_кредитов</th>\n",
       "      <th>доля_просрочек</th>\n",
       "    </tr>\n",
       "    <tr>\n",
       "      <th>total_income_category</th>\n",
       "      <th></th>\n",
       "      <th></th>\n",
       "    </tr>\n",
       "  </thead>\n",
       "  <tbody>\n",
       "    <tr>\n",
       "      <th>D</th>\n",
       "      <td>349</td>\n",
       "      <td>6.02</td>\n",
       "    </tr>\n",
       "    <tr>\n",
       "      <th>B</th>\n",
       "      <td>5014</td>\n",
       "      <td>7.06</td>\n",
       "    </tr>\n",
       "    <tr>\n",
       "      <th>A</th>\n",
       "      <td>25</td>\n",
       "      <td>8.00</td>\n",
       "    </tr>\n",
       "    <tr>\n",
       "      <th>C</th>\n",
       "      <td>15921</td>\n",
       "      <td>8.50</td>\n",
       "    </tr>\n",
       "    <tr>\n",
       "      <th>E</th>\n",
       "      <td>22</td>\n",
       "      <td>9.09</td>\n",
       "    </tr>\n",
       "  </tbody>\n",
       "</table>\n",
       "</div>"
      ],
      "text/plain": [
       "                       количество_кредитов  доля_просрочек\n",
       "total_income_category                                     \n",
       "D                                      349            6.02\n",
       "B                                     5014            7.06\n",
       "A                                       25            8.00\n",
       "C                                    15921            8.50\n",
       "E                                       22            9.09"
      ]
     },
     "execution_count": 73,
     "metadata": {},
     "output_type": "execute_result"
    }
   ],
   "source": [
    "result = data.groupby(['total_income_category'])['debt'].agg(\n",
    "    количество_кредитов='count', \n",
    "    доля_просрочек ='mean').sort_values('доля_просрочек')\n",
    "result['доля_просрочек'] = round(result['доля_просрочек'] * 100, 2)\n",
    "result"
   ]
  },
  {
   "cell_type": "markdown",
   "id": "3872c531-0fce-447e-acd8-1f06f9750311",
   "metadata": {},
   "source": [
    "**Исходя из представленных данных, можно сделать следующие выводы, что существует некоторая зависимость между уровнем дохода и возвратом кредита в срок. Процент просрочек увеличивается с повышением категории дохода. Похоже, что люди с самым низким и самым высоким уровнем дохода более склонны к просрочкам по кредитам по сравнению с теми, кто находится в средней категории дохода**"
   ]
  },
  {
   "cell_type": "markdown",
   "id": "616842f8-4648-4e5b-aeff-3062b41eb099",
   "metadata": {},
   "source": [
    "#### 2.7.4 Как разные цели кредита влияют на его возврат в срок?"
   ]
  },
  {
   "cell_type": "code",
   "execution_count": 76,
   "id": "78feaf38-d01a-404d-824e-3e6266f5f11d",
   "metadata": {},
   "outputs": [
    {
     "data": {
      "text/html": [
       "<div>\n",
       "<style scoped>\n",
       "    .dataframe tbody tr th:only-of-type {\n",
       "        vertical-align: middle;\n",
       "    }\n",
       "\n",
       "    .dataframe tbody tr th {\n",
       "        vertical-align: top;\n",
       "    }\n",
       "\n",
       "    .dataframe thead th {\n",
       "        text-align: right;\n",
       "    }\n",
       "</style>\n",
       "<table border=\"1\" class=\"dataframe\">\n",
       "  <thead>\n",
       "    <tr style=\"text-align: right;\">\n",
       "      <th></th>\n",
       "      <th>количество_кредитов</th>\n",
       "      <th>доля_просрочек</th>\n",
       "    </tr>\n",
       "    <tr>\n",
       "      <th>purpose_category</th>\n",
       "      <th></th>\n",
       "      <th></th>\n",
       "    </tr>\n",
       "  </thead>\n",
       "  <tbody>\n",
       "    <tr>\n",
       "      <th>операции с недвижимостью</th>\n",
       "      <td>10751</td>\n",
       "      <td>7.26</td>\n",
       "    </tr>\n",
       "    <tr>\n",
       "      <th>проведение свадьбы</th>\n",
       "      <td>2313</td>\n",
       "      <td>7.91</td>\n",
       "    </tr>\n",
       "    <tr>\n",
       "      <th>получение образования</th>\n",
       "      <td>3988</td>\n",
       "      <td>9.25</td>\n",
       "    </tr>\n",
       "    <tr>\n",
       "      <th>операции с автомобилем</th>\n",
       "      <td>4279</td>\n",
       "      <td>9.35</td>\n",
       "    </tr>\n",
       "  </tbody>\n",
       "</table>\n",
       "</div>"
      ],
      "text/plain": [
       "                          количество_кредитов  доля_просрочек\n",
       "purpose_category                                             \n",
       "операции с недвижимостью                10751            7.26\n",
       "проведение свадьбы                       2313            7.91\n",
       "получение образования                    3988            9.25\n",
       "операции с автомобилем                   4279            9.35"
      ]
     },
     "execution_count": 76,
     "metadata": {},
     "output_type": "execute_result"
    }
   ],
   "source": [
    "result = data.groupby(['purpose_category'])['debt'].agg(\n",
    "    количество_кредитов='count', \n",
    "    доля_просрочек ='mean').sort_values('доля_просрочек')\n",
    "result['доля_просрочек'] = round(result['доля_просрочек'] * 100, 2)\n",
    "result"
   ]
  },
  {
   "cell_type": "markdown",
   "id": "f0bb56c6-de53-4d32-ad4d-caecfac95b3c",
   "metadata": {},
   "source": [
    "**На основе представленных данных можно сделать краткий вывод, что цели кредита влияют на вероятность его возврата в срок. Кредиты на операции с недвижимостью имеют наименьший процент просрочек, что может свидетельствовать о более высокой ответственности заемщиков в этой категории. В то время как кредиты на получение образования и операции с автомобилем демонстрируют более высокую долю просрочек, что указывает на потенциально больший риск невозврата для кредиторов.**"
   ]
  },
  {
   "cell_type": "markdown",
   "id": "08f16991-b705-4eee-b046-39ec0cd52072",
   "metadata": {},
   "source": [
    "#### 2.7.5 Приведите возможные причины появления пропусков в исходных данных."
   ]
  },
  {
   "cell_type": "markdown",
   "id": "427d80f4-2b49-49e6-9f13-9e43fb0b6197",
   "metadata": {},
   "source": [
    "*Ответ:* *Пропуски в исходных данных могут возникнуть по различным причинам, которые не обязательно связаны с намеренным уклонением от предоставления информации. Возможные объяснения включают технические ошибки при сборе или передаче данных, человеческий фактор, такой как невнимательность или забывчивость при заполнении форм, а также ограничения системы регистрации данных, которая может не требовать обязательного заполнения всех полей. Для получения кредита, особенно на недвижимость, обычно требуется предоставление полного пакета информации, поэтому если пропуски присутствуют, они, скорее всего, являются случайными, а не результатом умышленного уклонения.*"
   ]
  },
  {
   "cell_type": "markdown",
   "id": "14ae4121-7a75-44bc-bc09-8b92da036f5a",
   "metadata": {},
   "source": [
    "#### 2.7.6 Объясните, почему заполнить пропуски медианным значением — лучшее решение для количественных переменных."
   ]
  },
  {
   "cell_type": "markdown",
   "id": "ffd6c933-29d3-4abd-9014-e40093ce17d1",
   "metadata": {},
   "source": [
    "*Ответ: Использование медианы для заполнения пропусков в количественных переменных является предпочтительным, поскольку медиана менее подвержена влиянию экстремальных значений или выбросов в данных. В отличие от среднего, медианное значение не искажается из-за нескольких очень высоких или очень низких значений, что делает его более надежным показателем центральной тенденции для асимметрично распределенных данных. Это означает, что медиана может быть использована в качестве универсального метода для заполнения пропусков, тем самым минимизируя искажение общей структуры данных. Однако важно учитывать контекст данных и не заполнять все пропуски одной и той же медианой для всего набора данных, так как это может внести искажения. Лучше использовать медианы, рассчитанные для более мелких и однородных групп данных, чтобы сохранить их структурную целостность.*"
   ]
  },
  {
   "cell_type": "markdown",
   "id": "772a1459-1a3c-404b-b245-edbf638cc444",
   "metadata": {},
   "source": [
    "### Шаг 4: общий вывод."
   ]
  },
  {
   "cell_type": "markdown",
   "id": "d2097d68-0b2a-4131-9692-b55750ed1152",
   "metadata": {},
   "source": [
    "*В рамках исследования кредитоспособности заемщиков был проведен анализ предоставленных данных. Процесс включал очистку данных от пропусков и дубликатов, а также классификацию клиентов по ключевым характеристикам. На основе анализа можно сделать следующие обобщения:*\n",
    "\n",
    "*Влияние наличия детей на возврат кредита:*\n",
    "\n",
    "*Заемщики без детей демонстрируют лучшую историю по возврату кредитов, что может быть связано с отсутствием дополнительных расходов на содержание детей. В то же время, информация о заемщиках с пятью детьми ограничена небольшим числом наблюдений, что затрудняет делать обоснованные выводы для этой категории.*\n",
    "\n",
    "*Связь семейного статуса с погашением кредитов:*\n",
    "\n",
    "*Наблюдается зависимость между семейным статусом заемщика и его кредитной дисциплиной. Люди, не состоящие или никогда не состоявшие в официальном браке, чаще допускают просрочки по кредитам, в то время как вдовцы и вдовы, возможно благодаря большей жизненной ответственности и поддержке со стороны взрослых детей, имеют наименьший процент просрочек.*\n",
    "\n",
    "*Зависимость между уровнем дохода и своевременностью возврата кредита:*\n",
    "\n",
    "*Явной связи между доходом заемщика и вероятностью просрочек не выявлено. Размеры групп по уровню дохода слишком различаются, чтобы делать однозначные выводы.*\n",
    "\n",
    "*Влияние целей кредита на его возврат в срок:*\n",
    "\n",
    "*Цели кредита оказывают влияние на дисциплину его возврата. Кредиты, взятые на приобретение недвижимости, обладают наименьшим процентом просрочки, возможно, из-за их воспринимаемой заемщиками важности и необходимости. В то же время кредиты на покупку автомобиля чаще всего не погашаются в срок, что может быть связано с более импульсивной природой таких покупок или с непредвиденными расходами на эксплуатацию авто.*"
   ]
  }
 ],
 "metadata": {
  "kernelspec": {
   "display_name": "Python 3 (ipykernel)",
   "language": "python",
   "name": "python3"
  },
  "language_info": {
   "codemirror_mode": {
    "name": "ipython",
    "version": 3
   },
   "file_extension": ".py",
   "mimetype": "text/x-python",
   "name": "python",
   "nbconvert_exporter": "python",
   "pygments_lexer": "ipython3",
   "version": "3.11.7"
  }
 },
 "nbformat": 4,
 "nbformat_minor": 5
}
